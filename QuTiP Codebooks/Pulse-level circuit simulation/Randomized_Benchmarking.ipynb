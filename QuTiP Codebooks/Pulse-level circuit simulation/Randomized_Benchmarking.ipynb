{
  "nbformat": 4,
  "nbformat_minor": 0,
  "metadata": {
    "colab": {
      "provenance": []
    },
    "kernelspec": {
      "name": "python3",
      "display_name": "Python 3"
    },
    "language_info": {
      "name": "python"
    }
  },
  "cells": [
    {
      "cell_type": "markdown",
      "source": [
        "# Simulating randomized benchmarking\n",
        "In this example, we will reproduce a randomized benchmarking experiment used in Figure 3a of [Piltz et. al.](https://www.nature.com/articles/ncomms5679?origin=ppub)\n",
        "\n",
        "Note: This example is quite computationally expensivem, hence for the full simulation we use [joblib](https://joblib.readthedocs.io/en/latest/) for parallel computing. However, you don't need this to run the demo."
      ],
      "metadata": {
        "id": "1semufK6mCmE"
      }
    },
    {
      "cell_type": "code",
      "execution_count": 1,
      "metadata": {
        "colab": {
          "base_uri": "https://localhost:8080/"
        },
        "id": "wNd-_I-vl7Qj",
        "outputId": "8921613a-0dc9-470e-a1c8-1ca97a16bc4d"
      },
      "outputs": [
        {
          "output_type": "stream",
          "name": "stdout",
          "text": [
            "Looking in indexes: https://pypi.org/simple, https://us-python.pkg.dev/colab-wheels/public/simple/\n",
            "Collecting qutip\n",
            "  Downloading qutip-4.7.1-cp38-cp38-manylinux_2_17_x86_64.manylinux2014_x86_64.whl (16.7 MB)\n",
            "\u001b[2K     \u001b[90m━━━━━━━━━━━━━━━━━━━━━━━━━━━━━━━━━━━━━━━━\u001b[0m \u001b[32m16.7/16.7 MB\u001b[0m \u001b[31m34.7 MB/s\u001b[0m eta \u001b[36m0:00:00\u001b[0m\n",
            "\u001b[?25hRequirement already satisfied: packaging in /usr/local/lib/python3.8/dist-packages (from qutip) (23.0)\n",
            "Requirement already satisfied: scipy>=1.0 in /usr/local/lib/python3.8/dist-packages (from qutip) (1.7.3)\n",
            "Requirement already satisfied: numpy>=1.16.6 in /usr/local/lib/python3.8/dist-packages (from qutip) (1.22.4)\n",
            "Installing collected packages: qutip\n",
            "Successfully installed qutip-4.7.1\n",
            "Looking in indexes: https://pypi.org/simple, https://us-python.pkg.dev/colab-wheels/public/simple/\n",
            "Collecting qutip_qip\n",
            "  Downloading qutip_qip-0.2.3-py3-none-any.whl (105 kB)\n",
            "\u001b[2K     \u001b[90m━━━━━━━━━━━━━━━━━━━━━━━━━━━━━━━━━━━━━━━\u001b[0m \u001b[32m105.6/105.6 KB\u001b[0m \u001b[31m3.5 MB/s\u001b[0m eta \u001b[36m0:00:00\u001b[0m\n",
            "\u001b[?25hRequirement already satisfied: qutip>=4.6 in /usr/local/lib/python3.8/dist-packages (from qutip_qip) (4.7.1)\n",
            "Requirement already satisfied: packaging in /usr/local/lib/python3.8/dist-packages (from qutip_qip) (23.0)\n",
            "Requirement already satisfied: scipy>=1.0 in /usr/local/lib/python3.8/dist-packages (from qutip_qip) (1.7.3)\n",
            "Requirement already satisfied: numpy>=1.16.6 in /usr/local/lib/python3.8/dist-packages (from qutip_qip) (1.22.4)\n",
            "Installing collected packages: qutip_qip\n",
            "Successfully installed qutip_qip-0.2.3\n"
          ]
        }
      ],
      "source": [
        "%pip install qutip\n",
        "%pip install qutip_qip"
      ]
    },
    {
      "cell_type": "code",
      "source": [
        "import matplotlib.pyplot as plt\n",
        "from scipy.optimize import curve_fit\n",
        "\n",
        "import numpy as np\n",
        "from qutip import sigmax, sigmay, sigmaz, basis, qeye, tensor, Qobj, fock_dm\n",
        "from qutip_qip.circuit import QubitCircuit, Gate\n",
        "from qutip_qip.device import ModelProcessor, Model\n",
        "from qutip_qip.compiler import GateCompiler, Instruction\n",
        "from qutip import Options\n",
        "from qutip_qip.noise import Noise"
      ],
      "metadata": {
        "id": "0D5WQvDPmXUJ"
      },
      "execution_count": 2,
      "outputs": []
    },
    {
      "cell_type": "markdown",
      "source": [
        "We build a two-qubit Processor, where the second qubit is detuned from the first one by $δ=1.852$\n",
        "MHz. A sequence of $π$\n",
        "-pulses with Rabi frequency of $Ω=20\n",
        "KHz$ and random phases are applied to the first qubit. We define noise such that the same pulse also applies to the second qubit. Because of the detuning, this pulse does not flip the second qubit but subjects it to a diffusive behaviour, so that the average fidelity of the second qubit with respect to the initial state decreases.\n",
        "\n",
        "------\n",
        "\n",
        "\n",
        "Here, we reproduce these results with a two-qubit `Processor`. We start with an initial state of fidelity $0.975$ and simulate the Hamiltonian\n",
        "\n",
        "$$ \\begin{align}\n",
        "H=\\Omega(t)(\\sigma^x_0 + \\lambda \\sigma^x_1) + \\delta\\sigma^z_1\n",
        ",\n",
        "\\end{align}\n",
        "$$\n",
        "\n",
        "\n",
        "where $\\lambda$ is the ratio between the cross-talk pulse's amplitudes.\n",
        "\n",
        "\n",
        "------\n",
        "\n",
        "In the cell below, we first build a Hamiltonian model called `MyModel`. For simplicity, we only include two single-qubit control Hamiltonians: $σ_x$\n",
        " and $σ_y$\n",
        ". We then define the compiling routines for the two types of rotation gates RX and RY. In addition, we also define a rotation gate with mixed X and Y quadrature, parameterized by a phase $ϕ$\n",
        ", $cos(ϕ)σ_x+sin(ϕ)σ_y$\n",
        ". This will be used later in the example of custom noise.\n",
        "\n",
        "-------\n",
        "\n",
        "\n",
        "We then initialize a `ModelProcessor` with this model. In the `ModelProcessor`, the default simulation workflow is already defined, such as the load_circuit method. Since rotations around the $x$\n",
        " and $y$\n",
        " axes are the native gates of our hardware, we define them in the attribute native gates. Providing this native gates set, rotation around z\n",
        " axis will be automatically decomposed into rotations around x\n",
        " and y\n",
        " axes. We define a circuit consisting of $π/2$\n",
        " rotation followed by a $Z$ gate. The compiled pulses are shown in customize pulse, where the Z gate is decomposed into rotations around x\n",
        " and y\n",
        " axes.\n"
      ],
      "metadata": {
        "id": "TUtLjH0_mb0t"
      }
    },
    {
      "cell_type": "code",
      "source": [
        "class MyModel(Model):\n",
        "    \"\"\"A custom Hamiltonian model with sigmax and sigmay control.\"\"\"\n",
        "    def get_control(self, label):\n",
        "        \"\"\"\n",
        "        Get an available control Hamiltonian.\n",
        "        For instance, sigmax control on the zeroth qubits is labeled \"sx0\".\n",
        "\n",
        "        Args:\n",
        "            label (str): The label of the Hamiltonian\n",
        "\n",
        "        Returns:\n",
        "            The Hamiltonian and target qubits as a tuple (qutip.Qobj, list).\n",
        "        \"\"\"\n",
        "        targets = int(label[2:])\n",
        "        if label[:2] == \"sx\":\n",
        "            return 2 * np.pi * sigmax() / 2, [targets]\n",
        "        elif label[:2] == \"sy\":\n",
        "            return 2 * np.pi * sigmay() / 2, [targets]\n",
        "        else:\n",
        "            raise NotImplementError(\"Unknown control.\")\n",
        "\n",
        "class MyCompiler(GateCompiler):\n",
        "    \"\"\"Custom compiler for generating pulses from gates using the base class \n",
        "    GateCompiler.\n",
        "\n",
        "    Args:\n",
        "        num_qubits (int): The number of qubits in the processor\n",
        "        params (dict): A dictionary of parameters for gate pulses such as\n",
        "                       the pulse amplitude.\n",
        "    \"\"\"\n",
        "\n",
        "    def __init__(self, num_qubits, params):\n",
        "        super().__init__(num_qubits, params=params)\n",
        "        self.params = params\n",
        "        self.gate_compiler = {\n",
        "            \"ROT\": self.rotation_with_phase_compiler,\n",
        "            \"RX\": self.single_qubit_gate_compiler,\n",
        "            \"RY\": self.single_qubit_gate_compiler,\n",
        "        }\n",
        "\n",
        "    def generate_pulse(self, gate, tlist, coeff, phase=0.0):\n",
        "        \"\"\"Generates the pulses.\n",
        "\n",
        "        Args:\n",
        "            gate (qutip_qip.circuit.Gate): A qutip Gate object.\n",
        "            tlist (array): A list of times for the evolution.\n",
        "            coeff (array): An array of coefficients for the gate pulses\n",
        "            phase (float): The value of the phase for the gate.\n",
        "\n",
        "        Returns:\n",
        "            Instruction (qutip_qip.compiler.instruction.Instruction): An instruction\n",
        "            to implement a gate containing the control pulses.                                               \n",
        "        \"\"\"\n",
        "        pulse_info = [\n",
        "            # (control label, coeff)\n",
        "            (\"sx\" + str(gate.targets[0]), np.cos(phase) * coeff),\n",
        "            (\"sy\" + str(gate.targets[0]), np.sin(phase) * coeff),\n",
        "        ]\n",
        "        return [Instruction(gate, tlist=tlist, pulse_info=pulse_info)]\n",
        "\n",
        "    def single_qubit_gate_compiler(self, gate, args):\n",
        "        \"\"\"Compiles single-qubit gates to pulses.\n",
        "        \n",
        "        Args:\n",
        "            gate (qutip_qip.circuit.Gate): A qutip Gate object.\n",
        "        \n",
        "        Returns:\n",
        "            Instruction (qutip_qip.compiler.instruction.Instruction): An instruction\n",
        "            to implement a gate containing the control pulses.\n",
        "        \"\"\"\n",
        "        # gate.arg_value is the rotation angle\n",
        "        tlist = np.abs(gate.arg_value) / self.params[\"pulse_amplitude\"]\n",
        "        coeff = self.params[\"pulse_amplitude\"] * np.sign(gate.arg_value)\n",
        "        if gate.name == \"RX\":\n",
        "            return self.generate_pulse(gate, tlist, coeff, phase=0.0)\n",
        "        elif gate.name == \"RY\":\n",
        "            return self.generate_pulse(gate, tlist, coeff, phase=np.pi / 2)\n",
        "\n",
        "    def rotation_with_phase_compiler(self, gate, args):\n",
        "        \"\"\"Compiles gates with a phase term.\n",
        "\n",
        "        Args:\n",
        "            gate (qutip_qip.circuit.Gate): A qutip Gate object.\n",
        "        \n",
        "        Returns:\n",
        "            Instruction (qutip_qip.compiler.instruction.Instruction): An instruction\n",
        "            to implement a gate containing the control pulses.\n",
        "        \"\"\"\n",
        "        # gate.arg_value is the pulse phase\n",
        "        tlist = self.params[\"duration\"]\n",
        "        coeff = self.params[\"pulse_amplitude\"]\n",
        "        return self.generate_pulse(gate, tlist, coeff, phase=gate.arg_value)\n",
        "\n",
        "\n",
        "# Define a circuit and run the simulation\n",
        "num_qubits = 1\n",
        "\n",
        "circuit = QubitCircuit(1)\n",
        "circuit.add_gate(\"RX\", targets=0, arg_value=np.pi / 2)\n",
        "circuit.add_gate(\"Z\", targets=0)\n",
        "\n",
        "myprocessor = ModelProcessor(model=MyModel(num_qubits))\n",
        "myprocessor.native_gates = [\"RX\", \"RY\"]\n",
        "\n",
        "mycompiler = MyCompiler(num_qubits, {\"pulse_amplitude\": 0.02})\n",
        "\n",
        "myprocessor.load_circuit(circuit, compiler=mycompiler)\n",
        "result = myprocessor.run_state(basis(2, 0))\n",
        "\n",
        "fig, ax = myprocessor.plot_pulses(\n",
        "    figsize=(5, 3), dpi=120,\n",
        "    use_control_latex=False\n",
        ")\n",
        "ax[-1].set_xlabel(\"$t$\")\n",
        "fig.tight_layout()"
      ],
      "metadata": {
        "colab": {
          "base_uri": "https://localhost:8080/",
          "height": 365
        },
        "id": "xiH-nOW2mZX9",
        "outputId": "f3416df5-c4c3-4f7f-8110-2f6820eeaaa5"
      },
      "execution_count": 3,
      "outputs": [
        {
          "output_type": "display_data",
          "data": {
            "text/plain": [
              "<Figure size 600x360 with 2 Axes>"
            ],
            "image/png": "[encoded data removed]"
          },
          "metadata": {}
        }
      ]
    },
    {
      "cell_type": "markdown",
      "source": [
        "We now define a custom ClassicalCrossTalk noise object that uses the Noise class as the base. The get_noisy_dynamics method will be called during the simulation to generate the noisy Hamiltonian model. Here, we define a noise model that adds the same driving Hamiltonian to its neighbouring qubits, with a strength proportional to the control pulses strength applied on it. The detuning of the qubit transition frequency is simulated by adding a $σ_z$\n",
        " drift Hamiltonian to the processor, with a frequency of 1.852\n",
        " MHz."
      ],
      "metadata": {
        "id": "TOW-tKUhnd3S"
      }
    },
    {
      "cell_type": "code",
      "source": [
        "class ClassicalCrossTalk(Noise):\n",
        "    def __init__(self, ratio):\n",
        "        self.ratio = ratio\n",
        "\n",
        "    def get_noisy_dynamics(self, dims=None, pulses=None, systematic_noise=None):\n",
        "        \"\"\"Adds noise to the control pulses.\n",
        "        \n",
        "        Args:\n",
        "            dims: Dimension of the system, e.g., [2,2,2,...] for qubits.\n",
        "            pulses: A list of Pulse objects, representing the compiled pulses.\n",
        "            systematic_noise: A Pulse object with no ideal control, used to represent\n",
        "            pulse-independent noise such as decoherence (not used in this example).\n",
        "        Returns:\n",
        "            pulses: The list of modified pulses according to the noise model.\n",
        "            systematic_noise: A Pulse object (not used in this example). \n",
        "        \"\"\"\n",
        "        for i, pulse in enumerate(pulses):\n",
        "            if \"sx\" not in pulse.label and \"sy\" not in pulse.label:\n",
        "                continue  # filter out other pulses, e.g. drift\n",
        "            target = pulse.targets[0]\n",
        "            if target != 0:  # add pulse to the left neighbour\n",
        "                pulses[i].add_control_noise(\n",
        "                    self.ratio * pulse.qobj,\n",
        "                    targets=[target - 1],\n",
        "                    coeff=pulse.coeff,\n",
        "                    tlist=pulse.tlist,\n",
        "                )\n",
        "            if target != len(dims) - 1:  # add pulse to the right neighbour\n",
        "                pulses[i].add_control_noise(\n",
        "                    self.ratio * pulse.qobj,\n",
        "                    targets=[target + 1],\n",
        "                    coeff=pulse.coeff,\n",
        "                    tlist=pulse.tlist,\n",
        "                )\n",
        "        return pulses, systematic_noise"
      ],
      "metadata": {
        "id": "DCUnoo64nbOd"
      },
      "execution_count": 4,
      "outputs": []
    },
    {
      "cell_type": "markdown",
      "source": [
        "Lastly, we define a random circuit consisting of a sequence of $π$\n",
        " rotation pulses with random phases. The driving pulse is a $π$\n",
        " pulse with a duration of $25μs$\n",
        " and Rabi frequency $20$\n",
        " KHz. This randomized benchmarking protocol allows one to study the classical cross-talk induced decoherence on the neighbouring qubits. The two qubits are initialized in the $|00⟩$\n",
        " state with a fidelity of $0.975$. After the circuit, we measure the population of the second qubit. If there is no cross-talk, it will remain perfectly in the ground state. However, cross-talk induces a diffusive behaviour of the second qubit and the fidelity decreases.\n",
        "\n",
        "\n",
        "-------\n",
        "\n",
        "This simulation is repeated $1600$ times to obtain the average fidelity. This may take several hours, therefore, the following code only takes two samples with $t=250$\n",
        ". The full simulation is in the commented lines."
      ],
      "metadata": {
        "id": "jmfQ3i08oFNN"
      }
    },
    {
      "cell_type": "code",
      "source": [
        "def single_crosstalk_simulation(num_gates):\n",
        "    \"\"\" A single simulation, with num_gates representing the number of rotations.\n",
        "\n",
        "    Args:\n",
        "        num_gates (int): The number of random gates to add in the simulation.\n",
        "\n",
        "    Returns:\n",
        "        result (qutip.solver.Result): A qutip Result object obtained from any of the\n",
        "                                      solver methods such as mesolve.\n",
        "    \"\"\"\n",
        "    num_qubits = 2  # Qubit-0 is the target qubit. Qubit-1 suffers from crosstalk.\n",
        "    myprocessor = ModelProcessor(model=MyModel(num_qubits))\n",
        "    # Add qubit frequency detuning 1.852MHz for the second qubit.\n",
        "    myprocessor.add_drift(2 * np.pi * (sigmaz() + 1) / 2 * 1.852, targets=1)\n",
        "    myprocessor.native_gates = None  # Remove the native gates\n",
        "    mycompiler = MyCompiler(num_qubits, {\"pulse_amplitude\": 0.02, \"duration\": 25})\n",
        "    myprocessor.add_noise(ClassicalCrossTalk(1.0))\n",
        "    # Define a randome circuit.\n",
        "    gates_set = [\n",
        "        Gate(\"ROT\", 0, arg_value=0),\n",
        "        Gate(\"ROT\", 0, arg_value=np.pi / 2),\n",
        "        Gate(\"ROT\", 0, arg_value=np.pi),\n",
        "        Gate(\"ROT\", 0, arg_value=np.pi / 2 * 3),\n",
        "    ]\n",
        "    circuit = QubitCircuit(num_qubits)\n",
        "    for ind in np.random.randint(0, 4, num_gates):\n",
        "        circuit.add_gate(gates_set[ind])\n",
        "    # Simulate the circuit.\n",
        "    myprocessor.load_circuit(circuit, compiler=mycompiler)\n",
        "    init_state = tensor(\n",
        "        [Qobj([[init_fid, 0], [0, 0.025]]), Qobj([[init_fid, 0], [0, 0.025]])]\n",
        "    )\n",
        "    options = Options(nsteps=10000)  # increase the maximal allowed steps\n",
        "    e_ops = [tensor([qeye(2), fock_dm(2)])]  # observable\n",
        "\n",
        "    # compute results of the run using a solver of choice with custom options\n",
        "    result = myprocessor.run_state(init_state, solver=\"mesolve\",\n",
        "        options=options, e_ops=e_ops)\n",
        "    result = result.expect[0][-1]  # measured expectation value at the end\n",
        "    return result\n",
        "\n",
        "\n",
        "# The full simulation may take several hours\n",
        "# so we just choose num_sample=2 and num_gates=250 as a test\n",
        "num_sample = 2\n",
        "fidelity = []\n",
        "fidelity_error = []\n",
        "init_fid = 0.975\n",
        "num_gates_list = [250]\n",
        "\n",
        "# The full simulation is defined in the commented lines below.\n",
        "\n",
        "# from joblib import Parallel, delayed  # for parallel simulations\n",
        "# num_sample = 1600\n",
        "# num_gates_list = [250, 500, 750, 1000, 1250, 1500]\n",
        "\n",
        "for num_gates in num_gates_list:\n",
        "    # expect = Parallel(n_jobs=8)(delayed(single_crosstalk_simulation)(num_gates) for i in range(num_sample))\n",
        "    expect = [single_crosstalk_simulation(num_gates) for i in range(num_sample)]\n",
        "    fidelity.append(np.mean(expect))\n",
        "    fidelity_error.append(np.std(expect)/np.sqrt(num_sample))\n"
      ],
      "metadata": {
        "id": "HclnpK-roB5Q"
      },
      "execution_count": 5,
      "outputs": []
    },
    {
      "cell_type": "markdown",
      "source": [
        "We plot a recorded result as an illustration."
      ],
      "metadata": {
        "id": "AlwG9HwpobGM"
      }
    },
    {
      "cell_type": "code",
      "source": [
        "# Recorded result of a full simulation\n",
        "num_gates_list = [250, 500, 750, 1000, 1250, 1500]\n",
        "fidelity = [\n",
        "    0.9566768747558925,\n",
        "    0.9388905075892828,\n",
        "    0.9229470389282218,\n",
        "    0.9075513000339529,\n",
        "    0.8941659320508855,\n",
        "    0.8756519016627652\n",
        "]\n",
        "\n",
        "fidelity_error = [\n",
        "    0.00042992029265330223,\n",
        "    0.0008339882813741004,\n",
        "    0.0012606632769758602,\n",
        "    0.0014643550337816722,\n",
        "    0.0017695604671714809,\n",
        "    0.0020964978542167617\n",
        "]\n",
        "\n",
        "\n",
        "def rb_curve(x, a):\n",
        "    return (1 / 2 + np.exp(-2 * a * x) / 2) * 0.975\n",
        "\n",
        "\n",
        "pos, cov = curve_fit(rb_curve, num_gates_list, fidelity, p0=[0.001])\n",
        "\n",
        "xline = np.linspace(0, 1700, 200)\n",
        "yline = rb_curve(xline, *pos)\n",
        "\n",
        "fig, ax = plt.subplots(figsize=(5, 3), dpi=100)\n",
        "ax.errorbar(\n",
        "    num_gates_list, fidelity, yerr=fidelity_error, fmt=\".\", capsize=2, color=\"slategrey\"\n",
        ")\n",
        "ax.plot(xline, yline, color=\"slategrey\")\n",
        "ax.set_ylabel(\"Average fidelity\")\n",
        "ax.set_xlabel(r\"Number of $\\pi$ rotations\")\n",
        "ax.set_xlim((0, 1700));"
      ],
      "metadata": {
        "colab": {
          "base_uri": "https://localhost:8080/",
          "height": 312
        },
        "id": "9ttKVw0hoYuO",
        "outputId": "8ae6b7a1-1d0e-4348-87c3-fbd368577199"
      },
      "execution_count": 6,
      "outputs": [
        {
          "output_type": "display_data",
          "data": {
            "text/plain": [
              "<Figure size 500x300 with 1 Axes>"
            ],
            "image/png": "[encoded data removed]"
          },
          "metadata": {
            "needs_background": "light"
          }
        }
      ]
    },
    {
      "cell_type": "markdown",
      "source": [
        "## Software Version"
      ],
      "metadata": {
        "id": "JAeiBvQlogTm"
      }
    },
    {
      "cell_type": "code",
      "source": [
        "import qutip_qip\n",
        "print(\"qutip-qip version:\", qutip_qip.version.version)\n",
        "from qutip.ipynbtools import version_table\n",
        "version_table()\n"
      ],
      "metadata": {
        "colab": {
          "base_uri": "https://localhost:8080/",
          "height": 287
        },
        "id": "SDqLt_sVofO4",
        "outputId": "8353d8c1-d09d-42e8-b0bc-ee2561ae90f4"
      },
      "execution_count": 7,
      "outputs": [
        {
          "output_type": "stream",
          "name": "stdout",
          "text": [
            "qutip-qip version: 0.2.3\n"
          ]
        },
        {
          "output_type": "execute_result",
          "data": {
            "text/plain": [
              "<IPython.core.display.HTML object>"
            ],
            "text/html": [
              "<table><tr><th>Software</th><th>Version</th></tr><tr><td>QuTiP</td><td>4.7.1</td></tr><tr><td>Numpy</td><td>1.22.4</td></tr><tr><td>SciPy</td><td>1.7.3</td></tr><tr><td>matplotlib</td><td>3.5.3</td></tr><tr><td>Cython</td><td>0.29.33</td></tr><tr><td>Number of CPUs</td><td>2</td></tr><tr><td>BLAS Info</td><td>OPENBLAS</td></tr><tr><td>IPython</td><td>7.9.0</td></tr><tr><td>Python</td><td>3.8.10 (default, Nov 14 2022, 12:59:47) \n",
              "[GCC 9.4.0]</td></tr><tr><td>OS</td><td>posix [linux]</td></tr><tr><td colspan='2'>Wed Mar 01 14:44:58 2023 UTC</td></tr></table>"
            ]
          },
          "metadata": {},
          "execution_count": 7
        }
      ]
    }
  ]
}