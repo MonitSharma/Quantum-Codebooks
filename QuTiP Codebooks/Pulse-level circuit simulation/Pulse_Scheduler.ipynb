{
  "nbformat": 4,
  "nbformat_minor": 0,
  "metadata": {
    "colab": {
      "provenance": []
    },
    "kernelspec": {
      "name": "python3",
      "display_name": "Python 3"
    },
    "language_info": {
      "name": "python"
    }
  },
  "cells": [
    {
      "cell_type": "markdown",
      "source": [
        "# Scheduler for quantum gates and instructions\n",
        "\n",
        "The finite coherence time of physical qubits is one of the major factors that limits the performance of quantum computation. In principle, the execution time of the circuit has to be much shorter than the coherence time. One way to reduce this execution time is to run several gates in the circuit parallelly. This can spare a lot of time if e.g. the same single-qubit gate is applied to all qubits, as in the [Grover algorithm](https://en.wikipedia.org/wiki/Grover%27s_algorithm).\n",
        "\n",
        "\n",
        "---------\n",
        "\n",
        "\n",
        "A scheduler for a quantum computer, similar to its classical counterpart, schedules a quantum circuit to minimize the execution time. It determines the order in which the gates are executed. As a simple rule, the scheduler allows gates to be executed in parallel if they do not address the same qubits. Further hardware constraints can be included, but here we only focus on this simple criterion by considering gates that do not address the same qubits. The non-trivial part of a scheduler is that it has to consider the possible permutations of commuting quantum gates. Hence, exploring various possibilities for permutation while following physical constraints of the hardware is the main challenging task for the scheduler.\n",
        "\n",
        "\n",
        "\n",
        "--------\n",
        "\n",
        "We first show how we can schedule gate execution in quantum circuits using the built-in tools in `qutip_qip` and then the scheduling of compiled control pulses. In the end, we also show a simple example where the permutation of commuting gates matters in the scheduling and how to handle such situations.\n",
        "\n"
      ],
      "metadata": {
        "id": "q2kJPF5Hez19"
      }
    },
    {
      "cell_type": "code",
      "execution_count": 1,
      "metadata": {
        "colab": {
          "base_uri": "https://localhost:8080/"
        },
        "id": "RXEu4FV2evrr",
        "outputId": "d285e0cc-6c0f-4165-a89e-40b741adfbde"
      },
      "outputs": [
        {
          "output_type": "stream",
          "name": "stdout",
          "text": [
            "Looking in indexes: https://pypi.org/simple, https://us-python.pkg.dev/colab-wheels/public/simple/\n",
            "Collecting qutip\n",
            "  Downloading qutip-4.7.1-cp38-cp38-manylinux_2_17_x86_64.manylinux2014_x86_64.whl (16.7 MB)\n",
            "\u001b[2K     \u001b[90m━━━━━━━━━━━━━━━━━━━━━━━━━━━━━━━━━━━━━━━━\u001b[0m \u001b[32m16.7/16.7 MB\u001b[0m \u001b[31m74.7 MB/s\u001b[0m eta \u001b[36m0:00:00\u001b[0m\n",
            "\u001b[?25hRequirement already satisfied: packaging in /usr/local/lib/python3.8/dist-packages (from qutip) (23.0)\n",
            "Requirement already satisfied: numpy>=1.16.6 in /usr/local/lib/python3.8/dist-packages (from qutip) (1.22.4)\n",
            "Requirement already satisfied: scipy>=1.0 in /usr/local/lib/python3.8/dist-packages (from qutip) (1.7.3)\n",
            "Installing collected packages: qutip\n",
            "Successfully installed qutip-4.7.1\n",
            "Looking in indexes: https://pypi.org/simple, https://us-python.pkg.dev/colab-wheels/public/simple/\n",
            "Collecting qutip_qip\n",
            "  Downloading qutip_qip-0.2.3-py3-none-any.whl (105 kB)\n",
            "\u001b[2K     \u001b[90m━━━━━━━━━━━━━━━━━━━━━━━━━━━━━━━━━━━━━━━\u001b[0m \u001b[32m105.6/105.6 KB\u001b[0m \u001b[31m5.6 MB/s\u001b[0m eta \u001b[36m0:00:00\u001b[0m\n",
            "\u001b[?25hRequirement already satisfied: scipy>=1.0 in /usr/local/lib/python3.8/dist-packages (from qutip_qip) (1.7.3)\n",
            "Requirement already satisfied: qutip>=4.6 in /usr/local/lib/python3.8/dist-packages (from qutip_qip) (4.7.1)\n",
            "Requirement already satisfied: numpy>=1.16.6 in /usr/local/lib/python3.8/dist-packages (from qutip_qip) (1.22.4)\n",
            "Requirement already satisfied: packaging in /usr/local/lib/python3.8/dist-packages (from qutip_qip) (23.0)\n",
            "Installing collected packages: qutip_qip\n",
            "Successfully installed qutip_qip-0.2.3\n"
          ]
        }
      ],
      "source": [
        "%pip install qutip\n",
        "%pip install qutip_qip"
      ]
    },
    {
      "cell_type": "code",
      "source": [
        "# imports\n",
        "import qutip\n",
        "\n",
        "from qutip_qip.circuit import QubitCircuit\n",
        "from qutip_qip.compiler import Scheduler\n",
        "from qutip_qip.compiler import Instruction\n",
        "from qutip_qip.device import LinearSpinChain"
      ],
      "metadata": {
        "id": "laSA-fg5fMAz"
      },
      "execution_count": 2,
      "outputs": []
    },
    {
      "cell_type": "markdown",
      "source": [
        "## Gate Schedule\n",
        "\n",
        "Let's first define a quantum circuit"
      ],
      "metadata": {
        "id": "VagDTaoFfPs3"
      }
    },
    {
      "cell_type": "code",
      "source": [
        "circuit = QubitCircuit(3)\n",
        "circuit.add_gate(\"X\", 0)\n",
        "circuit.add_gate(\"ISWAP\", targets=[1,2])\n",
        "circuit.add_gate(\"X\", 2)\n",
        "circuit.add_gate(\"Y\", 0)\n",
        "circuit.add_gate(\"X\", 0)\n",
        "circuit"
      ],
      "metadata": {
        "colab": {
          "base_uri": "https://localhost:8080/"
        },
        "id": "U1Xj0KY7fOgB",
        "outputId": "d45233f9-2f32-4b35-d489-efd9348c2c84"
      },
      "execution_count": 3,
      "outputs": [
        {
          "output_type": "execute_result",
          "data": {
            "text/plain": [
              "<qutip_qip.circuit.QubitCircuit at 0x7f7b3c3bd820>"
            ]
          },
          "metadata": {},
          "execution_count": 3
        }
      ]
    },
    {
      "cell_type": "markdown",
      "source": [
        "This is a rather boring circuit, but it is useful as a demonstration for the scheduler. We now define a scheduler and schedule the execution of gates in the circuit"
      ],
      "metadata": {
        "id": "WAT5J6SvfZ5-"
      }
    },
    {
      "cell_type": "code",
      "source": [
        "scheduler = Scheduler(\"ASAP\")  # schedule as soon as possible\n",
        "scheduled_time = scheduler.schedule(circuit)\n",
        "scheduled_time"
      ],
      "metadata": {
        "colab": {
          "base_uri": "https://localhost:8080/"
        },
        "id": "1TfAtFZMfXow",
        "outputId": "9a9601a7-82f6-4e2f-c722-80dd6e4afce5"
      },
      "execution_count": 4,
      "outputs": [
        {
          "output_type": "execute_result",
          "data": {
            "text/plain": [
              "[0, 0, 1, 1, 2]"
            ]
          },
          "metadata": {},
          "execution_count": 4
        }
      ]
    },
    {
      "cell_type": "markdown",
      "source": [
        "This result shows the scheduled starting time for each gate. In the first cycle we execute an iSWAP on qubit 0 and 1 and an X gate on qubit 0; In the second cycle we execute one X gate on qubit 2 and one Y gate on qubit 0; In the last cycle, we execute a single X gate on qubit 0. As printed bellow:"
      ],
      "metadata": {
        "id": "liZ7G2nLfeXg"
      }
    },
    {
      "cell_type": "code",
      "source": [
        "cycle_list = [[] for i in range(max(scheduled_time) + 1)]\n",
        "\n",
        "for i, time in enumerate(scheduled_time):\n",
        "    gate = circuit.gates[i]\n",
        "    cycle_list[time].append(gate.name + str(gate.targets))\n",
        "for cycle in cycle_list:\n",
        "    print(cycle)"
      ],
      "metadata": {
        "colab": {
          "base_uri": "https://localhost:8080/"
        },
        "id": "Buxo4t-7fchQ",
        "outputId": "7479581f-55ae-4bb2-e236-a7531dbd7434"
      },
      "execution_count": 5,
      "outputs": [
        {
          "output_type": "stream",
          "name": "stdout",
          "text": [
            "['X[0]', 'ISWAP[1, 2]']\n",
            "['X[2]', 'Y[0]']\n",
            "['X[0]']\n"
          ]
        }
      ]
    },
    {
      "cell_type": "markdown",
      "source": [
        "We can also schedule the gate follows the rule \"as late as possible\""
      ],
      "metadata": {
        "id": "pRisrYfLfjvQ"
      }
    },
    {
      "cell_type": "code",
      "source": [
        "scheduler = Scheduler(\"ALAP\")  # schedule as late as possible\n",
        "scheduled_time = scheduler.schedule(circuit)\n",
        "cycle_list = [[] for i in range(max(scheduled_time) + 1)]\n",
        "for i, time in enumerate(scheduled_time):\n",
        "    gate = circuit.gates[i]\n",
        "    cycle_list[time].append(gate.name + str(gate.targets))\n",
        "for cycle in cycle_list:\n",
        "    print(cycle)"
      ],
      "metadata": {
        "colab": {
          "base_uri": "https://localhost:8080/"
        },
        "id": "oIyqUE1sfh8F",
        "outputId": "8a09e32f-329a-422a-fce3-bb538b7770c8"
      },
      "execution_count": 6,
      "outputs": [
        {
          "output_type": "stream",
          "name": "stdout",
          "text": [
            "['X[0]']\n",
            "['ISWAP[1, 2]', 'Y[0]']\n",
            "['X[2]', 'X[0]']\n"
          ]
        }
      ]
    },
    {
      "cell_type": "markdown",
      "source": [
        "The only difference is that the \"iSWAP\" gate and the X gate on qubit 2 are shifted by one cycle."
      ],
      "metadata": {
        "id": "CHlOBki_fpHd"
      }
    },
    {
      "cell_type": "markdown",
      "source": [
        "## Instruction/Pulse Schedule\n",
        "\n",
        "Often different quantum gates will have different execution time. To consider this, we define a list of quantum instructions, where X gate has the execution time 1 while the iSWAP gate takes the time 3.5"
      ],
      "metadata": {
        "id": "Dyk7vKJYfsdN"
      }
    },
    {
      "cell_type": "code",
      "source": [
        "scheduler = Scheduler(\"ASAP\")\n",
        "instructions = []\n",
        "\n",
        "for gate in circuit.gates:\n",
        "    if gate.name in (\"X\"):\n",
        "        duration = 1\n",
        "    elif gate.name == \"ISWAP\":\n",
        "        duration = 3.5\n",
        "    instruction = Instruction(gate, duration=duration)\n",
        "    instructions.append(instruction)\n",
        "scheduler.schedule(instructions)"
      ],
      "metadata": {
        "colab": {
          "base_uri": "https://localhost:8080/"
        },
        "id": "iwXMRTbefnDC",
        "outputId": "36a0f73d-7969-4bf1-d2ca-862b8c676602"
      },
      "execution_count": 7,
      "outputs": [
        {
          "output_type": "execute_result",
          "data": {
            "text/plain": [
              "[0, 0.0, 3.5, 1, 2]"
            ]
          },
          "metadata": {},
          "execution_count": 7
        }
      ]
    },
    {
      "cell_type": "markdown",
      "source": [
        "The scheduled execution time for each gate can no longer be assigned to gate cycles. But we can see this through the [noisy circuit simulator](https://nbviewer.org/github/qutip/qutip-notebooks/blob/master/examples/qip-noisy-device-simulator.ipynb) of qutip, where the circuit is compiled to control signals: (Notice that the execution time follows the hardware parameter of spin chain and the Y gate is decomposed into a Z-X-Z rotation)."
      ],
      "metadata": {
        "id": "pDYs8QF_f0dj"
      }
    },
    {
      "cell_type": "code",
      "source": [
        "device = LinearSpinChain(3)\n",
        "device.load_circuit(circuit, \"ASAP\")  # The circuit are compiled to instructions and scheduled.\n",
        "device.plot_pulses();"
      ],
      "metadata": {
        "colab": {
          "base_uri": "https://localhost:8080/",
          "height": 337
        },
        "id": "4Temp-7cfyaA",
        "outputId": "f8ebb336-db57-4362-e5ca-77c667e2ceaa"
      },
      "execution_count": 8,
      "outputs": [
        {
          "output_type": "display_data",
          "data": {
            "text/plain": [
              "<Figure size 864x432 with 8 Axes>"
            ],
            "image/png": "[encoded data removed]"
          },
          "metadata": {}
        }
      ]
    },
    {
      "cell_type": "markdown",
      "source": [
        "The green and orange pulses represent rotations along the X and Z axis. The green pulse is the iSWAP gate, which is executed simultaneously with a few other single-qubit rotations on qubit 0."
      ],
      "metadata": {
        "id": "zeZKG2ZTgAff"
      }
    },
    {
      "cell_type": "markdown",
      "source": [
        "## Considering commuting gates\n",
        "\n",
        "We consider the following circuit:"
      ],
      "metadata": {
        "id": "ks_TCp3ygCpL"
      }
    },
    {
      "cell_type": "code",
      "source": [
        "circuit = QubitCircuit(3)\n",
        "circuit.add_gate(\"SNOT\", 0)\n",
        "circuit.add_gate(\"CNOT\", 1, 0)\n",
        "circuit.add_gate(\"CNOT\", 2, 0)\n",
        "circuit.add_gate(\"SNOT\", 2)\n",
        "circuit"
      ],
      "metadata": {
        "colab": {
          "base_uri": "https://localhost:8080/"
        },
        "id": "dCLcUMGof9SV",
        "outputId": "372ba409-a5af-40bb-8e5c-62d90b2d52a8"
      },
      "execution_count": 9,
      "outputs": [
        {
          "output_type": "execute_result",
          "data": {
            "text/plain": [
              "<qutip_qip.circuit.QubitCircuit at 0x7f7b07244940>"
            ]
          },
          "metadata": {},
          "execution_count": 9
        }
      ]
    },
    {
      "cell_type": "markdown",
      "source": [
        "At first sight, it might look like no gates can be run in parallel. However, the two CNOT gates actually commute and if we permute them, we can run one CNOT together with the last Hadamard gate."
      ],
      "metadata": {
        "id": "UN5oD2DzgNgL"
      }
    },
    {
      "cell_type": "code",
      "source": [
        "scheduler = Scheduler(\"ALAP\")\n",
        "scheduled_time = scheduler.schedule(circuit)\n",
        "\n",
        "cycle_list = [[] for i in range(max(scheduled_time) + 1)]\n",
        "for i, time in enumerate(scheduled_time):\n",
        "    gate = circuit.gates[i]\n",
        "    cycle_list[time].append(gate.name + str(gate.targets))\n",
        "for cycle in cycle_list:\n",
        "    print(cycle)"
      ],
      "metadata": {
        "colab": {
          "base_uri": "https://localhost:8080/"
        },
        "id": "Z2JD0fQbgLfz",
        "outputId": "62450ed8-aa5d-40da-ac25-f6b00a253a9d"
      },
      "execution_count": 10,
      "outputs": [
        {
          "output_type": "stream",
          "name": "stdout",
          "text": [
            "['SNOT[0]']\n",
            "['CNOT[2]']\n",
            "['CNOT[1]', 'SNOT[2]']\n"
          ]
        }
      ]
    },
    {
      "cell_type": "markdown",
      "source": [
        "##Random shuffle\n",
        "The scheduling algorithm is heuristic and hence cannot always find the optimal result. Therefore randomness can be added to the scheduling process by the parameters `random_shuffle` and `repeat_num`."
      ],
      "metadata": {
        "id": "Bbi63uS9gTn1"
      }
    },
    {
      "cell_type": "code",
      "source": [
        "from qutip.ipynbtools import version_table\n",
        "version_table()"
      ],
      "metadata": {
        "colab": {
          "base_uri": "https://localhost:8080/",
          "height": 270
        },
        "id": "GMMhLaongRmn",
        "outputId": "cce43a7f-5bdd-485c-b9bc-a5771518118b"
      },
      "execution_count": 11,
      "outputs": [
        {
          "output_type": "execute_result",
          "data": {
            "text/plain": [
              "<IPython.core.display.HTML object>"
            ],
            "text/html": [
              "<table><tr><th>Software</th><th>Version</th></tr><tr><td>QuTiP</td><td>4.7.1</td></tr><tr><td>Numpy</td><td>1.22.4</td></tr><tr><td>SciPy</td><td>1.7.3</td></tr><tr><td>matplotlib</td><td>3.5.3</td></tr><tr><td>Cython</td><td>0.29.33</td></tr><tr><td>Number of CPUs</td><td>2</td></tr><tr><td>BLAS Info</td><td>OPENBLAS</td></tr><tr><td>IPython</td><td>7.9.0</td></tr><tr><td>Python</td><td>3.8.10 (default, Nov 14 2022, 12:59:47) \n",
              "[GCC 9.4.0]</td></tr><tr><td>OS</td><td>posix [linux]</td></tr><tr><td colspan='2'>Wed Mar 01 14:09:23 2023 UTC</td></tr></table>"
            ]
          },
          "metadata": {},
          "execution_count": 11
        }
      ]
    }
  ]
}