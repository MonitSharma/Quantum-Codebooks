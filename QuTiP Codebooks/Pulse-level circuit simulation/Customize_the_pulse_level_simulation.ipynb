{
  "nbformat": 4,
  "nbformat_minor": 0,
  "metadata": {
    "colab": {
      "provenance": []
    },
    "kernelspec": {
      "name": "python3",
      "display_name": "Python 3"
    },
    "language_info": {
      "name": "python"
    }
  },
  "cells": [
    {
      "cell_type": "markdown",
      "source": [
        "## Customize the pulse-level simulation\n",
        "\n",
        "QuTiP is an open-source software library for simulating the dynamics of open quantum systems. It provides a powerful and flexible framework for simulating the time evolution of quantum systems, including both Hamiltonian-driven dynamics and Lindblad master equation-driven dynamics. One of the key features of QuTiP is the ability to customize the pulse-level simulation.\n",
        "\n",
        "By using the pulse-level simulation, users can create sequences of control pulses that drive the quantum system from one state to another. These pulses can be shaped and optimized to achieve a specific target, such as maximizing the population transfer or minimizing the errors in the final state. The pulse-level simulation in QuTiP allows for a high level of control over the pulse parameters, including the amplitude, frequency, phase, and duration.\n",
        "\n",
        "-----\n",
        "\n",
        "To use the pulse-level simulation in QuTiP, users first need to define the quantum system they want to simulate and the target state. Then, they can create a set of pulses using the available pulse generators, such as Gaussian, Sine, Square, and other types of pulses. The pulses can be combined and optimized using a variety of optimization algorithms, such as gradient ascent, gradient descent, and Powell's method.\n",
        "\n",
        "-----\n",
        "\n",
        "In conclusion, the pulse-level simulation in QuTiP is a powerful tool for quantum control and optimization. It provides users with the ability to create and customize sequences of control pulses that drive quantum systems to a desired target state. This makes it a valuable resource for quantum engineers, physicists, and researchers working in the field of quantum information and quantum technologies."
      ],
      "metadata": {
        "id": "msx6Nowyr04c"
      }
    },
    {
      "cell_type": "code",
      "execution_count": 1,
      "metadata": {
        "colab": {
          "base_uri": "https://localhost:8080/"
        },
        "id": "q9mkED8Artd5",
        "outputId": "0ab60941-a81f-481d-8f61-1e49d0e16064"
      },
      "outputs": [
        {
          "output_type": "stream",
          "name": "stdout",
          "text": [
            "Looking in indexes: https://pypi.org/simple, https://us-python.pkg.dev/colab-wheels/public/simple/\n",
            "Collecting qutip\n",
            "  Downloading qutip-4.7.1-cp38-cp38-manylinux_2_17_x86_64.manylinux2014_x86_64.whl (16.7 MB)\n",
            "\u001b[2K     \u001b[90m━━━━━━━━━━━━━━━━━━━━━━━━━━━━━━━━━━━━━━━━\u001b[0m \u001b[32m16.7/16.7 MB\u001b[0m \u001b[31m47.7 MB/s\u001b[0m eta \u001b[36m0:00:00\u001b[0m\n",
            "\u001b[?25hRequirement already satisfied: numpy>=1.16.6 in /usr/local/lib/python3.8/dist-packages (from qutip) (1.21.6)\n",
            "Requirement already satisfied: packaging in /usr/local/lib/python3.8/dist-packages (from qutip) (23.0)\n",
            "Requirement already satisfied: scipy>=1.0 in /usr/local/lib/python3.8/dist-packages (from qutip) (1.7.3)\n",
            "Installing collected packages: qutip\n",
            "Successfully installed qutip-4.7.1\n",
            "Looking in indexes: https://pypi.org/simple, https://us-python.pkg.dev/colab-wheels/public/simple/\n",
            "Collecting qutip_qip\n",
            "  Downloading qutip_qip-0.2.3-py3-none-any.whl (105 kB)\n",
            "\u001b[2K     \u001b[90m━━━━━━━━━━━━━━━━━━━━━━━━━━━━━━━━━━━━━━━\u001b[0m \u001b[32m105.6/105.6 KB\u001b[0m \u001b[31m3.7 MB/s\u001b[0m eta \u001b[36m0:00:00\u001b[0m\n",
            "\u001b[?25hRequirement already satisfied: numpy>=1.16.6 in /usr/local/lib/python3.8/dist-packages (from qutip_qip) (1.21.6)\n",
            "Requirement already satisfied: qutip>=4.6 in /usr/local/lib/python3.8/dist-packages (from qutip_qip) (4.7.1)\n",
            "Requirement already satisfied: packaging in /usr/local/lib/python3.8/dist-packages (from qutip_qip) (23.0)\n",
            "Requirement already satisfied: scipy>=1.0 in /usr/local/lib/python3.8/dist-packages (from qutip_qip) (1.7.3)\n",
            "Installing collected packages: qutip_qip\n",
            "Successfully installed qutip_qip-0.2.3\n"
          ]
        }
      ],
      "source": [
        "%pip install qutip\n",
        "%pip install qutip_qip"
      ]
    },
    {
      "cell_type": "markdown",
      "source": [
        "In this note, we demonstrate examples of customizing the pulse-level simulator in qutip-qip.The notebook is divided into three parts:\n",
        "\n",
        "<li> Customizing the Hamiltonian model\n",
        "<li> Customizing the compiler\n",
        "<li> Customizing the noise"
      ],
      "metadata": {
        "id": "uAiFlT3Hsdex"
      }
    },
    {
      "cell_type": "code",
      "source": [
        "# imports\n",
        "import numpy as np\n",
        "\n",
        "from qutip import sigmax, sigmay, sigmaz, tensor, fidelity\n",
        "from qutip import basis\n",
        "\n",
        "from qutip_qip.pulse import Pulse\n",
        "from qutip_qip.device import ModelProcessor, Model\n",
        "from qutip_qip.circuit import QubitCircuit\n",
        "from qutip_qip.compiler import GateCompiler, Instruction, SpinChainCompiler\n",
        "from qutip_qip.noise import Noise\n",
        "\n",
        "import matplotlib.pyplot as plt"
      ],
      "metadata": {
        "id": "HL76PyXbsbYJ"
      },
      "execution_count": 2,
      "outputs": []
    },
    {
      "cell_type": "markdown",
      "source": [
        "## Customizing the Hamiltonian model\n",
        "We start from the customization of the Hamiltonian model, which is represented by a class instance of `Model`.A minimal requirement for a processor model is specifying the hardware parameters and the control Hamiltonians of the physical system. The former will be provided to the compiler for computing the pulse strength. The latter will be accessed by the `Processor` class via the method `get_control`.\n",
        "\n"
      ],
      "metadata": {
        "id": "Kd-5C1cFslhf"
      }
    },
    {
      "cell_type": "code",
      "source": [
        "class MyModel(Model):\n",
        "    def __init__(self, num_qubits, dims=None, h_x=1., h_z=1., g=0.1, t1=None, t2=None):\n",
        "        super().__init__(num_qubits, dims=dims)\n",
        "        self.params = {\n",
        "            \"sz\": [h_z] * num_qubits,\n",
        "            \"sx\": [h_x] * num_qubits,\n",
        "            \"g\": [g] * num_qubits,\n",
        "            \"t1\": t1, #  Will be accessed by the noise module.\n",
        "            \"t2\": t2,\n",
        "        }\n",
        "        # Control Hamiltonians\n",
        "        _two_qubit_operator = tensor([sigmax(), sigmax()]) + tensor([sigmay(), sigmay()])\n",
        "        self.controls = {}\n",
        "        self.controls.update(\n",
        "            {f\"sx{n}\": (2 * np.pi * sigmax(), n) for n in range(num_qubits)})\n",
        "        self.controls.update(\n",
        "            {f\"sz{n}\": (2 * np.pi * sigmaz(), n) for n in range(num_qubits)}),\n",
        "        self.controls.update(\n",
        "            {f\"g{n}\": (2 * np.pi * _two_qubit_operator, [n, n+1]) for n in range(num_qubits - 1)}),\n",
        "        \n",
        "    def get_control(self, label):\n",
        "        \"\"\"\n",
        "        The mandatory method. It Returns a pair of Qobj and int representing the control Hamiltonian and the target qubit.\n",
        "        \"\"\"\n",
        "        return self.controls[label]\n",
        "\n",
        "    def get_control_labels(self):\n",
        "        \"\"\"\n",
        "        It returns all the labels of availble controls.\n",
        "        \"\"\"\n",
        "        return self.controls.keys()\n",
        "\n",
        "    def get_control_latex(self):\n",
        "        \"\"\"\n",
        "        The function returns a list of dictionaries, corresponding to the latex representation of each control.\n",
        "        This is used in the plotting. Controls in each dictionary will be plotted in a different colour.\n",
        "        See examples later in this notebook.\n",
        "        \"\"\"\n",
        "        return ([\n",
        "            {f\"sx{n}\": r\"$\\sigma_x^%d$\" % n for n in range(num_qubits)},\n",
        "            {f\"sy{n}\": r\"$\\sigma_z^%d$\" % n for n in range(num_qubits)},\n",
        "            {f\"g{n}\": r\"$g_{%d}$\" % (n) for n in range(num_qubits - 1)}])"
      ],
      "metadata": {
        "id": "aXNbFhsSsjXX"
      },
      "execution_count": 3,
      "outputs": []
    },
    {
      "cell_type": "markdown",
      "source": [
        "This is a quantum system of n\n",
        " qubits arranged in a chain (same as the spin chain model), where we have control over three Hamiltonian: $σ_x\n",
        ", σ_z$\n",
        " on each qubit, and neighbouring-qubits interaction $\\sigma_x\\sigma_x+\\sigma_y\\sigma_y\n",
        "$\n",
        "\n",
        "$$H = \\sum_{j=0}^{n-1} c_{1,j}(t) \\cdot h_x^{j}\\sigma_x^{j} + \\sum_{j=0}^{n-1} c_{2,j}(t) \\cdot h_z^{j}\\sigma_z^{j}\n",
        "+ \\sum_{j=0}^{n-2} c_{3,j}(t)\\cdot g^{j}(\\sigma_x^{j}\\sigma_x^{j+1}+\\sigma_y^{j}\\sigma_y^{j+1})\n",
        "$$\n",
        "\n",
        "where $h_x, h_z, g$ are the hardware parameters and $c_{i,j}(t)$  are the time-dependent control pulse coefficients. This Hamiltonian is the same as the one for the linear spin chain model in QuTiP. In general, the hardware parameters will not be identical for each qubit, but here, for simplicity, we represent them by three numbers: $h_x, h_z, g$ \n",
        "\n",
        "-------\n",
        "\n",
        "To simulate a custom quantum device, we provide the model to `ModelProcessor`, which is used for simulators based on a concrete physics model (in contrast to optimal control for arbitrary Hamiltonians). In this way, we inherit the necessary methods from `ModelProcessor` used in the simulation\n"
      ],
      "metadata": {
        "id": "cEsjgCTts5E5"
      }
    },
    {
      "cell_type": "code",
      "source": [
        "num_qubits = 2\n",
        "processor = ModelProcessor(model=MyModel(num_qubits, h_x=1.0, h_z=1.0, g=0.1))"
      ],
      "metadata": {
        "id": "RKq_W6K9s0Ss"
      },
      "execution_count": 4,
      "outputs": []
    },
    {
      "cell_type": "markdown",
      "source": [
        "In `set_up_ops`, we define the control Hamiltonians of the quantum system and use them to initialize the control pulses. We can get the map between the pulse labels and the pulse location with"
      ],
      "metadata": {
        "id": "YvsMryTCtb8x"
      }
    },
    {
      "cell_type": "code",
      "source": [
        "processor.get_control_labels()"
      ],
      "metadata": {
        "colab": {
          "base_uri": "https://localhost:8080/"
        },
        "id": "57Z6bKpVtaZj",
        "outputId": "d31a5152-0957-48e8-c5bc-4c2ccc90257f"
      },
      "execution_count": 5,
      "outputs": [
        {
          "output_type": "execute_result",
          "data": {
            "text/plain": [
              "dict_keys(['sx0', 'sx1', 'sz0', 'sz1', 'g0'])"
            ]
          },
          "metadata": {},
          "execution_count": 5
        }
      ]
    },
    {
      "cell_type": "markdown",
      "source": [
        "Or access a control Hamiltonian by its label:"
      ],
      "metadata": {
        "id": "HARIE6r8tidB"
      }
    },
    {
      "cell_type": "code",
      "source": [
        "sx0 = processor.get_control(\"sx0\")\n",
        "sx0"
      ],
      "metadata": {
        "colab": {
          "base_uri": "https://localhost:8080/"
        },
        "id": "OTASAIuNtgyv",
        "outputId": "f58d896f-1d51-4072-961f-2766eb3f8e3a"
      },
      "execution_count": 6,
      "outputs": [
        {
          "output_type": "execute_result",
          "data": {
            "text/plain": [
              "(Quantum object: dims = [[2], [2]], shape = (2, 2), type = oper, isherm = True\n",
              " Qobj data =\n",
              " [[0.         6.28318531]\n",
              "  [6.28318531 0.        ]], 0)"
            ]
          },
          "metadata": {},
          "execution_count": 6
        }
      ]
    },
    {
      "cell_type": "markdown",
      "source": [
        "In qutip-qip 0.1 version, the model is directly defined in the Processor. This can still be achieved in version 0.2 as shown in the following cell. This is equivalent to the definition above. An instance of Model is automatically created and saved in the processor."
      ],
      "metadata": {
        "id": "8mu8YcZNtqqu"
      }
    },
    {
      "cell_type": "code",
      "source": [
        "class MyProcessor(ModelProcessor):\n",
        "    \"\"\"\n",
        "    Custom processor built using ModelProcessor as the base class.\n",
        "    This custom processor will inherit all the methods of the base class\n",
        "    such as setting up of the T1 and T2 decoherence rates in the simulations.\n",
        "\n",
        "    In addition, it is possible to write your own functions to add control pulses.\n",
        "\n",
        "    Args:\n",
        "        num_qubits (int): Number of qubits in the processor.\n",
        "        t1, t2 (float or list): The T1 and T2 decoherence rates for the\n",
        "    \"\"\"\n",
        "    def __init__(self, num_qubits, h_x, h_z, g, t1=None, t2=None):\n",
        "        super(MyProcessor, self).__init__(num_qubits, t1=t1, t2=t2)  # call the parent class initializer\n",
        "        self.pulse_mode = \"discrete\"  # The control pulse is discrete or continous.\n",
        "        self.model.params.update({\"sz\": [h_z] * num_qubits,  # can also be different for each qubit\n",
        "                       \"sx\": [h_x] * num_qubits,\n",
        "                       \"g\": [g] * num_qubits})\n",
        "        self.model.dims = [2] * num_qubits  # The dimension of each controllable quantum system, here num_qubits qubits.\n",
        "        self.num_qubits = num_qubits\n",
        "        self.set_up_ops()  # set up the available Hamiltonians\n",
        "\n",
        "    def set_up_ops(self):\n",
        "        \"\"\"\n",
        "        Sets up the control operators.\n",
        "        \"\"\"\n",
        "        for m in range(self.num_qubits):\n",
        "            # sigmax pulse on m-th qubit with the corresponding pulse \n",
        "            self.add_control(2 * np.pi * sigmax(), m, label=\"sx\" + str(m))\n",
        "        # sz\n",
        "        for m in range(self.num_qubits):\n",
        "            self.add_control(2 * np.pi * sigmaz(), m, label=\"sz\" + str(m))\n",
        "        # interaction operator\n",
        "        operator = tensor([sigmax(), sigmax()]) + tensor([sigmay(), sigmay()])\n",
        "        for m in range(self.num_qubits - 1):\n",
        "            self.add_control(2 * np.pi * operator, [m, m+1], label=\"g\" + str(m))"
      ],
      "metadata": {
        "id": "Xku_KIJwtluU"
      },
      "execution_count": 7,
      "outputs": []
    },
    {
      "cell_type": "markdown",
      "source": [
        "## Load and compile the circuit\n",
        "We first define a quantum circuit. Here we use a two-qubit circuit with two X gates. Acting on a |00⟩\n",
        " state, this results in a |11⟩\n",
        " state."
      ],
      "metadata": {
        "id": "Lqy0xiyBtxSc"
      }
    },
    {
      "cell_type": "code",
      "source": [
        "circuit = QubitCircuit(num_qubits)\n",
        "circuit.add_gate(\"X\", targets=1)\n",
        "circuit.add_gate(\"X\", targets=0)\n",
        "circuit"
      ],
      "metadata": {
        "colab": {
          "base_uri": "https://localhost:8080/"
        },
        "id": "XI3s-OyMtuoS",
        "outputId": "ad242b5f-0d25-4f76-f280-f9c23113659b"
      },
      "execution_count": 8,
      "outputs": [
        {
          "output_type": "execute_result",
          "data": {
            "text/plain": [
              "<qutip_qip.circuit.QubitCircuit at 0x7fd36caf2d00>"
            ]
          },
          "metadata": {},
          "execution_count": 8
        }
      ]
    },
    {
      "cell_type": "markdown",
      "source": [
        "To convert a quantum circuit into the Hamiltonian model, we need a compiler. The custom definition of a compiler will be discussed in details in the next section. Because we used the Hamiltonian model of the spin chain, we here simply \"borrow\" the compiler of the spin chain model"
      ],
      "metadata": {
        "id": "PFxM65x_t1zF"
      }
    },
    {
      "cell_type": "code",
      "source": [
        "processor = ModelProcessor(model=MyModel(num_qubits, h_x=1.0, h_z=1.0, g=0.1))\n",
        "processor.native_gates = [\"ISWAP\", \"RX\", \"RZ\"]\n",
        "\n",
        "# processor.num_qubits, processor.params access directly the information in the model.\n",
        "compiler = SpinChainCompiler(processor.num_qubits, processor.params)\n",
        "\n",
        "processor.load_circuit(circuit, compiler=compiler)\n",
        "result = processor.run_state(init_state = basis([2,2], [0,0]))\n",
        "print(result.states[-1])"
      ],
      "metadata": {
        "colab": {
          "base_uri": "https://localhost:8080/"
        },
        "id": "pf3e4HVEtz2X",
        "outputId": "91b2a5bb-9480-497f-efd0-c4699df6d912"
      },
      "execution_count": 10,
      "outputs": [
        {
          "output_type": "stream",
          "name": "stdout",
          "text": [
            "Quantum object: dims = [[2, 2], [1, 1]], shape = (4, 1), type = ket\n",
            "Qobj data =\n",
            "[[ 3.44966415e-07+0.00000000e+00j]\n",
            " [ 0.00000000e+00+1.62361791e-08j]\n",
            " [ 0.00000000e+00+1.62361791e-08j]\n",
            " [-1.00000000e+00+0.00000000e+00j]]\n"
          ]
        }
      ]
    },
    {
      "cell_type": "markdown",
      "source": [
        "The compiled pulse coefficients are now saved in the processor and can be accessed by:"
      ],
      "metadata": {
        "id": "aowxk8MNt6hh"
      }
    },
    {
      "cell_type": "code",
      "source": [
        "sx1_pulse = processor.find_pulse(\"sx1\")\n",
        "print(sx1_pulse.coeff)\n",
        "print(sx1_pulse.tlist)"
      ],
      "metadata": {
        "colab": {
          "base_uri": "https://localhost:8080/"
        },
        "id": "kxAUUyvKt4vO",
        "outputId": "02d73161-b70a-4937-da4e-453fdf22b7ac"
      },
      "execution_count": 11,
      "outputs": [
        {
          "output_type": "stream",
          "name": "stdout",
          "text": [
            "[1.]\n",
            "[0.   0.25]\n"
          ]
        }
      ]
    },
    {
      "cell_type": "markdown",
      "source": [
        "For discrete pulse, the time sequence is one element shorter than the pulse coefficient because we need to specify the start and the end of the pulse. If two sequences are of the same length, the last element of coeff will be neglected. Later, we will see continuous pulse where coeff and tlist have the same length.\n",
        "\n",
        "To give an intuitive illustration of the control pulses, we give each pulse a latex label by defining a method get_operators_labels and then plot the compiled pulses."
      ],
      "metadata": {
        "id": "Nu4awIHEuKqv"
      }
    },
    {
      "cell_type": "code",
      "source": [
        "processor.plot_pulses()\n",
        "plt.show()"
      ],
      "metadata": {
        "colab": {
          "base_uri": "https://localhost:8080/",
          "height": 337
        },
        "id": "AjS8aPXcuF_L",
        "outputId": "592f664a-a914-4cc5-c768-5cf0db318118"
      },
      "execution_count": 12,
      "outputs": [
        {
          "output_type": "display_data",
          "data": {
            "text/plain": [
              "<Figure size 864x432 with 5 Axes>"
            ],
            "image/png": "[encoded data removed]"
          },
          "metadata": {}
        }
      ]
    },
    {
      "cell_type": "markdown",
      "source": [
        "## Customizing the compiler\n",
        "How the quantum gates are implemented on hardware varies on different quantum systems. Even on the same physical platform, different implementation will yield different performance. The simplest way of implementation is to define a rectangular pulse like the one above. However, in reality, the control signal will have a continuous shape. In the following, we show how to customize the compiler with a gaussian pulse.\n",
        "\n",
        "A typical gate compiler function looks like the one in the following cell, with the form XX_compiler(self, gate, args). It takes two arguments, gate and args: gate is the quantum gate to be compiled and args is a dictionary for additional parameters, for instance, parameters we defined in Processor.params.\n",
        "\n",
        "For each gate, the function returns the input gate, the time sequence and the pulse coefficients in an Instruction object.\n",
        "\n",
        "Below is an example of a rectangular pulse."
      ],
      "metadata": {
        "id": "YB2T6Q1OuSvk"
      }
    },
    {
      "cell_type": "code",
      "source": [
        "def rz_compiler(gate, args):\n",
        "    \"\"\"\n",
        "    Compiles the RZ gate to an instruction for a pulse.\n",
        "\n",
        "    Args:\n",
        "        gate (qutip_qip.circuit.Gate): A qutip Gate object.\n",
        "        args:(dict): A dictionary for compilation arguments e.g. hardware parameters.\n",
        "\n",
        "    Returns:\n",
        "        Instruction (qutip_qip.compiler.instruction.Instruction): An instruction to implement\n",
        "                                                                  a gate containing the control\n",
        "                                                                  pulses.\n",
        "    \"\"\"\n",
        "    tlist = np.array([1.])\n",
        "    coeff = np.array([0., 0.25])\n",
        "    # instruction is an object that includes the pulse coefficient and time sequence\n",
        "    pulse_info = [(\"sz0\", coeff)]\n",
        "    return [Instruction(gate, tlist, pulse_info)]"
      ],
      "metadata": {
        "id": "1HWkFN-duPge"
      },
      "execution_count": 13,
      "outputs": []
    },
    {
      "cell_type": "markdown",
      "source": [
        "Now we replace it with a continuous pulse. In particular, we define a single_qubit_compiler method. For RX and RY gate, it reads the maximal driving strength from the parameters and computes the corresponding time sequence and pulse amplitude.\n",
        "\n",
        "For simplicity, we make use of the generate_pulse_shape method, which is defined in the parent class GateCompiler and is available in all subclasses."
      ],
      "metadata": {
        "id": "Unq381YBuZv3"
      }
    },
    {
      "cell_type": "code",
      "source": [
        "class MyCompiler(GateCompiler):  # compiler class\n",
        "    def __init__(self, num_qubits, params):\n",
        "        super(MyCompiler, self).__init__(num_qubits, params=params)\n",
        "        # pass our compiler function as a compiler for X gate.\n",
        "        self.gate_compiler[\"X\"] = self.single_qubit_compiler\n",
        "        self.gate_compiler[\"Y\"] = self.single_qubit_compiler\n",
        "        self.args.update({\"params\": params})\n",
        "\n",
        "    def single_qubit_compiler(self, gate, args):\n",
        "        \"\"\"\n",
        "        Compiler for the X and Y gate.\n",
        "        \"\"\"\n",
        "        targets = gate.targets\n",
        "        if gate.name == \"Z\":\n",
        "            pulse_prefix = \"sz\"\n",
        "            pulse_strength = args[\"params\"][\"sz\"][targets[0]]\n",
        "        elif gate.name == \"X\":\n",
        "            pulse_prefix = \"sx\"\n",
        "            pulse_strength = args[\"params\"][\"sx\"][targets[0]]\n",
        "        coeff, tlist= self.generate_pulse_shape(\n",
        "                \"hann\",  # Scipy Hann window\n",
        "                100,  # 100 sampling point\n",
        "                maximum=pulse_strength,\n",
        "                area= (np.pi/2) / (2*np.pi),  # 1/2 becuase we use sigmax as the operator instead of sigmax/2\n",
        "            )\n",
        "        sign = np.sign(pulse_strength)\n",
        "        pulse_info = [(pulse_prefix + str(targets[0]), coeff)]\n",
        "        return [Instruction(gate, tlist, pulse_info)]"
      ],
      "metadata": {
        "id": "FZA-2iWTuWXJ"
      },
      "execution_count": 14,
      "outputs": []
    },
    {
      "cell_type": "markdown",
      "source": [
        "The attribute pulse_mode can be set to \"discrete\" or \"continuous\". For continuous pulse, QuTiP solvers will use cubic spline interpolation. To minimize the boundary effect, it is recommended that the continuous pulse goes smoothly to 0 at the beginning and the end. We can see the advantage of the scheduling when we introduce a T1 decoherence and compare the fidelity of the final state."
      ],
      "metadata": {
        "id": "2x1Q3Vkuuhff"
      }
    },
    {
      "cell_type": "code",
      "source": [
        "gauss_compiler = MyCompiler(processor.num_qubits, processor.params)\n",
        "processor = ModelProcessor(model=MyModel(num_qubits, h_x=1.0, h_z=1.0, g=0.1, t1=300))\n",
        "processor.pulse_mode = \"continuous\"\n",
        "tlist, coeff = processor.load_circuit(circuit, compiler=gauss_compiler, schedule_mode = False);\n",
        "print\n",
        "result = processor.run_state(init_state = basis([2,2], [0,0]))\n",
        "print(\"fidelity without scheduling:\", fidelity(result.states[-1], basis([2,2],[1,1])))"
      ],
      "metadata": {
        "colab": {
          "base_uri": "https://localhost:8080/"
        },
        "id": "-9iYRohVud1c",
        "outputId": "ede685e2-d97d-467b-f917-48d07b81aaa2"
      },
      "execution_count": 15,
      "outputs": [
        {
          "output_type": "stream",
          "name": "stdout",
          "text": [
            "fidelity without scheduling: 0.9984504390654066\n"
          ]
        }
      ]
    },
    {
      "cell_type": "code",
      "source": [
        "processor.plot_pulses(use_control_latex=False)\n",
        "plt.show()"
      ],
      "metadata": {
        "colab": {
          "base_uri": "https://localhost:8080/",
          "height": 337
        },
        "id": "qzoKU1jcunKv",
        "outputId": "d01ba507-942f-4c34-e8af-8aff54d3f4d9"
      },
      "execution_count": 16,
      "outputs": [
        {
          "output_type": "display_data",
          "data": {
            "text/plain": [
              "<Figure size 864x432 with 2 Axes>"
            ],
            "image/png": "[encoded data removed]"
          },
          "metadata": {}
        }
      ]
    },
    {
      "cell_type": "markdown",
      "source": [
        "We can also turn on the scheduler to schedule the circuit for a shorter execution time."
      ],
      "metadata": {
        "id": "QecwVyVDursc"
      }
    },
    {
      "cell_type": "code",
      "source": [
        "processor = ModelProcessor(model=MyModel(num_qubits, h_x=1.0, h_z=1.0, g=0.1, t1=300))\n",
        "tlist, coeffs = processor.load_circuit(circuit, schedule_mode = \"ASAP\", compiler=gauss_compiler);\n",
        "processor.pulse_mode = \"continuous\"\n",
        "result = processor.run_state(init_state = basis([2,2], [0,0]))\n",
        "print(\"fidelity with scheduling:\", fidelity(result.states[-1], basis([2,2],[1,1])))"
      ],
      "metadata": {
        "colab": {
          "base_uri": "https://localhost:8080/"
        },
        "id": "rXCAVmsNupjc",
        "outputId": "8d461578-4c88-4e2d-ef7f-9276b1d7a47b"
      },
      "execution_count": 17,
      "outputs": [
        {
          "output_type": "stream",
          "name": "stdout",
          "text": [
            "fidelity with scheduling: 0.9992832518623955\n"
          ]
        }
      ]
    },
    {
      "cell_type": "code",
      "source": [
        "processor.plot_pulses(use_control_latex=False)\n",
        "plt.show()"
      ],
      "metadata": {
        "colab": {
          "base_uri": "https://localhost:8080/",
          "height": 337
        },
        "id": "-ioT5SusuwUa",
        "outputId": "d89beea2-01d4-4fc4-ad46-b098fd4a5c74"
      },
      "execution_count": 18,
      "outputs": [
        {
          "output_type": "display_data",
          "data": {
            "text/plain": [
              "<Figure size 864x432 with 2 Axes>"
            ],
            "image/png": "[encoded data removed]"
          },
          "metadata": {}
        }
      ]
    },
    {
      "cell_type": "markdown",
      "source": [
        "## Define your own gate\n",
        "The number of predefined gates in qutip is limited, hence you are encouraged to define your own gate. Here we show how to define a parametrized gate. First, you will need to define a gate function:"
      ],
      "metadata": {
        "id": "KRfG3WXwu8Du"
      }
    },
    {
      "cell_type": "code",
      "source": [
        "def mygate(theta = None):\n",
        "    # We just call the Molmer Sorensen gate as an example.\n",
        "    # If you do not want to run the circuit at the gate matrix level (circuit.run), no need for this function,\n",
        "    # otherwise you will need to define this python function that returns the Qobj of the gate.)\n",
        "    from qutip_qip.operations import molmer_sorensen\n",
        "    return molmer_sorensen(theta, 2, targets=[0, 1])\n",
        "circuit = QubitCircuit(2)\n",
        "circuit.user_gates = {\"MYGATE\": mygate}  # no need for this if you don't use circuit.run\n",
        "circuit.add_gate(\"X\", targets=1)\n",
        "circuit.add_gate(\"MYGATE\", targets=[0,1], arg_value=3*np.pi/2)\n",
        "circuit.add_gate(\"X\", targets=0)\n",
        "circuit\n",
        "# You may see a warning because MYGATE is not found in defined LaTeX gate names, just ignore it.\n"
      ],
      "metadata": {
        "colab": {
          "base_uri": "https://localhost:8080/"
        },
        "id": "ZM8H_zT3u0Qh",
        "outputId": "0092ef6c-fda9-43a5-9703-4ad563dccd01"
      },
      "execution_count": 19,
      "outputs": [
        {
          "output_type": "execute_result",
          "data": {
            "text/plain": [
              "<qutip_qip.circuit.QubitCircuit at 0x7fd366d7d880>"
            ]
          },
          "metadata": {},
          "execution_count": 19
        }
      ]
    },
    {
      "cell_type": "code",
      "source": [
        "circuit.run(basis([2,2],[0,0]))"
      ],
      "metadata": {
        "colab": {
          "base_uri": "https://localhost:8080/",
          "height": 54
        },
        "id": "TBgZM2WnvCST",
        "outputId": "8c797992-2bc4-418c-d0a9-f6b3f50fd975"
      },
      "execution_count": 20,
      "outputs": [
        {
          "output_type": "execute_result",
          "data": {
            "text/plain": [
              "Quantum object: dims = [[2, 2], [1, 1]], shape = (4, 1), type = ket\n",
              "Qobj data =\n",
              "[[ 0.        -0.70710678j]\n",
              " [ 0.        +0.j        ]\n",
              " [ 0.        +0.j        ]\n",
              " [-0.70710678+0.j        ]]"
            ],
            "text/latex": "Quantum object: dims = [[2, 2], [1, 1]], shape = (4, 1), type = ket $ \\\\ \\left(\\begin{matrix}-0.707j\\\\0.0\\\\0.0\\\\-0.707\\\\\\end{matrix}\\right)$"
          },
          "metadata": {},
          "execution_count": 20
        }
      ]
    },
    {
      "cell_type": "markdown",
      "source": [
        "The next step is to define a compiler function for it. Since compiling a real MS gate is rather complicated, we here just use a dummy triangular pulse. The goal is to show how to get access to the parameter theta during the compiling."
      ],
      "metadata": {
        "id": "43wvdZr6vG5F"
      }
    },
    {
      "cell_type": "code",
      "source": [
        "def mygate_compiler(gate, args):\n",
        "    targets = gate.targets  # target qubit\n",
        "    parameters = args[\"params\"]\n",
        "    \n",
        "    theta = gate.arg_value\n",
        "    coeff1 = np.concatenate([np.linspace(0,10,50), np.linspace(10,0,50), [0]]) / 50\n",
        "    coeff2 = np.concatenate([np.linspace(0,10,50), np.linspace(10,0,50), [0]]) / 50\n",
        "    pulse_info = [(\"sx\" + str(targets[0]), theta * coeff1),\n",
        "                  (\"sx\" + str(targets[1]), theta * coeff2)\n",
        "                 ]  #  save the information in a tuple (pulse_name, coeff)\n",
        "    tlist = np.linspace(0, 1, len(coeff1))\n",
        "    return [Instruction(gate, tlist, pulse_info)]"
      ],
      "metadata": {
        "id": "ffp7BzeZvEry"
      },
      "execution_count": 21,
      "outputs": []
    },
    {
      "cell_type": "code",
      "source": [
        "gauss_compiler = MyCompiler(processor.num_qubits, processor.params)\n",
        "processor = ModelProcessor(model=MyModel(num_qubits, h_x=1.0, h_z=1.0, g=0.1, t1=300))\n",
        "gauss_compiler.gate_compiler[\"MYGATE\"] = mygate_compiler\n",
        "processor.pulse_mode = \"continuous\"\n",
        "tlist, coeff = processor.load_circuit(circuit, compiler=gauss_compiler)\n",
        "processor.plot_pulses()\n",
        "plt.show()"
      ],
      "metadata": {
        "colab": {
          "base_uri": "https://localhost:8080/",
          "height": 337
        },
        "id": "Y1FnXOazvJm4",
        "outputId": "a5d3c786-13e7-40c6-aa7f-bfc88050b363"
      },
      "execution_count": 22,
      "outputs": [
        {
          "output_type": "display_data",
          "data": {
            "text/plain": [
              "<Figure size 864x432 with 5 Axes>"
            ],
            "image/png": "[encoded data removed]"
          },
          "metadata": {}
        }
      ]
    },
    {
      "cell_type": "markdown",
      "source": [
        "Customizing the noise\n",
        "Apart from pre-defined noise such as T1, T2 noise and random noise in the control pulse amplitude ( one can also define custom noise. Here we will see two examples of customizing noise, one systematic (pulse-independent) noise and one pulse-dependent noise.\n",
        "\n",
        "-----\n",
        "\n",
        "To understand how noise is processed, we briefly introduced the data structure of the simulation framework. The control elements are stored as a list of Pulse objects in the Processor. In each Pulse contains the idea pulse, the control noise part and the decoherence part. For systematic noise, it is saved under the Pulse representation labelled \"system\", which represents the intrinsic dynamics of the quantum system. For pulse-dependent noise, we will add them to their corresponding control Pulse.\n",
        "\n",
        "----\n",
        "\n",
        "\n",
        "The definition of noise is realized by a subclass of UserNoise, including two methods:\n",
        "\n",
        "1. the initialization method containing the property of the noise, such as frequency or amplitude.\n",
        "2. the method get_noisy_dynamics that takes all the control pulse pulses, a dummy Pulse object representing systematic noise and the dimension of the system (here two qubits [2,2])."
      ],
      "metadata": {
        "id": "wpL-Q70hvPV9"
      }
    },
    {
      "cell_type": "code",
      "source": [
        "class Extral_decay(Noise):\n",
        "    def __init__(self, arg):\n",
        "        self.arg = arg\n",
        "        pass\n",
        "\n",
        "    def get_noisy_dynamics(self, dims, pulses, systematic_noise):\n",
        "        pass"
      ],
      "metadata": {
        "id": "LSmgOWYevL0z"
      },
      "execution_count": 23,
      "outputs": []
    },
    {
      "cell_type": "markdown",
      "source": [
        "## Systematic noise\n",
        "We first show an example of systematic noise. Here, we introduce a ZZ crosstalk noise between neighbouring qubits with a constant strength. It is done in three steps:\n",
        "\n",
        "1. Define the noise class.\n",
        "2. Initialize the noise object with given coupling strength.\n",
        "3. Define the Processor as usual and add the noise to the processor.\n",
        "\n",
        "\n",
        "In the following example, we check the fidelity of the same circuit of two X gates, but now with this additional noise."
      ],
      "metadata": {
        "id": "ot3e98atvc5p"
      }
    },
    {
      "cell_type": "code",
      "source": [
        "circuit = QubitCircuit(2)\n",
        "circuit.add_gate(\"X\", targets=1)\n",
        "circuit.add_gate(\"X\", targets=0)"
      ],
      "metadata": {
        "id": "HsVFRLGuvbAb"
      },
      "execution_count": 24,
      "outputs": []
    },
    {
      "cell_type": "code",
      "source": [
        "from qutip import sigmaz\n",
        "from qutip_qip.operations import expand_operator\n",
        "from qutip_qip.pulse import Pulse\n",
        "from qutip_qip.noise import Noise\n",
        "\n",
        "class ZZ_crosstalk(Noise):\n",
        "    def __init__(self, strength):\n",
        "        self.strength = strength\n",
        "\n",
        "    def get_noisy_dynamics(self, dims, pulses, systematic_noise):\n",
        "        zz_operator = tensor([sigmaz(), sigmaz()])\n",
        "        for i in range(len(dims)-1):\n",
        "            systematic_noise.add_control_noise(\n",
        "                self.strength * zz_operator, targets=[i,i+1], tlist=None, coeff=True)  # constant, always 1\n",
        "\n",
        "crosstalk_noise = ZZ_crosstalk(strength=1.0)"
      ],
      "metadata": {
        "id": "y9r3ny0gvmHo"
      },
      "execution_count": 25,
      "outputs": []
    },
    {
      "cell_type": "code",
      "source": [
        "processor = ModelProcessor(model=MyModel(num_qubits, h_x=1.0, h_z=1.0, g=0.1))\n",
        "processor.add_noise(crosstalk_noise)  # The noise is added to the processor\n",
        "gauss_compiler = MyCompiler(processor.num_qubits, processor.params)\n",
        "tlist, coeff = processor.load_circuit(circuit, compiler=gauss_compiler);\n",
        "\n",
        "result = processor.run_state(init_state = basis([2,2], [0,0]))\n",
        "print(\"Final fidelity with ZZ crosstalk:\", fidelity(result.states[-1],basis([2,2],[1,1])))\n"
      ],
      "metadata": {
        "colab": {
          "base_uri": "https://localhost:8080/"
        },
        "id": "s8WS9oF4voQg",
        "outputId": "1bede4fd-6068-4e0f-ad24-04055ec33ade"
      },
      "execution_count": 26,
      "outputs": [
        {
          "output_type": "stream",
          "name": "stdout",
          "text": [
            "Final fidelity with ZZ crosstalk: 0.990291580312767\n"
          ]
        }
      ]
    },
    {
      "cell_type": "markdown",
      "source": [
        "## Pulse dependent noise\n",
        "In this second example, we demonstrate how to add an additional amplitude damping channel on the qubits. The amplitude of this decay is linearly dependent on the control pulse \"sx\", i.e. whenever the pulse \"sx\" is turned on, the decoherence is also turned on. The corresponding annihilation operator has a coefficient proportional to the control pulse amplitude. This noise can be added on top of the default T1, T2 noise."
      ],
      "metadata": {
        "id": "4-6K1aFivuzI"
      }
    },
    {
      "cell_type": "code",
      "source": [
        "from qutip_qip.pulse import Pulse\n",
        "class Extral_decay(Noise):\n",
        "    def __init__(self, ratio):\n",
        "        self.ratio = ratio\n",
        "\n",
        "    def get_noisy_dynamics(self, dims, pulses, systematic_noise):\n",
        "        from qutip import destroy\n",
        "        op = destroy(2)\n",
        "        for pulse in pulses:   # iterate for all pulses\n",
        "            if \"sx\" in pulse.label and pulse.coeff is not None:   # if it is a sigma-x pulse and is not empty\n",
        "                pulse.add_lindblad_noise(op, targets=pulse.targets, tlist=pulse.tlist, coeff=self.ratio * pulse.coeff)\n",
        "                # One can also use add_control_noise here to add addtional hamiltonian as noise (see next example).\n",
        "\n",
        "extral_decay = Extral_decay(0.3)"
      ],
      "metadata": {
        "id": "_uVRvq18vsL4"
      },
      "execution_count": 27,
      "outputs": []
    },
    {
      "cell_type": "code",
      "source": [
        "processor = ModelProcessor(model=MyModel(num_qubits, h_x=1.0, h_z=1.0, g=0.1))\n",
        "processor.add_noise(extral_decay)\n",
        "gauss_compiler = MyCompiler(processor.num_qubits, processor.params)\n",
        "tlist, coeff = processor.load_circuit(circuit, compiler=gauss_compiler);\n",
        "\n",
        "result = processor.run_state(init_state = basis([2,2], [0,0]))\n",
        "print(\"Final fidelity with pulse dependent decoherence:\", fidelity(result.states[-1],basis([2,2],[1,1])))\n"
      ],
      "metadata": {
        "colab": {
          "base_uri": "https://localhost:8080/"
        },
        "id": "-KZYj0dOvy3Q",
        "outputId": "95a5538c-9336-47c8-a08f-d4f23a2b840a"
      },
      "execution_count": 28,
      "outputs": [
        {
          "output_type": "stream",
          "name": "stdout",
          "text": [
            "Final fidelity with pulse dependent decoherence: 0.9941535563724607\n"
          ]
        }
      ]
    },
    {
      "cell_type": "markdown",
      "source": [
        "## Software Versions"
      ],
      "metadata": {
        "id": "u81ahWc6v3Yq"
      }
    },
    {
      "cell_type": "code",
      "source": [
        "import qutip_qip\n",
        "print(qutip_qip.version.version)\n",
        "from qutip.ipynbtools import version_table\n",
        "version_table()"
      ],
      "metadata": {
        "colab": {
          "base_uri": "https://localhost:8080/",
          "height": 287
        },
        "id": "XPbuHRubv1MX",
        "outputId": "f6f51049-078d-434d-9fbb-995348bfa1cb"
      },
      "execution_count": 29,
      "outputs": [
        {
          "output_type": "stream",
          "name": "stdout",
          "text": [
            "0.2.3\n"
          ]
        },
        {
          "output_type": "execute_result",
          "data": {
            "text/plain": [
              "<IPython.core.display.HTML object>"
            ],
            "text/html": [
              "<table><tr><th>Software</th><th>Version</th></tr><tr><td>QuTiP</td><td>4.7.1</td></tr><tr><td>Numpy</td><td>1.21.6</td></tr><tr><td>SciPy</td><td>1.7.3</td></tr><tr><td>matplotlib</td><td>3.2.2</td></tr><tr><td>Cython</td><td>0.29.33</td></tr><tr><td>Number of CPUs</td><td>2</td></tr><tr><td>BLAS Info</td><td>OPENBLAS</td></tr><tr><td>IPython</td><td>7.9.0</td></tr><tr><td>Python</td><td>3.8.10 (default, Nov 14 2022, 12:59:47) \n",
              "[GCC 9.4.0]</td></tr><tr><td>OS</td><td>posix [linux]</td></tr><tr><td colspan='2'>Sat Feb 11 18:32:09 2023 UTC</td></tr></table>"
            ]
          },
          "metadata": {},
          "execution_count": 29
        }
      ]
    }
  ]
}