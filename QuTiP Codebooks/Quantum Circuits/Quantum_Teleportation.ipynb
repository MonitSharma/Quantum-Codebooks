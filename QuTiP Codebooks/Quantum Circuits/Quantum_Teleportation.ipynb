{
  "nbformat": 4,
  "nbformat_minor": 0,
  "metadata": {
    "colab": {
      "provenance": []
    },
    "kernelspec": {
      "name": "python3",
      "display_name": "Python 3"
    },
    "language_info": {
      "name": "python"
    }
  },
  "cells": [
    {
      "cell_type": "code",
      "execution_count": 1,
      "metadata": {
        "colab": {
          "base_uri": "https://localhost:8080/"
        },
        "id": "7OPHq3hR0rZB",
        "outputId": "27716907-6e4c-4a8b-dcd0-39e8cb894046"
      },
      "outputs": [
        {
          "output_type": "stream",
          "name": "stdout",
          "text": [
            "Looking in indexes: https://pypi.org/simple, https://us-python.pkg.dev/colab-wheels/public/simple/\n",
            "Collecting qutip\n",
            "  Downloading qutip-4.7.1-cp38-cp38-manylinux_2_17_x86_64.manylinux2014_x86_64.whl (16.7 MB)\n",
            "\u001b[2K     \u001b[90m━━━━━━━━━━━━━━━━━━━━━━━━━━━━━━━━━━━━━━━━\u001b[0m \u001b[32m16.7/16.7 MB\u001b[0m \u001b[31m42.5 MB/s\u001b[0m eta \u001b[36m0:00:00\u001b[0m\n",
            "\u001b[?25hRequirement already satisfied: numpy>=1.16.6 in /usr/local/lib/python3.8/dist-packages (from qutip) (1.21.6)\n",
            "Requirement already satisfied: scipy>=1.0 in /usr/local/lib/python3.8/dist-packages (from qutip) (1.7.3)\n",
            "Requirement already satisfied: packaging in /usr/local/lib/python3.8/dist-packages (from qutip) (23.0)\n",
            "Installing collected packages: qutip\n",
            "Successfully installed qutip-4.7.1\n",
            "Looking in indexes: https://pypi.org/simple, https://us-python.pkg.dev/colab-wheels/public/simple/\n",
            "Collecting qutip_qip\n",
            "  Downloading qutip_qip-0.2.3-py3-none-any.whl (105 kB)\n",
            "\u001b[2K     \u001b[90m━━━━━━━━━━━━━━━━━━━━━━━━━━━━━━━━━━━━━━━\u001b[0m \u001b[32m105.6/105.6 KB\u001b[0m \u001b[31m8.7 MB/s\u001b[0m eta \u001b[36m0:00:00\u001b[0m\n",
            "\u001b[?25hRequirement already satisfied: packaging in /usr/local/lib/python3.8/dist-packages (from qutip_qip) (23.0)\n",
            "Requirement already satisfied: qutip>=4.6 in /usr/local/lib/python3.8/dist-packages (from qutip_qip) (4.7.1)\n",
            "Requirement already satisfied: numpy>=1.16.6 in /usr/local/lib/python3.8/dist-packages (from qutip_qip) (1.21.6)\n",
            "Requirement already satisfied: scipy>=1.0 in /usr/local/lib/python3.8/dist-packages (from qutip_qip) (1.7.3)\n",
            "Installing collected packages: qutip_qip\n",
            "Successfully installed qutip_qip-0.2.3\n"
          ]
        }
      ],
      "source": [
        "%pip install qutip\n",
        "%pip install qutip_qip"
      ]
    },
    {
      "cell_type": "markdown",
      "source": [
        "# Quantum Teleportation"
      ],
      "metadata": {
        "id": "T_gDEttK1AhM"
      }
    },
    {
      "cell_type": "markdown",
      "source": [
        "\n",
        "\n",
        "Quantum teleportation is a process in quantum communication where the state of an unknown quantum particle is transferred from one location to another, without actually transmitting the particle itself. The process makes use of the principles of quantum entanglement and quantum measurement to achieve this feat.\n",
        "\n",
        "Mathematically, quantum teleportation can be described as follows:\n",
        "\n",
        "Consider two qubits, A and B, in a maximally entangled state described by the following wave function:\n",
        "\n",
        "$$\\begin{equation}\n",
        "\\frac{1}{\\sqrt{2}} \\left(\\left|00\\right\\rangle + \\left|11\\right\\rangle\\right)\n",
        "\\end{equation}$$\n",
        "\n",
        "Let the unknown state of qubit A be described by the wave function $$\\left|\\psi\\right\\rangle = \\alpha\\left|0\\right\\rangle + \\beta\\left|1\\right\\rangle$$.\n",
        "\n",
        "The first step in quantum teleportation is to perform a Bell basis measurement on qubits A and B. The Bell basis measurement projects the two qubits onto the following four states:\n",
        "$$\n",
        "\\begin{equation}\n",
        "\\left|\\Phi^\\pm\\right\\rangle = \\frac{1}{\\sqrt{2}} \\left(\\left|00\\right\\rangle \\pm \\left|11\\right\\rangle\\right) \\\n",
        "\\left|\\Psi^\\pm\\right\\rangle = \\frac{1}{\\sqrt{2}} \\left(\\left|01\\right\\rangle \\pm \\left|10\\right\\rangle\\right)\n",
        "\\end{equation}$$\n",
        "\n",
        "The result of the measurement is then transmitted to the recipient through classical communication.\n",
        "\n",
        "Based on the measurement result, the recipient can then perform a series of single-qubit rotations on qubit B to obtain the desired state $\\left|\\psi\\right\\rangle$.\n",
        "\n",
        "The mathematical insight behind quantum teleportation lies in the fact that it demonstrates the nonlocal behavior of quantum systems and the presence of entanglement. The ability to transfer the state of an unknown quantum particle from one location to another without actually transmitting the particle itself is a remarkable result that has implications in various areas of quantum communication and quantum computing.\n"
      ],
      "metadata": {
        "id": "AUdWG6t91Wej"
      }
    },
    {
      "cell_type": "code",
      "source": [
        "from qutip_qip.circuit import QubitCircuit, Measurement, Gate\n",
        "from qutip import basis, tensor, identity\n",
        "from math import sqrt"
      ],
      "metadata": {
        "id": "cHnZp-JI0_sI"
      },
      "execution_count": 2,
      "outputs": []
    },
    {
      "cell_type": "markdown",
      "source": [
        "## Introduction\n",
        "\n",
        "This notebook introduces to the basics of quantum teleportation"
      ],
      "metadata": {
        "id": "cAvXvdWj1Iru"
      }
    },
    {
      "cell_type": "code",
      "source": [
        "teleportation = QubitCircuit(3, num_cbits = 2, input_states = [\"\\psi\", \"0\", \"0\", \"c0\", \"c1\"])\n"
      ],
      "metadata": {
        "id": "cCq2mvHq1H_F"
      },
      "execution_count": 3,
      "outputs": []
    },
    {
      "cell_type": "markdown",
      "source": [
        "First, Alice and Bob need to create the shared EPR pair $\\frac{| 00 ⟩ + | 11 ⟩} {2}\n",
        "$ between the second and third qubit by using the hadamard gate on Alice's qubit followed by an entangling CNOT gate."
      ],
      "metadata": {
        "id": "ZsiD3fGH1oD1"
      }
    },
    {
      "cell_type": "code",
      "source": [
        "teleportation.add_gate(\"SNOT\", targets=[1])\n",
        "teleportation.add_gate(\"CNOT\", targets=[2], controls=[1])"
      ],
      "metadata": {
        "id": "hJpAq-Su1SgN"
      },
      "execution_count": 4,
      "outputs": []
    },
    {
      "cell_type": "markdown",
      "source": [
        "Following this, Alice makes the qubit $|q0⟩$\n",
        " interact with Alice's EPR qubit, followed by measuring on the two qubits belonging to Alice. The measurement results for the first qubit is stored in classical register $c_1$\n",
        " and the second qubit is stored in classical register $c_0$\n",
        "."
      ],
      "metadata": {
        "id": "onM4t2Zs1xTQ"
      }
    },
    {
      "cell_type": "code",
      "source": [
        "teleportation.add_gate(\"CNOT\", targets=[1], controls=[0])\n",
        "teleportation.add_gate(\"SNOT\", targets=[0])\n",
        "\n",
        "teleportation.add_measurement(\"M0\", targets=[0], classical_store=1)\n",
        "teleportation.add_measurement(\"M1\", targets=[1], classical_store=0)"
      ],
      "metadata": {
        "id": "9_hALtn41voC"
      },
      "execution_count": 5,
      "outputs": []
    },
    {
      "cell_type": "markdown",
      "source": [
        "Now, we apply the X\n",
        " gate on Bob's qubit based on the classical control $c_0$\n",
        " and $Z$\n",
        " gate based on classical control $c_1$\n",
        ". These operations correspond to the following operations based on the state of Alice's measurement.\n",
        "\n",
        "$$|00⟩→\n",
        " \\text{no operation}$$\n",
        "$$|01⟩→Z$$\n",
        "\n",
        "$$|10⟩→X$$\n",
        "\n",
        "$$|11⟩→ZX$$\n",
        "The final circuit mathematically must result in the third qubit taking the state $|ψ⟩$\n",
        "."
      ],
      "metadata": {
        "id": "iAdhJXM-19Iz"
      }
    },
    {
      "cell_type": "code",
      "source": [
        "teleportation.add_gate(\"X\", targets=[2], classical_controls=[0])\n",
        "teleportation.add_gate(\"Z\", targets=[2], classical_controls=[1])"
      ],
      "metadata": {
        "id": "nk_FLOSC15UL"
      },
      "execution_count": 6,
      "outputs": []
    },
    {
      "cell_type": "markdown",
      "source": [
        "Finally, our teleportation circuit is ready to run, we can view the circuit structure using the following command."
      ],
      "metadata": {
        "id": "Lh0TpIGp2PBO"
      }
    },
    {
      "cell_type": "code",
      "source": [
        "teleportation.gates"
      ],
      "metadata": {
        "colab": {
          "base_uri": "https://localhost:8080/"
        },
        "id": "2WWlw8wX2NVV",
        "outputId": "03338811-3589-4489-bc9f-4d4b75fce1f7"
      },
      "execution_count": 7,
      "outputs": [
        {
          "output_type": "execute_result",
          "data": {
            "text/plain": [
              "[Gate(SNOT, targets=[1], controls=None, classical controls=None, control_value=None),\n",
              " Gate(CNOT, targets=[2], controls=[1], classical controls=None, control_value=None),\n",
              " Gate(CNOT, targets=[1], controls=[0], classical controls=None, control_value=None),\n",
              " Gate(SNOT, targets=[0], controls=None, classical controls=None, control_value=None),\n",
              " Measurement(M0, target=[0], classical_store=1),\n",
              " Measurement(M1, target=[1], classical_store=0),\n",
              " Gate(X, targets=[2], controls=None, classical controls=[0], control_value=None),\n",
              " Gate(Z, targets=[2], controls=None, classical controls=[1], control_value=None)]"
            ]
          },
          "metadata": {},
          "execution_count": 7
        }
      ]
    },
    {
      "cell_type": "code",
      "source": [
        "teleportation"
      ],
      "metadata": {
        "colab": {
          "base_uri": "https://localhost:8080/"
        },
        "id": "uhdlmZBG2RxL",
        "outputId": "fd61e53a-0eb6-479a-a43e-63be2cbc5dcc"
      },
      "execution_count": 8,
      "outputs": [
        {
          "output_type": "execute_result",
          "data": {
            "text/plain": [
              "<qutip_qip.circuit.QubitCircuit at 0x7f902832aa60>"
            ]
          },
          "metadata": {},
          "execution_count": 8
        }
      ]
    },
    {
      "cell_type": "markdown",
      "source": [
        "### Example 1:\n",
        "\n",
        "$$|\\psi⟩ = |+⟩$$"
      ],
      "metadata": {
        "id": "yc4ROW2f2WLw"
      }
    },
    {
      "cell_type": "code",
      "source": [
        "a = 1/sqrt(2) * basis(2, 0) + 1/sqrt(2) * basis(2, 1)\n",
        "state = tensor(a, basis(2,0), basis(2,0))"
      ],
      "metadata": {
        "id": "9F_x3RiH2UQo"
      },
      "execution_count": 9,
      "outputs": []
    },
    {
      "cell_type": "markdown",
      "source": [
        "We can confirm our state is initialized correctly by observing the measurment statistics on the first qubit, followed by which we run the circuit."
      ],
      "metadata": {
        "id": "lW_C6Gvi2fNE"
      }
    },
    {
      "cell_type": "code",
      "source": [
        "initial_measurement = Measurement(\"start\", targets=[0])\n",
        "initial_measurement.measurement_comp_basis(state)"
      ],
      "metadata": {
        "colab": {
          "base_uri": "https://localhost:8080/"
        },
        "id": "d8hST90B2dee",
        "outputId": "c1258c4a-faea-40b5-c44b-6b4010d91136"
      },
      "execution_count": 10,
      "outputs": [
        {
          "output_type": "execute_result",
          "data": {
            "text/plain": [
              "([Quantum object: dims = [[2, 2, 2], [1, 1, 1]], shape = (8, 1), type = ket\n",
              "  Qobj data =\n",
              "  [[1.]\n",
              "   [0.]\n",
              "   [0.]\n",
              "   [0.]\n",
              "   [0.]\n",
              "   [0.]\n",
              "   [0.]\n",
              "   [0.]],\n",
              "  Quantum object: dims = [[2, 2, 2], [1, 1, 1]], shape = (8, 1), type = ket\n",
              "  Qobj data =\n",
              "  [[0.]\n",
              "   [0.]\n",
              "   [0.]\n",
              "   [0.]\n",
              "   [1.]\n",
              "   [0.]\n",
              "   [0.]\n",
              "   [0.]]],\n",
              " [0.4999999999999999, 0.4999999999999999])"
            ]
          },
          "metadata": {},
          "execution_count": 10
        }
      ]
    },
    {
      "cell_type": "markdown",
      "source": [
        "We can run the circuit using the `QubitCircuit.run()` function which provided the initial state-vector (or density matrix) initiates one run on the circuit (including sampling any intermediate measurements) and providing the final results (any classical bits can also be explicitly set using the argument `cbits`). The results are returned as a Result object. The result states can be accessed through the `get_states()` function where the argument index=0 specifies the first(only) result should be returned"
      ],
      "metadata": {
        "id": "8wR2o8vU2lLj"
      }
    },
    {
      "cell_type": "code",
      "source": [
        "state_final = teleportation.run(state)\n",
        "print(state_final)"
      ],
      "metadata": {
        "colab": {
          "base_uri": "https://localhost:8080/"
        },
        "id": "8YwJJfYW2iRk",
        "outputId": "53365f11-7893-45ae-8a05-8449be02d80d"
      },
      "execution_count": 11,
      "outputs": [
        {
          "output_type": "stream",
          "name": "stdout",
          "text": [
            "Quantum object: dims = [[2, 2, 2], [1, 1, 1]], shape = (8, 1), type = ket\n",
            "Qobj data =\n",
            "[[0.        ]\n",
            " [0.        ]\n",
            " [0.        ]\n",
            " [0.        ]\n",
            " [0.70710678]\n",
            " [0.70710678]\n",
            " [0.        ]\n",
            " [0.        ]]\n"
          ]
        }
      ]
    },
    {
      "cell_type": "markdown",
      "source": [
        "After running, we can see the measurement statistics on the last qubit to see that the qubit is teleported correctly."
      ],
      "metadata": {
        "id": "m8rgMd812uGW"
      }
    },
    {
      "cell_type": "code",
      "source": [
        "final_measurement = Measurement(\"start\", targets=[2])\n",
        "final_measurement.measurement_comp_basis(state_final)"
      ],
      "metadata": {
        "colab": {
          "base_uri": "https://localhost:8080/"
        },
        "id": "NidIHFkj2sZp",
        "outputId": "d9cc8222-35ed-4a76-d5e1-d14af50f5abc"
      },
      "execution_count": 12,
      "outputs": [
        {
          "output_type": "execute_result",
          "data": {
            "text/plain": [
              "([Quantum object: dims = [[2, 2, 2], [1, 1, 1]], shape = (8, 1), type = ket\n",
              "  Qobj data =\n",
              "  [[0.]\n",
              "   [0.]\n",
              "   [0.]\n",
              "   [0.]\n",
              "   [1.]\n",
              "   [0.]\n",
              "   [0.]\n",
              "   [0.]],\n",
              "  Quantum object: dims = [[2, 2, 2], [1, 1, 1]], shape = (8, 1), type = ket\n",
              "  Qobj data =\n",
              "  [[0.]\n",
              "   [0.]\n",
              "   [0.]\n",
              "   [0.]\n",
              "   [0.]\n",
              "   [1.]\n",
              "   [0.]\n",
              "   [0.]]],\n",
              " [0.4999999999999999, 0.4999999999999999])"
            ]
          },
          "metadata": {},
          "execution_count": 12
        }
      ]
    },
    {
      "cell_type": "markdown",
      "source": [
        "## Example : 2\n",
        "$$|\\psi⟩ = |1⟩$$"
      ],
      "metadata": {
        "id": "rGgi_rTc2yGk"
      }
    },
    {
      "cell_type": "code",
      "source": [
        "state = tensor(basis(2,1), basis(2,0), basis(2,0))\n",
        "initial_measurement = Measurement(\"start\", targets=[0])\n",
        "initial_measurement.measurement_comp_basis(state)"
      ],
      "metadata": {
        "colab": {
          "base_uri": "https://localhost:8080/"
        },
        "id": "2jPOHjAo2wa8",
        "outputId": "e786e73b-3285-4222-b5b8-596fdc4b90bc"
      },
      "execution_count": 13,
      "outputs": [
        {
          "output_type": "execute_result",
          "data": {
            "text/plain": [
              "([None,\n",
              "  Quantum object: dims = [[2, 2, 2], [1, 1, 1]], shape = (8, 1), type = ket\n",
              "  Qobj data =\n",
              "  [[0.]\n",
              "   [0.]\n",
              "   [0.]\n",
              "   [0.]\n",
              "   [1.]\n",
              "   [0.]\n",
              "   [0.]\n",
              "   [0.]]],\n",
              " [0.0, 1.0])"
            ]
          },
          "metadata": {},
          "execution_count": 13
        }
      ]
    },
    {
      "cell_type": "code",
      "source": [
        "state_final = teleportation.run(state)\n",
        "print(state_final)"
      ],
      "metadata": {
        "colab": {
          "base_uri": "https://localhost:8080/"
        },
        "id": "RaCnsAGq25ZN",
        "outputId": "bdee545c-ccef-4822-c245-25ad1ad47044"
      },
      "execution_count": 14,
      "outputs": [
        {
          "output_type": "stream",
          "name": "stdout",
          "text": [
            "Quantum object: dims = [[2, 2, 2], [1, 1, 1]], shape = (8, 1), type = ket\n",
            "Qobj data =\n",
            "[[0.]\n",
            " [1.]\n",
            " [0.]\n",
            " [0.]\n",
            " [0.]\n",
            " [0.]\n",
            " [0.]\n",
            " [0.]]\n"
          ]
        }
      ]
    },
    {
      "cell_type": "code",
      "source": [
        "final_measurement = Measurement(\"start\", targets=[2])\n",
        "final_measurement.measurement_comp_basis(state_final)"
      ],
      "metadata": {
        "colab": {
          "base_uri": "https://localhost:8080/"
        },
        "id": "3ZrMrvQK28kx",
        "outputId": "a70d3433-4e0c-46e0-82ef-779d3571c756"
      },
      "execution_count": 15,
      "outputs": [
        {
          "output_type": "execute_result",
          "data": {
            "text/plain": [
              "([None,\n",
              "  Quantum object: dims = [[2, 2, 2], [1, 1, 1]], shape = (8, 1), type = ket\n",
              "  Qobj data =\n",
              "  [[0.]\n",
              "   [1.]\n",
              "   [0.]\n",
              "   [0.]\n",
              "   [0.]\n",
              "   [0.]\n",
              "   [0.]\n",
              "   [0.]]],\n",
              " [0.0, 1.0])"
            ]
          },
          "metadata": {},
          "execution_count": 15
        }
      ]
    },
    {
      "cell_type": "markdown",
      "source": [
        "Another useful feature of the circuit module is the `QubitCircuit.run_statistics()` feature which provides the opportunity to gather all the possible output states of the circuit along with their output probabilities. Again, the results are returned as a `Result` object. The result states and respective probabilites can be accessed through the `get_results()` function."
      ],
      "metadata": {
        "id": "w07SMVl83BR9"
      }
    },
    {
      "cell_type": "code",
      "source": [
        "results = teleportation.run_statistics(state)\n",
        "results.probabilities"
      ],
      "metadata": {
        "colab": {
          "base_uri": "https://localhost:8080/"
        },
        "id": "g4va5WGR2-kD",
        "outputId": "3898a88e-77da-4fb0-f580-eca372c144f6"
      },
      "execution_count": 16,
      "outputs": [
        {
          "output_type": "execute_result",
          "data": {
            "text/plain": [
              "[0.24999999999999994,\n",
              " 0.24999999999999994,\n",
              " 0.24999999999999994,\n",
              " 0.24999999999999994]"
            ]
          },
          "metadata": {},
          "execution_count": 16
        }
      ]
    },
    {
      "cell_type": "code",
      "source": [
        "results.final_states"
      ],
      "metadata": {
        "colab": {
          "base_uri": "https://localhost:8080/"
        },
        "id": "jxqqqxyh3HNY",
        "outputId": "47649297-c7d6-4f6a-a85f-c803dac37c36"
      },
      "execution_count": 17,
      "outputs": [
        {
          "output_type": "execute_result",
          "data": {
            "text/plain": [
              "[Quantum object: dims = [[2, 2, 2], [1, 1, 1]], shape = (8, 1), type = ket\n",
              " Qobj data =\n",
              " [[0.]\n",
              "  [1.]\n",
              "  [0.]\n",
              "  [0.]\n",
              "  [0.]\n",
              "  [0.]\n",
              "  [0.]\n",
              "  [0.]],\n",
              " Quantum object: dims = [[2, 2, 2], [1, 1, 1]], shape = (8, 1), type = ket\n",
              " Qobj data =\n",
              " [[0.]\n",
              "  [0.]\n",
              "  [0.]\n",
              "  [1.]\n",
              "  [0.]\n",
              "  [0.]\n",
              "  [0.]\n",
              "  [0.]],\n",
              " Quantum object: dims = [[2, 2, 2], [1, 1, 1]], shape = (8, 1), type = ket\n",
              " Qobj data =\n",
              " [[0.]\n",
              "  [0.]\n",
              "  [0.]\n",
              "  [0.]\n",
              "  [0.]\n",
              "  [1.]\n",
              "  [0.]\n",
              "  [0.]],\n",
              " Quantum object: dims = [[2, 2, 2], [1, 1, 1]], shape = (8, 1), type = ket\n",
              " Qobj data =\n",
              " [[0.]\n",
              "  [0.]\n",
              "  [0.]\n",
              "  [0.]\n",
              "  [0.]\n",
              "  [0.]\n",
              "  [0.]\n",
              "  [1.]]]"
            ]
          },
          "metadata": {},
          "execution_count": 17
        }
      ]
    },
    {
      "cell_type": "markdown",
      "source": [
        "### Software Versions"
      ],
      "metadata": {
        "id": "UR8U8xGj3NDi"
      }
    },
    {
      "cell_type": "code",
      "source": [
        "from qutip.ipynbtools import version_table\n",
        "version_table()"
      ],
      "metadata": {
        "colab": {
          "base_uri": "https://localhost:8080/",
          "height": 270
        },
        "id": "GOtHC7463JrH",
        "outputId": "ef25bf8f-b95d-4a4d-9178-ad48bfcf0d8b"
      },
      "execution_count": 18,
      "outputs": [
        {
          "output_type": "execute_result",
          "data": {
            "text/plain": [
              "<IPython.core.display.HTML object>"
            ],
            "text/html": [
              "<table><tr><th>Software</th><th>Version</th></tr><tr><td>QuTiP</td><td>4.7.1</td></tr><tr><td>Numpy</td><td>1.21.6</td></tr><tr><td>SciPy</td><td>1.7.3</td></tr><tr><td>matplotlib</td><td>3.2.2</td></tr><tr><td>Cython</td><td>0.29.33</td></tr><tr><td>Number of CPUs</td><td>2</td></tr><tr><td>BLAS Info</td><td>OPENBLAS</td></tr><tr><td>IPython</td><td>7.9.0</td></tr><tr><td>Python</td><td>3.8.10 (default, Nov 14 2022, 12:59:47) \n",
              "[GCC 9.4.0]</td></tr><tr><td>OS</td><td>posix [linux]</td></tr><tr><td colspan='2'>Wed Feb 08 07:10:52 2023 UTC</td></tr></table>"
            ]
          },
          "metadata": {},
          "execution_count": 18
        }
      ]
    }
  ]
}