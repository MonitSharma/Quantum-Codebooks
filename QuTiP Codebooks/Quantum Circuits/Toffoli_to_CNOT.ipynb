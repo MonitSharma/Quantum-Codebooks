{
  "nbformat": 4,
  "nbformat_minor": 0,
  "metadata": {
    "colab": {
      "provenance": []
    },
    "kernelspec": {
      "name": "python3",
      "display_name": "Python 3"
    },
    "language_info": {
      "name": "python"
    }
  },
  "cells": [
    {
      "cell_type": "markdown",
      "source": [
        "## Decomposition of the Toffoli gate in terms of CNOT and single-qubit rotations"
      ],
      "metadata": {
        "id": "rcvU907Nx4Mm"
      }
    },
    {
      "cell_type": "markdown",
      "source": [
        "The Toffoli gate is a three-qubit quantum gate that performs a controlled-controlled-NOT operation, which means it flips the state of a target qubit only if both control qubits are in the state \"1\". It is one of the most important gates for quantum computation, as it is universal for quantum computation.\n",
        "\n",
        "The Toffoli gate can be decomposed into a combination of CNOT gates and single-qubit rotations. The decomposition involves transforming the Toffoli gate into an equivalent circuit that consists only of CNOT gates and single-qubit rotations.\n",
        "\n",
        "Mathematically, the decomposition of the Toffoli gate can be represented as follows:\n",
        "\\begin{equation}\n",
        "Toffoli = H_2 \\cdot S_1 \\cdot H_2 \\cdot CNOT_{1,2} \\cdot S_1^\\dagger \\cdot H_2 \\cdot S_1 \\cdot H_2 \\cdot CNOT_{0,2} \\cdot H_2 \\cdot CNOT_{0,1} \\cdot H_2\n",
        "\\end{equation}\n",
        "\n",
        "where $H_i$ is the Hadamard gate acting on the $i^{th}$ qubit, $S_i$ is the phase shift gate acting on the $i^{th}$ qubit, and $CNOT_{i,j}$ is the controlled-NOT gate with control qubit $i$ and target qubit $j$."
      ],
      "metadata": {
        "id": "jakPC_o1zjWN"
      }
    },
    {
      "cell_type": "code",
      "execution_count": 1,
      "metadata": {
        "id": "mYQQRxbUjhDH",
        "colab": {
          "base_uri": "https://localhost:8080/"
        },
        "outputId": "076dd46f-ed7e-475c-d1c7-9411d9ac1214"
      },
      "outputs": [
        {
          "output_type": "stream",
          "name": "stdout",
          "text": [
            "Looking in indexes: https://pypi.org/simple, https://us-python.pkg.dev/colab-wheels/public/simple/\n",
            "Collecting qutip\n",
            "  Downloading qutip-4.7.1-cp38-cp38-manylinux_2_17_x86_64.manylinux2014_x86_64.whl (16.7 MB)\n",
            "\u001b[2K     \u001b[90m━━━━━━━━━━━━━━━━━━━━━━━━━━━━━━━━━━━━━━━━\u001b[0m \u001b[32m16.7/16.7 MB\u001b[0m \u001b[31m39.1 MB/s\u001b[0m eta \u001b[36m0:00:00\u001b[0m\n",
            "\u001b[?25hRequirement already satisfied: numpy>=1.16.6 in /usr/local/lib/python3.8/dist-packages (from qutip) (1.21.6)\n",
            "Requirement already satisfied: packaging in /usr/local/lib/python3.8/dist-packages (from qutip) (23.0)\n",
            "Requirement already satisfied: scipy>=1.0 in /usr/local/lib/python3.8/dist-packages (from qutip) (1.7.3)\n",
            "Installing collected packages: qutip\n",
            "Successfully installed qutip-4.7.1\n",
            "Looking in indexes: https://pypi.org/simple, https://us-python.pkg.dev/colab-wheels/public/simple/\n",
            "Collecting qutip_qip\n",
            "  Downloading qutip_qip-0.2.3-py3-none-any.whl (105 kB)\n",
            "\u001b[2K     \u001b[90m━━━━━━━━━━━━━━━━━━━━━━━━━━━━━━━━━━━━━━━\u001b[0m \u001b[32m105.6/105.6 KB\u001b[0m \u001b[31m3.3 MB/s\u001b[0m eta \u001b[36m0:00:00\u001b[0m\n",
            "\u001b[?25hRequirement already satisfied: scipy>=1.0 in /usr/local/lib/python3.8/dist-packages (from qutip_qip) (1.7.3)\n",
            "Requirement already satisfied: qutip>=4.6 in /usr/local/lib/python3.8/dist-packages (from qutip_qip) (4.7.1)\n",
            "Requirement already satisfied: packaging in /usr/local/lib/python3.8/dist-packages (from qutip_qip) (23.0)\n",
            "Requirement already satisfied: numpy>=1.16.6 in /usr/local/lib/python3.8/dist-packages (from qutip_qip) (1.21.6)\n",
            "Installing collected packages: qutip_qip\n",
            "Successfully installed qutip_qip-0.2.3\n"
          ]
        }
      ],
      "source": [
        "%pip install qutip\n",
        "%pip install qutip_qip"
      ]
    },
    {
      "cell_type": "code",
      "source": [
        "from qutip import *\n",
        "from qutip_qip.operations import *\n",
        "from qutip_qip.circuit import QubitCircuit, Gate"
      ],
      "metadata": {
        "id": "AIyrTJqrz0En"
      },
      "execution_count": 2,
      "outputs": []
    },
    {
      "cell_type": "code",
      "source": [
        "q = QubitCircuit(3, reverse_states=False)\n",
        "q.add_gate(\"TOFFOLI\", controls=[0, 2], targets=[1])"
      ],
      "metadata": {
        "id": "yvy6-_hJz0pD"
      },
      "execution_count": 3,
      "outputs": []
    },
    {
      "cell_type": "code",
      "source": [
        "U = gate_sequence_product(q.propagators())\n",
        "\n",
        "print(U.tidyup())"
      ],
      "metadata": {
        "colab": {
          "base_uri": "https://localhost:8080/"
        },
        "id": "TJs8GN3jz4LM",
        "outputId": "e7a7bfb0-5e7c-4636-cf5b-73b4745cf08e"
      },
      "execution_count": 6,
      "outputs": [
        {
          "output_type": "stream",
          "name": "stdout",
          "text": [
            "Quantum object: dims = [[2, 2, 2], [2, 2, 2]], shape = (8, 8), type = oper, isherm = True\n",
            "Qobj data =\n",
            "[[1. 0. 0. 0. 0. 0. 0. 0.]\n",
            " [0. 1. 0. 0. 0. 0. 0. 0.]\n",
            " [0. 0. 1. 0. 0. 0. 0. 0.]\n",
            " [0. 0. 0. 1. 0. 0. 0. 0.]\n",
            " [0. 0. 0. 0. 1. 0. 0. 0.]\n",
            " [0. 0. 0. 0. 0. 0. 0. 1.]\n",
            " [0. 0. 0. 0. 0. 0. 1. 0.]\n",
            " [0. 0. 0. 0. 0. 1. 0. 0.]]\n"
          ]
        }
      ]
    },
    {
      "cell_type": "code",
      "source": [
        "q2 = q.resolve_gates()"
      ],
      "metadata": {
        "id": "udINT7vpz7j2"
      },
      "execution_count": 7,
      "outputs": []
    },
    {
      "cell_type": "code",
      "source": [
        "U2 = gate_sequence_product(q2.propagators())\n",
        "\n",
        "print(U2.tidyup())"
      ],
      "metadata": {
        "colab": {
          "base_uri": "https://localhost:8080/"
        },
        "id": "BSR6Heav0C5O",
        "outputId": "0f93c90a-b687-4770-cfc5-2c823416b502"
      },
      "execution_count": 8,
      "outputs": [
        {
          "output_type": "stream",
          "name": "stdout",
          "text": [
            "Quantum object: dims = [[2, 2, 2], [2, 2, 2]], shape = (8, 8), type = oper, isherm = True\n",
            "Qobj data =\n",
            "[[1. 0. 0. 0. 0. 0. 0. 0.]\n",
            " [0. 1. 0. 0. 0. 0. 0. 0.]\n",
            " [0. 0. 1. 0. 0. 0. 0. 0.]\n",
            " [0. 0. 0. 1. 0. 0. 0. 0.]\n",
            " [0. 0. 0. 0. 1. 0. 0. 0.]\n",
            " [0. 0. 0. 0. 0. 0. 0. 1.]\n",
            " [0. 0. 0. 0. 0. 0. 1. 0.]\n",
            " [0. 0. 0. 0. 0. 1. 0. 0.]]\n"
          ]
        }
      ]
    },
    {
      "cell_type": "code",
      "source": [
        "U == U2"
      ],
      "metadata": {
        "colab": {
          "base_uri": "https://localhost:8080/"
        },
        "id": "W7xpJnhP0NsN",
        "outputId": "b38c9f1a-48b3-48dd-b3d3-2c3350bd7b10"
      },
      "execution_count": 9,
      "outputs": [
        {
          "output_type": "execute_result",
          "data": {
            "text/plain": [
              "True"
            ]
          },
          "metadata": {},
          "execution_count": 9
        }
      ]
    },
    {
      "cell_type": "markdown",
      "source": [
        "## Software Versions"
      ],
      "metadata": {
        "id": "8Li7De2q0R98"
      }
    },
    {
      "cell_type": "code",
      "source": [
        "from qutip.ipynbtools import version_table\n",
        "version_table()"
      ],
      "metadata": {
        "colab": {
          "base_uri": "https://localhost:8080/",
          "height": 270
        },
        "id": "rCK-JqhE0Q34",
        "outputId": "b888e404-3b6d-45ab-932b-528a8d434f97"
      },
      "execution_count": 10,
      "outputs": [
        {
          "output_type": "execute_result",
          "data": {
            "text/plain": [
              "<IPython.core.display.HTML object>"
            ],
            "text/html": [
              "<table><tr><th>Software</th><th>Version</th></tr><tr><td>QuTiP</td><td>4.7.1</td></tr><tr><td>Numpy</td><td>1.21.6</td></tr><tr><td>SciPy</td><td>1.7.3</td></tr><tr><td>matplotlib</td><td>3.2.2</td></tr><tr><td>Cython</td><td>0.29.33</td></tr><tr><td>Number of CPUs</td><td>2</td></tr><tr><td>BLAS Info</td><td>OPENBLAS</td></tr><tr><td>IPython</td><td>7.9.0</td></tr><tr><td>Python</td><td>3.8.10 (default, Nov 14 2022, 12:59:47) \n",
              "[GCC 9.4.0]</td></tr><tr><td>OS</td><td>posix [linux]</td></tr><tr><td colspan='2'>Wed Feb 08 06:58:18 2023 UTC</td></tr></table>"
            ]
          },
          "metadata": {},
          "execution_count": 10
        }
      ]
    },
    {
      "cell_type": "code",
      "source": [],
      "metadata": {
        "id": "571Alx_a0Xuq"
      },
      "execution_count": null,
      "outputs": []
    }
  ]
}