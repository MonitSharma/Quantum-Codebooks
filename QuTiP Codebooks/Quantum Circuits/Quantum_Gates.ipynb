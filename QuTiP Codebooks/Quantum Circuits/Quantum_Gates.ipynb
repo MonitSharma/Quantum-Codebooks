{
  "cells": [
    {
      "cell_type": "markdown",
      "metadata": {
        "id": "T9f8xQhu3-bE"
      },
      "source": [
        "# Quantum Gates and their usage"
      ]
    },
    {
      "cell_type": "markdown",
      "metadata": {
        "id": "t-e-Vn8m4MmC"
      },
      "source": [
        "## Installation:\n",
        "\n",
        "The circuit image visualization requires `LaTeX` and `ImageMagick` for display. The module automatically process the LaTeX code for plotting the circuit, generate the pdf and convert it to the png format. On Mac and Linux, ImageMagick can be easily installed with the command `conda install imagemagick` if you have conda installed. Otherwise, please follow the installation instructions on the `ImageMagick` documentation.\n",
        "\n",
        "----\n",
        "\n",
        "On windows, you need to download and install `ImageMagick` installer. In addition, you also need perl (for pdfcrop) and `Ghostscript` (additional dependency of `ImageMagick` for png conversion).\n",
        "\n",
        "-----\n",
        "\n",
        "To test if the installation is complete, try the following three commands working correctly in Command Prompt: `pdflatex`, `pdfcrop` and `magick` anypdf.pdf antpdf.png, where anypdf.pdf is any pdf file you have."
      ]
    },
    {
      "cell_type": "code",
      "execution_count": 5,
      "metadata": {
        "colab": {
          "base_uri": "https://localhost:8080/"
        },
        "id": "sDgVh6JF37bd",
        "outputId": "2e83aa2c-896c-4cf4-97a8-c81aef9c4789"
      },
      "outputs": [
        {
          "output_type": "stream",
          "name": "stdout",
          "text": [
            "Looking in indexes: https://pypi.org/simple, https://us-python.pkg.dev/colab-wheels/public/simple/\n",
            "Requirement already satisfied: qutip in /usr/local/lib/python3.8/dist-packages (4.7.1)\n",
            "Requirement already satisfied: packaging in /usr/local/lib/python3.8/dist-packages (from qutip) (23.0)\n",
            "Requirement already satisfied: scipy>=1.0 in /usr/local/lib/python3.8/dist-packages (from qutip) (1.7.3)\n",
            "Requirement already satisfied: numpy>=1.16.6 in /usr/local/lib/python3.8/dist-packages (from qutip) (1.21.6)\n",
            "Looking in indexes: https://pypi.org/simple, https://us-python.pkg.dev/colab-wheels/public/simple/\n",
            "Requirement already satisfied: qutip_qip in /usr/local/lib/python3.8/dist-packages (0.2.3)\n",
            "Requirement already satisfied: scipy>=1.0 in /usr/local/lib/python3.8/dist-packages (from qutip_qip) (1.7.3)\n",
            "Requirement already satisfied: numpy>=1.16.6 in /usr/local/lib/python3.8/dist-packages (from qutip_qip) (1.21.6)\n",
            "Requirement already satisfied: qutip>=4.6 in /usr/local/lib/python3.8/dist-packages (from qutip_qip) (4.7.1)\n",
            "Requirement already satisfied: packaging in /usr/local/lib/python3.8/dist-packages (from qutip_qip) (23.0)\n",
            "Looking in indexes: https://pypi.org/simple, https://us-python.pkg.dev/colab-wheels/public/simple/\n",
            "Requirement already satisfied: pdflatex in /usr/local/lib/python3.8/dist-packages (0.1.3)\n",
            "Requirement already satisfied: attrs<19.0,>=18.2 in /usr/local/lib/python3.8/dist-packages (from pdflatex) (18.2.0)\n"
          ]
        }
      ],
      "source": [
        "!pip install qutip\n",
        "!pip install qutip_qip\n",
        "!pip install pdflatex"
      ]
    },
    {
      "cell_type": "code",
      "source": [
        "!apt install imagemagick"
      ],
      "metadata": {
        "colab": {
          "base_uri": "https://localhost:8080/"
        },
        "id": "V1CLXPIQlwey",
        "outputId": "b950fee2-67cf-4107-87cb-27806b715704"
      },
      "execution_count": 6,
      "outputs": [
        {
          "output_type": "stream",
          "name": "stdout",
          "text": [
            "Reading package lists... Done\n",
            "Building dependency tree       \n",
            "Reading state information... Done\n",
            "imagemagick is already the newest version (8:6.9.10.23+dfsg-2.1ubuntu11.4).\n",
            "The following package was automatically installed and is no longer required:\n",
            "  libnvidia-common-510\n",
            "Use 'apt autoremove' to remove it.\n",
            "0 upgraded, 0 newly installed, 0 to remove and 28 not upgraded.\n"
          ]
        }
      ]
    },
    {
      "cell_type": "code",
      "execution_count": 7,
      "metadata": {
        "id": "NFUco6sb4LF4"
      },
      "outputs": [],
      "source": [
        "%matplotlib inline"
      ]
    },
    {
      "cell_type": "code",
      "source": [
        "!pip install pdflatex"
      ],
      "metadata": {
        "colab": {
          "base_uri": "https://localhost:8080/"
        },
        "id": "SPDBrdoBnQCz",
        "outputId": "a86f3537-3161-4819-ffa8-a1588545bbd6"
      },
      "execution_count": 8,
      "outputs": [
        {
          "output_type": "stream",
          "name": "stdout",
          "text": [
            "Looking in indexes: https://pypi.org/simple, https://us-python.pkg.dev/colab-wheels/public/simple/\n",
            "Requirement already satisfied: pdflatex in /usr/local/lib/python3.8/dist-packages (0.1.3)\n",
            "Requirement already satisfied: attrs<19.0,>=18.2 in /usr/local/lib/python3.8/dist-packages (from pdflatex) (18.2.0)\n"
          ]
        }
      ]
    },
    {
      "cell_type": "code",
      "execution_count": 9,
      "metadata": {
        "id": "_cHY3maZ45xb"
      },
      "outputs": [],
      "source": [
        "import numpy as np\n",
        "from qutip import *\n",
        "from qutip_qip.operations import * \n",
        "from qutip_qip.circuit import QubitCircuit, Gate"
      ]
    },
    {
      "cell_type": "markdown",
      "source": [
        "## Introduction\n",
        "\n",
        "Quantum gates are the building blocks of quantum computation and quantum algorithms. They are the quantum analogue of classical logic gates and perform operations on qubits (the basic unit of quantum information) to manipulate their quantum states.\n",
        "\n",
        "-----\n",
        "\n",
        "\n",
        "Mathematically, quantum gates can be represented as unitary matrices. A unitary matrix is a square matrix whose conjugate transpose (also known as the Hermitian transpose) is equal to its inverse. This means that the matrix preserves the inner product and length of vectors, preserving the norm of the quantum state.\n",
        "\n",
        "\n",
        "-----\n",
        "\n",
        "The most common quantum gates are the Pauli gates (X, Y, and Z), the Hadamard gate (H), the phase shift gate (S), and the controlled-NOT (CNOT) gate.\n",
        "\n",
        "Here's a summary of some of the most common gates:\n",
        "\n",
        "\n",
        "-------\n",
        "\n",
        "\n",
        "The Pauli X gate is represented by the matrix:\n",
        "\\begin{equation}\n",
        "X = \\begin{bmatrix}\n",
        "0 & 1 \\\\\n",
        "1 & 0\n",
        "\\end{bmatrix}\n",
        "\\end{equation}\n",
        "\n",
        "\n",
        "-----\n",
        "\n",
        "\n",
        "The Pauli Y gate is represented by the matrix:\n",
        "\\begin{equation}\n",
        "Y = \\begin{bmatrix}\n",
        "0 & -i \\\\\n",
        "i & 0\n",
        "\\end{bmatrix}\n",
        "\\end{equation}\n",
        "\n",
        "------\n",
        "\n",
        "The Pauli Z gate is represented by the matrix:\n",
        "\\begin{equation}\n",
        "Z = \\begin{bmatrix}\n",
        "1 & 0 \\\\\n",
        "0 & -1\n",
        "\\end{bmatrix}\n",
        "\\end{equation}\n",
        "\n",
        "\n",
        "-----\n",
        "\n",
        "The Hadamard gate is represented by the matrix:\n",
        "\\begin{equation}\n",
        "H = \\frac{1}{\\sqrt{2}} \\begin{bmatrix}\n",
        "1 & 1 \\\\\n",
        "1 & -1\n",
        "\\end{bmatrix}\n",
        "\\end{equation}\n",
        "\n",
        "-----\n",
        "\n",
        "The phase shift gate is represented by the matrix:\n",
        "\\begin{equation}\n",
        "S = \\begin{bmatrix}\n",
        "1 & 0 \\\\\n",
        "0 & i\n",
        "\\end{bmatrix}\n",
        "\\end{equation}\n",
        "\n",
        "\n",
        "------\n",
        "\n",
        "The controlled-NOT gate is represented by the matrix:\n",
        "\\begin{equation}\n",
        "CNOT = \\begin{bmatrix}\n",
        "1 & 0 & 0 & 0 \\\\\n",
        "0 & 1 & 0 & 0 \\\\\n",
        "0 & 0 & 0 & 1 \\\\\n",
        "0 & 0 & 1 & 0\n",
        "\\end{bmatrix}\n",
        "\\end{equation}\n",
        "\n",
        "\n",
        "\n",
        "\n",
        "\n"
      ],
      "metadata": {
        "id": "aAcTeI9JkRnG"
      }
    },
    {
      "cell_type": "markdown",
      "source": [
        "## Gates in QuTiP and their representation\n",
        "\n",
        "\n"
      ],
      "metadata": {
        "id": "ooC9sNwxlSnT"
      }
    },
    {
      "cell_type": "markdown",
      "source": [
        "### Controlled - Phase"
      ],
      "metadata": {
        "id": "NZwSl7iflWpW"
      }
    },
    {
      "cell_type": "code",
      "source": [
        "print(cphase(np.pi/2))"
      ],
      "metadata": {
        "colab": {
          "base_uri": "https://localhost:8080/"
        },
        "id": "ilZFR72KkQsw",
        "outputId": "b5a03d78-f77b-4395-9e24-59b19dbe9d23"
      },
      "execution_count": 10,
      "outputs": [
        {
          "output_type": "stream",
          "name": "stdout",
          "text": [
            "Quantum object: dims = [[2, 2], [2, 2]], shape = (4, 4), type = oper, isherm = False\n",
            "Qobj data =\n",
            "[[1.+0.j 0.+0.j 0.+0.j 0.+0.j]\n",
            " [0.+0.j 1.+0.j 0.+0.j 0.+0.j]\n",
            " [0.+0.j 0.+0.j 1.+0.j 0.+0.j]\n",
            " [0.+0.j 0.+0.j 0.+0.j 0.+1.j]]\n"
          ]
        }
      ]
    },
    {
      "cell_type": "code",
      "source": [
        "q = QubitCircuit(2, reverse_states=False)\n",
        "q.add_gate(\"CSIGN\", controls=[0], targets=[1])\n",
        "#q.png\n",
        "print(q)"
      ],
      "metadata": {
        "colab": {
          "base_uri": "https://localhost:8080/"
        },
        "id": "1Xl8ZPNRla5X",
        "outputId": "1a0df263-ac36-4f80-b3e4-94c404175b34"
      },
      "execution_count": 19,
      "outputs": [
        {
          "output_type": "stream",
          "name": "stdout",
          "text": [
            "<qutip_qip.circuit.QubitCircuit object at 0x7f7844096a90>\n"
          ]
        }
      ]
    },
    {
      "cell_type": "markdown",
      "source": [
        "![](data:image/png;base64,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)"
      ],
      "metadata": {
        "id": "XUpuoAldpNBo"
      }
    },
    {
      "cell_type": "markdown",
      "source": [
        "### Rotation about X-axis"
      ],
      "metadata": {
        "id": "B6_ahGb6pTEr"
      }
    },
    {
      "cell_type": "code",
      "source": [
        "print(rx(np.pi/2))"
      ],
      "metadata": {
        "colab": {
          "base_uri": "https://localhost:8080/"
        },
        "id": "AAL8KrP8oi7l",
        "outputId": "70e9e222-98a9-4118-9e03-02515221ce23"
      },
      "execution_count": 21,
      "outputs": [
        {
          "output_type": "stream",
          "name": "stdout",
          "text": [
            "Quantum object: dims = [[2], [2]], shape = (2, 2), type = oper, isherm = False\n",
            "Qobj data =\n",
            "[[0.70710678+0.j         0.        -0.70710678j]\n",
            " [0.        -0.70710678j 0.70710678+0.j        ]]\n"
          ]
        }
      ]
    },
    {
      "cell_type": "code",
      "source": [
        "q = QubitCircuit(1, reverse_states=False)\n",
        "q.add_gate(\"RX\", targets=[0], arg_value=np.pi/2, arg_label=r'\\frac{\\pi}{2}')\n",
        "print(q)"
      ],
      "metadata": {
        "colab": {
          "base_uri": "https://localhost:8080/"
        },
        "id": "Dtjg6Xkzpd-T",
        "outputId": "ce915bd5-f97e-4ffb-b7ce-3d974b67e300"
      },
      "execution_count": 23,
      "outputs": [
        {
          "output_type": "stream",
          "name": "stdout",
          "text": [
            "<qutip_qip.circuit.QubitCircuit object at 0x7f7843512490>\n"
          ]
        }
      ]
    },
    {
      "cell_type": "markdown",
      "source": [
        "![](data:image/png;base64,iVBORw0KGgoAAAANSUhEUgAAAH4AAAAYCAQAAACWh4FEAAAAAmJLR0QA/4ePzL8AAAAJcEhZcwAAAGQAAABkAA+Wxd0AAAAHdElNRQflBAwRLigWXVF4AAAKeHpUWHRSYXcgcHJvZmlsZSB0eXBlIGljYwAAWIWdl22SZKkNRf+zCi+BTwktBwSK8P434ENWd0+33TNjOyuIzHoPhJCu7hXpn+7pH3zqUEn5fVbJPz7167ccudq1jtq115rHHDZWzX/2SVKkadPcy8gjd//TmX/xCXZ9Hv1w57R6/h9DH4/+x/lLugxt0r758u0E6omDZa3aP/8XnV8v6lQlQvn78/XNTulSZf/xfPfvzxPh/ITx63+fPxboz8+P/2Ho5+eRfzbUycyXqzV/7TCzY+j3z/9kfvr1zN8/tfbyDiwmwvtJ+puECMdV4Y2MmrV9h0a33lJvTCJKbxrLXMbvo/x3ptN/2v5vTf/6+dv06zv6/JYlPh0/yJqxkYkKb9j+efTXcWi15VYakP1diUQbD8zlu0eliPvf1dL3z+/mSaz6OVqb8RWHZr+fWM3e99b5mVfmWf8+72Oo9m/IjfmJxRYPED/Ikvxi8Uek8jP4FsUDI8MwVC6m2isLBkVL0jJ1k9v+WtlZ9HbqLBo8GHg3WPOwJ/MRDil5R1N9RQc8CdrEg4mBdxLDgGHAMLAwsHi4MLDrOySDNc4aZ41vDD3mOCw6GGBevvy+++M1TMPY5OX9KeOQmsYwRuRSB4P3DY9Km4zLUXkIsRWyXnC/YKMIi4V3yju8LhMjeFyMOXhboNaCp2UXDG1+4GJxvg/fh+/L9+U7WBCL4mwMh4Y741AvwghCO8lUYXA0qpnBS3avykNlIdmr8+ZqTCTHdWFks5gNq29yMnJ9OSIEFei0l/6WN+AVklXyo9rGLtQbI3KDd5rwTvFJL4Djf+N/jDcC3zb/u+Z2Goaw3K7nFka2hcJpmfphHApr594nCEAXSHfH447BPp36XqCCd3javafcDxOIyYNJjwvUTh7F8yAboy2gA9zHzIOjD6AygMjAq7EYG+lxxhkJbPGDNH/+OKJUzY/IBU+E7ImsLLrBnmexk2VFFn84LFluo9DgnKwpK5hQdtd24IzIVD4Y7VnZWakxJdC6eX4gLjbVmFDrBr+RJ1Uwu+Q5VgLMN084ZOLuXAtg8z+L5tU8AaMBXgN4xjGNjUx6NrVsk98g3gi4eaRs7GIsWKXkxbEWni0gsTjSomwWEFhkaBGLhZqseHnmD0Ld0MWGk7ZQtJu620ze+5UP3wR+k0EvQLCu7EDBh2cH3Q62fGn2V2YA1zF63l9Fsk9/pbbyIS6HiQfIH2fC4TfxuMDhgr5L9i7Huhr52qYcJV9CcO+lLPEoOH8A84AaAlQHsYrdUOPIcV95E6VKBjqMK5xfcdk2bvP86FtYKOTE4LsHfHtKmV7KIlpupdzJ4bRQV6X2Uar0QumUulqpzriQ+SP0ykDXCuIIATAWmPYBEQxKU0qn8Ho3RHqVPnfp60AOlz0hh1LLaHRCQwqyAVnsVMY+hVO9ait0CEVYLOJFZhTZFUd5Fqso1KC9FJVBr2FF1y1gq2homQVDFHqZvJxzlbkCYuc3Cz+Uw5FMdjFOahvonkNj0suqqyxCs1Sho1uARiqLgOJ42W2XzTE3Bjee7LPKYyAgUHzwrbs48XH34gT4QFqHKj76KMwSHUsrB2O3SLl4d4nJtV4ugLrXSpCNaLeE8JvnsaPEXfVDpcSewqvAPIE6SAOyI1UQ4OTQbL+Ipt/Kqlqr1jpGrZOfK2o9B81ZFd6qcFVt1mvzmmqLx5ZRez90Eo7G7drPetVVB5OHMJD64YxAyetTc8bU17xVuZP84pF2q6pUGQb0OOp26mxB8wdsFo6cXu2JLUYJPKJ7KmxC8eAgbcxio0X6oeOARGrdTaBlq5uJIKI+avNm1eVWx6AfhTO9HuJyVOph43PBJaC53VPFMzhcKzVTOSBcvmpYqcFRImCuNmAvim9RvWdTB0C5kz5CVDbfURu+pValtWob3u+Nma1Bzk2jtT1bI2UdX+mRWrfb+pl0Mq0N+HlM+jOvbcShODQ1UYK/bpNriEVv+kTDvOnRNktvNCBtTm/T52tWPkkyNrLNwQO6w8zSnhpHRVmiceK2BViu1fadZFQbbV9zjuS3tVNro1oaOG0wTLso0mXTiyLBJIn8lBZMoFlqcSvK2KjZ/ijykQ+hBYVCRS8HpRd/UCpcr3sQUCUe7KSHrhaJ6shhpx3tc3Uq/JEGUkZDDSmPc+nSa389oazdJZA2oqS6gR0Sh2BNJLtTyH1Cj0blmBDTZZ1OhrxoX3o6jvQN/Dfx3hjeeE39dZLafa8OpDqzUj9GMo73SxNw5Xag8KWVtMrEssd5Qg9hKxex/ageqkAKoYNBYQ5AMCqXGlCnA1ob5BFhXYOAjd6xSmPZz6bK5hjKQZ1qgVcFaZVlgy55EIyhVBIqnsYEglPPmL6HwTImBuEheVnHYtlajBhjE7VtjIvNxoDE/Mg4eHt0pnHcBtQ0rvi4+wwoHwUvAwGg1cIJLqwIG844/MubBY3iWCWi1bjkoOCPswV0SUNb+ku6denXQA9bGUV+VYTflKBQ5YKsixoYZg6FLaizzOvyLjVitsTiIWVy9KBHUNnsvBffEfip4otrK+J+6DHONqFW5cqW66CBiAdHk4DTaccQevqWS24AfLGh9AgkmGpeOEIH2YgE9QdC+9fd0skSZEPnrsQmvXOpwOwSXD9pgnQ3BAah4Lo+mWx1qU3ahgtrcbEksTQ5XeF33dQRvKo+MeRPVbjfUEP6+tcLBV4mwA50MF3j0mV1LrtrvpZiolGz+IFEMkwHAUeHEjRNqhT9PBOsz34pdhaNtemOXnQrgeGW9c5kMbE4pxhkcKdB2mb4GndSlmkuXxOpn8Rw7vDpAmPw7EBdhzUnYt5Pcu6MhmwafTO9G+0a3QbSQvNZ1kyGfEDay9DyVywGl0A59FSToqNOxggbbp8yJL1GB2UE04iDze42N47VnvAum4UDgmnrAGq4fq8wZNCcOR5qB4ShQobu2V0XtBwOui2CFk9ob89MdAiKtAr0zjBZEDSFz0ApO1VFmVOAc43FXrQqBGCBGVB2F16tiZBM2uMFwTLFaGZ8LUQfRVmbMtvXkHRfTid4Or0IWn7RjovsP/zi0X53O0qSrmulTRuyy0GwOorvMH0j9utyQurUqOTS9piL/gy/1TbEBujmxhtKm/I+3Gbgo20shqX32gNLlx8PZ2W77dfw7ENrywmgcTgtUH6UNIKmklYyXzoKURqHlmCZQPWQBIikHS4DtP3QrY++ORlo6Fz9nRtHfw0J+GjH53ZHP9jLaFCmE4vksIVvbrFYcg7iKJbDZwiH+H2326YeHIDbzMmbtq05h6ENbXG4LR3Y/iA3iTgafkBE/Z5xiNYYRw4sjj3icKYgixdsCg0xeSddZ8Um9jS/3EJ8LtqvnA4zkHA/tDwnaA9icbNBLvPmcee64/Q3Axk7GyfbhbsuMnJ7OFUIzedzxSRd+OICACSRNmA7PRbYPyQUUl0X0oRcNvGGWi997z3mdAnzktcbKF84ffSYie57RKFfKBH0MoSkWEBJ0REQdAe2hnvPDZET8pJGozmZMwEdrQ4loAGzpFi08ls1yCeFMomgxaFGbt9xj8ORlG1E+hftkQTIS62KtQAAAglJREFUWMPtl8GN1TAQhr9BXBGyRAVmKWBlSvCWkBZMCUkJ2RLIDXF7KeGlBNJCJA5c8YEChsNL3jrvhdUibN4+weQyccbj+cee+R1Rcop85h0/srpM5Y3e5nT3MnN43/ikQynsss/r70WpQK9B/oO/rIj9xbgRU3bl3DV/Ej71rEYGHTdtarrE3s3qqFGj1NJpvFLwGmlEea+jGGoJ+uEMesW4wBNHhWXCMjERgY6apmSAWR9a/Ord8X3WDIo7s98nulEICm0yVqdzUuscT+ma9yzEVxFPD744khGNYrDiViYDVbngSoOf4Ymn4m4jNet0BHomEvg64igmRWse8EzSAlbvNr4aVu1M7wFOklSw45ft9g60AZC9BO3ODNyxKJCwOuD90bpkt5eP2D93c5Qbvj4ASireLDsoBqeDeEaNq4rv6DY9pjt/k/mCW7Lbs6OeNcUrOAwBwxc87QY3WFrCI3xwLd1enLR4rHgARoxURNAOy6CDNkCPT2ZYKm1A2tXY+HvrPpudTzkcj9XD8a+plAN/s0tsqgPDLzeD8jxfutsvKY5z9QcMYGUhuV788gusPT1IWNW+1evf+Udm1Jjkza3ud2367Ypq/snJv39gG3FYbeYugRiK/taUv+Q8Bf54hL5jksBcIhpLcvwzAZ8k4e3fXfHix/6S8k+Dz33sX3Mr5aJ9ldfdTxksT3lFp+0TAAAAJXRFWHRkYXRlOmNyZWF0ZQAyMDIxLTA0LTEyVDE3OjQ2OjQwKzAwOjAwKysL4QAAACV0RVh0ZGF0ZTptb2RpZnkAMjAyMS0wNC0xMlQxNzo0Njo0MCswMDowMFp2s10AAAAtdEVYdGljYzpjb3B5cmlnaHQAQ29weXJpZ2h0IEFydGlmZXggU29mdHdhcmUgMjAxMQi6xbQAAAAxdEVYdGljYzpkZXNjcmlwdGlvbgBBcnRpZmV4IFNvZnR3YXJlIHNSR0IgSUNDIFByb2ZpbGUTDAGGAAAAE3RFWHRwZGY6VmVyc2lvbgBQREYtMS41UzZawQAAAABJRU5ErkJggg==)"
      ],
      "metadata": {
        "id": "0Lrfwf2xpdKV"
      }
    },
    {
      "cell_type": "markdown",
      "source": [
        "### Rotation about Z-axis"
      ],
      "metadata": {
        "id": "jrJ4CUZQpoVO"
      }
    },
    {
      "cell_type": "code",
      "source": [
        "print(rz(np.pi/2))"
      ],
      "metadata": {
        "colab": {
          "base_uri": "https://localhost:8080/"
        },
        "id": "N3MiAKR1pZ7N",
        "outputId": "ae60a210-71b3-4ced-8148-65d3442c6280"
      },
      "execution_count": 24,
      "outputs": [
        {
          "output_type": "stream",
          "name": "stdout",
          "text": [
            "Quantum object: dims = [[2], [2]], shape = (2, 2), type = oper, isherm = False\n",
            "Qobj data =\n",
            "[[0.70710678-0.70710678j 0.        +0.j        ]\n",
            " [0.        +0.j         0.70710678+0.70710678j]]\n"
          ]
        }
      ]
    },
    {
      "cell_type": "code",
      "source": [
        "q = QubitCircuit(1, reverse_states=False)\n",
        "q.add_gate(\"RZ\", targets=[0], arg_value=np.pi/2, arg_label=r'\\frac{\\pi}{2}')\n",
        "print(q)"
      ],
      "metadata": {
        "colab": {
          "base_uri": "https://localhost:8080/"
        },
        "id": "YLHC5pGtpvtF",
        "outputId": "2650dc4d-1c40-4ca0-c21f-ddba8e4d56b9"
      },
      "execution_count": 26,
      "outputs": [
        {
          "output_type": "stream",
          "name": "stdout",
          "text": [
            "<qutip_qip.circuit.QubitCircuit object at 0x7f7843512610>\n"
          ]
        }
      ]
    },
    {
      "cell_type": "markdown",
      "source": [
        "![](data:image/png;base64,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)"
      ],
      "metadata": {
        "id": "jZ6g9-s8p3Ne"
      }
    },
    {
      "cell_type": "markdown",
      "source": [
        "### CNOT"
      ],
      "metadata": {
        "id": "juZKzKJEp92Z"
      }
    },
    {
      "cell_type": "code",
      "source": [
        "print(cnot())"
      ],
      "metadata": {
        "colab": {
          "base_uri": "https://localhost:8080/"
        },
        "id": "53pehV5jp0ca",
        "outputId": "8110b169-1cbb-4b65-b135-283bccf4779e"
      },
      "execution_count": 27,
      "outputs": [
        {
          "output_type": "stream",
          "name": "stdout",
          "text": [
            "Quantum object: dims = [[2, 2], [2, 2]], shape = (4, 4), type = oper, isherm = True\n",
            "Qobj data =\n",
            "[[1. 0. 0. 0.]\n",
            " [0. 1. 0. 0.]\n",
            " [0. 0. 0. 1.]\n",
            " [0. 0. 1. 0.]]\n"
          ]
        }
      ]
    },
    {
      "cell_type": "code",
      "source": [
        "q = QubitCircuit(2, reverse_states=False)\n",
        "q.add_gate(\"CNOT\", controls=[0], targets=[1])\n"
      ],
      "metadata": {
        "id": "fzAvjy10qBpc"
      },
      "execution_count": 28,
      "outputs": []
    },
    {
      "cell_type": "markdown",
      "source": [
        "![](data:image/png;base64,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)"
      ],
      "metadata": {
        "id": "I0bBLYpMqGt6"
      }
    },
    {
      "cell_type": "markdown",
      "source": [
        "### CSIGN"
      ],
      "metadata": {
        "id": "wMt31Nd4qMM-"
      }
    },
    {
      "cell_type": "code",
      "source": [
        "print(csign())"
      ],
      "metadata": {
        "colab": {
          "base_uri": "https://localhost:8080/"
        },
        "id": "slgcED1GqFHv",
        "outputId": "7751cf06-209f-4a02-821d-5b6e24019bac"
      },
      "execution_count": 29,
      "outputs": [
        {
          "output_type": "stream",
          "name": "stdout",
          "text": [
            "Quantum object: dims = [[2, 2], [2, 2]], shape = (4, 4), type = oper, isherm = True\n",
            "Qobj data =\n",
            "[[ 1.  0.  0.  0.]\n",
            " [ 0.  1.  0.  0.]\n",
            " [ 0.  0.  1.  0.]\n",
            " [ 0.  0.  0. -1.]]\n"
          ]
        }
      ]
    },
    {
      "cell_type": "code",
      "source": [
        "q = QubitCircuit(2, reverse_states=False)\n",
        "q.add_gate(\"CSIGN\", controls=[0], targets=[1])"
      ],
      "metadata": {
        "id": "POR7PMIkqPrd"
      },
      "execution_count": 30,
      "outputs": []
    },
    {
      "cell_type": "markdown",
      "source": [
        "![](data:image/png;base64,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)"
      ],
      "metadata": {
        "id": "U6wmP5AIqTet"
      }
    },
    {
      "cell_type": "markdown",
      "source": [
        "### Bereley"
      ],
      "metadata": {
        "id": "PBxYXJM7qV-q"
      }
    },
    {
      "cell_type": "code",
      "source": [
        "print(berkeley())"
      ],
      "metadata": {
        "colab": {
          "base_uri": "https://localhost:8080/"
        },
        "id": "Qdeir5WiqR3W",
        "outputId": "9c9d0371-2a79-4524-8c41-275ae335a6e1"
      },
      "execution_count": 31,
      "outputs": [
        {
          "output_type": "stream",
          "name": "stdout",
          "text": [
            "Quantum object: dims = [[2, 2], [2, 2]], shape = (4, 4), type = oper, isherm = False\n",
            "Qobj data =\n",
            "[[0.92387953+0.j         0.        +0.j         0.        +0.j\n",
            "  0.        +0.38268343j]\n",
            " [0.        +0.j         0.38268343+0.j         0.        +0.92387953j\n",
            "  0.        +0.j        ]\n",
            " [0.        +0.j         0.        +0.92387953j 0.38268343+0.j\n",
            "  0.        +0.j        ]\n",
            " [0.        +0.38268343j 0.        +0.j         0.        +0.j\n",
            "  0.92387953+0.j        ]]\n"
          ]
        }
      ]
    },
    {
      "cell_type": "markdown",
      "source": [
        "### SWAPaplha"
      ],
      "metadata": {
        "id": "IH0-qH_CqbsN"
      }
    },
    {
      "cell_type": "code",
      "source": [
        "print(swapalpha(np.pi/2))"
      ],
      "metadata": {
        "colab": {
          "base_uri": "https://localhost:8080/"
        },
        "id": "kfLyaRndqaSU",
        "outputId": "532bf4e7-e685-4e41-befb-5a42d01642a8"
      },
      "execution_count": 33,
      "outputs": [
        {
          "output_type": "stream",
          "name": "stdout",
          "text": [
            "Quantum object: dims = [[2, 2], [2, 2]], shape = (4, 4), type = oper, isherm = False\n",
            "Qobj data =\n",
            "[[1.        +0.j         0.        +0.j         0.        +0.j\n",
            "  0.        +0.j        ]\n",
            " [0.        +0.j         0.61029202-0.48768399j 0.38970798+0.48768399j\n",
            "  0.        +0.j        ]\n",
            " [0.        +0.j         0.38970798+0.48768399j 0.61029202-0.48768399j\n",
            "  0.        +0.j        ]\n",
            " [0.        +0.j         0.        +0.j         0.        +0.j\n",
            "  1.        +0.j        ]]\n"
          ]
        }
      ]
    },
    {
      "cell_type": "markdown",
      "source": [
        "### FREDKIN"
      ],
      "metadata": {
        "id": "TPUVIpD1qjaJ"
      }
    },
    {
      "cell_type": "code",
      "source": [
        "print(fredkin())"
      ],
      "metadata": {
        "colab": {
          "base_uri": "https://localhost:8080/"
        },
        "id": "sWO8A1m4qgIC",
        "outputId": "b1f067e9-96d9-40b1-b040-6c648b51b6d1"
      },
      "execution_count": 34,
      "outputs": [
        {
          "output_type": "stream",
          "name": "stdout",
          "text": [
            "Quantum object: dims = [[2, 2, 2], [2, 2, 2]], shape = (8, 8), type = oper, isherm = True\n",
            "Qobj data =\n",
            "[[1. 0. 0. 0. 0. 0. 0. 0.]\n",
            " [0. 1. 0. 0. 0. 0. 0. 0.]\n",
            " [0. 0. 1. 0. 0. 0. 0. 0.]\n",
            " [0. 0. 0. 1. 0. 0. 0. 0.]\n",
            " [0. 0. 0. 0. 1. 0. 0. 0.]\n",
            " [0. 0. 0. 0. 0. 0. 1. 0.]\n",
            " [0. 0. 0. 0. 0. 1. 0. 0.]\n",
            " [0. 0. 0. 0. 0. 0. 0. 1.]]\n"
          ]
        }
      ]
    },
    {
      "cell_type": "markdown",
      "source": [
        "### TOFFOLI"
      ],
      "metadata": {
        "id": "TFxmlFkOqokr"
      }
    },
    {
      "cell_type": "code",
      "source": [
        "print(toffoli())"
      ],
      "metadata": {
        "colab": {
          "base_uri": "https://localhost:8080/"
        },
        "id": "NL81d6a4qnOV",
        "outputId": "d6a0a0cc-2470-4b96-e4e1-cc175ded3f6e"
      },
      "execution_count": 35,
      "outputs": [
        {
          "output_type": "stream",
          "name": "stdout",
          "text": [
            "Quantum object: dims = [[2, 2, 2], [2, 2, 2]], shape = (8, 8), type = oper, isherm = True\n",
            "Qobj data =\n",
            "[[1. 0. 0. 0. 0. 0. 0. 0.]\n",
            " [0. 1. 0. 0. 0. 0. 0. 0.]\n",
            " [0. 0. 1. 0. 0. 0. 0. 0.]\n",
            " [0. 0. 0. 1. 0. 0. 0. 0.]\n",
            " [0. 0. 0. 0. 1. 0. 0. 0.]\n",
            " [0. 0. 0. 0. 0. 1. 0. 0.]\n",
            " [0. 0. 0. 0. 0. 0. 0. 1.]\n",
            " [0. 0. 0. 0. 0. 0. 1. 0.]]\n"
          ]
        }
      ]
    },
    {
      "cell_type": "markdown",
      "source": [
        "### SQRTiSWAP"
      ],
      "metadata": {
        "id": "_gErsW77q2eU"
      }
    },
    {
      "cell_type": "code",
      "source": [
        "print(sqrtiswap())"
      ],
      "metadata": {
        "colab": {
          "base_uri": "https://localhost:8080/"
        },
        "id": "vKEY8eNMqsvS",
        "outputId": "8516f770-8e9d-4560-f2fb-865163ddeb9b"
      },
      "execution_count": 36,
      "outputs": [
        {
          "output_type": "stream",
          "name": "stdout",
          "text": [
            "Quantum object: dims = [[2, 2], [2, 2]], shape = (4, 4), type = oper, isherm = False\n",
            "Qobj data =\n",
            "[[1.        +0.j         0.        +0.j         0.        +0.j\n",
            "  0.        +0.j        ]\n",
            " [0.        +0.j         0.70710678+0.j         0.        +0.70710678j\n",
            "  0.        +0.j        ]\n",
            " [0.        +0.j         0.        +0.70710678j 0.70710678+0.j\n",
            "  0.        +0.j        ]\n",
            " [0.        +0.j         0.        +0.j         0.        +0.j\n",
            "  1.        +0.j        ]]\n"
          ]
        }
      ]
    },
    {
      "cell_type": "markdown",
      "source": [
        "### SQRTSWAP"
      ],
      "metadata": {
        "id": "hEnLU5BzrF8X"
      }
    },
    {
      "cell_type": "code",
      "source": [
        "print(sqrtswap())"
      ],
      "metadata": {
        "colab": {
          "base_uri": "https://localhost:8080/"
        },
        "id": "pvH-Jv-TrDmr",
        "outputId": "b7ee3d57-d712-4f1e-ca64-bc7ce60619be"
      },
      "execution_count": 37,
      "outputs": [
        {
          "output_type": "stream",
          "name": "stdout",
          "text": [
            "Quantum object: dims = [[2, 2], [2, 2]], shape = (4, 4), type = oper, isherm = False\n",
            "Qobj data =\n",
            "[[1. +0.j  0. +0.j  0. +0.j  0. +0.j ]\n",
            " [0. +0.j  0.5+0.5j 0.5-0.5j 0. +0.j ]\n",
            " [0. +0.j  0.5-0.5j 0.5+0.5j 0. +0.j ]\n",
            " [0. +0.j  0. +0.j  0. +0.j  1. +0.j ]]\n"
          ]
        }
      ]
    },
    {
      "cell_type": "markdown",
      "source": [
        "### SQRTNOT"
      ],
      "metadata": {
        "id": "c4V3hOK3rOew"
      }
    },
    {
      "cell_type": "code",
      "source": [
        "print(sqrtnot())"
      ],
      "metadata": {
        "colab": {
          "base_uri": "https://localhost:8080/"
        },
        "id": "Ks9zrdcSrLHq",
        "outputId": "3044575d-a967-4f0c-e562-b6990f68906d"
      },
      "execution_count": 38,
      "outputs": [
        {
          "output_type": "stream",
          "name": "stdout",
          "text": [
            "Quantum object: dims = [[2], [2]], shape = (2, 2), type = oper, isherm = False\n",
            "Qobj data =\n",
            "[[0.5+0.5j 0.5-0.5j]\n",
            " [0.5-0.5j 0.5+0.5j]]\n"
          ]
        }
      ]
    },
    {
      "cell_type": "markdown",
      "source": [
        "### HADAMARD"
      ],
      "metadata": {
        "id": "VowjLsKXraEE"
      }
    },
    {
      "cell_type": "code",
      "source": [
        "print(snot())"
      ],
      "metadata": {
        "colab": {
          "base_uri": "https://localhost:8080/"
        },
        "id": "rCQKmZZIrS4P",
        "outputId": "35034d9e-334b-4bf6-e523-a6137afc6b8d"
      },
      "execution_count": 39,
      "outputs": [
        {
          "output_type": "stream",
          "name": "stdout",
          "text": [
            "Quantum object: dims = [[2], [2]], shape = (2, 2), type = oper, isherm = True\n",
            "Qobj data =\n",
            "[[ 0.70710678  0.70710678]\n",
            " [ 0.70710678 -0.70710678]]\n"
          ]
        }
      ]
    },
    {
      "cell_type": "markdown",
      "source": [
        "### PHASEGATE"
      ],
      "metadata": {
        "id": "k56GEyyrrdfh"
      }
    },
    {
      "cell_type": "code",
      "source": [
        "print(phasegate(np.pi/2))"
      ],
      "metadata": {
        "colab": {
          "base_uri": "https://localhost:8080/"
        },
        "id": "ONvzJ4jJrcef",
        "outputId": "4e8b60cc-3ae4-4214-e227-bc88c7883512"
      },
      "execution_count": 40,
      "outputs": [
        {
          "output_type": "stream",
          "name": "stdout",
          "text": [
            "Quantum object: dims = [[2], [2]], shape = (2, 2), type = oper, isherm = False\n",
            "Qobj data =\n",
            "[[1.000000e+00+0.j 0.000000e+00+0.j]\n",
            " [0.000000e+00+0.j 6.123234e-17+1.j]]\n"
          ]
        }
      ]
    },
    {
      "cell_type": "markdown",
      "source": [
        "### Global Phase"
      ],
      "metadata": {
        "id": "IvCL42JYrk4F"
      }
    },
    {
      "cell_type": "code",
      "source": [
        "print(globalphase(np.pi/2))"
      ],
      "metadata": {
        "colab": {
          "base_uri": "https://localhost:8080/"
        },
        "id": "cNMLiElUriwy",
        "outputId": "3353e62d-6538-458c-8200-b309f76190e9"
      },
      "execution_count": 41,
      "outputs": [
        {
          "output_type": "stream",
          "name": "stdout",
          "text": [
            "Quantum object: dims = [[2], [2]], shape = (2, 2), type = oper, isherm = False\n",
            "Qobj data =\n",
            "[[6.123234e-17+1.j 0.000000e+00+0.j]\n",
            " [0.000000e+00+0.j 6.123234e-17+1.j]]\n"
          ]
        }
      ]
    },
    {
      "cell_type": "markdown",
      "source": [
        "### Mølmer–Sørensen gate"
      ],
      "metadata": {
        "id": "IoLUku0JrqVu"
      }
    },
    {
      "cell_type": "code",
      "source": [
        "print(molmer_sorensen(np.pi/2))"
      ],
      "metadata": {
        "colab": {
          "base_uri": "https://localhost:8080/"
        },
        "id": "MWqBBNONrn9p",
        "outputId": "a5d8eb30-84f0-418f-f10b-ece717a6286a"
      },
      "execution_count": 42,
      "outputs": [
        {
          "output_type": "stream",
          "name": "stdout",
          "text": [
            "Quantum object: dims = [[2, 2], [2, 2]], shape = (4, 4), type = oper, isherm = False\n",
            "Qobj data =\n",
            "[[0.70710678+0.j         0.        +0.j         0.        +0.j\n",
            "  0.        -0.70710678j]\n",
            " [0.        +0.j         0.70710678+0.j         0.        -0.70710678j\n",
            "  0.        +0.j        ]\n",
            " [0.        +0.j         0.        -0.70710678j 0.70710678+0.j\n",
            "  0.        +0.j        ]\n",
            " [0.        -0.70710678j 0.        +0.j         0.        +0.j\n",
            "  0.70710678+0.j        ]]\n"
          ]
        }
      ]
    },
    {
      "cell_type": "markdown",
      "source": [
        "### Qubit Rotation gate"
      ],
      "metadata": {
        "id": "bjpwahB9rwkM"
      }
    },
    {
      "cell_type": "code",
      "source": [
        "print(qrot(np.pi/2, np.pi/4))"
      ],
      "metadata": {
        "colab": {
          "base_uri": "https://localhost:8080/"
        },
        "id": "zyr4q02irvFX",
        "outputId": "ebebd9d2-e00c-4247-9686-3e093b0c6121"
      },
      "execution_count": 43,
      "outputs": [
        {
          "output_type": "stream",
          "name": "stdout",
          "text": [
            "Quantum object: dims = [[2], [2]], shape = (2, 2), type = oper, isherm = False\n",
            "Qobj data =\n",
            "[[ 0.70710678+0.j  -0.5       -0.5j]\n",
            " [ 0.5       -0.5j  0.70710678+0.j ]]\n"
          ]
        }
      ]
    },
    {
      "cell_type": "markdown",
      "source": [
        "### Expanding gates to larger qubit registers\n",
        "The example above show how to generate matrice representations of the gates implemented in QuTiP, in their minimal qubit requirements. If the same gates is to be represented in a qubit register of size N, the optional keywork argument N can be specified when calling the gate function. For example, to generate the matrix for the CNOT gate for a N=3\n",
        " bit register:"
      ],
      "metadata": {
        "id": "Y7QQRq-3r5iG"
      }
    },
    {
      "cell_type": "code",
      "source": [
        "print(cnot(N=3))"
      ],
      "metadata": {
        "colab": {
          "base_uri": "https://localhost:8080/"
        },
        "id": "07JCf-Myr21D",
        "outputId": "e44bd6ac-e8d1-441d-f884-e4b3768a73b6"
      },
      "execution_count": 44,
      "outputs": [
        {
          "output_type": "stream",
          "name": "stdout",
          "text": [
            "Quantum object: dims = [[2, 2, 2], [2, 2, 2]], shape = (8, 8), type = oper, isherm = True\n",
            "Qobj data =\n",
            "[[1. 0. 0. 0. 0. 0. 0. 0.]\n",
            " [0. 1. 0. 0. 0. 0. 0. 0.]\n",
            " [0. 0. 1. 0. 0. 0. 0. 0.]\n",
            " [0. 0. 0. 1. 0. 0. 0. 0.]\n",
            " [0. 0. 0. 0. 0. 0. 1. 0.]\n",
            " [0. 0. 0. 0. 0. 0. 0. 1.]\n",
            " [0. 0. 0. 0. 1. 0. 0. 0.]\n",
            " [0. 0. 0. 0. 0. 1. 0. 0.]]\n"
          ]
        }
      ]
    },
    {
      "cell_type": "markdown",
      "source": [
        "Furthermore, the control and target qubits (when applicable) can also be similarly specified using keyword arguments `control` and `target` (or in some cases `controls` or `targets`):"
      ],
      "metadata": {
        "id": "PKvF0ZplsDKK"
      }
    },
    {
      "cell_type": "code",
      "source": [
        "print(cnot(N=3, control=2, target=0))"
      ],
      "metadata": {
        "colab": {
          "base_uri": "https://localhost:8080/"
        },
        "id": "3B6EG7hBsARL",
        "outputId": "e37e4703-683e-4afc-a579-a7db5e89a4a3"
      },
      "execution_count": 45,
      "outputs": [
        {
          "output_type": "stream",
          "name": "stdout",
          "text": [
            "Quantum object: dims = [[2, 2, 2], [2, 2, 2]], shape = (8, 8), type = oper, isherm = True\n",
            "Qobj data =\n",
            "[[1. 0. 0. 0. 0. 0. 0. 0.]\n",
            " [0. 0. 0. 0. 0. 1. 0. 0.]\n",
            " [0. 0. 1. 0. 0. 0. 0. 0.]\n",
            " [0. 0. 0. 0. 0. 0. 0. 1.]\n",
            " [0. 0. 0. 0. 1. 0. 0. 0.]\n",
            " [0. 1. 0. 0. 0. 0. 0. 0.]\n",
            " [0. 0. 0. 0. 0. 0. 1. 0.]\n",
            " [0. 0. 0. 1. 0. 0. 0. 0.]]\n"
          ]
        }
      ]
    },
    {
      "cell_type": "markdown",
      "source": [
        "## Setup of a Qubit Circuit\n",
        "\n",
        "The gates implemented in QuTiP can be used to build any qubit circuit using the class QubitCircuit. The output can be obtained in the form of a unitary matrix or a latex representation.\n",
        "\n",
        "-----\n",
        "\n",
        "In the following example, we take a SWAP gate. It is known that a swap gate is equivalent to three CNOT gates applied in the given format.\n"
      ],
      "metadata": {
        "id": "zZ9k_WYPsXNx"
      }
    },
    {
      "cell_type": "code",
      "source": [
        "N = 2\n",
        "qc0 = QubitCircuit(N)\n",
        "qc0.add_gate(\"ISWAP\", [0, 1], None)"
      ],
      "metadata": {
        "id": "WmeWudrfsMVk"
      },
      "execution_count": 46,
      "outputs": []
    },
    {
      "cell_type": "code",
      "source": [
        "U_list0 = qc0.propagators()\n",
        "U0 = gate_sequence_product(U_list0)\n",
        "print(U0)"
      ],
      "metadata": {
        "colab": {
          "base_uri": "https://localhost:8080/"
        },
        "id": "Nfdj_7MZsf2q",
        "outputId": "7346437f-9012-4643-a93d-f95719e24e42"
      },
      "execution_count": 47,
      "outputs": [
        {
          "output_type": "stream",
          "name": "stdout",
          "text": [
            "Quantum object: dims = [[2, 2], [2, 2]], shape = (4, 4), type = oper, isherm = False\n",
            "Qobj data =\n",
            "[[1.+0.j 0.+0.j 0.+0.j 0.+0.j]\n",
            " [0.+0.j 0.+0.j 0.+1.j 0.+0.j]\n",
            " [0.+0.j 0.+1.j 0.+0.j 0.+0.j]\n",
            " [0.+0.j 0.+0.j 0.+0.j 1.+0.j]]\n"
          ]
        }
      ]
    },
    {
      "cell_type": "code",
      "source": [
        "qc1 = QubitCircuit(N)\n",
        "qc1.add_gate(\"CNOT\", 0, 1)\n",
        "qc1.add_gate(\"CNOT\", 1, 0)\n",
        "qc1.add_gate(\"CNOT\", 0, 1)"
      ],
      "metadata": {
        "id": "2z5kzdwSsk5T"
      },
      "execution_count": 48,
      "outputs": []
    },
    {
      "cell_type": "code",
      "source": [
        "U_list1 = qc1.propagators()\n",
        "U1 = gate_sequence_product(U_list1)\n",
        "print(U1)"
      ],
      "metadata": {
        "colab": {
          "base_uri": "https://localhost:8080/"
        },
        "id": "jIxpxSkvsqYS",
        "outputId": "bdb0d40a-0add-417d-f45d-e466dc8cce29"
      },
      "execution_count": 49,
      "outputs": [
        {
          "output_type": "stream",
          "name": "stdout",
          "text": [
            "Quantum object: dims = [[2, 2], [2, 2]], shape = (4, 4), type = oper, isherm = True\n",
            "Qobj data =\n",
            "[[1. 0. 0. 0.]\n",
            " [0. 0. 1. 0.]\n",
            " [0. 1. 0. 0.]\n",
            " [0. 0. 0. 1.]]\n"
          ]
        }
      ]
    },
    {
      "cell_type": "markdown",
      "source": [
        "In place of manually converting the SWAP gate to CNOTs, it can be automatically converted using an inbuilt function in QubitCircuit"
      ],
      "metadata": {
        "id": "w61yoYtwswOu"
      }
    },
    {
      "cell_type": "code",
      "source": [
        "qc2 = qc0.resolve_gates(\"CNOT\")"
      ],
      "metadata": {
        "id": "P1MQlI4qstbX"
      },
      "execution_count": 50,
      "outputs": []
    },
    {
      "cell_type": "code",
      "source": [
        "U_list2 = qc2.propagators()\n",
        "U2 = gate_sequence_product(U_list2)\n",
        "print(U2)"
      ],
      "metadata": {
        "colab": {
          "base_uri": "https://localhost:8080/"
        },
        "id": "wyNrrniDszG_",
        "outputId": "60bedf51-837d-41fb-b6e6-f55d1470b197"
      },
      "execution_count": 51,
      "outputs": [
        {
          "output_type": "stream",
          "name": "stdout",
          "text": [
            "Quantum object: dims = [[2, 2], [2, 2]], shape = (4, 4), type = oper, isherm = False\n",
            "Qobj data =\n",
            "[[1.+0.j 0.+0.j 0.+0.j 0.+0.j]\n",
            " [0.+0.j 0.+0.j 0.+1.j 0.+0.j]\n",
            " [0.+0.j 0.+1.j 0.+0.j 0.+0.j]\n",
            " [0.+0.j 0.+0.j 0.+0.j 1.+0.j]]\n"
          ]
        }
      ]
    },
    {
      "cell_type": "markdown",
      "source": [
        "we can also add gate at arbitrary position in a circuit."
      ],
      "metadata": {
        "id": "eaCkd-fBs8Q1"
      }
    },
    {
      "cell_type": "code",
      "source": [
        "qc1.add_gate(\"CSIGN\", index=[1], targets=[0], controls=[1])"
      ],
      "metadata": {
        "id": "BpVGOcMLs2F9"
      },
      "execution_count": 52,
      "outputs": []
    },
    {
      "cell_type": "markdown",
      "source": [
        "## Example of basis transformation"
      ],
      "metadata": {
        "id": "Z-HhS_0RtCzA"
      }
    },
    {
      "cell_type": "code",
      "source": [
        "qc3 = QubitCircuit(3)\n",
        "qc3.add_gate(\"CNOT\", 1, 0)\n",
        "qc3.add_gate(\"RX\", 0, None, np.pi/2, r\"\\pi/2\")\n",
        "qc3.add_gate(\"RY\", 1, None, np.pi/2, r\"\\pi/2\")\n",
        "qc3.add_gate(\"RZ\", 2, None, np.pi/2, r\"\\pi/2\")\n",
        "qc3.add_gate(\"ISWAP\", [1, 2])"
      ],
      "metadata": {
        "id": "Y-RXXG1xtBv0"
      },
      "execution_count": 54,
      "outputs": []
    },
    {
      "cell_type": "code",
      "source": [
        "U3 = gate_sequence_product(qc3.propagators())\n",
        "print(U3)"
      ],
      "metadata": {
        "colab": {
          "base_uri": "https://localhost:8080/"
        },
        "id": "z6zZYjWytIS8",
        "outputId": "4292c434-b9ca-4557-b646-f17b877433bd"
      },
      "execution_count": 55,
      "outputs": [
        {
          "output_type": "stream",
          "name": "stdout",
          "text": [
            "Quantum object: dims = [[2, 2, 2], [2, 2, 2]], shape = (8, 8), type = oper, isherm = False\n",
            "Qobj data =\n",
            "[[ 0.35355339-0.35355339j  0.        +0.j         -0.35355339+0.35355339j\n",
            "   0.        +0.j          0.35355339+0.35355339j  0.        +0.j\n",
            "  -0.35355339-0.35355339j  0.        +0.j        ]\n",
            " [ 0.35355339+0.35355339j  0.        +0.j          0.35355339+0.35355339j\n",
            "   0.        +0.j          0.35355339-0.35355339j  0.        +0.j\n",
            "   0.35355339-0.35355339j  0.        +0.j        ]\n",
            " [ 0.        +0.j         -0.35355339+0.35355339j  0.        +0.j\n",
            "   0.35355339-0.35355339j  0.        +0.j         -0.35355339-0.35355339j\n",
            "   0.        +0.j          0.35355339+0.35355339j]\n",
            " [ 0.        +0.j          0.35355339+0.35355339j  0.        +0.j\n",
            "   0.35355339+0.35355339j  0.        +0.j          0.35355339-0.35355339j\n",
            "   0.        +0.j          0.35355339-0.35355339j]\n",
            " [-0.35355339-0.35355339j  0.        +0.j          0.35355339+0.35355339j\n",
            "   0.        +0.j         -0.35355339+0.35355339j  0.        +0.j\n",
            "   0.35355339-0.35355339j  0.        +0.j        ]\n",
            " [ 0.35355339-0.35355339j  0.        +0.j          0.35355339-0.35355339j\n",
            "   0.        +0.j          0.35355339+0.35355339j  0.        +0.j\n",
            "   0.35355339+0.35355339j  0.        +0.j        ]\n",
            " [ 0.        +0.j          0.35355339+0.35355339j  0.        +0.j\n",
            "  -0.35355339-0.35355339j  0.        +0.j          0.35355339-0.35355339j\n",
            "   0.        +0.j         -0.35355339+0.35355339j]\n",
            " [ 0.        +0.j          0.35355339-0.35355339j  0.        +0.j\n",
            "   0.35355339-0.35355339j  0.        +0.j          0.35355339+0.35355339j\n",
            "   0.        +0.j          0.35355339+0.35355339j]]\n"
          ]
        }
      ]
    },
    {
      "cell_type": "markdown",
      "source": [
        "### The transformation can either be only in terms of 2-qubit gates"
      ],
      "metadata": {
        "id": "j73nmJfptSrU"
      }
    },
    {
      "cell_type": "code",
      "source": [
        "qc4 = qc3.resolve_gates(\"CNOT\")"
      ],
      "metadata": {
        "id": "DAM7rb7KtPdh"
      },
      "execution_count": 56,
      "outputs": []
    },
    {
      "cell_type": "code",
      "source": [
        "U4 = gate_sequence_product(qc4.propagators())\n",
        "print(U4)"
      ],
      "metadata": {
        "colab": {
          "base_uri": "https://localhost:8080/"
        },
        "id": "Ozihk6QUtWpa",
        "outputId": "0a13b914-d78f-494b-8b53-3bbd96375f6b"
      },
      "execution_count": 57,
      "outputs": [
        {
          "output_type": "stream",
          "name": "stdout",
          "text": [
            "Quantum object: dims = [[2, 2, 2], [2, 2, 2]], shape = (8, 8), type = oper, isherm = False\n",
            "Qobj data =\n",
            "[[ 0.35355339-0.35355339j  0.        +0.j         -0.35355339+0.35355339j\n",
            "   0.        +0.j          0.35355339+0.35355339j  0.        +0.j\n",
            "  -0.35355339-0.35355339j  0.        +0.j        ]\n",
            " [ 0.35355339+0.35355339j  0.        +0.j          0.35355339+0.35355339j\n",
            "   0.        +0.j          0.35355339-0.35355339j  0.        +0.j\n",
            "   0.35355339-0.35355339j  0.        +0.j        ]\n",
            " [ 0.        +0.j         -0.35355339+0.35355339j  0.        +0.j\n",
            "   0.35355339-0.35355339j  0.        +0.j         -0.35355339-0.35355339j\n",
            "   0.        +0.j          0.35355339+0.35355339j]\n",
            " [ 0.        +0.j          0.35355339+0.35355339j  0.        +0.j\n",
            "   0.35355339+0.35355339j  0.        +0.j          0.35355339-0.35355339j\n",
            "   0.        +0.j          0.35355339-0.35355339j]\n",
            " [-0.35355339-0.35355339j  0.        +0.j          0.35355339+0.35355339j\n",
            "   0.        +0.j         -0.35355339+0.35355339j  0.        +0.j\n",
            "   0.35355339-0.35355339j  0.        +0.j        ]\n",
            " [ 0.35355339-0.35355339j  0.        +0.j          0.35355339-0.35355339j\n",
            "   0.        +0.j          0.35355339+0.35355339j  0.        +0.j\n",
            "   0.35355339+0.35355339j  0.        +0.j        ]\n",
            " [ 0.        +0.j          0.35355339+0.35355339j  0.        +0.j\n",
            "  -0.35355339-0.35355339j  0.        +0.j          0.35355339-0.35355339j\n",
            "   0.        +0.j         -0.35355339+0.35355339j]\n",
            " [ 0.        +0.j          0.35355339-0.35355339j  0.        +0.j\n",
            "   0.35355339-0.35355339j  0.        +0.j          0.35355339+0.35355339j\n",
            "   0.        +0.j          0.35355339+0.35355339j]]\n"
          ]
        }
      ]
    },
    {
      "cell_type": "code",
      "source": [
        "qc5 = qc3.resolve_gates(\"ISWAP\")"
      ],
      "metadata": {
        "id": "4HXSZ6NitZeV"
      },
      "execution_count": 58,
      "outputs": []
    },
    {
      "cell_type": "code",
      "source": [
        "U5 = gate_sequence_product(qc5.propagators())\n",
        "print(U5)"
      ],
      "metadata": {
        "colab": {
          "base_uri": "https://localhost:8080/"
        },
        "id": "MsI1YD9ZtciD",
        "outputId": "ceb2faa4-752a-45bb-e82b-3e79e7824cc5"
      },
      "execution_count": 59,
      "outputs": [
        {
          "output_type": "stream",
          "name": "stdout",
          "text": [
            "Quantum object: dims = [[2, 2, 2], [2, 2, 2]], shape = (8, 8), type = oper, isherm = False\n",
            "Qobj data =\n",
            "[[ 0.35355339-0.35355339j  0.        +0.j         -0.35355339+0.35355339j\n",
            "   0.        +0.j          0.35355339+0.35355339j  0.        +0.j\n",
            "  -0.35355339-0.35355339j  0.        +0.j        ]\n",
            " [ 0.35355339+0.35355339j  0.        +0.j          0.35355339+0.35355339j\n",
            "   0.        +0.j          0.35355339-0.35355339j  0.        +0.j\n",
            "   0.35355339-0.35355339j  0.        +0.j        ]\n",
            " [ 0.        +0.j         -0.35355339+0.35355339j  0.        +0.j\n",
            "   0.35355339-0.35355339j  0.        +0.j         -0.35355339-0.35355339j\n",
            "   0.        +0.j          0.35355339+0.35355339j]\n",
            " [ 0.        +0.j          0.35355339+0.35355339j  0.        +0.j\n",
            "   0.35355339+0.35355339j  0.        +0.j          0.35355339-0.35355339j\n",
            "   0.        +0.j          0.35355339-0.35355339j]\n",
            " [-0.35355339-0.35355339j  0.        +0.j          0.35355339+0.35355339j\n",
            "   0.        +0.j         -0.35355339+0.35355339j  0.        +0.j\n",
            "   0.35355339-0.35355339j  0.        +0.j        ]\n",
            " [ 0.35355339-0.35355339j  0.        +0.j          0.35355339-0.35355339j\n",
            "   0.        +0.j          0.35355339+0.35355339j  0.        +0.j\n",
            "   0.35355339+0.35355339j  0.        +0.j        ]\n",
            " [ 0.        +0.j          0.35355339+0.35355339j  0.        +0.j\n",
            "  -0.35355339-0.35355339j  0.        +0.j          0.35355339-0.35355339j\n",
            "   0.        +0.j         -0.35355339+0.35355339j]\n",
            " [ 0.        +0.j          0.35355339-0.35355339j  0.        +0.j\n",
            "   0.35355339-0.35355339j  0.        +0.j          0.35355339+0.35355339j\n",
            "   0.        +0.j          0.35355339+0.35355339j]]\n"
          ]
        }
      ]
    },
    {
      "cell_type": "markdown",
      "source": [
        "### Or the transformation can be in terms of any 2 single qubit rotation gates along with the 2-qubit gate."
      ],
      "metadata": {
        "id": "VdVHRPZ-tipG"
      }
    },
    {
      "cell_type": "code",
      "source": [
        "qc6 = qc3.resolve_gates([\"ISWAP\", \"RX\", \"RY\"])"
      ],
      "metadata": {
        "id": "6B1MhNaEtgFU"
      },
      "execution_count": 60,
      "outputs": []
    },
    {
      "cell_type": "code",
      "source": [
        "U6 = gate_sequence_product(qc6.propagators())\n",
        "print(U6)"
      ],
      "metadata": {
        "colab": {
          "base_uri": "https://localhost:8080/"
        },
        "id": "mOQUZGhbtmkE",
        "outputId": "9938c4e9-af7e-40b9-cca6-cf7c0cd35e84"
      },
      "execution_count": 61,
      "outputs": [
        {
          "output_type": "stream",
          "name": "stdout",
          "text": [
            "Quantum object: dims = [[2, 2, 2], [2, 2, 2]], shape = (8, 8), type = oper, isherm = False\n",
            "Qobj data =\n",
            "[[ 0.35355339-0.35355339j  0.        +0.j         -0.35355339+0.35355339j\n",
            "   0.        +0.j          0.35355339+0.35355339j  0.        +0.j\n",
            "  -0.35355339-0.35355339j  0.        +0.j        ]\n",
            " [ 0.35355339+0.35355339j  0.        +0.j          0.35355339+0.35355339j\n",
            "   0.        +0.j          0.35355339-0.35355339j  0.        +0.j\n",
            "   0.35355339-0.35355339j  0.        +0.j        ]\n",
            " [ 0.        +0.j         -0.35355339+0.35355339j  0.        +0.j\n",
            "   0.35355339-0.35355339j  0.        +0.j         -0.35355339-0.35355339j\n",
            "   0.        +0.j          0.35355339+0.35355339j]\n",
            " [ 0.        +0.j          0.35355339+0.35355339j  0.        +0.j\n",
            "   0.35355339+0.35355339j  0.        +0.j          0.35355339-0.35355339j\n",
            "   0.        +0.j          0.35355339-0.35355339j]\n",
            " [-0.35355339-0.35355339j  0.        +0.j          0.35355339+0.35355339j\n",
            "   0.        +0.j         -0.35355339+0.35355339j  0.        +0.j\n",
            "   0.35355339-0.35355339j  0.        +0.j        ]\n",
            " [ 0.35355339-0.35355339j  0.        +0.j          0.35355339-0.35355339j\n",
            "   0.        +0.j          0.35355339+0.35355339j  0.        +0.j\n",
            "   0.35355339+0.35355339j  0.        +0.j        ]\n",
            " [ 0.        +0.j          0.35355339+0.35355339j  0.        +0.j\n",
            "  -0.35355339-0.35355339j  0.        +0.j          0.35355339-0.35355339j\n",
            "   0.        +0.j         -0.35355339+0.35355339j]\n",
            " [ 0.        +0.j          0.35355339-0.35355339j  0.        +0.j\n",
            "   0.35355339-0.35355339j  0.        +0.j          0.35355339+0.35355339j\n",
            "   0.        +0.j          0.35355339+0.35355339j]]\n"
          ]
        }
      ]
    },
    {
      "cell_type": "code",
      "source": [
        "qc7 = qc3.resolve_gates([\"CNOT\", \"RZ\", \"RX\"])"
      ],
      "metadata": {
        "id": "2mTfjCW3tqof"
      },
      "execution_count": 62,
      "outputs": []
    },
    {
      "cell_type": "code",
      "source": [
        "U7 = gate_sequence_product(qc7.propagators())\n",
        "print(U7)"
      ],
      "metadata": {
        "colab": {
          "base_uri": "https://localhost:8080/"
        },
        "id": "WfN6z18PtvEa",
        "outputId": "2f151dbf-2ddd-44e0-c5bd-7185359266b0"
      },
      "execution_count": 63,
      "outputs": [
        {
          "output_type": "stream",
          "name": "stdout",
          "text": [
            "Quantum object: dims = [[2, 2, 2], [2, 2, 2]], shape = (8, 8), type = oper, isherm = False\n",
            "Qobj data =\n",
            "[[ 0.35355339-0.35355339j  0.        +0.j         -0.35355339+0.35355339j\n",
            "   0.        +0.j          0.35355339+0.35355339j  0.        +0.j\n",
            "  -0.35355339-0.35355339j  0.        +0.j        ]\n",
            " [ 0.35355339+0.35355339j  0.        +0.j          0.35355339+0.35355339j\n",
            "   0.        +0.j          0.35355339-0.35355339j  0.        +0.j\n",
            "   0.35355339-0.35355339j  0.        +0.j        ]\n",
            " [ 0.        +0.j         -0.35355339+0.35355339j  0.        +0.j\n",
            "   0.35355339-0.35355339j  0.        +0.j         -0.35355339-0.35355339j\n",
            "   0.        +0.j          0.35355339+0.35355339j]\n",
            " [ 0.        +0.j          0.35355339+0.35355339j  0.        +0.j\n",
            "   0.35355339+0.35355339j  0.        +0.j          0.35355339-0.35355339j\n",
            "   0.        +0.j          0.35355339-0.35355339j]\n",
            " [-0.35355339-0.35355339j  0.        +0.j          0.35355339+0.35355339j\n",
            "   0.        +0.j         -0.35355339+0.35355339j  0.        +0.j\n",
            "   0.35355339-0.35355339j  0.        +0.j        ]\n",
            " [ 0.35355339-0.35355339j  0.        +0.j          0.35355339-0.35355339j\n",
            "   0.        +0.j          0.35355339+0.35355339j  0.        +0.j\n",
            "   0.35355339+0.35355339j  0.        +0.j        ]\n",
            " [ 0.        +0.j          0.35355339+0.35355339j  0.        +0.j\n",
            "  -0.35355339-0.35355339j  0.        +0.j          0.35355339-0.35355339j\n",
            "   0.        +0.j         -0.35355339+0.35355339j]\n",
            " [ 0.        +0.j          0.35355339-0.35355339j  0.        +0.j\n",
            "   0.35355339-0.35355339j  0.        +0.j          0.35355339+0.35355339j\n",
            "   0.        +0.j          0.35355339+0.35355339j]]\n"
          ]
        }
      ]
    },
    {
      "cell_type": "markdown",
      "source": [
        "## Resolving non-adjacent interactions\n",
        "Interactions between non-adjacent qubits can be resolved by QubitCircuit to a series of adjacent interactions, which is useful for systems such as spin chain models."
      ],
      "metadata": {
        "id": "c7IevoObt2z0"
      }
    },
    {
      "cell_type": "code",
      "source": [
        "qc8 = QubitCircuit(3)\n",
        "qc8.add_gate(\"CNOT\", 2, 0)"
      ],
      "metadata": {
        "id": "5BvTTWcSty-A"
      },
      "execution_count": 64,
      "outputs": []
    },
    {
      "cell_type": "code",
      "source": [
        "U8 = gate_sequence_product(qc8.propagators())\n",
        "print(U8)"
      ],
      "metadata": {
        "colab": {
          "base_uri": "https://localhost:8080/"
        },
        "id": "TtpEOPdut6sZ",
        "outputId": "5a8c868e-3096-477c-94d4-d593071296a1"
      },
      "execution_count": 65,
      "outputs": [
        {
          "output_type": "stream",
          "name": "stdout",
          "text": [
            "Quantum object: dims = [[2, 2, 2], [2, 2, 2]], shape = (8, 8), type = oper, isherm = True\n",
            "Qobj data =\n",
            "[[1. 0. 0. 0. 0. 0. 0. 0.]\n",
            " [0. 1. 0. 0. 0. 0. 0. 0.]\n",
            " [0. 0. 1. 0. 0. 0. 0. 0.]\n",
            " [0. 0. 0. 1. 0. 0. 0. 0.]\n",
            " [0. 0. 0. 0. 0. 1. 0. 0.]\n",
            " [0. 0. 0. 0. 1. 0. 0. 0.]\n",
            " [0. 0. 0. 0. 0. 0. 0. 1.]\n",
            " [0. 0. 0. 0. 0. 0. 1. 0.]]\n"
          ]
        }
      ]
    },
    {
      "cell_type": "code",
      "source": [
        "qc9 = qc8.adjacent_gates()\n",
        "qc9.gates"
      ],
      "metadata": {
        "colab": {
          "base_uri": "https://localhost:8080/"
        },
        "id": "Mht2qYGlt_cM",
        "outputId": "9800fe35-c73b-4517-cec7-a7c040761dbb"
      },
      "execution_count": 66,
      "outputs": [
        {
          "output_type": "execute_result",
          "data": {
            "text/plain": [
              "[Gate(SWAP, targets=[0, 1], controls=None, classical controls=None, control_value=None),\n",
              " Gate(CNOT, targets=[2], controls=[1], classical controls=None, control_value=None),\n",
              " Gate(SWAP, targets=[0, 1], controls=None, classical controls=None, control_value=None)]"
            ]
          },
          "metadata": {},
          "execution_count": 66
        }
      ]
    },
    {
      "cell_type": "code",
      "source": [
        "U9 = gate_sequence_product(qc9.propagators())\n",
        "print(U9)"
      ],
      "metadata": {
        "colab": {
          "base_uri": "https://localhost:8080/"
        },
        "id": "4Q0mb5y-uCHW",
        "outputId": "a51f762b-0099-498f-f34a-8e45d68db0eb"
      },
      "execution_count": 67,
      "outputs": [
        {
          "output_type": "stream",
          "name": "stdout",
          "text": [
            "Quantum object: dims = [[2, 2, 2], [2, 2, 2]], shape = (8, 8), type = oper, isherm = True\n",
            "Qobj data =\n",
            "[[1. 0. 0. 0. 0. 0. 0. 0.]\n",
            " [0. 1. 0. 0. 0. 0. 0. 0.]\n",
            " [0. 0. 1. 0. 0. 0. 0. 0.]\n",
            " [0. 0. 0. 1. 0. 0. 0. 0.]\n",
            " [0. 0. 0. 0. 0. 1. 0. 0.]\n",
            " [0. 0. 0. 0. 1. 0. 0. 0.]\n",
            " [0. 0. 0. 0. 0. 0. 0. 1.]\n",
            " [0. 0. 0. 0. 0. 0. 1. 0.]]\n"
          ]
        }
      ]
    },
    {
      "cell_type": "code",
      "source": [
        "qc10 = qc9.resolve_gates(\"CNOT\")"
      ],
      "metadata": {
        "id": "Ytnkm7-ZuGK1"
      },
      "execution_count": 68,
      "outputs": []
    },
    {
      "cell_type": "code",
      "source": [
        "U10 = gate_sequence_product(qc10.propagators())\n",
        "print(U10)"
      ],
      "metadata": {
        "colab": {
          "base_uri": "https://localhost:8080/"
        },
        "id": "8jsSf0SFuIs-",
        "outputId": "9005b9e3-0a18-4fca-970a-9d92f82c43df"
      },
      "execution_count": 69,
      "outputs": [
        {
          "output_type": "stream",
          "name": "stdout",
          "text": [
            "Quantum object: dims = [[2, 2, 2], [2, 2, 2]], shape = (8, 8), type = oper, isherm = True\n",
            "Qobj data =\n",
            "[[1. 0. 0. 0. 0. 0. 0. 0.]\n",
            " [0. 1. 0. 0. 0. 0. 0. 0.]\n",
            " [0. 0. 1. 0. 0. 0. 0. 0.]\n",
            " [0. 0. 0. 1. 0. 0. 0. 0.]\n",
            " [0. 0. 0. 0. 0. 1. 0. 0.]\n",
            " [0. 0. 0. 0. 1. 0. 0. 0.]\n",
            " [0. 0. 0. 0. 0. 0. 0. 1.]\n",
            " [0. 0. 0. 0. 0. 0. 1. 0.]]\n"
          ]
        }
      ]
    },
    {
      "cell_type": "markdown",
      "source": [
        "### Adding gate in the middle of a circuit\n",
        "From QuTiP 4.4 one can add a gate at an arbitrary position of a circuit. All one needs to do is to specify the parameter index. With this, we can also add the same gate at multiple positions at the same time."
      ],
      "metadata": {
        "id": "24m_1PDauOaQ"
      }
    },
    {
      "cell_type": "code",
      "source": [
        "qc = QubitCircuit(1)\n",
        "qc.add_gate(\"RX\", targets=1, arg_value=np.pi/2)\n",
        "qc.add_gate(\"RX\", targets=1, arg_value=np.pi/2)\n",
        "qc.add_gate(\"RY\", targets=1, arg_value=np.pi/2, index=[0])\n",
        "qc.gates"
      ],
      "metadata": {
        "colab": {
          "base_uri": "https://localhost:8080/"
        },
        "id": "-SVMQ8uZuMAG",
        "outputId": "0e3f80dd-5748-4fc1-f93e-84fdf825fbe8"
      },
      "execution_count": 70,
      "outputs": [
        {
          "output_type": "execute_result",
          "data": {
            "text/plain": [
              "[Gate(RY, targets=[1], controls=None, classical controls=None, control_value=None),\n",
              " Gate(RX, targets=[1], controls=None, classical controls=None, control_value=None),\n",
              " Gate(RX, targets=[1], controls=None, classical controls=None, control_value=None)]"
            ]
          },
          "metadata": {},
          "execution_count": 70
        }
      ]
    },
    {
      "cell_type": "markdown",
      "source": [
        "## User defined gates\n",
        "From QuTiP 4.4 on, user defined gates can be defined by a python function that takes at most one parameter and return a Qobj, the dimension of the Qobj has to match the qubit system."
      ],
      "metadata": {
        "id": "IfL3EOKluVEV"
      }
    },
    {
      "cell_type": "code",
      "source": [
        "def user_gate1(arg_value):\n",
        "    # controlled rotation X\n",
        "    mat = np.zeros((4, 4), dtype=np.complex)\n",
        "    mat[0, 0] = mat[1, 1] = 1.\n",
        "    mat[2:4, 2:4] = rx(arg_value)\n",
        "    return Qobj(mat, dims=[[2, 2], [2, 2]])\n",
        "\n",
        "def user_gate2():\n",
        "    # S gate\n",
        "    mat = np.array([[1.,   0],\n",
        "                    [0., 1.j]])\n",
        "    return Qobj(mat, dims=[[2], [2]])"
      ],
      "metadata": {
        "id": "NdZAqO0auS7D"
      },
      "execution_count": 71,
      "outputs": []
    },
    {
      "cell_type": "markdown",
      "source": [
        "To let the QubitCircuit process those gates, we need to modify its attribute QubitCircuit.user_gates, which is a python dictionary in the form {name: gate_function}."
      ],
      "metadata": {
        "id": "oafi1YmmucQU"
      }
    },
    {
      "cell_type": "code",
      "source": [
        "qc = QubitCircuit(2)\n",
        "qc.user_gates = {\"CTRLRX\": user_gate1, \n",
        "                 \"S\"     : user_gate2}"
      ],
      "metadata": {
        "id": "IFQyrkoXuaBC"
      },
      "execution_count": 72,
      "outputs": []
    },
    {
      "cell_type": "markdown",
      "source": [
        "When calling the add_gate method, the target qubits and the argument need to be given."
      ],
      "metadata": {
        "id": "OTVoGqqfuhaP"
      }
    },
    {
      "cell_type": "code",
      "source": [
        "# qubit 0 controls qubit 1\n",
        "qc.add_gate(\"CTRLRX\", targets=[0,1], arg_value=np.pi/2)\n",
        "# qubit 1 controls qubit 0\n",
        "qc.add_gate(\"CTRLRX\", targets=[1,0], arg_value=np.pi/2)\n",
        "# a gate can also be added using the Gate class\n",
        "g_T = Gate(\"S\", targets=[1])\n",
        "qc.add_gate(\"S\", targets=[1])\n",
        "props = qc.propagators()"
      ],
      "metadata": {
        "colab": {
          "base_uri": "https://localhost:8080/"
        },
        "id": "I5AJAAdKufN6",
        "outputId": "97baadc6-e722-4b3d-f411-b53d85252255"
      },
      "execution_count": 74,
      "outputs": [
        {
          "output_type": "stream",
          "name": "stderr",
          "text": [
            "<ipython-input-71-0c4e722f5dae>:3: DeprecationWarning: `np.complex` is a deprecated alias for the builtin `complex`. To silence this warning, use `complex` by itself. Doing this will not modify any behavior and is safe. If you specifically wanted the numpy scalar type, use `np.complex128` here.\n",
            "Deprecated in NumPy 1.20; for more details and guidance: https://numpy.org/devdocs/release/1.20.0-notes.html#deprecations\n",
            "  mat = np.zeros((4, 4), dtype=np.complex)\n"
          ]
        }
      ]
    },
    {
      "cell_type": "code",
      "source": [
        "props[0] # qubit 0 controls qubit 1"
      ],
      "metadata": {
        "colab": {
          "base_uri": "https://localhost:8080/",
          "height": 54
        },
        "id": "pt-SbSA_ukId",
        "outputId": "24848177-fca6-4350-9fde-ae9096415410"
      },
      "execution_count": 76,
      "outputs": [
        {
          "output_type": "execute_result",
          "data": {
            "text/plain": [
              "Quantum object: dims = [[2, 2], [2, 2]], shape = (4, 4), type = oper, isherm = False\n",
              "Qobj data =\n",
              "[[1.        +0.j         0.        +0.j         0.        +0.j\n",
              "  0.        +0.j        ]\n",
              " [0.        +0.j         1.        +0.j         0.        +0.j\n",
              "  0.        +0.j        ]\n",
              " [0.        +0.j         0.        +0.j         0.70710678+0.j\n",
              "  0.        -0.70710678j]\n",
              " [0.        +0.j         0.        +0.j         0.        -0.70710678j\n",
              "  0.70710678+0.j        ]]"
            ],
            "text/latex": "Quantum object: dims = [[2, 2], [2, 2]], shape = (4, 4), type = oper, isherm = False $ \\\\ \\left(\\begin{matrix}1.0 & 0.0 & 0.0 & 0.0\\\\0.0 & 1.0 & 0.0 & 0.0\\\\0.0 & 0.0 & 0.707 & -0.707j\\\\0.0 & 0.0 & -0.707j & 0.707\\\\\\end{matrix}\\right)$"
          },
          "metadata": {},
          "execution_count": 76
        }
      ]
    },
    {
      "cell_type": "code",
      "source": [
        "props[1] # qubit 1 controls qubit 0"
      ],
      "metadata": {
        "colab": {
          "base_uri": "https://localhost:8080/",
          "height": 54
        },
        "id": "oNseiq4CupaI",
        "outputId": "eb998b96-8657-4b6f-b493-a872d6e42761"
      },
      "execution_count": 77,
      "outputs": [
        {
          "output_type": "execute_result",
          "data": {
            "text/plain": [
              "Quantum object: dims = [[2, 2], [2, 2]], shape = (4, 4), type = oper, isherm = False\n",
              "Qobj data =\n",
              "[[1.        +0.j         0.        +0.j         0.        +0.j\n",
              "  0.        +0.j        ]\n",
              " [0.        +0.j         0.70710678+0.j         0.        +0.j\n",
              "  0.        -0.70710678j]\n",
              " [0.        +0.j         0.        +0.j         1.        +0.j\n",
              "  0.        +0.j        ]\n",
              " [0.        +0.j         0.        -0.70710678j 0.        +0.j\n",
              "  0.70710678+0.j        ]]"
            ],
            "text/latex": "Quantum object: dims = [[2, 2], [2, 2]], shape = (4, 4), type = oper, isherm = False $ \\\\ \\left(\\begin{matrix}1.0 & 0.0 & 0.0 & 0.0\\\\0.0 & 0.707 & 0.0 & -0.707j\\\\0.0 & 0.0 & 1.0 & 0.0\\\\0.0 & -0.707j & 0.0 & 0.707\\\\\\end{matrix}\\right)$"
          },
          "metadata": {},
          "execution_count": 77
        }
      ]
    },
    {
      "cell_type": "code",
      "source": [
        "props[2] # S  gate acts on qubit 1"
      ],
      "metadata": {
        "colab": {
          "base_uri": "https://localhost:8080/",
          "height": 54
        },
        "id": "lgdM-wK7uxZ5",
        "outputId": "21153225-45bc-4419-d78f-887bd11674dd"
      },
      "execution_count": 78,
      "outputs": [
        {
          "output_type": "execute_result",
          "data": {
            "text/plain": [
              "Quantum object: dims = [[2, 2], [2, 2]], shape = (4, 4), type = oper, isherm = False\n",
              "Qobj data =\n",
              "[[1.+0.j 0.+0.j 0.+0.j 0.+0.j]\n",
              " [0.+0.j 0.+1.j 0.+0.j 0.+0.j]\n",
              " [0.+0.j 0.+0.j 1.+0.j 0.+0.j]\n",
              " [0.+0.j 0.+0.j 0.+0.j 0.+1.j]]"
            ],
            "text/latex": "Quantum object: dims = [[2, 2], [2, 2]], shape = (4, 4), type = oper, isherm = False $ \\\\ \\left(\\begin{matrix}1.0 & 0.0 & 0.0 & 0.0\\\\0.0 & 1.0j & 0.0 & 0.0\\\\0.0 & 0.0 & 1.0 & 0.0\\\\0.0 & 0.0 & 0.0 & 1.0j\\\\\\end{matrix}\\right)$"
          },
          "metadata": {},
          "execution_count": 78
        }
      ]
    },
    {
      "cell_type": "markdown",
      "source": [
        "## Software Versions"
      ],
      "metadata": {
        "id": "1UZDTynfu5N6"
      }
    },
    {
      "cell_type": "code",
      "source": [
        "from qutip.ipynbtools import version_table\n",
        "version_table()"
      ],
      "metadata": {
        "colab": {
          "base_uri": "https://localhost:8080/",
          "height": 270
        },
        "id": "3MoF25Rzu2Ua",
        "outputId": "23e3631f-762f-42c0-aadd-530343020e32"
      },
      "execution_count": 79,
      "outputs": [
        {
          "output_type": "execute_result",
          "data": {
            "text/plain": [
              "<IPython.core.display.HTML object>"
            ],
            "text/html": [
              "<table><tr><th>Software</th><th>Version</th></tr><tr><td>QuTiP</td><td>4.7.1</td></tr><tr><td>Numpy</td><td>1.21.6</td></tr><tr><td>SciPy</td><td>1.7.3</td></tr><tr><td>matplotlib</td><td>3.2.2</td></tr><tr><td>Cython</td><td>0.29.33</td></tr><tr><td>Number of CPUs</td><td>2</td></tr><tr><td>BLAS Info</td><td>OPENBLAS</td></tr><tr><td>IPython</td><td>7.9.0</td></tr><tr><td>Python</td><td>3.8.10 (default, Nov 14 2022, 12:59:47) \n",
              "[GCC 9.4.0]</td></tr><tr><td>OS</td><td>posix [linux]</td></tr><tr><td colspan='2'>Wed Feb 08 06:34:33 2023 UTC</td></tr></table>"
            ]
          },
          "metadata": {},
          "execution_count": 79
        }
      ]
    }
  ],
  "metadata": {
    "colab": {
      "provenance": []
    },
    "kernelspec": {
      "display_name": "Python 3",
      "name": "python3"
    },
    "language_info": {
      "name": "python"
    }
  },
  "nbformat": 4,
  "nbformat_minor": 0
}