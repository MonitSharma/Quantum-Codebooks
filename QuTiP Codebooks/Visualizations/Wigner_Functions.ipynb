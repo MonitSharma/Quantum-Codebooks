{
  "nbformat": 4,
  "nbformat_minor": 0,
  "metadata": {
    "colab": {
      "provenance": []
    },
    "kernelspec": {
      "name": "python3",
      "display_name": "Python 3"
    },
    "language_info": {
      "name": "python"
    }
  },
  "cells": [
    {
      "cell_type": "markdown",
      "source": [
        "# Wigner functions"
      ],
      "metadata": {
        "id": "cDSCNzcl0_Up"
      }
    },
    {
      "cell_type": "markdown",
      "source": [
        "Wigner functions are a type of quasiprobability distribution that provide a convenient way to describe the quantum state of a system. They are named after Eugene Wigner and have become a standard tool in quantum mechanics. Wigner functions are defined in phase space and can be used to calculate quantum mechanical expectation values in terms of classical quantities.\n",
        "\n",
        "\n",
        "----\n",
        "\n",
        "\n",
        "To visualize Wigner functions in Qutip, a Python library for quantum mechanics, one can use the qutip.wigner function. This function takes a quantum state as input and returns its Wigner function as a two-dimensional array. Visualizing the Wigner function provides insight into the quantum state and can reveal features that are not apparent from the density matrix alone. For example, negative values in the Wigner function indicate quantum interference, which is a fundamental aspect of quantum mechanics. By visualizing the Wigner function, one can gain a better understanding of quantum systems and explore their behavior."
      ],
      "metadata": {
        "id": "2rBHWV431ulu"
      }
    },
    {
      "cell_type": "code",
      "execution_count": 1,
      "metadata": {
        "colab": {
          "base_uri": "https://localhost:8080/"
        },
        "id": "Sl8Iigf608hl",
        "outputId": "e828d157-f19d-4a62-f97f-03caa691d82c"
      },
      "outputs": [
        {
          "output_type": "stream",
          "name": "stdout",
          "text": [
            "Looking in indexes: https://pypi.org/simple, https://us-python.pkg.dev/colab-wheels/public/simple/\n",
            "Collecting qutip\n",
            "  Downloading qutip-4.7.1-cp38-cp38-manylinux_2_17_x86_64.manylinux2014_x86_64.whl (16.7 MB)\n",
            "\u001b[2K     \u001b[90m━━━━━━━━━━━━━━━━━━━━━━━━━━━━━━━━━━━━━━━━\u001b[0m \u001b[32m16.7/16.7 MB\u001b[0m \u001b[31m41.9 MB/s\u001b[0m eta \u001b[36m0:00:00\u001b[0m\n",
            "\u001b[?25hRequirement already satisfied: numpy>=1.16.6 in /usr/local/lib/python3.8/dist-packages (from qutip) (1.21.6)\n",
            "Requirement already satisfied: scipy>=1.0 in /usr/local/lib/python3.8/dist-packages (from qutip) (1.7.3)\n",
            "Requirement already satisfied: packaging in /usr/local/lib/python3.8/dist-packages (from qutip) (23.0)\n",
            "Installing collected packages: qutip\n",
            "Successfully installed qutip-4.7.1\n"
          ]
        }
      ],
      "source": [
        "%pip install qutip"
      ]
    },
    {
      "cell_type": "code",
      "source": [
        "import matplotlib.pyplot as plt\n",
        "import numpy as np\n",
        "from matplotlib import cm\n",
        "from mpl_toolkits.mplot3d import Axes3D\n",
        "from qutip import about, basis, destroy, mesolve, ptrace, qeye, tensor, wigner\n",
        "from qutip.ipynbtools import plot_animation\n",
        "\n",
        "%matplotlib inline"
      ],
      "metadata": {
        "id": "LVUUUCsA1CpC"
      },
      "execution_count": 2,
      "outputs": []
    },
    {
      "cell_type": "code",
      "source": [
        "def jc_integrate(N, wc, wa, g, kappa, gamma, psi0, use_rwa, tlist):\n",
        "\n",
        "    # Hamiltonian\n",
        "    idc = qeye(N)\n",
        "    ida = qeye(2)\n",
        "\n",
        "    a = tensor(destroy(N), ida)\n",
        "    sm = tensor(idc, destroy(2))\n",
        "\n",
        "    if use_rwa:\n",
        "        # use the rotating wave approxiation\n",
        "        H = wc * a.dag() * a + wa * sm.dag() * sm + \\\n",
        "            g * (a.dag() * sm + a * sm.dag())\n",
        "    else:\n",
        "        H = wc * a.dag() * a + wa * sm.dag() * sm + \\\n",
        "            g * (a.dag() + a) * (sm + sm.dag())\n",
        "\n",
        "    # collapse operators\n",
        "    c_op_list = []\n",
        "\n",
        "    n_th_a = 0.0  # zero temperature\n",
        "\n",
        "    rate = kappa * (1 + n_th_a)\n",
        "    if rate > 0.0:\n",
        "        c_op_list.append(np.sqrt(rate) * a)\n",
        "\n",
        "    rate = kappa * n_th_a\n",
        "    if rate > 0.0:\n",
        "        c_op_list.append(np.sqrt(rate) * a.dag())\n",
        "\n",
        "    rate = gamma\n",
        "    if rate > 0.0:\n",
        "        c_op_list.append(np.sqrt(rate) * sm)\n",
        "\n",
        "    # evolve and calculate return state vectors\n",
        "    result = mesolve(H, psi0, tlist, c_op_list, [])\n",
        "\n",
        "    return result"
      ],
      "metadata": {
        "id": "Cxki1Xgu1EPa"
      },
      "execution_count": 3,
      "outputs": []
    },
    {
      "cell_type": "code",
      "source": [
        "# parameters\n",
        "wc = 1.0 * 2 * np.pi  # cavity frequency\n",
        "wa = 1.0 * 2 * np.pi  # atom frequency\n",
        "g = 0.05 * 2 * np.pi  # coupling strength\n",
        "kappa = 0.05  # cavity dissipation rate\n",
        "gamma = 0.15  # atom dissipation rate\n",
        "N = 10  # number of cavity fock states\n",
        "\n",
        "use_rwa = True\n",
        "\n",
        "# start with an excited atom\n",
        "psi0 = tensor(basis(N, 0), basis(2, 1))\n",
        "# or a coherent state the in cavity\n",
        "# psi0 = tensor(coherent(N,1.5), basis(2,0))\n",
        "# or a superposition of coherent states\n",
        "# psi0 = tensor((coherent(N,2.0)+coherent(N,-2.0)).unit(), basis(2,0))\n",
        "\n",
        "tlist = np.linspace(0, 30, 150)"
      ],
      "metadata": {
        "id": "XW5F8gC21IdM"
      },
      "execution_count": 4,
      "outputs": []
    },
    {
      "cell_type": "code",
      "source": [
        "result = jc_integrate(N, wc, wa, g, kappa, gamma, psi0, use_rwa, tlist)"
      ],
      "metadata": {
        "id": "KucBzdwX1Lnd"
      },
      "execution_count": 5,
      "outputs": []
    },
    {
      "cell_type": "code",
      "source": [
        "xvec = np.linspace(-5.0, 5.0, 100)\n",
        "X, Y = np.meshgrid(xvec, xvec)"
      ],
      "metadata": {
        "id": "R4b8Dwzg1NRi"
      },
      "execution_count": 6,
      "outputs": []
    },
    {
      "cell_type": "code",
      "source": [
        "def plot_setup(result):\n",
        "\n",
        "    fig = plt.figure(figsize=(12, 6))\n",
        "    ax = Axes3D(fig, azim=-107, elev=49)\n",
        "\n",
        "    return fig, ax"
      ],
      "metadata": {
        "id": "SMuJ990I1O_h"
      },
      "execution_count": 7,
      "outputs": []
    },
    {
      "cell_type": "code",
      "source": [
        "cb = None\n",
        "\n",
        "\n",
        "def plot_result(result, n, fig=None, axes=None):\n",
        "\n",
        "    global cb\n",
        "\n",
        "    if fig is None or axes is None:\n",
        "        fig, ax = plot_setup(result)\n",
        "\n",
        "    axes.cla()\n",
        "\n",
        "    # trace out the atom\n",
        "    rho_cavity = ptrace(result.states[n], 0)\n",
        "\n",
        "    W = wigner(rho_cavity, xvec, xvec)\n",
        "\n",
        "    surf = axes.plot_surface(\n",
        "        X,\n",
        "        Y,\n",
        "        W,\n",
        "        rstride=1,\n",
        "        cstride=1,\n",
        "        cmap=cm.jet,\n",
        "        alpha=1.0,\n",
        "        linewidth=0.05,\n",
        "        vmax=0.25,\n",
        "        vmin=-0.25,\n",
        "    )\n",
        "    axes.set_xlim3d(-5, 5)\n",
        "    axes.set_ylim3d(-5, 5)\n",
        "    axes.set_zlim3d(-0.25, 0.25)\n",
        "\n",
        "    if not cb:\n",
        "        cb = plt.colorbar(surf, shrink=0.65, aspect=20)\n",
        "\n",
        "    return axes.artists"
      ],
      "metadata": {
        "id": "IT6SOs-c1QZd"
      },
      "execution_count": 8,
      "outputs": []
    },
    {
      "cell_type": "code",
      "source": [
        "plot_animation(plot_setup, plot_result, result, writer=\"ffmpeg\", codec=None)"
      ],
      "metadata": {
        "id": "KHP1lf0k1Sgt"
      },
      "execution_count": null,
      "outputs": []
    },
    {
      "cell_type": "markdown",
      "source": [
        "## Software Versions"
      ],
      "metadata": {
        "id": "g2OT58lY1Vlg"
      }
    },
    {
      "cell_type": "code",
      "source": [
        "about()"
      ],
      "metadata": {
        "id": "J_zyPZ9M1Uej"
      },
      "execution_count": null,
      "outputs": []
    }
  ]
}