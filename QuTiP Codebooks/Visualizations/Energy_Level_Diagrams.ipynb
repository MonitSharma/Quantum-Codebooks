{
  "nbformat": 4,
  "nbformat_minor": 0,
  "metadata": {
    "colab": {
      "provenance": []
    },
    "kernelspec": {
      "name": "python3",
      "display_name": "Python 3"
    },
    "language_info": {
      "name": "python"
    }
  },
  "cells": [
    {
      "cell_type": "markdown",
      "source": [
        "# Energy Level Diagrams\n"
      ],
      "metadata": {
        "id": "FgVrPcMSNLRx"
      }
    },
    {
      "cell_type": "code",
      "source": [
        "%pip install qutip"
      ],
      "metadata": {
        "colab": {
          "base_uri": "https://localhost:8080/"
        },
        "id": "oxFCxiepNW5k",
        "outputId": "d6386795-3d6c-4e91-e077-b08009c24a8a"
      },
      "execution_count": 1,
      "outputs": [
        {
          "output_type": "stream",
          "name": "stdout",
          "text": [
            "Looking in indexes: https://pypi.org/simple, https://us-python.pkg.dev/colab-wheels/public/simple/\n",
            "Collecting qutip\n",
            "  Downloading qutip-4.7.1-cp38-cp38-manylinux_2_17_x86_64.manylinux2014_x86_64.whl (16.7 MB)\n",
            "\u001b[2K     \u001b[90m━━━━━━━━━━━━━━━━━━━━━━━━━━━━━━━━━━━━━━━━\u001b[0m \u001b[32m16.7/16.7 MB\u001b[0m \u001b[31m46.1 MB/s\u001b[0m eta \u001b[36m0:00:00\u001b[0m\n",
            "\u001b[?25hRequirement already satisfied: scipy>=1.0 in /usr/local/lib/python3.8/dist-packages (from qutip) (1.7.3)\n",
            "Requirement already satisfied: packaging in /usr/local/lib/python3.8/dist-packages (from qutip) (23.0)\n",
            "Requirement already satisfied: numpy>=1.16.6 in /usr/local/lib/python3.8/dist-packages (from qutip) (1.21.6)\n",
            "Installing collected packages: qutip\n",
            "Successfully installed qutip-4.7.1\n"
          ]
        }
      ]
    },
    {
      "cell_type": "code",
      "execution_count": 2,
      "metadata": {
        "id": "yY2uzl53NG3d"
      },
      "outputs": [],
      "source": [
        "import numpy as np\n",
        "import matplotlib.pyplot as plt\n",
        "from qutip import about, qeye, sigmax, sigmaz, tensor\n",
        "\n",
        "%matplotlib inline\n"
      ]
    },
    {
      "cell_type": "markdown",
      "source": [
        "## Energy Spectrum of three coupled qubits"
      ],
      "metadata": {
        "id": "fPAqxVEHNg7Y"
      }
    },
    {
      "cell_type": "code",
      "source": [
        "def compute(w1list, w2, w3, g12, g13):\n",
        "\n",
        "    # Pre-compute operators for the hamiltonian\n",
        "    sz1 = tensor(sigmaz(), qeye(2), qeye(2))\n",
        "    sx1 = tensor(sigmax(), qeye(2), qeye(2))\n",
        "\n",
        "    sz2 = tensor(qeye(2), sigmaz(), qeye(2))\n",
        "    sx2 = tensor(qeye(2), sigmax(), qeye(2))\n",
        "\n",
        "    sz3 = tensor(qeye(2), qeye(2), sigmaz())\n",
        "    sx3 = tensor(qeye(2), qeye(2), sigmax())\n",
        "\n",
        "    idx = 0\n",
        "    evals_mat = np.zeros((len(w1list), 2 * 2 * 2))\n",
        "    for w1 in w1list:\n",
        "\n",
        "        # evaluate the Hamiltonian\n",
        "        H = w1 * sz1 + w2 * sz2 + w3 * sz3 + g12 * sx1 * sx2 + g13 * sx1 * sx3\n",
        "\n",
        "        # find the energy eigenvalues of the composite system\n",
        "        evals, ekets = H.eigenstates()\n",
        "\n",
        "        evals_mat[idx, :] = np.real(evals)\n",
        "\n",
        "        idx += 1\n",
        "\n",
        "    return evals_mat"
      ],
      "metadata": {
        "id": "3motLo7oNfsH"
      },
      "execution_count": 3,
      "outputs": []
    },
    {
      "cell_type": "code",
      "source": [
        "w1 = 1.0 * 2 * np.pi  # atom 1 frequency: sweep this one\n",
        "w2 = 0.9 * 2 * np.pi  # atom 2 frequency\n",
        "w3 = 1.1 * 2 * np.pi  # atom 3 frequency\n",
        "g12 = 0.05 * 2 * np.pi  # atom1-atom2 coupling strength\n",
        "g13 = 0.05 * 2 * np.pi  # atom1-atom3 coupling strength\n",
        "\n",
        "w1list = np.linspace(0.75, 1.25, 50) * 2 * np.pi  # atom 1 frequency range"
      ],
      "metadata": {
        "id": "Ylq6oXhlNmKI"
      },
      "execution_count": 4,
      "outputs": []
    },
    {
      "cell_type": "code",
      "source": [
        "evals_mat = compute(w1list, w2, w3, g12, g13)"
      ],
      "metadata": {
        "id": "TY_rMM9yNqt-"
      },
      "execution_count": 5,
      "outputs": []
    },
    {
      "cell_type": "code",
      "source": [
        "fig, ax = plt.subplots(figsize=(12, 6))\n",
        "\n",
        "for n in [1, 2, 3]:\n",
        "    ax.plot(w1list / (2 * np.pi),\n",
        "            (evals_mat[:, n] - evals_mat[:, 0]) / (2 * np.pi), \"b\")\n",
        "\n",
        "ax.set_xlabel(\"Energy splitting of atom 1\")\n",
        "ax.set_ylabel(\"Eigenenergies\")\n",
        "ax.set_title(\"Energy spectrum of three coupled qubits\");"
      ],
      "metadata": {
        "colab": {
          "base_uri": "https://localhost:8080/",
          "height": 364
        },
        "id": "d0MaV6_0NswM",
        "outputId": "17ccd660-cbbe-4a1b-f5cc-4ffe747e1e86"
      },
      "execution_count": 7,
      "outputs": [
        {
          "output_type": "display_data",
          "data": {
            "text/plain": [
              "<Figure size 864x432 with 1 Axes>"
            ],
            "image/png": "[encoded data removed]"
          },
          "metadata": {
            "needs_background": "light"
          }
        }
      ]
    },
    {
      "cell_type": "markdown",
      "source": [
        "## Software Versions"
      ],
      "metadata": {
        "id": "0YnpFAbXN3Xy"
      }
    },
    {
      "cell_type": "code",
      "source": [
        "about()"
      ],
      "metadata": {
        "colab": {
          "base_uri": "https://localhost:8080/"
        },
        "id": "O87la1AnNu2z",
        "outputId": "70688b88-bd31-415b-ff38-68a99b719ecc"
      },
      "execution_count": 8,
      "outputs": [
        {
          "output_type": "stream",
          "name": "stdout",
          "text": [
            "\n",
            "QuTiP: Quantum Toolbox in Python\n",
            "================================\n",
            "Copyright (c) QuTiP team 2011 and later.\n",
            "Current admin team: Alexander Pitchford, Nathan Shammah, Shahnawaz Ahmed, Neill Lambert, Eric Giguère, Boxi Li, Jake Lishman, Simon Cross and Asier Galicia.\n",
            "Board members: Daniel Burgarth, Robert Johansson, Anton F. Kockum, Franco Nori and Will Zeng.\n",
            "Original developers: R. J. Johansson & P. D. Nation.\n",
            "Previous lead developers: Chris Granade & A. Grimsmo.\n",
            "Currently developed through wide collaboration. See https://github.com/qutip for details.\n",
            "\n",
            "QuTiP Version:      4.7.1\n",
            "Numpy Version:      1.21.6\n",
            "Scipy Version:      1.7.3\n",
            "Cython Version:     0.29.33\n",
            "Matplotlib Version: 3.2.2\n",
            "Python Version:     3.8.10\n",
            "Number of CPUs:     2\n",
            "BLAS Info:          OPENBLAS\n",
            "OPENMP Installed:   False\n",
            "INTEL MKL Ext:      False\n",
            "Platform Info:      Linux (x86_64)\n",
            "Installation path:  /usr/local/lib/python3.8/dist-packages/qutip\n",
            "================================================================================\n",
            "Please cite QuTiP in your publication.\n",
            "================================================================================\n",
            "For your convenience a bibtex reference can be easily generated using `qutip.cite()`\n"
          ]
        }
      ]
    },
    {
      "cell_type": "code",
      "source": [],
      "metadata": {
        "id": "qT49rgsqN5wa"
      },
      "execution_count": null,
      "outputs": []
    }
  ]
}