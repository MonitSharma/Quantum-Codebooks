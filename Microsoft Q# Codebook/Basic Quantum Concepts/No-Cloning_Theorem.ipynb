{
 "cells": [
  {
   "cell_type": "markdown",
   "metadata": {},
   "source": [
    "## 1.5 The No-Cloning Theorem\n",
    "\n",
    "The No-Cloning theorem states that we cannot copy an arbitrary quantum state from one qubit [or set of\n",
    "qubits) to another qubit (or set of qubits). The No-Cloning theorem was first proven by (James Park in\n",
    "1970](https://citeseerx.ist.psu.edu/viewdoc/summary?doi=10.1.1.623.5267) and then re-discovered by [Wootters and Zurek](https://www.nature.com/articles/299802a0) and [Dieks](https://citeseerx.ist.psu.edu/viewdoc/summary?doi=10.1.1.654.7183) in 1982. Classical programmers are\n",
    "accustomed to making copies of state to execute various algorithms, but the nature of quantum\n",
    "mechanics makes this impossible for quantum computing.\n",
    "\n",
    "For an arbitrary state, let's say for one qubit, $|\\phi\\rangle=\\alpha|0\\rangle+\\beta|1\\rangle$. A copy function would act like\n",
    "this: $Copy(|\\phi\\rangle \\otimes |0\\rangle)$ would produce $|\\phi\\rangle \\otimes |\\phi\\rangle$ where we copy the state $|\\phi\\rangle$ over the $|0\\rangle$ state. Can\n",
    "this $Copy$ function exist? (Recall from the discussion above, that in order to be a quantum operator, this\n",
    "$Copy$ function must be unitary).\n",
    "\n",
    "There are many different proofs of the No-Cloning Theorem and all of them follow the same\n",
    "pattern - assume we have such a Copy function like this one and then prove that in order for the function\n",
    "to exist, it would have to be non-Unitary, which is a contradiction. The proof below is due to the [Brilliant\n",
    "Quantum Computing course](https://brilliant.org/courses/quantum-computing/).\n",
    "\n",
    "\n",
    "_Math insert – Proof of No-Cloning Theorem_-------------------------------------------------------------------\n",
    "\n",
    ">Assume we have a function, Copy, such that:\n",
    ">\n",
    ">$Copy (|\\phi\\rangle \\otimes |0\\rangle)=|\\phi\\rangle \\otimes |\\phi\\rangle$\n",
    ">\n",
    ">which would expand out to (substituting for $|\\phi\\rangle$):\n",
    ">\n",
    ">$=(\\alpha|0\\rangle+\\beta|1\\rangle) \\otimes (\\alpha|0\\rangle+\\beta|1\\rangle)$\n",
    ">$=\\alpha^2|00\\rangle+\\beta^2|11\\rangle+\\alpha\\beta(|01\\rangle+|10\\rangle)$. eq.(1.5.1)\n",
    ">\n",
    ">You can also evaluate the Copy function by expanding $|\\phi\\rangle$ first:\n",
    ">$Copy(|\\phi\\rangle \\otimes |0\\rangle) = Copy(\\alpha|0\\rangle \\otimes |1\\rangle+\\beta|1\\rangle \\otimes |1\\rangle)$\n",
    ">$=\\alpha(Copy|00\\rangle)+\\beta(Copy|10\\rangle)$\n",
    ">$=\\alpha|00\\rangle+\\beta|11\\rangle$. eq.(1.5.2)\n",
    ">\n",
    ">Here we have our contradiction, because both eq.(1.5.1) and eq.(1.5.2) cannot be true at the same time for\n",
    "an arbitrary state.\n",
    "\n",
    "An alternative formulation of the No-Cloning Theorem can be found in [Physics, Topology, Logic\n",
    "and Computation](https://arxiv.org/abs/0903.0340v3): A Rosetta Stone, on page 19. Here is a brief quote:\n",
    "\n",
    "_In the case of Set, this says that every point of the set $X x X'$ comes from a point of X and a point of X′. In\n",
    "physics, this would say that every state g of the combined system $X \\otimes X'$ is built by combining states of the\n",
    "systems $X$ and $X'$. Bell's theorem says that is not true in quantum theory. The reason is that quantum theory\n",
    "uses the non-Cartesian monoidal category Hilb! Also, in quantum theory we cannot freely duplicate or\n",
    "delete information. Wootters and Zurek proved a precise theorem to this effect, focused on duplication:\n",
    "the 'no-cloning theorem'. One can also prove a 'no deletion theorem'. Again, these results rely on the non-\n",
    "Cartesian tensor product in Hilb._ (Note that Hilb is the Category corresponding to Hilbert Space)\n",
    "\n",
    "**Additional material:** Scott Aaronson has asked an interesting question: what if the No-Cloning Theorem\n",
    "is not just a by-product of quantum physics, but what if the privacy of quantum mechanical events is part\n",
    "of the fundamental nature of the universe? His entertaining and thought-provoking talk is posted on his\n",
    "[blog](https://www.scottaaronson.com/blog/?p=2903). There is also a [video version](https://www.youtube.com/watch?v=kXerI-tnW50).\n"
   ]
  },
  {
   "cell_type": "code",
   "execution_count": null,
   "metadata": {},
   "outputs": [],
   "source": []
  }
 ],
 "metadata": {
  "language_info": {
   "codemirror_mode": {
    "name": "ipython",
    "version": 3
   },
   "file_extension": ".py",
   "mimetype": "text/x-python",
   "name": "python",
   "nbconvert_exporter": "python",
   "pygments_lexer": "ipython3",
   "version": "3.8.3-final"
  },
  "orig_nbformat": 2,
  "kernelspec": {
   "name": "python38332bit225b1603132a4a1f9abff16033481403",
   "display_name": "Python 3.8.3 32-bit"
  }
 },
 "nbformat": 4,
 "nbformat_minor": 2
}