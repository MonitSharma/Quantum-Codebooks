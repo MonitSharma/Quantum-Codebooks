{
  "nbformat": 4,
  "nbformat_minor": 0,
  "metadata": {
    "colab": {
      "provenance": []
    },
    "kernelspec": {
      "name": "python3",
      "display_name": "Python 3"
    },
    "language_info": {
      "name": "python"
    }
  },
  "cells": [
    {
      "cell_type": "markdown",
      "source": [
        "# H2 Unitaries\n",
        "In the last code challenge, you will have noticed that the quantum black box could be described by a Hadamard gate. This has the peculiar behaviour that applying it twice leads to the trivial box:"
      ],
      "metadata": {
        "id": "ndAG3TA-kSUz"
      }
    },
    {
      "cell_type": "markdown",
      "source": [
        "![](https://codebook.xanadu.ai/pics/repete2.svg)"
      ],
      "metadata": {
        "id": "0mchRoARkZPX"
      }
    },
    {
      "cell_type": "markdown",
      "source": [
        "### Codercise H.2.1.\n",
        " Write a function which checks if an array of complex numbers is unitary.\n",
        "\n",
        "Tip. You will find the np.identity, np.allclose, np.conjugate and np.transpose methods useful."
      ],
      "metadata": {
        "id": "jXfW5dQTkcXf"
      }
    },
    {
      "cell_type": "code",
      "execution_count": null,
      "metadata": {
        "id": "pAWvHCM7hUFl"
      },
      "outputs": [],
      "source": [
        "def unitary_check(operator):\n",
        "    \"\"\"Checks if a complex-valued matrix is unitary.\n",
        "    \n",
        "    Args:\n",
        "        operator (array[complex]): A square complex-valued array.\n",
        "        \n",
        "    Returns: \n",
        "        bool: Whether the matrix is unitary or not.\n",
        "    \"\"\"\n",
        "    ##################\n",
        "    # YOUR CODE HERE #\n",
        "    ##################\n",
        "    op = operator \n",
        "    return np.allclose(np.matmul(op,op.conj().T), np.eye(op.shape[0])) # MODIFY THIS\n"
      ]
    },
    {
      "cell_type": "markdown",
      "source": [
        "![](https://codebook.xanadu.ai/pics/Ugate.svg)"
      ],
      "metadata": {
        "id": "JcSSHvNGkl6X"
      }
    },
    {
      "cell_type": "markdown",
      "source": [
        "### Codercise H.2.2. \n",
        "Create a circuit which applies a matrix if it is correctly sized and unitary using unitary_check(operator), and otherwise does nothing. You will need the qml.QubitUnitary gate from PennyLane."
      ],
      "metadata": {
        "id": "Gbho70hDkixo"
      }
    },
    {
      "cell_type": "code",
      "source": [
        "n_bits = 1\n",
        "dev = qml.device(\"default.qubit\", wires=n_bits)\n",
        "\n",
        "@qml.qnode(dev)\n",
        "def unitary_circuit(operator):\n",
        "    \"\"\"Applies a matrix to the state if it is unitary and correctly sized.\n",
        "    \n",
        "    Args:\n",
        "        operator (array[complex]): A square complex-valued array.\n",
        "\n",
        "    Returns:\n",
        "        array[complex]: The state of the quantum system, after applying the\n",
        "        operator, if valid.\n",
        "    \"\"\"\n",
        "    ##################\n",
        "    # YOUR CODE HERE #\n",
        "    ##################\n",
        "    if unitary_check(operator) and operator.shape[0] ==2:\n",
        "\t    qml.QubitUnitary(operator, wires=0)\n",
        "\n",
        "    return qml.state()\n"
      ],
      "metadata": {
        "id": "eiP5fbV3kkf2"
      },
      "execution_count": null,
      "outputs": []
    }
  ]
}