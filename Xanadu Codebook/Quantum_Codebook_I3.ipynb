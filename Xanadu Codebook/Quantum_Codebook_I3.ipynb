{
  "nbformat": 4,
  "nbformat_minor": 0,
  "metadata": {
    "colab": {
      "provenance": []
    },
    "kernelspec": {
      "name": "python3",
      "display_name": "Python 3"
    },
    "language_info": {
      "name": "python"
    }
  },
  "cells": [
    {
      "cell_type": "code",
      "execution_count": 2,
      "metadata": {
        "colab": {
          "base_uri": "https://localhost:8080/"
        },
        "id": "vyAB1Erw-OOA",
        "outputId": "f927713a-3e6a-4589-e71c-1d44caa5197b"
      },
      "outputs": [
        {
          "output_type": "stream",
          "name": "stdout",
          "text": [
            "Looking in indexes: https://pypi.org/simple, https://us-python.pkg.dev/colab-wheels/public/simple/\n",
            "Collecting pennylane\n",
            "  Downloading PennyLane-0.28.0-py3-none-any.whl (1.3 MB)\n",
            "\u001b[2K     \u001b[90m━━━━━━━━━━━━━━━━━━━━━━━━━━━━━━━━━━━━━━━━\u001b[0m \u001b[32m1.3/1.3 MB\u001b[0m \u001b[31m20.1 MB/s\u001b[0m eta \u001b[36m0:00:00\u001b[0m\n",
            "\u001b[?25hCollecting semantic-version>=2.7\n",
            "  Downloading semantic_version-2.10.0-py2.py3-none-any.whl (15 kB)\n",
            "Collecting pennylane-lightning>=0.28\n",
            "  Downloading PennyLane_Lightning-0.28.1-cp38-cp38-manylinux_2_17_x86_64.manylinux2014_x86_64.whl (15.3 MB)\n",
            "\u001b[2K     \u001b[90m━━━━━━━━━━━━━━━━━━━━━━━━━━━━━━━━━━━━━━━━\u001b[0m \u001b[32m15.3/15.3 MB\u001b[0m \u001b[31m69.0 MB/s\u001b[0m eta \u001b[36m0:00:00\u001b[0m\n",
            "\u001b[?25hRequirement already satisfied: cachetools in /usr/local/lib/python3.8/dist-packages (from pennylane) (5.2.1)\n",
            "Requirement already satisfied: scipy in /usr/local/lib/python3.8/dist-packages (from pennylane) (1.7.3)\n",
            "Requirement already satisfied: numpy<1.24 in /usr/local/lib/python3.8/dist-packages (from pennylane) (1.21.6)\n",
            "Requirement already satisfied: appdirs in /usr/local/lib/python3.8/dist-packages (from pennylane) (1.4.4)\n",
            "Requirement already satisfied: toml in /usr/local/lib/python3.8/dist-packages (from pennylane) (0.10.2)\n",
            "Requirement already satisfied: networkx in /usr/local/lib/python3.8/dist-packages (from pennylane) (3.0)\n",
            "Requirement already satisfied: requests in /usr/local/lib/python3.8/dist-packages (from pennylane) (2.25.1)\n",
            "Requirement already satisfied: autograd in /usr/local/lib/python3.8/dist-packages (from pennylane) (1.5)\n",
            "Collecting retworkx\n",
            "  Downloading retworkx-0.12.1-py3-none-any.whl (10 kB)\n",
            "Collecting autoray>=0.3.1\n",
            "  Downloading autoray-0.5.3-py3-none-any.whl (39 kB)\n",
            "Collecting ninja\n",
            "  Downloading ninja-1.11.1-py2.py3-none-manylinux_2_12_x86_64.manylinux2010_x86_64.whl (145 kB)\n",
            "\u001b[2K     \u001b[90m━━━━━━━━━━━━━━━━━━━━━━━━━━━━━━━━━━━━━━\u001b[0m \u001b[32m146.0/146.0 KB\u001b[0m \u001b[31m17.9 MB/s\u001b[0m eta \u001b[36m0:00:00\u001b[0m\n",
            "\u001b[?25hRequirement already satisfied: future>=0.15.2 in /usr/local/lib/python3.8/dist-packages (from autograd->pennylane) (0.16.0)\n",
            "Requirement already satisfied: chardet<5,>=3.0.2 in /usr/local/lib/python3.8/dist-packages (from requests->pennylane) (4.0.0)\n",
            "Requirement already satisfied: urllib3<1.27,>=1.21.1 in /usr/local/lib/python3.8/dist-packages (from requests->pennylane) (1.24.3)\n",
            "Requirement already satisfied: idna<3,>=2.5 in /usr/local/lib/python3.8/dist-packages (from requests->pennylane) (2.10)\n",
            "Requirement already satisfied: certifi>=2017.4.17 in /usr/local/lib/python3.8/dist-packages (from requests->pennylane) (2022.12.7)\n",
            "Collecting rustworkx==0.12.1\n",
            "  Downloading rustworkx-0.12.1-cp38-cp38-manylinux_2_17_x86_64.manylinux2014_x86_64.whl (1.9 MB)\n",
            "\u001b[2K     \u001b[90m━━━━━━━━━━━━━━━━━━━━━━━━━━━━━━━━━━━━━━━━\u001b[0m \u001b[32m1.9/1.9 MB\u001b[0m \u001b[31m49.9 MB/s\u001b[0m eta \u001b[36m0:00:00\u001b[0m\n",
            "\u001b[?25hInstalling collected packages: ninja, semantic-version, rustworkx, autoray, retworkx, pennylane-lightning, pennylane\n",
            "Successfully installed autoray-0.5.3 ninja-1.11.1 pennylane-0.28.0 pennylane-lightning-0.28.1 retworkx-0.12.1 rustworkx-0.12.1 semantic-version-2.10.0\n"
          ]
        }
      ],
      "source": [
        "%pip install pennylane"
      ]
    },
    {
      "cell_type": "code",
      "source": [
        "import pennylane as qml\n",
        "import numpy as np"
      ],
      "metadata": {
        "id": "QEoWFP-HBgUB"
      },
      "execution_count": 3,
      "outputs": []
    },
    {
      "cell_type": "markdown",
      "source": [
        "# Unitary Matrices\n",
        "\n",
        "## Learning Outcomes\n",
        "\n",
        "<li> Define what it means for a matrix to be unitary\n",
        "\n",
        "<li> Express a single-qubit unitary operation in terms of $3$ real parameters"
      ],
      "metadata": {
        "id": "lTjSnzRa-RJR"
      }
    },
    {
      "cell_type": "markdown",
      "source": [
        "Now, we know what qubits are, and how to express computations on them, it's time to make an important transition: what exactly are we *doing* to the qubits? What are the *different* possible gates and how do they work?\n",
        "\n",
        "\n",
        "\n",
        "\n",
        "---\n",
        "\n",
        "Recall that qubit states are represented by $2$ dimensional vectors that live in a mathematical space called *Hilbert Space*. We already know that a single qubit operation must take a valid qubit to another valid qubit state, and this is done using matrix-vector multiplication by a $2\\times 2$ matrix, Given an initial qubit state $|\\psi⟩$ a single qubit operation $U$ sends\n",
        "\n",
        "$$ |\\psi⟩ → |\\psi^{\\prime}⟩ = U|\\psi⟩$$\n",
        "\n",
        "where $|\\psi^{\\prime}⟩$ is the new state.\n",
        "\n",
        "\n",
        "---\n",
        "\n",
        "However recall that qubit state vectors have some special properties, they are normalized (have length $1$), Thus any matrix that operates on qubits is going to require a structure that preserves this property. Matrices of this type are called **unitary matrices**. More formally, an $n\\times n $ complex-valued matrix $U$ is unitary if \n",
        "\n",
        "\n",
        "$$ UU^{\\dagger} = U^{\\dagger}U = I_n$$"
      ],
      "metadata": {
        "id": "BpbWSi5Y-ibD"
      }
    },
    {
      "cell_type": "markdown",
      "source": [
        "In **Pennylane** , unitary operations specified by a matrix can be implemented in a quantum circuit using the `QubitUnitary` operation, it is a parameterised gate, and can be called  like so:\n",
        "\n",
        "```python\n",
        "qml.QubitUnitary(U, wires=wire)\n",
        "```"
      ],
      "metadata": {
        "id": "-fdS8lBa_9vA"
      }
    },
    {
      "cell_type": "markdown",
      "source": [
        "### Exercise I.3.1 \n",
        "Complete the quantum function below to create a circuit that applies `U` to the qubit and return its state"
      ],
      "metadata": {
        "id": "fNBK5-ctAWVV"
      }
    },
    {
      "cell_type": "code",
      "source": [
        "dev = qml.device(\"default.qubit\", wires=1)\n",
        "\n",
        "U = np.array([[1, 1], [1, -1]]) / np.sqrt(2)\n",
        "\n",
        "@qml.qnode(dev)\n",
        "def apply_u():\n",
        "\n",
        "    ##################\n",
        "    qml.QubitUnitary(U, wires=0)\n",
        "    # YOUR CODE HERE #\n",
        "    ##################\n",
        "\n",
        "    # USE QubitUnitary TO APPLY U TO THE QUBIT\n",
        "    \n",
        "\n",
        "\n",
        "    # Return the state\n",
        "    return qml.state()\n"
      ],
      "metadata": {
        "id": "lgr8EmHg-gGw"
      },
      "execution_count": 4,
      "outputs": []
    },
    {
      "cell_type": "markdown",
      "source": [
        "Since unitaries have such properties, there is a more prescribed way to construct them. It is hard to write down a unitary matrix arbitrarily at random, element by element.\n",
        "\n",
        "----\n",
        "\n",
        "Fortunately unitary matrices can be **parameterized**. A single qubit unitary operation can be expressed in terms of just three real numbers\n",
        "\n",
        "$$ \\begin{split}R(\\phi,\\theta,\\omega) = RZ(\\omega)RY(\\theta)RZ(\\phi)= \\begin{bmatrix}\n",
        "e^{-i(\\phi+\\omega)/2}\\cos(\\theta/2) & -e^{i(\\phi-\\omega)/2}\\sin(\\theta/2) \\\\\n",
        "e^{-i(\\phi-\\omega)/2}\\sin(\\theta/2) & e^{i(\\phi+\\omega)/2}\\cos(\\theta/2)\n",
        "\\end{bmatrix}.\\end{split}\n",
        "$$\n",
        "\n",
        "\n",
        "in pennylane this parameterized operation is implemented as a gate called `Rot`\n",
        "\n",
        "```Python\n",
        "qml.Rot(phi, theta, omega, wires= wire)\n",
        "```"
      ],
      "metadata": {
        "id": "A64eEcqOBn83"
      }
    },
    {
      "cell_type": "markdown",
      "source": [
        "### Exercise I.3.2\n",
        "\n",
        "Apply the `Rot` operation to a qubit using the input parameters. then complete the QNode to return the quantum state vector using `qml.state()`\n"
      ],
      "metadata": {
        "id": "CoDooK-RGjUg"
      }
    },
    {
      "cell_type": "code",
      "source": [
        "dev = qml.device(\"default.qubit\", wires=1)\n",
        "\n",
        "@qml.qnode(dev)\n",
        "def apply_u_as_rot(phi, theta, omega):\n",
        "\n",
        "    ##################\n",
        "    # YOUR CODE HERE #\n",
        "    ##################\n",
        "    \n",
        "    \n",
        "    # APPLY A ROT GATE USING THE PROVIDED INPUT PARAMETERS\n",
        "    qml.Rot(phi, theta, omega, wires = 0)\n",
        "    #qml.QubitUnitary(U, wires=0)\n",
        "    # RETURN THE QUANTUM STATE VECTOR\n",
        "\n",
        "    return qml.state()\n"
      ],
      "metadata": {
        "id": "YojZejzmBd3N"
      },
      "execution_count": 5,
      "outputs": []
    },
    {
      "cell_type": "markdown",
      "source": [
        "It is much easier to specify the few numbers than a matrix, this description of a unitary is still not the most intuitive. For every unitary operation you want to implement you would first have to compute its three parameters, which would be tedious. Thankfully, many quantum algorithms are based on a small set of known unitary matrices which we will call directly by name. In the next few sections, we'll explore this family of single-qubit gates"
      ],
      "metadata": {
        "id": "2voaobHCakxS"
      }
    },
    {
      "cell_type": "code",
      "source": [],
      "metadata": {
        "id": "Yipp3CDiagBQ"
      },
      "execution_count": 5,
      "outputs": []
    }
  ]
}