{
  "nbformat": 4,
  "nbformat_minor": 0,
  "metadata": {
    "colab": {
      "provenance": [],
      "authorship_tag": "ABX9TyMB3DgeNxNPCl776Q5PBGTq",
      "include_colab_link": true
    },
    "kernelspec": {
      "name": "python3",
      "display_name": "Python 3"
    },
    "language_info": {
      "name": "python"
    }
  },
  "cells": [
    {
      "cell_type": "markdown",
      "metadata": {
        "id": "view-in-github",
        "colab_type": "text"
      },
      "source": [
        "<a href=\"https://colab.research.google.com/github/MonitSharma/Xanadu-Codebook-Solutions/blob/main/Quantum_Codebook_E1.ipynb\" target=\"_parent\"><img src=\"https://colab.research.google.com/assets/colab-badge.svg\" alt=\"Open In Colab\"/></a>"
      ]
    },
    {
      "cell_type": "markdown",
      "source": [
        "# E1 Got Errors?\n",
        "\n",
        "\n",
        "However you are reading these very words, be it on a laptop screen, phone, tablet, etc., there are algorithms and little bits of hardware, like transistors, running those algorithms working in the background to make sure that you're seeing what's intended. But what if a piece of hardware fails? What if two pieces of hardware communicate to each other over a noisy channel where their messages might get altered? Well, none of it really matters to the average person because of error correction.\n",
        "\n",
        "Any piece of hardware is at the mercy of errors, be they quantum or classical in nature. Over several decades, we've done a good job at coming up with clever ways to co-exist with errors. That is, we live in an error-ridden world with ways to make errors irrelevant but not completely gone. In this node, we're going to look at the simplest error correction tactic: redundancy. Let's get started.\n",
        "\n",
        "The good news is that you're already familiar with how powerful redundancy can be in real life. When humans have a hard time communicating with each other, we repeat ourselves! In the language of 1s and 0s, this means that if we want to send a bit  to someone over a communication channel that may flip the bit, , with probability , we have a better shot at making sure the receiving end gets the intended message by sending multiple copies of  over the channel. Such a channel is commonly referred to as a binary symmetric channel (BSC) and is illustrated like the figure below."
      ],
      "metadata": {
        "id": "SjN9c6q671K-"
      }
    },
    {
      "cell_type": "markdown",
      "source": [
        "![](https://codebook.xanadu.ai/images/binary_symmetric_channel.png)"
      ],
      "metadata": {
        "id": "MdqRedLF77dT"
      }
    },
    {
      "cell_type": "markdown",
      "source": [
        "### Codercise E.1.1.\n",
        "In this exercise, you are given a function called encode that creates three copies of a bit : . Create a function called noisy_channel that flips each bit  with an equal and independent probability . For example, if the repeated bit string is , then the flipped bit string could be, say, , where only the first bit was flipped and the other two are safe. This is going to be the message that Bob receives from Alice.\n",
        "\n",
        "You have numpy — imported as np in the code — to use."
      ],
      "metadata": {
        "id": "aFEu5Dvy7-3v"
      }
    },
    {
      "cell_type": "code",
      "source": [
        "import numpy as np"
      ],
      "metadata": {
        "id": "QqlfCON18Ea6"
      },
      "execution_count": 1,
      "outputs": []
    },
    {
      "cell_type": "code",
      "execution_count": 2,
      "metadata": {
        "colab": {
          "base_uri": "https://localhost:8080/"
        },
        "id": "Orehj_0N7v_Y",
        "outputId": "d1d843ce-c3eb-43cd-9c05-eeb8ce72af15"
      },
      "outputs": [
        {
          "output_type": "stream",
          "name": "stdout",
          "text": [
            "Noisy Codeword: [0, 0, 0]\n"
          ]
        }
      ],
      "source": [
        "\n",
        "def encode(b):\n",
        "    \"\"\"Returns three copies of Alice's bit b.\"\"\"\n",
        "    return [b, b, b]\n",
        "\n",
        "def noisy_channel(b, p):\n",
        "    \"\"\"Returns a three-bit codeword message that Bob receives through a noisy channel.\"\"\"\n",
        "    alice_sends = encode(b)  # Alice sends this to Bob\n",
        "\n",
        "    # Create an empty list to store the noisy codeword\n",
        "    noisy_codeword = []\n",
        "\n",
        "    # Iterate through each bit in the alice_sends list\n",
        "    for bit in alice_sends:\n",
        "        # Generate a random number between 0 and 1\n",
        "        random_prob = np.random.random()\n",
        "\n",
        "        # Check if the random number is less than the probability p\n",
        "        # If yes, flip the bit by subtracting it from 1\n",
        "        if random_prob < p:\n",
        "            noisy_bit = 1 - bit\n",
        "        else:\n",
        "            noisy_bit = bit\n",
        "\n",
        "        # Append the noisy bit to the noisy_codeword list\n",
        "        noisy_codeword.append(noisy_bit)\n",
        "\n",
        "    return noisy_codeword\n",
        "\n",
        "# Test the noisy_channel function\n",
        "bit_to_send = 0\n",
        "flip_probability = 0.1  # Probability of flipping a bit\n",
        "\n",
        "noisy_codeword = noisy_channel(bit_to_send, flip_probability)\n",
        "print(\"Noisy Codeword:\", noisy_codeword)\n"
      ]
    },
    {
      "cell_type": "markdown",
      "source": [
        "Nice work! So, Alice encodes the bit  as  and sends it through the noisy channel. Bob is on the other end and gets a three-bit string that may or may not resemble Alice's message. The instruction that Alice gives Bob to decode her message is to take the majority value of the three bits as the original message. For example, if Bob receives , he deduces that Alice was trying to send him  since that's the majority bit value. This begs the question: what are the chances that Bob actually gets it right?"
      ],
      "metadata": {
        "id": "nK-Vk5nq8LWc"
      }
    },
    {
      "cell_type": "markdown",
      "source": [
        "![](https://codebook.xanadu.ai/images/three_bit_repetition_code.png)"
      ],
      "metadata": {
        "id": "ccXOYlwL8Ocw"
      }
    },
    {
      "cell_type": "markdown",
      "source": [
        "## Codercise E.1.2.\n",
        "\n",
        "Given the original bit  that Alice sends and what Bob receives (bob_receives) from the noisy_channel, you must determine whether or not Bob's decoding procedure is successful. Complete two functions:\n",
        "\n",
        "decode: the procedure that Bob executes to deduce Alice's original message.\n",
        "success: does Bob's prediction from the decoding procedure match Alice's bit?\n"
      ],
      "metadata": {
        "id": "Lue8RYyD8SzY"
      }
    },
    {
      "cell_type": "code",
      "source": [
        "def decode(codeword):\n",
        "    \"\"\"Executes Bob's decoding procedure.\"\"\"\n",
        "    # Count the number of zeros and ones in the codeword\n",
        "    count_zeros = codeword.count(0)\n",
        "    count_ones = codeword.count(1)\n",
        "\n",
        "    # Return the majority vote (the bit that appears more times)\n",
        "    return 0 if count_zeros >= count_ones else 1\n",
        "\n",
        "def success(b, codeword):\n",
        "    \"\"\"Determines if Bob's decoding procedure is successful.\"\"\"\n",
        "    # Get Bob's guess from the decoding procedure\n",
        "    bob_guess = decode(codeword)\n",
        "\n",
        "    # Compare Bob's guess with Alice's original bit\n",
        "    return bob_guess == b\n",
        "\n",
        "# Test the decode and success functions\n",
        "alice_bit = 0\n",
        "noisy_codeword = [0, 1, 0]  # Example noisy codeword\n",
        "\n",
        "bob_guess = decode(noisy_codeword)\n",
        "is_successful = success(alice_bit, noisy_codeword)\n",
        "\n",
        "print(\"Bob's Guess:\", bob_guess)\n",
        "print(\"Decoding Successful?\", is_successful)\n"
      ],
      "metadata": {
        "colab": {
          "base_uri": "https://localhost:8080/"
        },
        "id": "QqYxe53R8DfN",
        "outputId": "4afa8aab-959b-4c2b-e487-c542fd2b57c9"
      },
      "execution_count": 3,
      "outputs": [
        {
          "output_type": "stream",
          "name": "stdout",
          "text": [
            "Bob's Guess: 0\n",
            "Decoding Successful? True\n"
          ]
        }
      ]
    },
    {
      "cell_type": "markdown",
      "source": [
        "But what are the chances that Bob actually gets it right in general? There is an analytic answer to that question:\n",
        "\n",
        "\n",
        "$$ p_{success} = (1-p)^2 (2p+1)$$\n",
        "\n",
        "\n",
        "Let's see the plot:"
      ],
      "metadata": {
        "id": "0ILqpE8Y8aSw"
      }
    },
    {
      "cell_type": "markdown",
      "source": [
        "### Codercise E.1.3.\n",
        "\n",
        "Let's get Alice to send  through the noisy_channel a bunch of times — say, 1000 times. Then, we'll ask Bob to see if he can recover the message with the success function and, finally, we will average the result for various values of . In this way, we can map out how successful Bob's decoding procedure is in general."
      ],
      "metadata": {
        "id": "Lb8KwOZS8key"
      }
    },
    {
      "cell_type": "markdown",
      "source": [
        "![download.png](data:image/png;base64,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)"
      ],
      "metadata": {
        "id": "0msXaFf68pny"
      }
    },
    {
      "cell_type": "code",
      "source": [],
      "metadata": {
        "id": "nWr9bosZ8XML"
      },
      "execution_count": null,
      "outputs": []
    }
  ]
}