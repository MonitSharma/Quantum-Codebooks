{
  "nbformat": 4,
  "nbformat_minor": 0,
  "metadata": {
    "colab": {
      "provenance": [],
      "authorship_tag": "ABX9TyP+laL7bhLx4OuDl75eJaOQ",
      "include_colab_link": true
    },
    "kernelspec": {
      "name": "python3",
      "display_name": "Python 3"
    },
    "language_info": {
      "name": "python"
    }
  },
  "cells": [
    {
      "cell_type": "markdown",
      "metadata": {
        "id": "view-in-github",
        "colab_type": "text"
      },
      "source": [
        "<a href=\"https://colab.research.google.com/github/MonitSharma/Xanadu-Codebook-Solutions/blob/main/Quantum_Codebook_E2.ipynb\" target=\"_parent\"><img src=\"https://colab.research.google.com/assets/colab-badge.svg\" alt=\"Open In Colab\"/></a>"
      ]
    },
    {
      "cell_type": "markdown",
      "source": [
        "## E2 No Flip Flopping Allowed"
      ],
      "metadata": {
        "id": "ofAKOHtaW6an"
      }
    },
    {
      "cell_type": "markdown",
      "source": [
        "### Codercise E.2.1\n",
        "\n",
        "In her lab, Alice can initialize her two auxiliary qubits (on wires 1 and 2) to $|0\\rangle$, and she hopes to create a logical qubit that would help protect the message of her first qubit (wire 0). In other words, if her message is $|\\psi⟩ = a|0⟩ + b|1⟩$, she wants to encode the message into the state $|\\psi_l ⟩ = a|000⟩ + b |111⟩$.\n",
        "\n",
        "Once the qubits pass through the noisy communication channel and Bob receives them, he will have to decode the message, so that the first qubit (wire 0) again takes on the value Alice tried sending, $|\\psi⟩ = a|0⟩ + b|1⟩$. In this case, we are assuming that either none of the qubits experienced a bit-flip error, or a maximum of one of them did."
      ],
      "metadata": {
        "id": "Em8QZIztXB4L"
      }
    },
    {
      "cell_type": "code",
      "execution_count": null,
      "metadata": {
        "id": "WkegYXtVWyTU"
      },
      "outputs": [],
      "source": [
        "dev = qml.device(\"default.mixed\", wires=3)\n",
        "\n",
        "@qml.qnode(dev)\n",
        "def bitflip_code_expval(p):\n",
        "    \"\"\"A circuit that uses two auxiliary qubits to encode the message of the first qubit, puts them through a simple noisy channel with a chance of a bit-flip error occuring, then decodes it and measures the expectation value of the original message.\n",
        "\n",
        "    Args:\n",
        "        p (float): Probability of one bit-flip error occuring in the noisy channel for each wire.\n",
        "\n",
        "    Returns:\n",
        "        (float): Expectation value of the message qubit.\n",
        "    \"\"\"\n",
        "    # Using two auxiliary qubits on wires 1 and 2, encode the message on wire 0 into a logical qubit\n",
        "    ##################\n",
        "    # YOUR CODE HERE #\n",
        "    ##################\n",
        "    qml.CNOT(wires=[0, 1])  # Apply CNOT gate on wires 0 and 1\n",
        "    qml.CNOT(wires=[0, 2])\n",
        "\n",
        "    # Put all wires through a noisy channel, where each wire has a probability p that a bit-flip error will occur\n",
        "    qml.BitFlip(p, wires=0)\n",
        "    qml.BitFlip(p, wires=1)\n",
        "    qml.BitFlip(p, wires=2)\n",
        "\n",
        "    # Decode the message after the noisy channel\n",
        "    ##################\n",
        "    # YOUR CODE HERE #\n",
        "    ##################\n",
        "    qml.CNOT(wires=[0, 1])  # Apply CNOT gate on wires 0 and 1\n",
        "    qml.CNOT(wires=[0,2])\n",
        "    qml.Toffoli(wires=[1, 2, 0])\n",
        "\n",
        "    # Measure the expectation value of the message\n",
        "    return qml.expval(qml.PauliZ([0]))\n"
      ]
    },
    {
      "cell_type": "markdown",
      "source": [
        "![](https://codebook.xanadu.ai/images/3-qubit-measure.png)"
      ],
      "metadata": {
        "id": "rk8PfHAaXYMF"
      }
    },
    {
      "cell_type": "markdown",
      "source": [
        "## Codercise E.2.2\n",
        "\n",
        "This time around Alice is sending her message to Bob through a noisy channel that has some small probability $p$  to cause a phase flip on each of the wires. Using the same setup as in the previous exercise, transform the logical qubits so we can correct for phase-flip errors using the structure of the three-qubit bit-flip code."
      ],
      "metadata": {
        "id": "U2rEdCZoXbm-"
      }
    },
    {
      "cell_type": "code",
      "source": [
        "dev = qml.device(\"default.mixed\", wires=3)\n",
        "\n",
        "@qml.qnode(dev)\n",
        "def phaseflip_code_expval(p):\n",
        "    \"\"\"A circuit that uses two auxiliary qubits to encode the message of the first qubit, puts them through a simple noisy channel with a chance of a phase-flip error occurring, then decodes it and measures the expectation value of the original message.\n",
        "\n",
        "    Args:\n",
        "        p (float): Probability of one phase-flip error occurring in the noisy channel for each wire.\n",
        "\n",
        "    Returns:\n",
        "        (float): Expectation value of the message qubit.\n",
        "    \"\"\"\n",
        "    # Encode the message on wire 0 into a logical qubit, and transform it into the Hadamard basis\n",
        "    qml.CNOT(wires=[0, 1])  # Apply CNOT gate on wires 0 and 1\n",
        "    qml.CNOT(wires=[0, 2])  # Apply CNOT gate on wires 0 and 2\n",
        "    qml.Hadamard(wires=0)\n",
        "    qml.Hadamard(wires=1)\n",
        "    qml.Hadamard(wires=2)# Apply Hadamard gate on wire 0\n",
        "\n",
        "    # Transform the logical qubit into the Hadamard basis, put all wires through a noisy channel where each wire has a probability p that a phase-flip error will occur, then transform the result back into the computational basis.\n",
        "    qml.PhaseFlip(p, wires=0)\n",
        "    qml.PhaseFlip(p, wires=1)\n",
        "    qml.PhaseFlip(p, wires=2)\n",
        "    qml.Hadamard(wires=0)  # Apply Hadamard gate on wire 0\n",
        "\n",
        "    # Decode the message after the noisy channel and transform it back into the computational basis\n",
        "    qml.Hadamard(wires=1)\n",
        "    qml.Hadamard(wires=2)# Apply Hadamard gate on wire 0\n",
        "    qml.CNOT(wires=[0, 1])\n",
        "    qml.CNOT(wires=[0,2])# Apply CNOT gate on wires 0 and 1\n",
        "    qml.Toffoli(wires=[1, 2, 0])  # Apply Toffoli gate on wires 1, 2, and 0\n",
        "\n",
        "    # Measure the expectation value of the message\n",
        "    return qml.expval(qml.PauliZ([0]))\n"
      ],
      "metadata": {
        "id": "zzq9o0M7XZb0"
      },
      "execution_count": null,
      "outputs": []
    },
    {
      "cell_type": "markdown",
      "source": [
        "![](https://codebook.xanadu.ai/images/3-qubit-phase-flip.png)"
      ],
      "metadata": {
        "id": "FxXbprFQXiCq"
      }
    },
    {
      "cell_type": "markdown",
      "source": [
        "## Codercise E.2.3\n",
        "\n",
        "For example, let's take a closer look at the expectation value of the message — in a bit-flip noisy channel, what is the largest error probability $p$  that will still leave our expectation value larger than $0.9$?"
      ],
      "metadata": {
        "id": "PAdXBdIOX-B3"
      }
    },
    {
      "cell_type": "code",
      "source": [
        "def largest_p():\n",
        "    # Range of bit-flip error probability\n",
        "    probability_range = np.arange(0.0, 0.5, 0.01)\n",
        "    # Initialize the array of function values\n",
        "    expvals = []\n",
        "\n",
        "    # Calculate function values for the circuit and append them to the list\n",
        "    for prob in probability_range:\n",
        "        expvals.append(bitflip_code_expval(prob))\n",
        "\n",
        "    # Find the largest p for which the expectation value of the message stays above 0.9\n",
        "    largest_p = 0.0\n",
        "    for i, expval in enumerate(expvals):\n",
        "        if expval > 0.9:\n",
        "            largest_p = probability_range[i]\n",
        "\n",
        "    return largest_p\n",
        "\n",
        "# Call the largest_p function to find the largest error probability\n",
        "largest_probability = largest_p()\n",
        "print(\"Largest error probability for expval > 0.9:\", largest_probability)\n"
      ],
      "metadata": {
        "id": "GcpqdU00Xj4X"
      },
      "execution_count": null,
      "outputs": []
    },
    {
      "cell_type": "markdown",
      "source": [
        "Largest error probability for expval > 0.9: 0.13\n",
        "\n",
        "\n",
        "![download (1).png](data:image/png;base64,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)"
      ],
      "metadata": {
        "id": "KL-i9JeoYG1G"
      }
    },
    {
      "cell_type": "markdown",
      "source": [
        "## Codercise E.2.4\n",
        "\n",
        "As a final step in your coding introduction to quantum error correction, we are asking you to put Alice's message through a noisy channel that has $n$ opportunities to apply a bit-flip error (with the probability $p$) to each of the wires.\n",
        "\n",
        "In other words, put the logical qubit through a bit-flip noisy channel $n$  times in a row and see what happens to the largest error probability from which we can still protect our message."
      ],
      "metadata": {
        "id": "h1xE0Iv_YOK5"
      }
    },
    {
      "cell_type": "code",
      "source": [
        "n = 3\n",
        "dev = qml.device(\"default.mixed\", wires=3)\n",
        "\n",
        "@qml.qnode(dev)\n",
        "def multi_bitflip_code_expval(p, n):\n",
        "    \"\"\"A circuit that uses two auxiliary qubits to encode the message of the first qubit, puts them through a noisy channel with three opportunities for a bit-flip error occuring on each of the wires, then decodes it and measures the expectation value of the original message.\n",
        "\n",
        "    Args:\n",
        "        p (float): Probability of one bit-flip error occuring in the noisy channel for each wire.\n",
        "        n (int): Number of times to repeat the noisy channel (number of bit-flip opportunities).\n",
        "\n",
        "    Returns:\n",
        "        (float): Expectation value of the message qubit.\n",
        "    \"\"\"\n",
        "    # Using two auxiliary qubits on wires 1 and 2, encode the message on wire 0 into a logical qubit\n",
        "    qml.CNOT(wires=[0, 1])\n",
        "    qml.CNOT(wires=[0, 2])\n",
        "\n",
        "    # Put all wires through a noisy channel n times in a row\n",
        "    for _ in range(n):\n",
        "        qml.BitFlip(p, wires=0)\n",
        "        qml.BitFlip(p, wires=1)\n",
        "        qml.BitFlip(p, wires=2)\n",
        "\n",
        "    # Decode the message after the noisy channel\n",
        "    qml.CNOT(wires=[0, 1])\n",
        "    qml.CNOT(wires=[0, 2])\n",
        "    qml.Toffoli(wires=[1, 2, 0])\n",
        "\n",
        "    # Measure the expectation value of the message\n",
        "    return qml.expval(qml.PauliZ([0]))\n",
        "\n",
        "# Test the multi_bitflip_code_expval function\n",
        "error_probability = 0.1  # Probability of bit-flip error\n",
        "result = multi_bitflip_code_expval(error_probability, n)\n",
        "print(\"Expectation Value:\", result)\n"
      ],
      "metadata": {
        "id": "fBHg1y0UYMUf"
      },
      "execution_count": null,
      "outputs": []
    },
    {
      "cell_type": "markdown",
      "source": [
        "Expectation Value: 0.7008911360000922\n",
        "\n",
        "\n",
        "![download (2).png](data:image/png;base64,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)"
      ],
      "metadata": {
        "id": "l4PoBLpwYYH5"
      }
    }
  ]
}