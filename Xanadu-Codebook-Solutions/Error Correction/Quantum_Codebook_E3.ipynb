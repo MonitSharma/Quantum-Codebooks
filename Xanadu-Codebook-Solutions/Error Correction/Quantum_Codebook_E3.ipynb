{
  "nbformat": 4,
  "nbformat_minor": 0,
  "metadata": {
    "colab": {
      "provenance": [],
      "authorship_tag": "ABX9TyNyzeicDVvS5XBu4QqmVYlz",
      "include_colab_link": true
    },
    "kernelspec": {
      "name": "python3",
      "display_name": "Python 3"
    },
    "language_info": {
      "name": "python"
    }
  },
  "cells": [
    {
      "cell_type": "markdown",
      "metadata": {
        "id": "view-in-github",
        "colab_type": "text"
      },
      "source": [
        "<a href=\"https://colab.research.google.com/github/MonitSharma/Xanadu-Codebook-Solutions/blob/main/Quantum_Codebook_E3.ipynb\" target=\"_parent\"><img src=\"https://colab.research.google.com/assets/colab-badge.svg\" alt=\"Open In Colab\"/></a>"
      ]
    },
    {
      "cell_type": "markdown",
      "source": [
        "## E.3 Are you Shor this works?"
      ],
      "metadata": {
        "id": "D1QPqdhfgB_s"
      }
    },
    {
      "cell_type": "markdown",
      "source": [
        "![](https://codebook.xanadu.ai/images/shor.png)"
      ],
      "metadata": {
        "id": "N08fc_IlgFB6"
      }
    },
    {
      "cell_type": "code",
      "source": [
        "import numpy as np"
      ],
      "metadata": {
        "id": "Zpbqg3VoeM-N"
      },
      "execution_count": 2,
      "outputs": []
    },
    {
      "cell_type": "markdown",
      "source": [
        "#### Codercise E.3.1.\n",
        "\n",
        "It turns out that Shor's code can even decode multi-qubit Pauli errors. So let's create a function that can generate any error we please. We'll use this extensively going forward.\n",
        "\n",
        "The function that is available to you is called error. It takes two keyword arguments"
      ],
      "metadata": {
        "id": "QGFjQ1cbgJTR"
      }
    },
    {
      "cell_type": "code",
      "source": [
        "# Create a Z error on qubit 4\n",
        "z_error_4 = error(error_type=\"Z\", wires=[4])\n",
        "\n",
        "# Create a YX error on qubits 8 and 0\n",
        "yx_error_80 = error(error_type=\"YX\", wires=[8, 0])\n",
        "\n",
        "# Create a XXZZYY error on qubits 1, 2, 3, 4, 5, and 0.\n",
        "xxzzyy_error_123450 = error(error_type=\"XXZZYY\", wires=[1, 2, 3, 4, 5, 0])\n"
      ],
      "metadata": {
        "id": "HvGp8qFigMGt"
      },
      "execution_count": 5,
      "outputs": []
    },
    {
      "cell_type": "markdown",
      "source": [
        "### Codercise E.3.2.\n",
        "\n",
        "Complete the shor QNode below such that it performs exactly what the diagram above shows. The state  that gets encoded is an arbitrary quantum state; it doesn't matter what it is. We've left it as an argument — state — to the shor function, where you can initialize  to be state by using qml.QubitStateVector."
      ],
      "metadata": {
        "id": "fik01f3MgP7o"
      }
    },
    {
      "cell_type": "code",
      "source": [
        "dev = qml.device(\"default.qubit\", wires=9)\n",
        "\n",
        "@qml.qnode(dev)\n",
        "def shor(state, error_type, wires):\n",
        "    \"\"\"A quantum circuit that implements Shor's 9-qubit code\n",
        "\n",
        "    Args:\n",
        "        state (tensor): a numpy array representing a 1-qubit state: alpha |0> + beta |1>\n",
        "                        This is used to initialize the 0th wire with qml.QubitStateVector\n",
        "        error_type (str): for example, XX, YY, XZ, YZ.\n",
        "        wires (list(int)): the wires the error acts on.\n",
        "\n",
        "    Returns:\n",
        "        (tuple(tensor, tensor)): the separate probability distributions over the 0th wire (|psi>)\n",
        "        and all 8 ancillary qubits in that order.\n",
        "    \"\"\"\n",
        "\n",
        "    ##################\n",
        "    # YOUR CODE HERE #\n",
        "    ##################\n",
        "\n",
        "    qml.CNOT(wires=[0,3])\n",
        "    qml.CNOT(wires=[0,6])\n",
        "\n",
        "    qml.Hadamard(wires=0)\n",
        "    qml.Hadamard(wires=3)\n",
        "    qml.Hadamard(wires=6)\n",
        "\n",
        "    qml.CNOT(wires=[0,1])\n",
        "    qml.CNOT(wires=[3,4])\n",
        "    qml.CNOT(wires=[6,7])\n",
        "    qml.CNOT(wires=[0,2])\n",
        "    qml.CNOT(wires=[3,5])\n",
        "    qml.CNOT(wires=[6,8])\n",
        "\n",
        "    # apply the error\n",
        "    for err in error(error_type=error_type, wires=wires):\n",
        "        err\n",
        "\n",
        "    ##################\n",
        "    # YOUR CODE HERE #\n",
        "    ##################\n",
        "    qml.CNOT(wires=[0,1])\n",
        "    qml.CNOT(wires=[3,4])\n",
        "    qml.CNOT(wires=[6,7])\n",
        "    qml.CNOT(wires=[0,2])\n",
        "    qml.CNOT(wires=[3,5])\n",
        "    qml.CNOT(wires=[6,8])\n",
        "\n",
        "    qml.Toffoli(wires=[2, 1, 0])\n",
        "    qml.Toffoli(wires=[5, 4, 3])\n",
        "    qml.Toffoli(wires=[8, 7, 6])\n",
        "\n",
        "    qml.Hadamard(wires=0)\n",
        "    qml.Hadamard(wires=3)\n",
        "    qml.Hadamard(wires=6)\n",
        "\n",
        "    qml.CNOT(wires=[0,3])\n",
        "    qml.CNOT(wires=[0,6])\n",
        "\n",
        "    qml.Toffoli(wires=[6,3,0])\n",
        "\n",
        "\n",
        "    return qml.probs(wires=0), qml.probs(wires=range(1, 9))\n"
      ],
      "metadata": {
        "id": "KSmVZTxHgSct"
      },
      "execution_count": null,
      "outputs": []
    },
    {
      "cell_type": "markdown",
      "source": [
        "### Codercise E.3.3.\n",
        "\n",
        "Complete the decoded function below that will check to see if, given an error, Shor's code can correctly decode the input state. You have access to the shor function from before, as well as a function called random_state that can be used to create a random 1-qubit state (we will use it to initialize ) with positive and real coefficients."
      ],
      "metadata": {
        "id": "RbCNDBdygU8H"
      }
    },
    {
      "cell_type": "code",
      "source": [
        "def decoded(state, error_type, wires):\n",
        "    \"\"\"Tells us whether the state was decoded by Shor's code\n",
        "\n",
        "    Args:\n",
        "        state (tensor): a numpy array representing a 1-qubit state: alpha |0> + beta |1>\n",
        "        error_type (str): for example, XX, YY, XZ, YZ.\n",
        "        wires (list(int)): the wires the error acts on.\n",
        "\n",
        "    Returns:\n",
        "        (bool): True if state is decoded successfully, False if not.\n",
        "    \"\"\"\n",
        "    prob0 = shor(state, error_type, wires)[0]\n",
        "\n",
        "    # Check if the probability of |0> state is above a threshold (e.g., 0.9)\n",
        "    # If it is, then consider the state as decoded successfully\n",
        "    threshold = 0.5\n",
        "    if prob0[0] >= threshold:\n",
        "        return True\n",
        "    else:\n",
        "        return False\n",
        "\n",
        "state = random_state()\n",
        "\n",
        "single_qubit_errors = [[\"X\", [i]] for i in range(9)]\n",
        "single_qubit_errors += [[\"Y\", [i]] for i in range(9)]\n",
        "single_qubit_errors += [[\"Z\", [i]] for i in range(9)]\n",
        "\n",
        "decoded_list = []\n",
        "\n",
        "for err in single_qubit_errors:\n",
        "    decoded_list.append(decoded(state, *err))\n",
        "\n",
        "print(decoded_list)\n"
      ],
      "metadata": {
        "id": "TfYaxj-NgYWT"
      },
      "execution_count": null,
      "outputs": []
    },
    {
      "cell_type": "markdown",
      "source": [
        "###Codercise E.3.4.a.\n",
        "\n",
        "Complete the find_the_one function such that it outputs the index  corresponding to where the error syndrome is equal to 1."
      ],
      "metadata": {
        "id": "wYKK9EBcga3U"
      }
    },
    {
      "cell_type": "code",
      "execution_count": null,
      "metadata": {
        "id": "8KtEK3B4eFrF"
      },
      "outputs": [],
      "source": [
        "def find_the_one(syndrome):\n",
        "    \"\"\"Finds the entry in the error syndrome that is equal to 1.\n",
        "\n",
        "    Args:\n",
        "        syndrome (tensor): the output of the shor function\n",
        "\n",
        "    Returns:\n",
        "        (int): the index of the syndrome vector that is equal to 1. For example,\n",
        "        if syndrome = [0, 0, 1, 0], then this function would return 2.\n",
        "    \"\"\"\n",
        "    index = np.nonzero(syndrome)[0]  # Find the indices where the error syndrome is equal to 1\n",
        "\n",
        "    if len(index) > 0:\n",
        "        return index[0]  # Return the first index where the error syndrome is equal to 1\n"
      ]
    },
    {
      "cell_type": "markdown",
      "source": [
        "### Codercise E.3.4.b.\n",
        "\n",
        "Now that we can analyze the error syndrome from Shor's code, let's look for unique error syndromes. In doing this, not only are the errors decodable, but for some we might be even able to tell what the error was."
      ],
      "metadata": {
        "id": "-lC2KZxpggYe"
      }
    },
    {
      "cell_type": "code",
      "source": [
        "single_qubit_errors = [[\"X\", [i]] for i in range(9)]\n",
        "single_qubit_errors += [[\"Y\", [i]] for i in range(9)]\n",
        "single_qubit_errors += [[\"Z\", [i]] for i in range(9)]\n",
        "\n",
        "all_syndromes = []\n",
        "unique_syndromes = []\n",
        "degenerate_syndromes = {}\n",
        "\n",
        "state = random_state()\n",
        "\n",
        "for err in single_qubit_errors:\n",
        "    ind = find_the_one(shor(state, *err)[1])\n",
        "\n",
        "    if ind in unique_syndromes:\n",
        "        # find other error that gave the same syndrome\n",
        "        other_ind = np.where(np.array(all_syndromes) == ind)[0].item()\n",
        "        unique_syndromes.remove(ind) # remove it from the unique syndromes\n",
        "        degenerate_syndromes[ind] = [single_qubit_errors[other_ind], err]\n",
        "\n",
        "    elif ind in degenerate_syndromes.keys():\n",
        "        degenerate_syndromes[ind].append(err)\n",
        "\n",
        "    else:\n",
        "        unique_syndromes.append(ind)\n",
        "\n",
        "    all_syndromes.append(ind)\n",
        "\n",
        "################\n",
        "# PRESS SUBMIT #\n",
        "################\n",
        "\n",
        "print(degenerate_syndromes)\n"
      ],
      "metadata": {
        "id": "IYILaZHMePbq"
      },
      "execution_count": null,
      "outputs": []
    },
    {
      "cell_type": "markdown",
      "source": [
        "### Codercise E.3.5.\n",
        " Determine if Shor's code can decode the following errors:"
      ],
      "metadata": {
        "id": "rfYxeH-lgmIu"
      }
    },
    {
      "cell_type": "code",
      "source": [
        "state = random_state()\n",
        "\n",
        "xxzz_error_0458 = [\"XXZZ\", [0, 4, 5, 8]]\n",
        "xxyyzz_error_371820 = [\"XXYYZZ\", [3, 7, 1, 8, 2, 0]]\n",
        "xyzxyzxyz_error_012345678 = [\"XYZXYZXYZ\", [0, 1, 2, 3, 4, 5, 6, 7, 8]]\n",
        "\n",
        "errors = [xxzz_error_0458, xxyyzz_error_371820, xyzxyzxyz_error_012345678]\n",
        "\n",
        "decoded_list = []\n",
        "\n",
        "for err in errors:\n",
        "    decoded_list.append(decoded(state, *err))\n",
        "\n",
        "print(decoded_list)\n"
      ],
      "metadata": {
        "id": "JTEByR_TgnYB"
      },
      "execution_count": null,
      "outputs": []
    }
  ]
}