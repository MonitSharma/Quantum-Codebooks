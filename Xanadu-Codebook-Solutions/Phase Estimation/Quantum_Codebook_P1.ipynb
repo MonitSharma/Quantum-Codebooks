{
  "cells": [
    {
      "cell_type": "markdown",
      "metadata": {
        "id": "XPHzZPHNHRdU"
      },
      "source": [
        "# P1 Catch the Phase\n",
        "In this module we are going to learn about an algorithm that helps us estimate the eigenvalue of a given unitary operator. The eigenvectors of a unitary operator form an orthonormal basis set. Applying the unitary operator on one of its eigenvectors multiplies it by a global phase (the eigenvalue). For unitary operators, the eigenvalues have magnitude  and can be written in the form , where  is called the eigenphase corresponding to the eigenvalue.\n",
        "\n",
        "![](https://codebook.xanadu.ai/pics/p1-unitary.png)"
      ]
    },
    {
      "attachments": {},
      "cell_type": "markdown",
      "metadata": {},
      "source": [
        "Author: [Monit Sharma](https://github.com/MonitSharma)\n",
        "LinkedIn: [Monit Sharma](https://www.linkedin.com/in/monitsharma/)\n",
        "Twitter: [@MonitSharma1729](https://twitter.com/MonitSharma1729)\n",
        "Medium : [MonitSharma](https://medium.com/@_monitsharma)"
      ]
    },
    {
      "cell_type": "markdown",
      "metadata": {
        "id": "Mbb21XQ3HeL5"
      },
      "source": [
        "Determining this eigenvalue is not immediately straightforward, as the global phase is not measurable. Instead, we can use the Quantum Phase Estimation algorithm which, given an eigenvector of a unitary matrix, finds the corresponding eigenvalue. To start building up this algorithm, we begin implementing the phase kickback."
      ]
    },
    {
      "cell_type": "markdown",
      "metadata": {
        "id": "T6x1okVSHioj"
      },
      "source": [
        "### Codercise P.1.1. \n",
        "You are given a unitary that is promised to be either the  gate or the  gate. Write a quantum program using phase kickback that will result in the state  with a probability of  on the first qubit if  is applied and  with a probability of  on the first qubit if  is applied."
      ]
    },
    {
      "cell_type": "code",
      "execution_count": null,
      "metadata": {
        "id": "G-Zri3K8Gv7n"
      },
      "outputs": [],
      "source": [
        "dev = qml.device(\"default.qubit\", wires=2)\n",
        "\n",
        "@qml.qnode(dev)\n",
        "def guess_the_unitary(unitary):\n",
        "    \"\"\"Given a unitary that performs a Z or a -Z operation\n",
        "    on a qubit, guess which one it is.\n",
        "    \n",
        "    Args: \n",
        "        U (array[complex]): A unitary matrix, guaranteed to be either Z or -Z.\n",
        "    \n",
        "    Returns:\n",
        "        array [int]:  Probabilities on  on the first qubit\n",
        "        using qml.probs()\n",
        "    \"\"\"\n",
        "    ##################\n",
        "    # YOUR CODE HERE #\n",
        "    ##################  \n",
        "    qml.Hadamard(wires=0)\n",
        "    qml.ControlledQubitUnitary(unitary, control_wires=0, wires=1)\n",
        "    qml.Hadamard(wires=0)\n",
        "    return qml.probs(wires=0)\n",
        "\n",
        "\n",
        "\n",
        "# Z gate \n",
        "U = qml.PauliZ.compute_matrix() \n",
        "\n",
        "# -Z gate\n",
        "# U = (-1)*qml.PauliZ.compute_matrix()\n",
        "\n",
        "print(guess_the_unitary(U))\n"
      ]
    },
    {
      "cell_type": "markdown",
      "metadata": {
        "id": "imguClXjHwOO"
      },
      "source": [
        "### Codercise P.1.2. \n",
        "Find the eigenvalues of the  gate by following the steps outlined below:\n",
        "\n",
        "1. Prepare an eigenvector of  as input to the target wire.\n",
        "2. Apply the phase kickback circuit.\n",
        "3. Obtain the probabilities on the control wire.\n",
        "4. Use the probabilities  and  to calculate the eigenvalues.\n",
        "5. Modify the variable done to True."
      ]
    },
    {
      "cell_type": "code",
      "execution_count": null,
      "metadata": {
        "id": "oTEcqTZKH6RM"
      },
      "outputs": [],
      "source": [
        "dev = qml.device(\"default.qubit\", wires=2)\n",
        "        \n",
        "@qml.qnode(dev)\n",
        "def phase_kickback_X(eigenvector):\n",
        "    \"\"\" Given an eigenvector of X, \n",
        "    apply the phase kickback circuit to observe \n",
        "    the probabilities on the control wire\n",
        "    \n",
        "    Args: \n",
        "        eigenvector(String): A string \"plus\" or \"minus\" depicting \n",
        "        the eigenvector of X\n",
        "    \n",
        "    Returns:\n",
        "        array[int]: Measurement outcome on the first qubit using qml.probs()\n",
        "    \"\"\"\n",
        "    # Prepare |ψ>\n",
        "    ##################\n",
        "    # YOUR CODE HERE #\n",
        "    ##################  \n",
        "    if eigenvector != \"plus\":\n",
        "\t    qml.PauliX(wires=1)\n",
        "    qml.Hadamard(wires=1)\n",
        "\n",
        "\n",
        "    qml.Hadamard(wires=0)\n",
        "    qml.CNOT(wires=[0,1])\n",
        "    qml.Hadamard(wires=0)\n",
        "\n",
        "    return qml.probs(wires=[0])\n",
        "    \n",
        "    # Phase kickback\n",
        "    ##################\n",
        "    # YOUR CODE HERE #\n",
        "    ################## \n",
        " \n",
        "    return qml.probs(wires=[0])   \n",
        "\n",
        "print(phase_kickback_X(\"plus\"))\n",
        "print(phase_kickback_X(\"minus\"))\n",
        "\n",
        "# MODIFY EIGENVALUES BELOW \n",
        "eigenvalue_of_X_plus = 1\n",
        "eigenvalue_of_X_minus = -1\n"
      ]
    },
    {
      "cell_type": "markdown",
      "metadata": {
        "id": "M48qWKVpH-2v"
      },
      "source": [
        "![](https://codebook.xanadu.ai/pics/p1-kickback_output.png)"
      ]
    },
    {
      "cell_type": "code",
      "execution_count": null,
      "metadata": {
        "id": "LDa5lXw-IAOr"
      },
      "outputs": [],
      "source": []
    }
  ],
  "metadata": {
    "colab": {
      "provenance": []
    },
    "kernelspec": {
      "display_name": "Python 3",
      "name": "python3"
    },
    "language_info": {
      "name": "python"
    }
  },
  "nbformat": 4,
  "nbformat_minor": 0
}
