{
  "cells": [
    {
      "cell_type": "markdown",
      "metadata": {
        "id": "TPrFJxmjN8KB"
      },
      "source": [
        "# S.4 Shor's algorithm\n",
        "\n",
        "![](https://codebook.xanadu.ai/pics/flujo.jpeg)"
      ]
    },
    {
      "attachments": {},
      "cell_type": "markdown",
      "metadata": {},
      "source": [
        "Author: [Monit Sharma](https://github.com/MonitSharma)\n",
        "LinkedIn: [Monit Sharma](https://www.linkedin.com/in/monitsharma/)\n",
        "Twitter: [@MonitSharma1729](https://twitter.com/MonitSharma1729)\n",
        "Medium : [MonitSharma](https://medium.com/@_monitsharma)"
      ]
    },
    {
      "cell_type": "markdown",
      "metadata": {
        "id": "M-f9wW9hOBZv"
      },
      "source": [
        "### Codercise S.4.1. \n",
        "\n",
        "Implement the following functions:\n",
        "\n",
        "1. is_coprime: receives two integers and returns True if they are coprime or False otherwise.\n",
        "2. is_odd: given an integer returns True if it is odd and False otherwise.\n",
        "3. is_not_one: given\n",
        "\n"
      ]
    },
    {
      "cell_type": "code",
      "execution_count": null,
      "metadata": {
        "id": "jT5u0HEWLuH7"
      },
      "outputs": [],
      "source": [
        "def is_coprime(a, N):  \n",
        "    \"\"\"Determine if two numbers are coprime.\n",
        "        \n",
        "    Args:\n",
        "        a (int): First number to check if is coprime with the other.\n",
        "        N (int): Second number to check if is coprime with the other.\n",
        "        \n",
        "    Returns:\n",
        "        bool: True if they are coprime numbers, False otherwise.\n",
        "    \"\"\"\n",
        "    \n",
        "    ##################\n",
        "    # YOUR CODE HERE #\n",
        "    ##################\n",
        "    if np.gcd(a,N) == 1:\n",
        "        return True\n",
        "    else:\n",
        "        return False\n",
        "    \n",
        "    \n",
        "\n",
        "\n",
        "\n",
        "\n",
        "def is_odd(r):\n",
        "    \"\"\"Determine if a number is odd.   \n",
        "    \n",
        "    Args:\n",
        "        r (int): Integer to check if is an odd number.\n",
        "        \n",
        "    Returns:\n",
        "        bool: True if it is odd, False otherwise.\n",
        "    \"\"\"\n",
        "    \n",
        "    ##################\n",
        "    # YOUR CODE HERE #\n",
        "    ##################\n",
        "    if r%2 == 1:\n",
        "        return True\n",
        "    else:\n",
        "        return False\n",
        "    \n",
        "\n",
        "\n",
        "\n",
        "\n",
        "def is_not_one(x, N):\n",
        "    \"\"\"Determine if x is not +- 1 modulo N.\n",
        "    \n",
        "    Args:\n",
        "        N (int): Modulus of the equivalence.\n",
        "        x (int): Integer to check if it is different from +-1 modulo N.\n",
        "        \n",
        "    Returns:\n",
        "        bool: True if it is different, False otherwise.\n",
        "    \"\"\"\n",
        "    \n",
        "    ##################\n",
        "    # YOUR CODE HERE #\n",
        "    ##################\n",
        "    if x!= 1 % N and x != -1 % N:\n",
        "        return True\n",
        "    else:\n",
        "        return False\n",
        "    \n",
        "\n",
        "\n",
        "print(\"3 and 12 are coprime numbers: \", is_coprime(3,12))\n",
        "print(\"5 is odd: \", is_odd(5))\n",
        "print(\"4 is not one mod 5: \",is_not_one(4,5))\n",
        "\n"
      ]
    },
    {
      "cell_type": "markdown",
      "metadata": {
        "id": "DuXw5dOcOMHY"
      },
      "source": [
        "### Codercise S.4.2.: \n",
        "Implements Shor's algorithm based on the diagram seen and using the previously defined functions."
      ]
    },
    {
      "cell_type": "code",
      "execution_count": null,
      "metadata": {
        "id": "L1pQ7WN0ON1o"
      },
      "outputs": [],
      "source": [
        "\n",
        "def shor(N):\n",
        "    \"\"\"Return the factorization of a given integer.\n",
        "   \n",
        "    Args:\n",
        "       N (int): integer we want to factorize.\n",
        "    \n",
        "    Returns:\n",
        "        array[int]: [p,q], the prime factors of N.\n",
        "    \"\"\"\n",
        "        \n",
        "    ##################\n",
        "    # YOUR CODE HERE #\n",
        "    ##################\n",
        "    while True:\n",
        "        a = np.random.randint(2,N-1)\n",
        "        \n",
        "        if not is_coprime(a,N):\n",
        "\n",
        "            return np.gcd(a,N), N/(np.gcd(a,N))\n",
        "        U = get_matrix_a_mod_N(a,N)\n",
        "        r = get_period(U,N)\n",
        "        if is_odd(r):\n",
        "            continue\n",
        "        x = a**(r/2) % N\n",
        "        \n",
        "        if is_not_one(x,N):\n",
        "            continue\n",
        "        return np.gcd(x - 1,N), np.gcd(x + 1,N)\n",
        "        \n",
        "\n",
        "        \n",
        "\n",
        "print(shor(21))\n"
      ]
    }
  ],
  "metadata": {
    "colab": {
      "provenance": []
    },
    "kernelspec": {
      "display_name": "Python 3",
      "name": "python3"
    },
    "language_info": {
      "name": "python"
    }
  },
  "nbformat": 4,
  "nbformat_minor": 0
}
