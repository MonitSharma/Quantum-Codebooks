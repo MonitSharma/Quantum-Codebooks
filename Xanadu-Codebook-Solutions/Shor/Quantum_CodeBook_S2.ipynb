{
  "cells": [
    {
      "cell_type": "markdown",
      "metadata": {
        "id": "uVnkZ5zEJZLK"
      },
      "source": [
        "# S.2 Classical factorization\n",
        "\n",
        "So far we have learned the basics of modular arithmetic by looking at its main operations and properties. One such property is the inverse of a number\n",
        "modulo\n"
      ]
    },
    {
      "attachments": {},
      "cell_type": "markdown",
      "metadata": {},
      "source": [
        "Author: [Monit Sharma](https://github.com/MonitSharma)\n",
        "LinkedIn: [Monit Sharma](https://www.linkedin.com/in/monitsharma/)\n",
        "Twitter: [@MonitSharma1729](https://twitter.com/MonitSharma1729)\n",
        "Medium : [MonitSharma](https://medium.com/@_monitsharma)"
      ]
    },
    {
      "cell_type": "markdown",
      "metadata": {
        "id": "2mlssM34Je3o"
      },
      "source": [
        "### Codercise S.2.1. \n",
        "Implement a function that finds the first nontrivial square root modulo\n",
        "."
      ]
    },
    {
      "cell_type": "code",
      "execution_count": 1,
      "metadata": {
        "colab": {
          "base_uri": "https://localhost:8080/"
        },
        "id": "NZjdB5luI390",
        "outputId": "55abd37f-e629-445f-b6a7-673144e3b2fc"
      },
      "outputs": [
        {
          "name": "stdout",
          "output_type": "stream",
          "text": [
            "137\n"
          ]
        }
      ],
      "source": [
        "\n",
        "def nontrivial_square_root(m):\n",
        "    \"\"\"Return the first nontrivial square root modulo m.\n",
        "    \n",
        "    Args:\n",
        "        m (int): modulus for which want to find the nontrivial square root\n",
        "\n",
        "    Returns:\n",
        "        int: the first nontrivial square root of m\n",
        "    \"\"\"\n",
        "    \n",
        "    ##################\n",
        "    # YOUR CODE HERE #\n",
        "    ##################\n",
        "    i = 2\n",
        "    while True:\n",
        "        if i**2 % m == 1:\n",
        "            return i\n",
        "        i += 1\n",
        "\n",
        "\n",
        "\n",
        "        \n",
        "print(nontrivial_square_root(391))\n"
      ]
    },
    {
      "cell_type": "markdown",
      "metadata": {
        "id": "vhpFgOqnJjXh"
      },
      "source": [
        "### Codercise S.2.2. \n",
        "Implement a function capable of returning the two prime factors that form a particular number\n",
        ". You can use the nontrivial_square_root function implemented above."
      ]
    },
    {
      "cell_type": "code",
      "execution_count": 4,
      "metadata": {
        "id": "DXXquxPaJySq"
      },
      "outputs": [],
      "source": [
        "import numpy as np"
      ]
    },
    {
      "cell_type": "code",
      "execution_count": 6,
      "metadata": {
        "colab": {
          "base_uri": "https://localhost:8080/"
        },
        "id": "3-djtKlEJiEa",
        "outputId": "5d7f24ab-b939-4ca3-b829-5a7b8823d285"
      },
      "outputs": [
        {
          "name": "stdout",
          "output_type": "stream",
          "text": [
            "391 = 17 x 23\n"
          ]
        }
      ],
      "source": [
        "\n",
        "\n",
        "def factorization(N):\n",
        "    \n",
        "    \"\"\"Return the factors of N.\n",
        "    \n",
        "    Args:\n",
        "        N (int): number we want to factor.\n",
        "\n",
        "    Returns:\n",
        "        array[int]: [p,q] factors of N.\n",
        "    \"\"\"\n",
        "    ##################\n",
        "    # YOUR CODE HERE #\n",
        "    ##################\n",
        "    x = nontrivial_square_root(N)\n",
        "    p = np.gcd(x-1,N)\n",
        "    q = np.gcd(x+1, N)\n",
        "    return p,q\n",
        "\n",
        "\n",
        "\n",
        "N = 391\n",
        "p, q = factorization(N)\n",
        "print(f\"{N} = {p} x {q}\")\n"
      ]
    }
  ],
  "metadata": {
    "colab": {
      "provenance": []
    },
    "kernelspec": {
      "display_name": "Python 3",
      "name": "python3"
    },
    "language_info": {
      "name": "python"
    }
  },
  "nbformat": 4,
  "nbformat_minor": 0
}
