{
  "cells": [
    {
      "cell_type": "markdown",
      "metadata": {
        "id": "2YFbPnKtza-g"
      },
      "source": [
        "# Making and breaking promises\n",
        "\n",
        "**Learning outcomes**\n",
        "\n",
        "<li> Explain how global information and promises are useful for algorithm design."
      ]
    },
    {
      "attachments": {},
      "cell_type": "markdown",
      "metadata": {},
      "source": [
        "Author: [Monit Sharma](https://github.com/MonitSharma)\n",
        "LinkedIn: [Monit Sharma](https://www.linkedin.com/in/monitsharma/)\n",
        "Twitter: [@MonitSharma1729](https://twitter.com/MonitSharma1729)\n",
        "Medium : [MonitSharma](https://medium.com/@_monitsharma)"
      ]
    },
    {
      "cell_type": "markdown",
      "metadata": {
        "id": "3mrIqNOr0Bs5"
      },
      "source": [
        "Our little speedup in the previous node depended on a special fact about the function $f$ encoding the lock: there was only one secret combination $s$. But if we test a pair of combinations $|x0\\rangle , |x1\\rangle$ which both open the lock, we generate an undetectable phase once more:"
      ]
    },
    {
      "cell_type": "markdown",
      "metadata": {
        "id": "wm1hsfEbphLy"
      },
      "source": [
        "Is our algorithm now useless? To open the lock, we just need a single solution. Our strategy of testing in pairs is still guaranteed to work (eventually), provided there are an odd number of solutions. Even if we miss the solutions that come in pairs, there will always be one left over! But on the other hand, if the number of solutions is even, we might get unlucky, with solutions pairing up into a bunch of unobservable phases.\n",
        "\n",
        "![](https://codebook.xanadu.ai/pics/odd.svg)\n",
        "\n",
        "\n"
      ]
    },
    {
      "cell_type": "markdown",
      "metadata": {
        "id": "aLiR4dLzpnTe"
      },
      "source": [
        "There are two ways to view this algorithmic quirk. First, if we are told in advance that our lock has an odd number of solutions, we can test in pairs, confident we will eventually encounter a solution. But if we don't know the parity of the number (i.e., whether it is odd or even), we can test in pairs and discover it! Each time we observe a phase change, we know we have encountered a single solution, and otherwise, we have encountered either two or zero solutions, which are equal modulo $2$. So we simply test in pairs and count the number of phase changes we were able to observe. The parity of the solution set is the parity of this count. Once again, this is twice as fast as the classical algorithm, which must separately test each combination. This gives a circuit for determining the parity:\n",
        "\n",
        "\n",
        "![](https://codebook.xanadu.ai/pics/flowchart2.svg)\n",
        "\n"
      ]
    },
    {
      "cell_type": "markdown",
      "metadata": {
        "id": "xaMdQg7opwQs"
      },
      "source": [
        "Our pair-testing algorithm suggests that quantum computers might be good at determining global information about a function, like the parity of the solution set. Although we can't produce the observation we want from the exponentially many possibilities, we might be able to gather global information from all the different branches and combine them in an observable way. The pair-testing algorithm also tells us that, conversely, global assumptions about the function (e.g., that the number of solutions is odd) can lead to very different performance guarantees for our algorithms. These global assumptions about  are called promises, and play an important role in quantum algorithms."
      ]
    },
    {
      "cell_type": "markdown",
      "metadata": {
        "id": "gWTZxXhHp2eK"
      },
      "source": [
        "![](https://codebook.xanadu.ai/pics/pair-test-circuit.svg)\n",
        "\n",
        "\n",
        "### Codercise A.4.1 \n",
        "\n",
        "Implement the circuit above, but now for `how_many` solutions instead of one. You will first need to implement the multi-solution version of the oracle matrix, `multisol_oracle_matrix`(combos), which takes a list of bit strings (representing different solutions) and returns the associated oracle in matrix form."
      ]
    },
    {
      "cell_type": "code",
      "execution_count": 2,
      "metadata": {
        "id": "BZD5Om9fzMWN"
      },
      "outputs": [],
      "source": [
        "\n",
        "import pennylane as qml\n",
        "import numpy as np"
      ]
    },
    {
      "cell_type": "code",
      "execution_count": 3,
      "metadata": {
        "id": "y65RG6avqIvH"
      },
      "outputs": [],
      "source": [
        "n_bits = 4\n",
        "dev = qml.device(\"default.qubit\", wires=n_bits)\n",
        "\n",
        "def multisol_oracle_matrix(combos):\n",
        "    \"\"\"Return the oracle matrix for a set of solutions.\n",
        "\n",
        "    Args:\n",
        "        combos (list[list[int]]): A list of secret bit strings.\n",
        "\n",
        "    Returns:\n",
        "        array[float]: The matrix representation of the oracle.\n",
        "    \"\"\"\n",
        "    indices = [np.ravel_multi_index(combo, [2]*len(combo)) for combo in combos]\n",
        "    ##################\n",
        "    # YOUR CODE HERE #\n",
        "    ##################\n",
        "    my_array = np.identity(2**len(combos[0])) # Create the identity matrix\n",
        "    for i in indices:\n",
        "        my_array[i,i] = -1\n",
        "    return my_array\n",
        "\n",
        "@qml.qnode(dev)\n",
        "def multisol_pair_circuit(x_tilde, combos):\n",
        "    \"\"\"Implements the circuit for testing a pair of combinations labelled by x_tilde.\n",
        "    \n",
        "    Args:\n",
        "        x_tilde (list[int]): An (n_bits - 1)-bit string labelling the pair to test.\n",
        "        combos (list[list[int]]): A list of secret bit strings.\n",
        "\n",
        "    Returns:\n",
        "        array[float]: Probabilities on the last qubit.\n",
        "    \"\"\"\n",
        "    for i in range(n_bits-1): # Initialize x_tilde part of state\n",
        "        if x_tilde[i] == 1:\n",
        "            qml.PauliX(wires=i)\n",
        "\n",
        "    ##################\n",
        "    # YOUR CODE HERE #\n",
        "    ##################\n",
        "    qml.Hadamard(wires=n_bits-1)\n",
        "    qml.QubitUnitary(multisol_oracle_matrix(combos), wires = [i for i in range(n_bits)])\n",
        "    qml.Hadamard(wires=n_bits-1)\n",
        "\n",
        "    return qml.probs(wires=n_bits-1)\n"
      ]
    },
    {
      "cell_type": "markdown",
      "metadata": {
        "id": "-iZnVeYBqP3U"
      },
      "source": [
        "### Codercise A.4.2\n",
        "\n",
        " Use `multisol_pair_circuit(x_tilde, combos)` to create a routine for checking the parity of a lock."
      ]
    },
    {
      "cell_type": "code",
      "execution_count": 4,
      "metadata": {
        "id": "jBbpmLqpqVOz"
      },
      "outputs": [],
      "source": [
        "def parity_checker(combos):\n",
        "    \"\"\"Use multisol_pair_circuit to determine the parity of a solution set.\n",
        "\n",
        "    Args:\n",
        "        combos (list[list[int]]): A list of secret combinations.\n",
        "\n",
        "    Returns: \n",
        "        int: The parity of the solution set.\n",
        "    \"\"\"\n",
        "    parity = 0\n",
        "    x_tilde_strs = [np.binary_repr(n, n_bits-1) for n in range(2**(n_bits-1))]\n",
        "    x_tildes = [[int(s) for s in x_tilde_str] for x_tilde_str in x_tilde_strs]\n",
        "    for x_tilde in x_tildes:\n",
        "\n",
        "        ##################\n",
        "        # YOUR CODE HERE #\n",
        "        ##################\n",
        "\n",
        "        # IMPLEMENT PARITY COUNTING ALGORITHM\n",
        "        p0,p1 = multisol_pair_circuit(x_tilde, combos)\n",
        "        if np.isclose(1,p1):\n",
        "            parity += 1\n",
        "    return parity % 2\n"
      ]
    },
    {
      "cell_type": "markdown",
      "metadata": {
        "id": "JaH3PPKgqZOs"
      },
      "source": [
        "We are beginning to see how global information, or promises, can be used to exploit superposition, and conversely, superpositions can be used to learn global information."
      ]
    },
    {
      "cell_type": "code",
      "execution_count": null,
      "metadata": {
        "id": "DmUBwE-GqaN8"
      },
      "outputs": [],
      "source": []
    }
  ],
  "metadata": {
    "colab": {
      "provenance": []
    },
    "kernelspec": {
      "display_name": "Python 3",
      "name": "python3"
    },
    "language_info": {
      "name": "python"
    }
  },
  "nbformat": 4,
  "nbformat_minor": 0
}
