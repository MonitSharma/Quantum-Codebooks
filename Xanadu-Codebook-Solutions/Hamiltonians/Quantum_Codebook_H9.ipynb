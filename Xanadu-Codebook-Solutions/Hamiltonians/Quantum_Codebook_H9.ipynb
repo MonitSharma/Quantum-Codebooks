{
  "cells": [
    {
      "cell_type": "markdown",
      "metadata": {
        "id": "Cut6yhs8jyMn"
      },
      "source": [
        "# H.9 Qubitization\n",
        "Show Textbook\n",
        "The content in this node is advanced. We recommend reading the sections on Grover search and quantum phase estimation beforehand.\n",
        "\n",
        "The  and  oracles can be used for a different method of Hamiltonian simulation called qubitization. The basic observation is that, when the component unitaries  in a Hamiltonian"
      ]
    },
    {
      "attachments": {},
      "cell_type": "markdown",
      "metadata": {},
      "source": [
        "Author: [Monit Sharma](https://github.com/MonitSharma)\n",
        "LinkedIn: [Monit Sharma](https://www.linkedin.com/in/monitsharma/)\n",
        "Twitter: [@MonitSharma1729](https://twitter.com/MonitSharma1729)\n",
        "Medium : [MonitSharma](https://medium.com/@_monitsharma)"
      ]
    },
    {
      "cell_type": "markdown",
      "metadata": {
        "id": "D62oUM3lkGfI"
      },
      "source": [
        "![](https://codebook.xanadu.ai/pics/qubitization_alt_1.svg)"
      ]
    },
    {
      "cell_type": "markdown",
      "metadata": {
        "id": "ZTuEQHhRkJPm"
      },
      "source": [
        "### Codercise H.9.1.\n",
        " (a) Let's start by implementing the walk operator . The functions SELECT(U_list) and PREPARE_matrix(alpha_list) are available to you. Recall that PREPARE_matrix produces a matrix, while SELECT is a subcircuit, applying a sequence of gates. Note: you'll need to make the  matrix and use qml.QubitUnitary to implement it the circuit level."
      ]
    },
    {
      "cell_type": "code",
      "execution_count": null,
      "metadata": {
        "id": "nMyn0LLcjiRq"
      },
      "outputs": [],
      "source": [
        "k_bits = 2 # number of bits in the O register\n",
        "main_bits = 2 # number of bits in the main register\n",
        "all_bits = k_bits + main_bits # total number of bits\n",
        "\n",
        "# define wire ranges for each of the three registers\n",
        "k_wires = range(k_bits) # O register\n",
        "main_wires = range(k_bits, all_bits) # main register\n",
        "dev = qml.device(\"default.qubit\", wires=all_bits)  \n",
        "\n",
        "def walk(alpha_list, U_list):\n",
        "    \"\"\"Create a subcircuit for the walk operator in qubitization.\n",
        "    \n",
        "    Args:\n",
        "        alpha_list (array[float]): A list of coefficients.\n",
        "        U_list (list[array[complex]]): A list of unitary matrices, stored as complex arrays.\n",
        "    \"\"\"\n",
        "\n",
        "    ##################\n",
        "    # YOUR CODE HERE #\n",
        "    ##################\n",
        "    SELECT(U_list)\n",
        "    mat = PREPARE_matrix(alpha_list)\n",
        "    r = np.zeros(shape=mat.shape)\n",
        "    for _ in range(len(r)):\n",
        "        if _ == 0:\n",
        "            r[_][_] = 1.0\n",
        "            continue\n",
        "        r[_][_] = -1.0\n",
        "    R = mat.conj().T @ r @ mat\n",
        "    qml.QubitUnitary(R, wires=k_wires)\n",
        "\n"
      ]
    },
    {
      "cell_type": "markdown",
      "metadata": {
        "id": "oHXBwRNXkSeO"
      },
      "source": [
        "(b) Here is a circuit with the initialization steps and a single application of  shown:"
      ]
    },
    {
      "cell_type": "markdown",
      "metadata": {
        "id": "jongCfpvkOG3"
      },
      "source": [
        "![](https://codebook.xanadu.ai/pics/qubitization_codercise_2.svg)"
      ]
    },
    {
      "cell_type": "code",
      "execution_count": null,
      "metadata": {
        "id": "Uny3AAJykPgW"
      },
      "outputs": [],
      "source": [
        "@qml.qnode(dev)\n",
        "def walk_circuit(alpha_list, U_list, steps):\n",
        "    \"\"\"Create a subcircuit for the walk operator in qubitization.\n",
        "    \n",
        "    Args:\n",
        "        alpha_list (array[float]): A list of coefficients.\n",
        "        U_list (list[array[complex]]): A list of unitary matrices, stored as complex arrays.\n",
        "        steps (int): The number of times to iterate the walk operator.\n",
        "\n",
        "    Returns:\n",
        "        array[complex]: The quantum state after applying the circuit.\n",
        "    \"\"\"\n",
        "\n",
        "    ##################\n",
        "    # YOUR CODE HERE #\n",
        "    ##################\n",
        "    qml.QubitUnitary(PREPARE_matrix(alpha_list), wires=k_wires)\n",
        "    for _ in range(steps):\n",
        "        walk(alpha_list,U_list)\n",
        "        \n",
        "\n",
        "    return qml.state()\n"
      ]
    },
    {
      "cell_type": "markdown",
      "metadata": {
        "id": "oLz0xodkkYlv"
      },
      "source": [
        "### Codercise H.9.2. \n",
        "(a) Write a circuit which prepares the  eigenstate in Eq. (). Specifically, your circuit must apply the  operator,"
      ]
    },
    {
      "cell_type": "code",
      "execution_count": null,
      "metadata": {
        "id": "-OCNr6dFkaXm"
      },
      "outputs": [],
      "source": [
        "targ_bits = k_bits + main_bits\n",
        "targ_wires = range(targ_bits)\n",
        "k_wires = range(k_bits)\n",
        "\n",
        "def eigenstate_prep(alpha_list, U_list, E):\n",
        "    \"\"\"Create a subcircuit which prepares the + eigenstate of the walk operator.\n",
        "    \n",
        "    Args:\n",
        "        alpha_list (array[float]): A list of coefficients.\n",
        "        U_list (list[array[complex]]): A list of unitary matrices.\n",
        "        E (float): Our guess at the energy of the state.\n",
        "    \"\"\"\n",
        "    alpha = sum(alpha_list)\n",
        "\n",
        "    ##################\n",
        "    # YOUR CODE HERE #\n",
        "    ##################\n",
        "\n",
        "    # DEFINE c_+/- \n",
        "    c_plus =  np.sqrt(2 * (1 + E/alpha))**(-1)\n",
        "    \n",
        "    c_minus = np.sqrt(2 * (1 - E/alpha))**(-1)\n",
        "    qml.QubitUnitary(PREPARE_matrix(alpha_list), wires= k_wires)\n",
        "    mat = SELECT_matrix(U_list)\n",
        "    mat = 1/np.sqrt(2) * ((c_plus + 1j * c_minus) * np.eye(2**targ_bits) +  (c_plus - 1j * c_minus) * mat)\n",
        "    \n",
        "    qml.QubitUnitary(mat, wires=targ_wires)\n",
        "    c = [c_plus, c_minus] \n",
        "    \n"
      ]
    },
    {
      "cell_type": "markdown",
      "metadata": {
        "id": "QBOHBnGTkdPu"
      },
      "source": [
        "![](https://codebook.xanadu.ai/pics/qubitization_alt_6.svg)"
      ]
    },
    {
      "cell_type": "markdown",
      "metadata": {
        "id": "YMeUru77kg3O"
      },
      "source": [
        "b) Complete the following code for estimating the phase. Since the qml.QuantumPhaseEstimation subroutine requires us to specify the unitary as a matrix, the walk operator is provided as a matrix for you via walk_matrix(alpha_list, U_list). The eigenstate_prep function is also available to use. We'll also allow for initialization of computational basis states on the main register. Note that the targ_bits, targ_wires, and k_bits variables from the previous exercise are available to you here, as well."
      ]
    },
    {
      "cell_type": "code",
      "execution_count": null,
      "metadata": {
        "id": "E97jH3OLkeZ2"
      },
      "outputs": [],
      "source": [
        "p_bits = 8 # number of bits in the T register\n",
        "# range of wires in the T register (where phase estimation occurs)\n",
        "p_wires = range(targ_bits, targ_bits + p_bits) \n",
        "\n",
        "dev2 = qml.device(\"default.qubit\", wires=targ_bits + p_bits)\n",
        "\n",
        "@qml.qnode(dev2)\n",
        "def qpe_circuit(alpha_list, U_list, state, E):\n",
        "    \"\"\"Create a circuit for estimating the phase of a basis state of the walk operator.\n",
        "    \n",
        "    Args:\n",
        "        alpha_list (array[float]): A list of coefficients.\n",
        "        U_list (list[array[complex]]): A list of unitary matrices.\n",
        "        state (list[int]): A basis state, specified as a list of bits.\n",
        "        E (float): Our guess at the energy of the state.\n",
        "\n",
        "    Returns:\n",
        "        array[float]: The probabilities on the estimate register.\n",
        "    \"\"\"\n",
        "\n",
        "    ##################\n",
        "    # YOUR CODE HERE #\n",
        "    ##################\n",
        "\n",
        "    # INITIALIZE BASIS STATE\n",
        "    # PREPARE EIGENSTATE OF WALK OPERATOR\n",
        "    eigenstate_prep(alpha_list,U_list,E)\n",
        "\n",
        "    # APPLY QUANTUM PHASE ESTIMATION\n",
        "    qml.QuantumPhaseEstimation(walk_matrix(alpha_list,U_list),targ_wires,p_wires)\n",
        "\n",
        "    return qml.probs(wires=p_wires)\n"
      ]
    },
    {
      "cell_type": "markdown",
      "metadata": {
        "id": "s_HIUPW2kltu"
      },
      "source": [
        "(c) Confirm that your phase estimation circuit qpe_circuit works by applying it to the simple Hamiltonian above. Populate the U_list and alpha_list lists so that you can calculate two phases: phase_estimate_00 and phase_estimated_01. With these phases, the code provided will extract the energies!"
      ]
    },
    {
      "cell_type": "code",
      "execution_count": null,
      "metadata": {
        "id": "ISK_gkCAkmWm"
      },
      "outputs": [],
      "source": [
        "U_list = [np.kron(qml.Hadamard.compute_matrix(), qml.Hadamard.compute_matrix()),\n",
        "        np.kron(-qml.Hadamard.compute_matrix(), qml.PauliX.compute_matrix()),\n",
        "        np.kron(-qml.PauliX.compute_matrix(), qml.Hadamard.compute_matrix()),\n",
        "        np.kron(qml.PauliX.compute_matrix(), qml.PauliX.compute_matrix())] # MODIFY THIS\n",
        "alpha_list = [2.0, np.sqrt(2), np.sqrt(2),1.0] # MODIFY THIS\n",
        "\n",
        "phase_estimated_00 = qpe_circuit(alpha_list, U_list,[0,0],1.0) # MODIFY THIS\n",
        "phase_estimated_01 = qpe_circuit(alpha_list, U_list,[0,1],-1.0) # MODIFY THIS\n",
        "\n",
        "phase_estimated_00 = phase_estimated = np.argmax(phase_estimated_00) / 2 ** p_bits\n",
        "phase_estimated_01 = phase_estimated = np.argmax(phase_estimated_01) / 2 ** p_bits\n",
        "\n",
        "alpha = sum(alpha_list)\n",
        "\n",
        "energy_estimated_00 = alpha*np.cos(2*np.pi*phase_estimated_00)\n",
        "energy_estimated_01 = alpha*np.cos(2*np.pi*phase_estimated_01)\n",
        "\n",
        "print(\"The estimated energy for state |00> is\", energy_estimated_00, \".\")\n",
        "print(\"The estimated energy for state |01> is\", energy_estimated_01, \".\")\n"
      ]
    },
    {
      "cell_type": "markdown",
      "metadata": {
        "id": "yZdpg_ewkpc4"
      },
      "source": [
        "### Codercise H.9.3.\n",
        " (a) Implement the matrix representation of the unitary . Note that it is diagonal, acts on both the target and estimation registers, and with matrix elements , where  is defined above and  runs discretely over all -decimal binary angles"
      ]
    },
    {
      "cell_type": "code",
      "execution_count": null,
      "metadata": {
        "id": "P90sRevzkrh2"
      },
      "outputs": [],
      "source": [
        "def S(time, alpha):\n",
        "    \"\"\"Implement the unitary S as a matrix.\n",
        "    \n",
        "    Args:\n",
        "        time (float): The time to evolve the Hamiltonian for.\n",
        "        alpha (float): The sum of alpha coefficients in the Hamiltonian.\n",
        "\n",
        "    Returns:\n",
        "        array[complex]: The matrix representation of S.\n",
        "    \"\"\"\n",
        "    hbar = 1e-34\n",
        "    output = np.eye(2**(targ_bits + p_bits), dtype = 'complex_')\n",
        "    for k in range(2**targ_bits):\n",
        "        for i in range(2**p_bits):\n",
        "            index = 2**p_bits*k + i\n",
        "\n",
        "            ##################\n",
        "            # YOUR CODE HERE #\n",
        "            ##################\n",
        "            val = - time * alpha / hbar * np.cos(2 * np.pi * 1/(2**p_bits) * index)\n",
        "            output[index, index] = np.exp(1j * val) # MODIFY THIS\n",
        "\n",
        "    return output\n"
      ]
    },
    {
      "cell_type": "markdown",
      "metadata": {
        "id": "m4z1FKiUku32"
      },
      "source": [
        "![](https://codebook.xanadu.ai/pics/qubitization_alt_7.svg)"
      ]
    },
    {
      "cell_type": "markdown",
      "metadata": {
        "id": "ynw615zNkx3m"
      },
      "source": [
        "(b) Implement this simplified qubitization circuit. The  matrix function that you made in the previous exercise is callable with S(time, alpha). In this particular problem, we are going to simulate the following one-qubit Hamiltonian in the interest of getting a very accurate phase estimate:"
      ]
    },
    {
      "cell_type": "code",
      "execution_count": null,
      "metadata": {
        "id": "_wANt2EGkwLX"
      },
      "outputs": [],
      "source": [
        "@qml.qnode(dev2)\n",
        "def qubitization(alpha_list, U_list, time):\n",
        "    \"\"\"Perform Hamiltonian simulation using a simplified qubitization circuit.\n",
        "    \n",
        "    Args:\n",
        "        alpha_list (array[float]): A list of coefficients.\n",
        "        U_list (list[array[complex]]): A list of unitary matrices, stored as complex arrays.\n",
        "        time (float): The time to evolve the Hamiltonian for.\n",
        "    \"\"\"\n",
        "    prep = PREPARE_matrix(alpha_list)\n",
        "    prep_dagger = np.conjugate(np.transpose(prep))\n",
        "    alpha = sum(alpha_list)\n",
        "    \n",
        "    ##################\n",
        "    # YOUR CODE HERE #\n",
        "    ##################\n",
        "    qml.QubitUnitary(prep,wires = [_ for _ in range(k_bits)])\n",
        "    qml.QuantumPhaseEstimation(walk_matrix(alpha_list,U_list),targ_wires, p_wires)\n",
        "    qml.QubitUnitary(S(time, alpha), wires = [_ for _ in range(10)])\n",
        "    qml.adjoint(qml.QuantumPhaseEstimation)(walk_matrix(alpha_list,U_list),targ_wires,p_wires)\n",
        "    qml.QubitUnitary(prep_dagger, wires = [_ for _ in range(k_bits)])\n",
        "    \n",
        "    return qml.probs(wires=range(k_bits, k_bits + main_bits))\n"
      ]
    }
  ],
  "metadata": {
    "colab": {
      "provenance": []
    },
    "kernelspec": {
      "display_name": "Python 3",
      "name": "python3"
    },
    "language_info": {
      "name": "python"
    }
  },
  "nbformat": 4,
  "nbformat_minor": 0
}
