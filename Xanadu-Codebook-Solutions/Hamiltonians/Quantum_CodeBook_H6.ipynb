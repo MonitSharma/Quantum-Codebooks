{
  "nbformat": 4,
  "nbformat_minor": 0,
  "metadata": {
    "colab": {
      "provenance": []
    },
    "kernelspec": {
      "name": "python3",
      "display_name": "Python 3"
    },
    "language_info": {
      "name": "python"
    }
  },
  "cells": [
    {
      "cell_type": "markdown",
      "source": [
        "# H6 Linear Combination of Unitaries\n",
        "\n",
        "Trotterization approximates time evolution by reexpressing the full Taylor series as a product of simpler Taylor series"
      ],
      "metadata": {
        "id": "ltxCzu5kxLf1"
      }
    },
    {
      "cell_type": "markdown",
      "source": [
        "![](https://codebook.xanadu.ai/pics/h-circuit.svg)"
      ],
      "metadata": {
        "id": "THpj2s_3xV82"
      }
    },
    {
      "cell_type": "markdown",
      "source": [
        "### Codercise H.6.1.\n",
        "(a) Write a circuit for applying a sum of unitaries non-deterministically. Don't worry about initialization of the state just yet.\n",
        "\n",
        "Tip. Use qml.ControlledQubitUnitary to apply these unitaries with control bits."
      ],
      "metadata": {
        "id": "n1jx1qNKxYd6"
      }
    },
    {
      "cell_type": "code",
      "execution_count": null,
      "metadata": {
        "id": "moUu2VjwwzCT"
      },
      "outputs": [],
      "source": [
        "aux = 0\n",
        "main = 1\n",
        "n_bits = 2\n",
        "dev = qml.device(\"default.qubit\", wires=n_bits)\n",
        "\n",
        "def add_two_unitaries(U, V):\n",
        "    \"\"\"A circuit to apply the sum of two unitaries non-deterministically.\n",
        "\n",
        "    Args:\n",
        "        U (array): A unitary matrix, stored as a complex array.\n",
        "        V (array): A unitary matrix, stored as a complex array.\n",
        "    \"\"\"\n",
        "    qml.Hadamard(wires=aux)\n",
        "    ##################\n",
        "    # YOUR CODE HERE #\n",
        "    ##################\n",
        "    qml.ControlledQubitUnitary(U,control_wires=[0], wires=1,control_values='0')\n",
        "    qml.ControlledQubitUnitary(V,control_wires=[0], wires=1,control_values='1')\n",
        "    qml.Hadamard(wires=aux)\n"
      ]
    },
    {
      "cell_type": "markdown",
      "source": [
        "(b) Complete the code below to apply the sum  to the state  (on the main register). You can invoke add_two_unitaries(U, V) from the last challenge, and access the matrix form of the Paulis using, e.g., qml.PauliX.matrix.\n",
        "\n",
        "Note that . Are the results what you expect?"
      ],
      "metadata": {
        "id": "kze0VJvyxdGW"
      }
    },
    {
      "cell_type": "code",
      "source": [
        "@qml.qnode(dev)\n",
        "def X_plus_Z():\n",
        "    \"\"\"Apply X + Z to |0> and return the state.\"\"\"\n",
        "    ##################\n",
        "    # YOUR CODE HERE #\n",
        "    ##################\n",
        "    U = qml.PauliX.compute_matrix()\n",
        "    V = qml.PauliZ.compute_matrix()\n",
        "    add_two_unitaries(U,V)\n",
        "    return qml.state()\n",
        "\n",
        "print(\"The amplitudes on the main register are proportional to\", X_plus_Z()[:2], \".\")\n"
      ],
      "metadata": {
        "id": "xqHyJIooxfnZ"
      },
      "execution_count": null,
      "outputs": []
    },
    {
      "cell_type": "markdown",
      "source": [
        "![](https://codebook.xanadu.ai/pics/su-circuit.svg)"
      ],
      "metadata": {
        "id": "AMisV8RRxoHi"
      }
    },
    {
      "cell_type": "markdown",
      "source": [
        "### Codercise H.6.2.\n",
        "(a) Finish the code below to implement the SELECT subcircuit."
      ],
      "metadata": {
        "id": "O09a6hpYxtJf"
      }
    },
    {
      "cell_type": "code",
      "source": [
        "k_bits = 2\n",
        "n_bits = 2\n",
        "all_bits = k_bits + n_bits\n",
        "aux = range(k_bits)\n",
        "main = range(k_bits, all_bits)\n",
        "dev = qml.device(\"default.qubit\", wires=all_bits)\n",
        "\n",
        "def SELECT_uniform(U_list):\n",
        "    \"\"\"Implement the SELECT subroutine for 2^k unitaries.\n",
        "\n",
        "    Args:\n",
        "        U_list (list[array[complex]]): A list of unitary matrices, stored as\n",
        "        complex arrays.\n",
        "    \"\"\"\n",
        "    for index in range(2**k_bits):\n",
        "        ctrl_str =  np.binary_repr(index, k_bits) # Create binary representation\n",
        "        ##################\n",
        "        # YOUR CODE HERE #\n",
        "        ##################\n",
        "        qml.ControlledQubitUnitary(U_list[index], control_wires =[i for i in range(k_bits)], wires = [i for i in range(n_bits, all_bits)], control_values=ctrl_str)\n"
      ],
      "metadata": {
        "id": "LYuyenSqxq3F"
      },
      "execution_count": null,
      "outputs": []
    },
    {
      "cell_type": "markdown",
      "source": [
        "(b) Write a circuit to apply"
      ],
      "metadata": {
        "id": "K3GQ81h_xzRq"
      }
    },
    {
      "cell_type": "code",
      "source": [
        "@qml.qnode(dev)\n",
        "def XH_plus_HZ():\n",
        "    \"\"\"Apply XH + HZ to |01> and return the state.\"\"\"\n",
        "    U_list = [np.kron(qml.PauliX.compute_matrix(), qml.PauliX.compute_matrix()),\n",
        "              np.kron(qml.PauliZ.compute_matrix(), qml.PauliZ.compute_matrix()),\n",
        "              np.kron(qml.PauliX.compute_matrix(), qml.PauliZ.compute_matrix()),\n",
        "              np.kron(qml.PauliZ.compute_matrix(), qml.PauliX.compute_matrix())]\n",
        "    ##################\n",
        "    # YOUR CODE HERE #\n",
        "    ##################\n",
        "    qml.PauliX(wires=3)\n",
        "    qml.Hadamard(wires=0)\n",
        "    qml.Hadamard(wires=1)\n",
        "    SELECT_uniform(U_list)\n",
        "    qml.Hadamard(wires=0)\n",
        "    qml.Hadamard(wires=1)\n",
        "    return qml.state()\n",
        "\n",
        "print(\"The amplitudes on the main register are proportional to\", XH_plus_HZ()[:4], \".\")\n"
      ],
      "metadata": {
        "id": "HiGW78q_xz3W"
      },
      "execution_count": null,
      "outputs": []
    },
    {
      "cell_type": "markdown",
      "source": [
        "![](https://codebook.xanadu.ai/pics/vk-circuit.svg)"
      ],
      "metadata": {
        "id": "6q3roSs-x25G"
      }
    },
    {
      "cell_type": "markdown",
      "source": [
        "### Codercise H.6.3.\n",
        "(a) Consider the matrix exponential of a unitary operator :"
      ],
      "metadata": {
        "id": "DxPujHC9x50C"
      }
    },
    {
      "cell_type": "code",
      "source": [
        "def V(t):\n",
        "    \"\"\"Matrix for the PREPARE subroutine.\"\"\"\n",
        "    return np.array([[np.sqrt(t)/np.sqrt(t+1), -1/np.sqrt(t+1)],\n",
        "                    [1/np.sqrt(t+1), np.sqrt(t)/np.sqrt(t+1)]])\n",
        "\n",
        "def exp_U_first(U, t):\n",
        "    \"\"\"Implement the first two terms in the Taylor series for exp(tU).\n",
        "\n",
        "    Args:\n",
        "        U (array): A unitary matrix, stored as a complex array.\n",
        "        t (float): A time to evolve by.\n",
        "    \"\"\"\n",
        "    ##################\n",
        "    # YOUR CODE HERE #\n",
        "    ##################\n",
        "    qml.QubitUnitary(V(t), wires=0)\n",
        "    qml.ControlledQubitUnitary(U,control_wires=[0], wires=1, control_values='0')\n",
        "    qml.ControlledQubitUnitary(np.identity(2),control_wires=[0], wires=1, control_values='0')\n",
        "    qml.adjoint(qml.QubitUnitary)(V(t),wires=0)\n",
        "\n"
      ],
      "metadata": {
        "id": "vpRnIypDx4Ir"
      },
      "execution_count": null,
      "outputs": []
    },
    {
      "cell_type": "markdown",
      "source": [
        "\n",
        "b) Now implement the second-order approximation to ,"
      ],
      "metadata": {
        "id": "C8y2kQJcy3b8"
      }
    },
    {
      "cell_type": "code",
      "source": [
        "def exp_U_second(U, t):\n",
        "    \"\"\"Implement the second-order approximation of exp(tU).\n",
        "\n",
        "    Args:\n",
        "        U (array): A unitary matrix, stored as a complex array.\n",
        "        t (float): A time to evolve by.\n",
        "    \"\"\"\n",
        "    qml.QubitUnitary(V(t), wires=aux[0])\n",
        "    def subcircuit():\n",
        "        ##################\n",
        "        # YOUR CODE HERE #\n",
        "        ##################\n",
        "        qml.QubitUnitary(V(t/2), wires=aux[1])\n",
        "        qml.ControlledQubitUnitary(np.matmul(U,U), control_wires=aux[1], wires=main, control_values='0')\n",
        "        qml.ControlledQubitUnitary(U, control_wires=aux[1], wires=main, control_values='1')\n",
        "        qml.QubitUnitary(np.transpose(V(t/2)), wires=aux[1])\n",
        "    qml.PauliX(wires=aux[0])\n",
        "    c = qml.ctrl(subcircuit,aux[0])\n",
        "    c()\n",
        "    qml.PauliX(wires=aux[0])\n",
        "\n",
        "    # ADD CONTROLLED OPERATION HERE\n",
        "    qml.QubitUnitary(np.transpose(V(t)), wires=aux[0])\n"
      ],
      "metadata": {
        "id": "I3ANMqRJy8Rm"
      },
      "execution_count": null,
      "outputs": []
    },
    {
      "cell_type": "markdown",
      "source": [
        "(c) Finally, write circuits which implement the evolution , starting in the  state, using the (i) the first-order approximation, (ii) the second-order approximation, and (iii) the full series via qml.RX. The functions exp_U_first and exp_U_second from the previous two exercises are available."
      ],
      "metadata": {
        "id": "XFSwkO_QzHYH"
      }
    },
    {
      "cell_type": "code",
      "source": [
        "aux = [0, 1]\n",
        "main = 2\n",
        "all_bits = range(3)\n",
        "dev = qml.device(\"default.qubit\", wires=all_bits)\n",
        "\n",
        "# Part (i)\n",
        "\n",
        "@qml.qnode(dev)\n",
        "def first_approx(t):\n",
        "    ##################\n",
        "    # YOUR CODE HERE #\n",
        "    ##################\n",
        "    exp_U_first(1j * qml.PauliX.compute_matrix(),t)\n",
        "    return qml.state()\n",
        "\n",
        "# Part (ii)\n",
        "\n",
        "@qml.qnode(dev)\n",
        "def second_approx(t):\n",
        "    ##################\n",
        "    # YOUR CODE HERE #\n",
        "    ##################\n",
        "    exp_U_second(1j * qml.PauliX.compute_matrix(),t)\n",
        "    return qml.state()\n",
        "\n",
        "# Part (iii)\n",
        "\n",
        "@qml.qnode(dev)\n",
        "def full_series(t):\n",
        "    ##################\n",
        "    # YOUR CODE HERE #\n",
        "    ##################\n",
        "    qml.RX(-2 * t,wires=main)\n",
        "\n",
        "    return qml.state()\n",
        "\n",
        "##################\n",
        "# HIT SUBMIT FOR #\n",
        "# PLOTTING MAGIC #\n",
        "##################\n"
      ],
      "metadata": {
        "id": "fTsNnVT8zIr2"
      },
      "execution_count": null,
      "outputs": []
    },
    {
      "cell_type": "markdown",
      "source": [
        "![download (1).png](data:image/png;base64,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)"
      ],
      "metadata": {
        "id": "t51eA3bjzT-c"
      }
    },
    {
      "cell_type": "code",
      "source": [],
      "metadata": {
        "id": "eT6-U_d3zaCr"
      },
      "execution_count": null,
      "outputs": []
    }
  ]
}