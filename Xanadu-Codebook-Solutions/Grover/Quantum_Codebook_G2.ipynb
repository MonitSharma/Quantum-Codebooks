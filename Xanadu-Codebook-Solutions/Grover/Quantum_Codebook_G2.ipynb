{
  "cells": [
    {
      "cell_type": "markdown",
      "metadata": {
        "id": "leQ1b01AQA6L"
      },
      "source": [
        "# G2 Searching with Geometry\n",
        "\n",
        "Recall that a single Grover step consists in applying the oracle and then the diffusion operator:\n",
        "\n",
        "```python\n",
        "grover_op_matrix = np.dot(diffusion_matrix(), oracle_matrix(combo))\n",
        "```\n",
        "\n",
        "![](https://codebook.xanadu.ai/pics/grover-space.svg)"
      ]
    },
    {
      "attachments": {},
      "cell_type": "markdown",
      "metadata": {},
      "source": [
        "Author: [Monit Sharma](https://github.com/MonitSharma)\n",
        "LinkedIn: [Monit Sharma](https://www.linkedin.com/in/monitsharma/)\n",
        "Twitter: [@MonitSharma1729](https://twitter.com/MonitSharma1729)\n",
        "Medium : [MonitSharma](https://medium.com/@_monitsharma)"
      ]
    },
    {
      "cell_type": "markdown",
      "metadata": {
        "id": "yIGxxM6ZQPWS"
      },
      "source": [
        "### Codercise G.2.1. \n",
        "Create a circuit which runs  some specified number of times, and manually set the step number my_steps. The results in the two-dimensional geometry will be displayed for combo = [0, 0, 0, 0, 0]. The oracle and diffusion matrices are defined below, and available by calling oracle_matrix(combo) and diffusion_matrix(). From the plots, confirm that applying the Grover operator rotates the state vector, and determine the optimal number of Grover steps for ."
      ]
    },
    {
      "cell_type": "code",
      "execution_count": null,
      "metadata": {
        "id": "AFb0zOIrrMJS"
      },
      "outputs": [],
      "source": [
        "n_bits = 5\n",
        "dev = qml.device(\"default.qubit\", wires=n_bits)\n",
        "\n",
        "def oracle_matrix(combo):\n",
        "    \"\"\"Return the oracle matrix for a secret combination.\n",
        "    \n",
        "    Args:\n",
        "        combo (list[int]): A list of bits representing a secret combination.\n",
        "         \n",
        "    Returns: \n",
        "        array[float]: The matrix representation of the oracle.\n",
        "    \"\"\"\n",
        "    index = np.ravel_multi_index(combo, [2]*len(combo)) # Index of solution\n",
        "    my_array = np.identity(2**len(combo)) # Create the identity matrix\n",
        "    my_array[index, index] = -1\n",
        "    return my_array\n",
        "\n",
        "def diffusion_matrix():\n",
        "    \"\"\"Return the diffusion matrix.\n",
        "\n",
        "    Returns: \n",
        "        array[float]: The matrix representation of the diffusion operator.\n",
        "    \"\"\"\n",
        "    psi_piece = (1/2**n_bits)*np.ones(2**n_bits)\n",
        "    ident_piece = np.eye(2**n_bits)\n",
        "    return (2*psi_piece - ident_piece)\n",
        "\n",
        "@qml.qnode(dev)\n",
        "def grover_circuit(combo, num_steps):\n",
        "    \"\"\"Apply the Grover operator num_steps times to the uniform superposition \n",
        "       and return the state.\n",
        "\n",
        "    Args:\n",
        "        combo (list[int]): A list of bits representing the secret combination.\n",
        "        num_steps (int): The number of iterations of the Grover operator\n",
        "            our circuit is to perform.\n",
        "\n",
        "    Returns: \n",
        "        array[complex]: The quantum state (amplitudes) after repeated Grover \n",
        "        iterations.\n",
        "    \"\"\"\n",
        "    ##################\n",
        "    # YOUR CODE HERE #\n",
        "    ##################\n",
        "    for _ in range(n_bits):\n",
        "\t    qml.Hadamard(wires=_)\n",
        "    for _ in range(num_steps):\n",
        "\t    qml.QubitUnitary(oracle_matrix(combo), wires = [i for i in range(n_bits)])\n",
        "\t    qml.QubitUnitary(diffusion_matrix(), wires = [i for i in range(n_bits)])\n",
        "\n",
        "    return qml.state()\n",
        "\n",
        "my_steps = 4 # YOUR STEP NUMBER HERE\n"
      ]
    },
    {
      "cell_type": "markdown",
      "metadata": {
        "id": "-Q7RyZZSQWDw"
      },
      "source": [
        "![011.png](data:image/png;base64,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)"
      ]
    },
    {
      "cell_type": "markdown",
      "metadata": {
        "id": "B9f2sJ25Qddv"
      },
      "source": [
        "![](https://codebook.xanadu.ai/pics/rotate.gif)"
      ]
    },
    {
      "cell_type": "code",
      "execution_count": null,
      "metadata": {
        "id": "iFtwGDttQcU7"
      },
      "outputs": [],
      "source": []
    }
  ],
  "metadata": {
    "colab": {
      "provenance": []
    },
    "kernelspec": {
      "display_name": "Python 3",
      "name": "python3"
    },
    "language_info": {
      "name": "python"
    }
  },
  "nbformat": 4,
  "nbformat_minor": 0
}
