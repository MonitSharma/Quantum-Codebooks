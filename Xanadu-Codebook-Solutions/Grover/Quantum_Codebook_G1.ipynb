{
  "cells": [
    {
      "cell_type": "markdown",
      "metadata": {
        "id": "-LyEL4w_p1RF"
      },
      "source": [
        "# G1 Introduction to Grover Search\n",
        "In module A, we sped up the lock-breaking process by testing states in pairs. This told us when the solution was present, but not which state it was. Our goal now will be to try and figure out the state  directly, and our broad strategy will be to start in the uniform superposition and somehow \"pump\" amplitude from the other states into , so that we measure the solution  with high probability. This strategy is called amplitude amplification. Let's start by exploring what happens to amplitudes when we apply the oracle."
      ]
    },
    {
      "attachments": {},
      "cell_type": "markdown",
      "metadata": {},
      "source": [
        "Author: [Monit Sharma](https://github.com/MonitSharma)\n",
        "LinkedIn: [Monit Sharma](https://www.linkedin.com/in/monitsharma/)\n",
        "Twitter: [@MonitSharma1729](https://twitter.com/MonitSharma1729)\n",
        "Medium : [MonitSharma](https://medium.com/@_monitsharma)"
      ]
    },
    {
      "cell_type": "markdown",
      "metadata": {
        "id": "lrjFEboPp6_R"
      },
      "source": [
        "### Codercise G.1.1. \n",
        "Complete the following code for returning the amplitudes after applying the oracle to the uniform superposition. The oracle is accessible as oracle_matrix(combo), where combo is the secret combination. Amplitudes will be plotted for combo = [0, 0, 0, 1]."
      ]
    },
    {
      "cell_type": "code",
      "execution_count": null,
      "metadata": {
        "id": "du6sjWGUTP5m"
      },
      "outputs": [],
      "source": [
        "n_bits = 4\n",
        "dev = qml.device(\"default.qubit\", wires=n_bits)\n",
        "\n",
        "def oracle_matrix(combo):\n",
        "    \"\"\"Return the oracle matrix for a secret combination.\n",
        "    \n",
        "    Args:\n",
        "        combo (list[int]): A list of bits representing a secret combination.\n",
        "         \n",
        "    Returns: \n",
        "        array[float]: The matrix representation of the oracle.\n",
        "    \"\"\"\n",
        "    index = np.ravel_multi_index(combo, [2]*len(combo)) # Index of solution\n",
        "    my_array = np.identity(2**len(combo)) # Create the identity matrix\n",
        "    my_array[index, index] = -1\n",
        "    return my_array\n",
        "\n",
        "@qml.qnode(dev)\n",
        "def oracle_amp(combo):\n",
        "    \"\"\"Prepare the uniform superposition and apply the oracle.\n",
        "\n",
        "    Args:\n",
        "        combo (list[int]): A list of bits representing the secret combination.\n",
        "\n",
        "    Returns: \n",
        "        array[complex]: The quantum state (amplitudes) after applying the oracle.\n",
        "    \"\"\"\n",
        "    ##################\n",
        "    # YOUR CODE HERE #\n",
        "    ##################\n",
        "    for _ in range(n_bits):\n",
        "\t    qml.Hadamard(wires=_)\n",
        "    qml.QubitUnitary(oracle_matrix(combo), wires=[_ for _ in range(n_bits)])\n",
        "\n",
        "    return qml.state()\n"
      ]
    },
    {
      "cell_type": "markdown",
      "metadata": {
        "id": "EfUZABIxqBUz"
      },
      "source": [
        "![001.png](data:image/png;base64,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)"
      ]
    },
    {
      "cell_type": "markdown",
      "metadata": {
        "id": "UJag5NUjqGFR"
      },
      "source": [
        "### Codercise G.1.2. \n",
        "(a) Define the diffusion operator as a matrix, and visualize its effect on the amplitudes in the post-oracle state. We'll plot the amplitudes for combo=[0, 0, 0, 0]. Note that oracle_matrix(combo) remains available."
      ]
    },
    {
      "cell_type": "code",
      "execution_count": null,
      "metadata": {
        "id": "m3FTWqRWqEch"
      },
      "outputs": [],
      "source": [
        "n_bits = 4\n",
        "\n",
        "def diffusion_matrix():\n",
        "    \"\"\"Return the diffusion matrix.\n",
        "\n",
        "    Returns: \n",
        "        array[float]: The matrix representation of the diffusion operator.\n",
        "    \"\"\"\n",
        "    ##################\n",
        "    # YOUR CODE HERE #\n",
        "    ##################\n",
        "    I = np.eye(2**n_bits)\n",
        "    phi = 1/np.sqrt(2**n_bits) * np.ones(shape=(2**n_bits))\n",
        "    return 2*np.outer(phi,phi) - I\n",
        "    #pass # FORM A DIFFERENCE OF MATRICES\n",
        "\n",
        "@qml.qnode(dev)\n",
        "def difforacle_amp(combo):\n",
        "    \"\"\"Apply the oracle and diffusion matrix to the uniform superposition.\n",
        "\n",
        "    Args:\n",
        "        combo (list[int]): A list of bits representing the secret combination.\n",
        "\n",
        "    Returns:\n",
        "        array[complex]: The quantum state (amplitudes) after applying the oracle\n",
        "        and diffusion.\n",
        "    \"\"\"\n",
        "    ##################\n",
        "    # YOUR CODE HERE #\n",
        "    ##################\n",
        "    for i in range(n_bits):\n",
        "\t    qml.Hadamard(wires=i)\n",
        "    qml.QubitUnitary(oracle_matrix(combo), wires=[i for i in range(n_bits)])\n",
        "    qml.QubitUnitary(diffusion_matrix(),wires=[i for i in range(n_bits)])\n",
        "\n",
        "\n",
        "    return qml.state()\n"
      ]
    },
    {
      "cell_type": "markdown",
      "metadata": {
        "id": "loC-5AGNqMF9"
      },
      "source": [
        "![002.png](data:image/png;base64,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)"
      ]
    },
    {
      "cell_type": "code",
      "execution_count": null,
      "metadata": {
        "id": "84kJJePSqOaE"
      },
      "outputs": [],
      "source": [
        "@qml.qnode(dev)\n",
        "def two_difforacle_amp(combo):\n",
        "    \"\"\"Apply the Grover operator twice to the uniform superposition.\n",
        "\n",
        "    Args:\n",
        "        combo (list[int]): A list of bits representing the secret combination.\n",
        "\n",
        "    Returns: \n",
        "        array[complex]: The resulting quantum state.\n",
        "    \"\"\"\n",
        "    ##################\n",
        "    # YOUR CODE HERE #\n",
        "    ##################\n",
        "    for i in range(n_bits):\n",
        "\t    qml.Hadamard(wires=i)\n",
        "    qml.QubitUnitary(oracle_matrix(combo), wires=[i for i in range(n_bits)])\n",
        "    qml.QubitUnitary(diffusion_matrix(), wires=[i for i in range(n_bits)])\n",
        "    qml.QubitUnitary(oracle_matrix(combo), wires=[i for i in range(n_bits)])\n",
        "    qml.QubitUnitary(diffusion_matrix(), wires=[i for i in range(n_bits)])\n",
        "\n",
        "    return qml.state()\n"
      ]
    }
  ],
  "metadata": {
    "colab": {
      "provenance": []
    },
    "kernelspec": {
      "display_name": "Python 3",
      "name": "python3"
    },
    "language_info": {
      "name": "python"
    }
  },
  "nbformat": 4,
  "nbformat_minor": 0
}
