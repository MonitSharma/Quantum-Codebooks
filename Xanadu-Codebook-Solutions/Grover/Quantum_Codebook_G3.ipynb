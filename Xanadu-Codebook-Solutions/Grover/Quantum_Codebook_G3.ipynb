{
  "cells": [
    {
      "cell_type": "markdown",
      "metadata": {
        "id": "P44LnQoXS3fy"
      },
      "source": [
        "# G3 Searching with circuits\n",
        "\n",
        "To implement Grover search, we need to give circuit-friendly constructions of the oracle and diffusion operators; arbitrary matrices are hard to build! To help us, we introduce an extra qubit called the auxiliary qubit. The original  qubits are called the query register:"
      ]
    },
    {
      "attachments": {},
      "cell_type": "markdown",
      "metadata": {},
      "source": [
        "Author: [Monit Sharma](https://github.com/MonitSharma)\n",
        "LinkedIn: [Monit Sharma](https://www.linkedin.com/in/monitsharma/)\n",
        "Twitter: [@MonitSharma1729](https://twitter.com/MonitSharma1729)\n",
        "Medium : [MonitSharma](https://medium.com/@_monitsharma)"
      ]
    },
    {
      "cell_type": "markdown",
      "metadata": {
        "id": "cKlNC4oLS9T6"
      },
      "source": [
        "![](https://codebook.xanadu.ai/pics/grover-iter-1.svg)"
      ]
    },
    {
      "cell_type": "markdown",
      "metadata": {
        "id": "jwlH3ml8TAme"
      },
      "source": [
        "### Codercise G.3.1. \n",
        "Define the oracle operator  using the MultiControlledX gate from PennyLane.\n",
        "\n",
        "Tip. MultiControlledX(control_wires, wires, control_values) has a specified set of control_wires, a single target wire given by wires, and a string of control values, e.g., control_values = \"1011\" rather than a list of bits [1,0,1,1]."
      ]
    },
    {
      "cell_type": "code",
      "execution_count": null,
      "metadata": {
        "id": "oWF7TDtjQoZx"
      },
      "outputs": [],
      "source": [
        "n_bits = 5\n",
        "query_register = list(range(n_bits))\n",
        "aux = [n_bits]\n",
        "all_wires = query_register+aux\n",
        "dev = qml.device('default.qubit', wires=all_wires)\n",
        "\n",
        "def oracle(combo):\n",
        "    \"\"\"Implement an oracle using a multi-controlled X gate.\n",
        "    \n",
        "    Args:\n",
        "        combo (list): A list of bits representing the secret combination.\n",
        "    \"\"\"\n",
        "    combo_str = ''.join(str(j) for j in combo)\n",
        "    ##################\n",
        "    # YOUR CODE HERE #\n",
        "    ##################\n",
        "    pass # APPLY MULTI-CONTROLLED X\n",
        "    qml.MultiControlledX(control_wires=query_register, wires=aux,control_values=combo_str)\n",
        "\n"
      ]
    },
    {
      "cell_type": "markdown",
      "metadata": {
        "id": "dqY5MZh1TGR7"
      },
      "source": [
        "We can use a similar approach for the diffusion operator . This operator flips the (orthogonal complement of) the uniform superposition  rather than a computational basis state, but we can work in the computational basis simply by using a Hadamard transform. The circuit for performing diffusion is then:\n",
        "\n",
        "![](https://codebook.xanadu.ai/pics/diffusion.svg)"
      ]
    },
    {
      "cell_type": "markdown",
      "metadata": {
        "id": "AkVK-Tw9TGDg"
      },
      "source": [
        "### Codercise G.3.2. \n",
        "Implement the diffusion operator in terms of the multi-controlled . Note that query_register, aux and all_wires refer to the wires in the query register, the auxiliary qubit, and all wires respectively. The Hadamard transform has been defined for you."
      ]
    },
    {
      "cell_type": "code",
      "execution_count": null,
      "metadata": {
        "id": "UgEkThkzTMUo"
      },
      "outputs": [],
      "source": [
        "def hadamard_transform(my_wires):\n",
        "    \"\"\"Apply the Hadamard transform on a given set of wires.\n",
        "    \n",
        "    Args:\n",
        "        my_wires (list[int]): A list of wires on which the Hadamard transform will act.\n",
        "    \"\"\"\n",
        "    for wire in my_wires:\n",
        "        qml.Hadamard(wires=wire)\n",
        "\n",
        "def diffusion():\n",
        "    \"\"\"Implement the diffusion operator using the Hadamard transform and \n",
        "    multi-controlled X.\"\"\"\n",
        "\n",
        "    ##################\n",
        "    # YOUR CODE HERE #\n",
        "    ##################\n",
        "    pass\n",
        "    hadamard_transform(query_register)\n",
        "    qml.MultiControlledX(control_wires=query_register, wires=aux,control_values=\"0\"*len(query_register))\n",
        "    hadamard_transform(query_register)\n",
        "\n"
      ]
    },
    {
      "cell_type": "markdown",
      "metadata": {
        "id": "qmvn0bs2TPKS"
      },
      "source": [
        "Finally, we can assemble these into an honest-to-goodness circuit which initializes the state and applies the Grover operator once:"
      ]
    },
    {
      "cell_type": "markdown",
      "metadata": {
        "id": "O7u2DksnTRDz"
      },
      "source": [
        "![](https://codebook.xanadu.ai/pics/grover-iter-2.svg)"
      ]
    },
    {
      "cell_type": "markdown",
      "metadata": {
        "id": "VKPkFJ1ZTUbF"
      },
      "source": [
        "###Codercise G.3.3. \n",
        "In the code below, create a circuit which prepares the uniform superposition in the query register, places the auxiliary qubit in the  state, and applies a single Grover iteration using MultiControlledX. We will plot the output for combo = [0, 0, 0, 0, 0]. Note that the subcircuits oracle(combo), hadamard_transform(my_wires) and diffusion() are provided for you and do not need to be reimplemented."
      ]
    },
    {
      "cell_type": "code",
      "execution_count": null,
      "metadata": {
        "id": "mWUTDllCTP6H"
      },
      "outputs": [],
      "source": [
        "@qml.qnode(dev)\n",
        "def grover_circuit(combo):\n",
        "    \"\"\"Apply the MultiControlledX Grover operator and return probabilities on \n",
        "    query register.\n",
        "    \n",
        "    Args:\n",
        "        combo (list[int]): A list of bits representing the secret combination.\n",
        "\n",
        "    Returns:\n",
        "        array[float]: Measurement outcome probabilities.\n",
        "    \"\"\"\n",
        "    ##################\n",
        "    # YOUR CODE HERE #\n",
        "    ##################\n",
        "    # PREPARE QUERY AND AUXILIARY SYSTEM\n",
        "    # APPLY GROVER ITERATION\n",
        "    qml.PauliX(wires=aux)\n",
        "    hadamard_transform(all_wires)\n",
        "    oracle(combo)\n",
        "    diffusion()\n",
        "\n",
        "    return qml.probs(wires=query_register)\n"
      ]
    },
    {
      "cell_type": "markdown",
      "metadata": {
        "id": "KBMuAFWCTak_"
      },
      "source": [
        "![012.png](data:image/png;base64,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)"
      ]
    }
  ],
  "metadata": {
    "colab": {
      "provenance": []
    },
    "kernelspec": {
      "display_name": "Python 3",
      "name": "python3"
    },
    "language_info": {
      "name": "python"
    }
  },
  "nbformat": 4,
  "nbformat_minor": 0
}
