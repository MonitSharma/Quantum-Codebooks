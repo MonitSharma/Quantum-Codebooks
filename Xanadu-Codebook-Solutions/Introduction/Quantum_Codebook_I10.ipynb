{
  "cells": [
    {
      "cell_type": "markdown",
      "metadata": {
        "id": "n-7vyMAef_bV"
      },
      "source": [
        "# What did you expect?\n",
        "\n",
        "### Learning outcomes\n",
        "\n",
        "<li> Define an observable, and compute its possible measurement outcomes.\n",
        "\n",
        "<li> Compute the expectation value of an observable."
      ]
    },
    {
      "attachments": {},
      "cell_type": "markdown",
      "metadata": {
        "id": "r7pVt3afj9na"
      },
      "source": [
        "Author: [Monit Sharma](https://github.com/MonitSharma)\n",
        "LinkedIn: [Monit Sharma](https://www.linkedin.com/in/monitsharma/)\n",
        "Twitter: [@MonitSharma1729](https://twitter.com/MonitSharma1729)\n",
        "Medium : [MonitSharma](https://medium.com/@_monitsharma)"
      ]
    },
    {
      "cell_type": "markdown",
      "metadata": {
        "id": "MNxkfpt3j-35"
      },
      "source": [
        "## Observables \n",
        "\n",
        "While obtaining measurement outcome probabilities give us useful information about a qubit's state, we're often interested in other measurable quantities that correspond to something physical, such as its energy.\n",
        "\n",
        "----\n",
        "\n",
        " In quantum mechanics, and consequently quantum computing, physical quantities are related to a special type of object called an **observable**. Observales correspond to *hermitian matrices* whose eigenvalues represent the possible values of the measurement outcome.\n",
        "\n",
        "\n",
        "\n"
      ]
    },
    {
      "cell_type": "markdown",
      "metadata": {
        "id": "ems_04J8lBxp"
      },
      "source": [
        "*Tip* - A Matrix $B$ is **Hermitian** if $B=B^{\\dagger}$. Hermitian matrices have real eigenvalues. \n",
        "\n"
      ]
    },
    {
      "cell_type": "markdown",
      "metadata": {
        "id": "A9dAVsdMk_ip"
      },
      "source": [
        "Expressed mathematically, the expectation value of some observale $B$ for a state $|psi⟩$ is given by \n",
        "\n",
        "$$⟨B⟩ = ⟨\\psi|B|\\psi⟩$$\n",
        "\n",
        "\n",
        "Namely, we first computer the result of the matrix $B$ applied to $|\\psi⟩$ followed by the inner product with $|\\psi⟩$"
      ]
    },
    {
      "cell_type": "markdown",
      "metadata": {
        "id": "uxmWi9n4xztz"
      },
      "source": [
        "### Code Exercises\n",
        "\n",
        "Rather than simply measuring outcome probabilities, when solving physical problems, we need to compute a measurable quantity that relates to some property of the system. Such properties are called observables. Mathematically, observables correspond to Hermitian matrices, i.e., matrices $B$ such that $B = B^{\\dagger}$ . Each observable has some set of possible measurement outcomes, corresponding to their real eigenvalues. However, since measurement is probabilistic, we usually want to look for the **expectation value**, denoted by $⟨ B ⟩$ , of that physical property"
      ]
    },
    {
      "cell_type": "markdown",
      "metadata": {
        "id": "f2bdnH3MyGUd"
      },
      "source": [
        "It is very straightforward to compute expectation values in PennyLane. We can simply replace the qml.probs of the previous sections with qml.expval, and specify the observable to be measured. Common choices are qml.PauliX, qml.PauliY, and qml.PauliZ, as many algorithms that solve physical problems require computing the expectation values of the Pauli operators. The possible outcomes of measuring any Pauli-based expectation value are either $1$ or $-1$ , as these are their eigenvalues.\n",
        "\n",
        "----\n",
        "\n",
        "*Tip*. These three Pauli operators are unitary and Hermitian. They can therefore be used both as gates in circuits, and considered as observables.\n",
        "\n",
        "-----\n",
        "\n",
        "To measure an expectation value in PennyLane, we must specify which observable we are measuring, and which wires it acts on. For example, if we wanted to return a measurement of the PauliZ observable acting on a single qubit, we would write:\n",
        "\n",
        "\n",
        "```python\n",
        "@qml.qnode(dev)\n",
        "def my_circuit():\n",
        "  #...\n",
        "  return qml.expval(qml.PauliZ(wires=0))\n",
        "```\n",
        "\n"
      ]
    },
    {
      "cell_type": "markdown",
      "metadata": {
        "id": "KE9Y44kEyX8W"
      },
      "source": [
        "## Codercise I.10.1\n",
        "\n",
        "Design and run a circuit that performs the following\n",
        "\n",
        "![](https://codebook.xanadu.ai/pics/exercise_i101.svg)\n",
        "\n"
      ]
    },
    {
      "cell_type": "code",
      "execution_count": 1,
      "metadata": {
        "colab": {
          "base_uri": "https://localhost:8080/"
        },
        "id": "-toIg839f6mG",
        "outputId": "55036d26-55bb-4879-9fe5-f669c4a3a102"
      },
      "outputs": [
        {
          "name": "stdout",
          "output_type": "stream",
          "text": [
            "Looking in indexes: https://pypi.org/simple, https://us-python.pkg.dev/colab-wheels/public/simple/\n",
            "Collecting pennylane\n",
            "  Downloading PennyLane-0.28.0-py3-none-any.whl (1.3 MB)\n",
            "\u001b[2K     \u001b[90m━━━━━━━━━━━━━━━━━━━━━━━━━━━━━━━━━━━━━━━━\u001b[0m \u001b[32m1.3/1.3 MB\u001b[0m \u001b[31m15.7 MB/s\u001b[0m eta \u001b[36m0:00:00\u001b[0m\n",
            "\u001b[?25hCollecting pennylane-lightning>=0.28\n",
            "  Downloading PennyLane_Lightning-0.28.2-cp38-cp38-manylinux_2_17_x86_64.manylinux2014_x86_64.whl (15.3 MB)\n",
            "\u001b[2K     \u001b[90m━━━━━━━━━━━━━━━━━━━━━━━━━━━━━━━━━━━━━━━━\u001b[0m \u001b[32m15.3/15.3 MB\u001b[0m \u001b[31m37.7 MB/s\u001b[0m eta \u001b[36m0:00:00\u001b[0m\n",
            "\u001b[?25hCollecting retworkx\n",
            "  Downloading retworkx-0.12.1-py3-none-any.whl (10 kB)\n",
            "Requirement already satisfied: autograd in /usr/local/lib/python3.8/dist-packages (from pennylane) (1.5)\n",
            "Requirement already satisfied: scipy in /usr/local/lib/python3.8/dist-packages (from pennylane) (1.7.3)\n",
            "Requirement already satisfied: networkx in /usr/local/lib/python3.8/dist-packages (from pennylane) (3.0)\n",
            "Requirement already satisfied: numpy<1.24 in /usr/local/lib/python3.8/dist-packages (from pennylane) (1.21.6)\n",
            "Requirement already satisfied: toml in /usr/local/lib/python3.8/dist-packages (from pennylane) (0.10.2)\n",
            "Requirement already satisfied: appdirs in /usr/local/lib/python3.8/dist-packages (from pennylane) (1.4.4)\n",
            "Collecting semantic-version>=2.7\n",
            "  Downloading semantic_version-2.10.0-py2.py3-none-any.whl (15 kB)\n",
            "Collecting autoray>=0.3.1\n",
            "  Downloading autoray-0.6.0-py3-none-any.whl (46 kB)\n",
            "\u001b[2K     \u001b[90m━━━━━━━━━━━━━━━━━━━━━━━━━━━━━━━━━━━━━━━━\u001b[0m \u001b[32m46.4/46.4 KB\u001b[0m \u001b[31m5.1 MB/s\u001b[0m eta \u001b[36m0:00:00\u001b[0m\n",
            "\u001b[?25hRequirement already satisfied: requests in /usr/local/lib/python3.8/dist-packages (from pennylane) (2.25.1)\n",
            "Requirement already satisfied: cachetools in /usr/local/lib/python3.8/dist-packages (from pennylane) (5.2.1)\n",
            "Collecting ninja\n",
            "  Downloading ninja-1.11.1-py2.py3-none-manylinux_2_12_x86_64.manylinux2010_x86_64.whl (145 kB)\n",
            "\u001b[2K     \u001b[90m━━━━━━━━━━━━━━━━━━━━━━━━━━━━━━━━━━━━━━\u001b[0m \u001b[32m146.0/146.0 KB\u001b[0m \u001b[31m16.4 MB/s\u001b[0m eta \u001b[36m0:00:00\u001b[0m\n",
            "\u001b[?25hRequirement already satisfied: future>=0.15.2 in /usr/local/lib/python3.8/dist-packages (from autograd->pennylane) (0.16.0)\n",
            "Requirement already satisfied: certifi>=2017.4.17 in /usr/local/lib/python3.8/dist-packages (from requests->pennylane) (2022.12.7)\n",
            "Requirement already satisfied: chardet<5,>=3.0.2 in /usr/local/lib/python3.8/dist-packages (from requests->pennylane) (4.0.0)\n",
            "Requirement already satisfied: urllib3<1.27,>=1.21.1 in /usr/local/lib/python3.8/dist-packages (from requests->pennylane) (1.24.3)\n",
            "Requirement already satisfied: idna<3,>=2.5 in /usr/local/lib/python3.8/dist-packages (from requests->pennylane) (2.10)\n",
            "Collecting rustworkx==0.12.1\n",
            "  Downloading rustworkx-0.12.1-cp38-cp38-manylinux_2_17_x86_64.manylinux2014_x86_64.whl (1.9 MB)\n",
            "\u001b[2K     \u001b[90m━━━━━━━━━━━━━━━━━━━━━━━━━━━━━━━━━━━━━━━━\u001b[0m \u001b[32m1.9/1.9 MB\u001b[0m \u001b[31m78.6 MB/s\u001b[0m eta \u001b[36m0:00:00\u001b[0m\n",
            "\u001b[?25hInstalling collected packages: ninja, semantic-version, rustworkx, autoray, retworkx, pennylane-lightning, pennylane\n",
            "Successfully installed autoray-0.6.0 ninja-1.11.1 pennylane-0.28.0 pennylane-lightning-0.28.2 retworkx-0.12.1 rustworkx-0.12.1 semantic-version-2.10.0\n"
          ]
        }
      ],
      "source": [
        "%pip install pennylane\n",
        "import pennylane as qml\n",
        "import numpy as np"
      ]
    },
    {
      "cell_type": "code",
      "execution_count": 2,
      "metadata": {
        "colab": {
          "base_uri": "https://localhost:8080/"
        },
        "id": "cbod7zBBylJW",
        "outputId": "ba285642-9e83-4856-b4a6-78d6cc0aaa78"
      },
      "outputs": [
        {
          "name": "stdout",
          "output_type": "stream",
          "text": [
            "-0.7071067811865471\n"
          ]
        }
      ],
      "source": [
        "dev = qml.device('default.qubit', wires=1)\n",
        "\n",
        "@qml.qnode(dev)\n",
        "def circuit():\n",
        "    ##################\n",
        "    # YOUR CODE HERE #\n",
        "    ##################\n",
        "    qml.RX(np.pi/4, wires=0)\n",
        "    qml.Hadamard(wires=0)\n",
        "    qml.PauliZ(wires=0)\n",
        "\n",
        "    # IMPLEMENT THE CIRCUIT IN THE PICTURE AND MEASURE PAULI Y\n",
        "\n",
        "    return qml.expval(qml.PauliY(0))\n",
        "\n",
        "print(circuit())\n"
      ]
    },
    {
      "cell_type": "markdown",
      "metadata": {
        "id": "6MoQjE2Gypnd"
      },
      "source": [
        "*Tip*- You can also specify a custom observable using qml.Hermitian. For example,\n",
        "\n"
      ]
    },
    {
      "cell_type": "code",
      "execution_count": null,
      "metadata": {
        "id": "eTf8h5q7yl1c"
      },
      "outputs": [],
      "source": [
        "# Single-qubit Hermitian observable   \n",
        "O = np.array([[3, 4i], [-4i, 3]])\n",
        "\n",
        "@qml.qnode(dev)\n",
        "def circuit():\n",
        "    # ...\n",
        "    return qml.expval(qml.Hermitian(O, wires=0)) \n",
        "\n"
      ]
    },
    {
      "cell_type": "markdown",
      "metadata": {
        "id": "pi8j4OPWy3fn"
      },
      "source": [
        "\n",
        "However, one must be careful as specifying an arbitrary observable may make your circuit incompatible with some simulators and hardware.\n",
        "\n",
        "-----\n",
        "\n",
        "In the previous sections, we computed measurement outcome probabilities and expectation values analytically. Of course, this is impossible to do on hardware. When we run a circuit and take a measurement, we get a single data point that tells us in which state we observed a qubit for a particular run. Since this process is random, in order to get a clearer picture of the statistics we must perform the experiment many, many times. Each time is typically called a *shot*, or a *sample*. We can *sample* from the output distribution in order to estimate expectation values and measurement outcome probabilities in situations where it isn't possible to do so analytically.\n",
        "\n",
        "\n",
        "-------\n",
        "\n",
        "In PennyLane, the number of shots to take during an experiment is specified upon device construction:\n",
        "\n",
        "\n",
        "```python\n",
        "dev = qml.device(\"default.qubit\", wires=1, shots=1000)\n",
        "```\n",
        "\n"
      ]
    },
    {
      "cell_type": "markdown",
      "metadata": {
        "id": "pLuGwfZtzL__"
      },
      "source": [
        "### Codercise I.10.2\n",
        "\n",
        "In the code below is a list of possible numbers of shots. For each value, initialize a device, then create and QNode that runs circuit from the previous exercise (reproduced below for convenience). What happens to the expectation value as you increase the number of shots?\n",
        "\n",
        "![](https://codebook.xanadu.ai/pics/exercise_i101.svg)"
      ]
    },
    {
      "cell_type": "code",
      "execution_count": 3,
      "metadata": {
        "colab": {
          "base_uri": "https://localhost:8080/"
        },
        "id": "8zfgPBGuzJNz",
        "outputId": "44afb327-7760-47f1-b2bb-34546e79ce06"
      },
      "outputs": [
        {
          "name": "stdout",
          "output_type": "stream",
          "text": [
            "[-0.68, -0.716, -0.7076, -0.70766, -0.707004]\n"
          ]
        }
      ],
      "source": [
        "# An array to store your results\n",
        "shot_results = []\n",
        "\n",
        "# Different numbers of shots\n",
        "shot_values = [100, 1000, 10000, 100000, 1000000]\n",
        "\n",
        "for shots in shot_values: \n",
        "    ##################\n",
        "    # YOUR CODE HERE #\n",
        "    ##################\n",
        "    dev = qml.device('default.qubit', wires=1, shots=shots)\n",
        "    @qml.qnode(dev)\n",
        "    def circuit():\n",
        "        qml.RX(np.pi/4, wires=0)\n",
        "        qml.Hadamard(wires=0)\n",
        "        qml.PauliZ(wires=0)\n",
        "        \n",
        "        return qml.expval(qml.PauliY(0))\n",
        "\n",
        "    # CREATE A DEVICE, CREATE A QNODE, AND RUN IT\n",
        "\n",
        "    # STORE RESULT IN SHOT_RESULTS ARRAY\n",
        "    shot_results.append(circuit())\n",
        "    \n",
        "\n",
        "print(qml.math.unwrap(shot_results))\n"
      ]
    },
    {
      "cell_type": "markdown",
      "metadata": {
        "id": "3v2rj_RvzUhK"
      },
      "source": [
        "Unsurprisingly, you'll find that as you increase the number of shots, the results will approach the true value of -0.707."
      ]
    },
    {
      "cell_type": "markdown",
      "metadata": {
        "id": "lj__5Ua_zW5a"
      },
      "source": [
        "### Codercise I.10.3\n",
        "\n",
        "Using the circuit from earlier, replace the `qml.expval` measurement with `qml.sample`. Then, write a function to compute an estimate of the expectation value based on the samples."
      ]
    },
    {
      "cell_type": "code",
      "execution_count": 4,
      "metadata": {
        "colab": {
          "base_uri": "https://localhost:8080/"
        },
        "id": "SuCqUMwuzSLi",
        "outputId": "174ed798-9458-489f-dc03-73721ca94f4a"
      },
      "outputs": [
        {
          "name": "stdout",
          "output_type": "stream",
          "text": [
            "-0.70348\n"
          ]
        }
      ],
      "source": [
        "dev = qml.device(\"default.qubit\", wires=1, shots=100000)\n",
        "\n",
        "@qml.qnode(dev)\n",
        "def circuit():\n",
        "    qml.RX(np.pi/4, wires=0)\n",
        "    qml.Hadamard(wires=0)\n",
        "    qml.PauliZ(wires=0)\n",
        "\n",
        "    ##################\n",
        "    # YOUR CODE HERE #\n",
        "    ##################\n",
        "\n",
        "    # RETURN THE MEASUREMENT SAMPLES OF THE CORRECT OBSERVABLE\n",
        "\n",
        "    return qml.sample(qml.PauliY(0))\n",
        "\n",
        "\n",
        "def compute_expval_from_samples(samples):\n",
        "    \"\"\"Compute the expectation value of an observable given a set of \n",
        "    sample outputs. You can assume that there are two possible outcomes,\n",
        "    1 and -1. \n",
        "    \n",
        "    Args: \n",
        "        samples (array[float]): 100000 samples representing the results of\n",
        "            running the above circuit.\n",
        "        \n",
        "    Returns:\n",
        "        float: the expectation value computed based on samples.\n",
        "    \"\"\"\n",
        "\n",
        "    estimated_expval = 0\n",
        "\n",
        "    ##################\n",
        "    # YOUR CODE HERE #\n",
        "    ##################\n",
        "    estimated_expval = np.mean(samples)\n",
        "\n",
        "    # USE THE SAMPLES TO ESTIMATE THE EXPECTATION VALUE\n",
        "\n",
        "    return estimated_expval\n",
        "\n",
        "\n",
        "samples = circuit()\n",
        "print(compute_expval_from_samples(samples))\n"
      ]
    },
    {
      "cell_type": "markdown",
      "metadata": {
        "id": "Tf9Gu_p9zkur"
      },
      "source": [
        "### Codercise I.10.4 \n",
        " Using the code below as a starting point, explore how the accuracy of the expectation value depends on the number of shots. For example, if we run 100 experiments with 100 shots each, what are the mean and variance of the distribution of expectation values obtained? How does this variance scale with the number of shots?"
      ]
    },
    {
      "cell_type": "code",
      "execution_count": 6,
      "metadata": {
        "id": "tyUrDKsIzdyY"
      },
      "outputs": [],
      "source": [
        "def variance_experiment(n_shots):\n",
        "    \"\"\"Run an experiment to determine the variance in an expectation\n",
        "    value computed with a given number of shots.\n",
        "    \n",
        "    Args:\n",
        "        n_shots (int): The number of shots\n",
        "        \n",
        "    Returns:\n",
        "        float: The variance in expectation value we obtain running the \n",
        "        circuit 100 times with n_shots shots each.\n",
        "    \"\"\"\n",
        "\n",
        "    # To obtain a variance, we run the circuit multiple times at each shot value.\n",
        "    n_trials = 100\n",
        "\n",
        "    ##################\n",
        "    # YOUR CODE HERE #\n",
        "    ##################\n",
        "\n",
        "    # CREATE A DEVICE WITH GIVEN NUMBER OF SHOTS\n",
        "    \n",
        "    dev = qml.device(\"default.qubit\", wires=1, shots=n_shots)\n",
        "\n",
        "    # DECORATE THE CIRCUIT BELOW TO CREATE A QNODE\n",
        "    @qml.qnode(dev)\n",
        "    def circuit():\n",
        "        qml.Hadamard(wires=0)\n",
        "        return qml.expval(qml.PauliZ(wires=0))\n",
        "\n",
        "    # RUN THE QNODE N_TRIALS TIMES AND RETURN THE VARIANCE OF THE RESULTS\n",
        "    results = [circuit().numpy() for _ in range(n_trials)]\n",
        "    return np.var(results)\n",
        "\n",
        "\n",
        "def variance_scaling(n_shots):\n",
        "    \"\"\"Once you have determined how the variance in expectation value scales\n",
        "    with the number of shots, complete this function to programmatically\n",
        "    represent the relationship.\n",
        "    \n",
        "    Args:\n",
        "        n_shots (int): The number of shots\n",
        "        \n",
        "    Returns:\n",
        "        float: The variance in expectation value we expect to see when we run\n",
        "        an experiment with n_shots shots.\n",
        "    \"\"\"\n",
        "\n",
        "    estimated_variance = 0\n",
        "\n",
        "    ##################\n",
        "    # YOUR CODE HERE #\n",
        "    ##################\n",
        "\n",
        "    # ESTIMATE THE VARIANCE BASED ON SHOT NUMBER\n",
        "\n",
        "    return 1/n_shots\n",
        "\n",
        "# Various numbers of shots; you can change this\n",
        "shot_vals = [10, 20, 40, 100, 200, 400, 1000, 2000, 4000]\n",
        "\n",
        "# Used to plot your results\n",
        "results_experiment = [variance_experiment(shots) for shots in shot_vals]\n",
        "results_scaling = [variance_scaling(shots) for shots in shot_vals]\n",
        "plot = plotter(shot_vals, results_experiment, results_scaling)\n"
      ]
    },
    {
      "cell_type": "code",
      "execution_count": null,
      "metadata": {
        "id": "ng7DjTxYzo20"
      },
      "outputs": [],
      "source": []
    }
  ],
  "metadata": {
    "colab": {
      "provenance": []
    },
    "kernelspec": {
      "display_name": "Python 3",
      "name": "python3"
    },
    "language_info": {
      "name": "python"
    }
  },
  "nbformat": 4,
  "nbformat_minor": 0
}
