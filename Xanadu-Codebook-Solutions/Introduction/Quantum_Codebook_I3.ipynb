{
  "cells": [
    {
      "cell_type": "code",
      "execution_count": null,
      "metadata": {
        "colab": {
          "base_uri": "https://localhost:8080/"
        },
        "id": "vyAB1Erw-OOA",
        "outputId": "f927713a-3e6a-4589-e71c-1d44caa5197b"
      },
      "outputs": [],
      "source": [
        "%pip install pennylane"
      ]
    },
    {
      "cell_type": "code",
      "execution_count": 3,
      "metadata": {
        "id": "QEoWFP-HBgUB"
      },
      "outputs": [],
      "source": [
        "import pennylane as qml\n",
        "import numpy as np"
      ]
    },
    {
      "attachments": {},
      "cell_type": "markdown",
      "metadata": {
        "id": "lTjSnzRa-RJR"
      },
      "source": [
        "# Unitary Matrices\n",
        "\n",
        "## Learning Outcomes\n",
        "\n",
        "<li> Define what it means for a matrix to be unitary\n",
        "\n",
        "<li> Express a single-qubit unitary operation in terms of 3 real parameters"
      ]
    },
    {
      "attachments": {},
      "cell_type": "markdown",
      "metadata": {},
      "source": [
        "Author: [Monit Sharma](https://github.com/MonitSharma)\n",
        "LinkedIn: [Monit Sharma](https://www.linkedin.com/in/monitsharma/)\n",
        "Twitter: [@MonitSharma1729](https://twitter.com/MonitSharma1729)\n",
        "Medium : [MonitSharma](https://medium.com/@_monitsharma)"
      ]
    },
    {
      "cell_type": "markdown",
      "metadata": {
        "id": "BpbWSi5Y-ibD"
      },
      "source": [
        "Now, we know what qubits are, and how to express computations on them, it's time to make an important transition: what exactly are we *doing* to the qubits? What are the *different* possible gates and how do they work?\n",
        "\n",
        "\n",
        "\n",
        "\n",
        "---\n",
        "\n",
        "Recall that qubit states are represented by $2$ dimensional vectors that live in a mathematical space called *Hilbert Space*. We already know that a single qubit operation must take a valid qubit to another valid qubit state, and this is done using matrix-vector multiplication by a $2\\times 2$ matrix, Given an initial qubit state $|\\psi⟩$ a single qubit operation $U$ sends\n",
        "\n",
        "$$ |\\psi⟩ → |\\psi^{\\prime}⟩ = U|\\psi⟩$$\n",
        "\n",
        "where $|\\psi^{\\prime}⟩$ is the new state.\n",
        "\n",
        "\n",
        "---\n",
        "\n",
        "However recall that qubit state vectors have some special properties, they are normalized (have length $1$), Thus any matrix that operates on qubits is going to require a structure that preserves this property. Matrices of this type are called **unitary matrices**. More formally, an $n\\times n $ complex-valued matrix $U$ is unitary if \n",
        "\n",
        "\n",
        "$$ UU^{\\dagger} = U^{\\dagger}U = I_n$$"
      ]
    },
    {
      "cell_type": "markdown",
      "metadata": {
        "id": "-fdS8lBa_9vA"
      },
      "source": [
        "In **Pennylane** , unitary operations specified by a matrix can be implemented in a quantum circuit using the `QubitUnitary` operation, it is a parameterised gate, and can be called  like so:\n",
        "\n",
        "```python\n",
        "qml.QubitUnitary(U, wires=wire)\n",
        "```"
      ]
    },
    {
      "cell_type": "markdown",
      "metadata": {
        "id": "fNBK5-ctAWVV"
      },
      "source": [
        "### Exercise I.3.1 \n",
        "Complete the quantum function below to create a circuit that applies `U` to the qubit and return its state"
      ]
    },
    {
      "cell_type": "code",
      "execution_count": 4,
      "metadata": {
        "id": "lgr8EmHg-gGw"
      },
      "outputs": [],
      "source": [
        "dev = qml.device(\"default.qubit\", wires=1)\n",
        "\n",
        "U = np.array([[1, 1], [1, -1]]) / np.sqrt(2)\n",
        "\n",
        "@qml.qnode(dev)\n",
        "def apply_u():\n",
        "\n",
        "    ##################\n",
        "    qml.QubitUnitary(U, wires=0)\n",
        "    # YOUR CODE HERE #\n",
        "    ##################\n",
        "\n",
        "    # USE QubitUnitary TO APPLY U TO THE QUBIT\n",
        "    \n",
        "\n",
        "\n",
        "    # Return the state\n",
        "    return qml.state()\n"
      ]
    },
    {
      "cell_type": "markdown",
      "metadata": {
        "id": "A64eEcqOBn83"
      },
      "source": [
        "Since unitaries have such properties, there is a more prescribed way to construct them. It is hard to write down a unitary matrix arbitrarily at random, element by element.\n",
        "\n",
        "----\n",
        "\n",
        "Fortunately unitary matrices can be **parameterized**. A single qubit unitary operation can be expressed in terms of just three real numbers\n",
        "\n",
        "$$ \\begin{split}R(\\phi,\\theta,\\omega) = RZ(\\omega)RY(\\theta)RZ(\\phi)= \\begin{bmatrix}\n",
        "e^{-i(\\phi+\\omega)/2}\\cos(\\theta/2) & -e^{i(\\phi-\\omega)/2}\\sin(\\theta/2) \\\\\n",
        "e^{-i(\\phi-\\omega)/2}\\sin(\\theta/2) & e^{i(\\phi+\\omega)/2}\\cos(\\theta/2)\n",
        "\\end{bmatrix}.\\end{split}\n",
        "$$\n",
        "\n",
        "\n",
        "in pennylane this parameterized operation is implemented as a gate called `Rot`\n",
        "\n",
        "```Python\n",
        "qml.Rot(phi, theta, omega, wires= wire)\n",
        "```"
      ]
    },
    {
      "cell_type": "markdown",
      "metadata": {
        "id": "CoDooK-RGjUg"
      },
      "source": [
        "### Exercise I.3.2\n",
        "\n",
        "Apply the `Rot` operation to a qubit using the input parameters. then complete the QNode to return the quantum state vector using `qml.state()`\n"
      ]
    },
    {
      "cell_type": "code",
      "execution_count": 5,
      "metadata": {
        "id": "YojZejzmBd3N"
      },
      "outputs": [],
      "source": [
        "dev = qml.device(\"default.qubit\", wires=1)\n",
        "\n",
        "@qml.qnode(dev)\n",
        "def apply_u_as_rot(phi, theta, omega):\n",
        "\n",
        "    ##################\n",
        "    # YOUR CODE HERE #\n",
        "    ##################\n",
        "    \n",
        "    \n",
        "    # APPLY A ROT GATE USING THE PROVIDED INPUT PARAMETERS\n",
        "    qml.Rot(phi, theta, omega, wires = 0)\n",
        "    #qml.QubitUnitary(U, wires=0)\n",
        "    # RETURN THE QUANTUM STATE VECTOR\n",
        "\n",
        "    return qml.state()\n"
      ]
    },
    {
      "cell_type": "markdown",
      "metadata": {
        "id": "2voaobHCakxS"
      },
      "source": [
        "It is much easier to specify the few numbers than a matrix, this description of a unitary is still not the most intuitive. For every unitary operation you want to implement you would first have to compute its three parameters, which would be tedious. Thankfully, many quantum algorithms are based on a small set of known unitary matrices which we will call directly by name. In the next few sections, we'll explore this family of single-qubit gates"
      ]
    },
    {
      "cell_type": "code",
      "execution_count": 5,
      "metadata": {
        "id": "Yipp3CDiagBQ"
      },
      "outputs": [],
      "source": []
    }
  ],
  "metadata": {
    "colab": {
      "provenance": []
    },
    "kernelspec": {
      "display_name": "Python 3",
      "name": "python3"
    },
    "language_info": {
      "name": "python"
    }
  },
  "nbformat": 4,
  "nbformat_minor": 0
}
