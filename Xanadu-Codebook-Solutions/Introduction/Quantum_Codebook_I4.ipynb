{
  "cells": [
    {
      "cell_type": "markdown",
      "metadata": {
        "id": "qgawBpeneL79"
      },
      "source": [
        "# $X$ and $H$\n",
        "\n",
        "### Learning Outcomes\n",
        "<li> Explain why we can undersatnd how an operation works by applying it to the basis states\n",
        "\n",
        "<li> Describe the action of the $X$ gate and its matrix representation and eigenvalues\n",
        "\n",
        "<li> Describe the action of the Hadamard gate, its matrix representation and eigenvalues"
      ]
    },
    {
      "attachments": {},
      "cell_type": "markdown",
      "metadata": {},
      "source": [
        "Author: [Monit Sharma](https://github.com/MonitSharma)\n",
        "LinkedIn: [Monit Sharma](https://www.linkedin.com/in/monitsharma/)\n",
        "Twitter: [@MonitSharma1729](https://twitter.com/MonitSharma1729)\n",
        "Medium : [MonitSharma](https://medium.com/@_monitsharma)"
      ]
    },
    {
      "cell_type": "markdown",
      "metadata": {
        "id": "rbaftLPBeoV5"
      },
      "source": [
        "## Describing Quantum Operations\n",
        "\n",
        "Expressing unitary operations in their parameterized form, or even matrix form in general , is quite cumbersome. Before we see some actual gates, it is useful to learn how operation works.\n",
        "\n",
        "-----\n",
        "\n",
        "Suppose we have an operation $U$. As long as we know how $U$ acts on the two computational basis states, we can use that as the shortcut to evaluate its action on any other state.\n",
        "\n",
        "$$ U|0⟩ = α |0⟩ + β|1⟩$$\n",
        "$$ U|1⟩ = γ |0⟩ + δ|1⟩$$\n"
      ]
    },
    {
      "cell_type": "markdown",
      "metadata": {
        "id": "gclnQpJrfObo"
      },
      "source": [
        "## PauliX\n",
        "\n",
        "The first gate we will explore is the Pauli $X$ gate. This operation is represented by the following unitary matrix $X$\n",
        "\n",
        "$$X|0⟩ = |1⟩$$\n",
        "$$X|0⟩ = |0⟩$$\n",
        "\n",
        "\n",
        "This is also known as **bit flip** operation or **NOT gate**, due to its similarity to the Boolean NOT operation.\n",
        "\n",
        "\n",
        "$$\\begin{split}\\sigma_x = \\begin{bmatrix} 0 & 1 \\\\ 1 & 0\\end{bmatrix}.\\end{split}\n",
        "$$\n",
        "\n"
      ]
    },
    {
      "cell_type": "markdown",
      "metadata": {
        "id": "QMUZ8L0Gf3Kf"
      },
      "source": [
        "## Hadamard\n",
        "\n",
        "The next operation we will meet is one of the most famous in quantum computing: the **Hadamard gate**. It is typically denoted by $H$ , and represented as\n",
        "\n",
        "$$\\begin{split}H = \\frac{1}{\\sqrt{2}}\\begin{bmatrix} 1 & 1\\\\ 1 & -1\\end{bmatrix}.\\end{split}\n",
        "$$\n",
        "\n",
        "The hadamard is special because it can create a *uniform superposition* in two states."
      ]
    },
    {
      "cell_type": "code",
      "execution_count": 3,
      "metadata": {
        "id": "mhc7W7v4eHwj"
      },
      "outputs": [],
      "source": [
        "%pip install pennylane\n",
        "import pennylane as qml\n",
        "import numpy as np"
      ]
    },
    {
      "cell_type": "markdown",
      "metadata": {
        "id": "OWBWtcMSg_yR"
      },
      "source": [
        "### Exercise I.4.1\n",
        "\n",
        "A common use of the $X$ gate is intialising the state at the beginning of the algorithm.\n",
        "\n",
        "Complete the function below by using `qml.PauliX` to initialise the qubit to $|1⟩$ , then use the `qml.QubitUnitary` to apply the `U`"
      ]
    },
    {
      "cell_type": "code",
      "execution_count": 4,
      "metadata": {
        "id": "PUIzbNFlg8rg"
      },
      "outputs": [],
      "source": [
        "dev = qml.device(\"default.qubit\", wires=1)\n",
        "\n",
        "U = np.array([[1, 1], [1, -1]]) / np.sqrt(2)\n",
        "\n",
        "@qml.qnode(dev)\n",
        "def varied_initial_state(state):\n",
        "    \"\"\"Complete the function such that we can apply the operation U to\n",
        "    either |0> or |1> depending on the input argument flag.\n",
        "    \n",
        "    Args:\n",
        "        state (int): Either 0 or 1. If 1, prepare the qubit in state |1>,\n",
        "            otherwise, leave it in state 0.\n",
        "  \n",
        "    Returns:\n",
        "        array[complex]: The state of the qubit after the operations.\n",
        "    \"\"\"\n",
        "    if (state == 1):\n",
        "        qml.PauliX(wires =0)\n",
        "    \n",
        "    qml.QubitUnitary(U,wires=0)\n",
        "        \n",
        "    ##################\n",
        "    # YOUR CODE HERE #\n",
        "    ##################\n",
        "\n",
        "    # KEEP THE QUBIT IN |0> OR CHANGE IT TO |1> DEPENDING ON THE state PARAMETER\n",
        "\n",
        "    # APPLY U TO THE STATE\n",
        "\n",
        "\n",
        "    return qml.state()\n"
      ]
    },
    {
      "cell_type": "markdown",
      "metadata": {
        "id": "Z8XHfykdjXjx"
      },
      "source": [
        "### Exercise I.4.2\n",
        "\n",
        "What do you mean by *uniform superposition*? \n",
        "Complete the quantum function such that\n",
        "<li> applies a Hadamard gate to the qubit\n",
        "<li> returns the *state* of the qubit qith qml.state"
      ]
    },
    {
      "cell_type": "code",
      "execution_count": 5,
      "metadata": {
        "id": "2NEWF9LPjPMo"
      },
      "outputs": [],
      "source": [
        "dev = qml.device(\"default.qubit\", wires=1)\n",
        "\n",
        "@qml.qnode(dev)\n",
        "def apply_hadamard():\n",
        "    ##################\n",
        "    # YOUR CODE HERE #\n",
        "    ##################\n",
        "\n",
        "    # APPLY THE HADAMARD GATE\n",
        "    qml.Hadamard(wires=0)\n",
        "    # RETURN THE STATE\n",
        "    return qml.state()\n"
      ]
    },
    {
      "cell_type": "markdown",
      "metadata": {
        "id": "Oe9VU7w2j8CE"
      },
      "source": [
        "### Exercise I.4.3\n",
        "\n",
        "Combining your previous two codes, apply the hadamard gate to both $|0⟩$ and $|1⟩$. "
      ]
    },
    {
      "cell_type": "code",
      "execution_count": 6,
      "metadata": {
        "colab": {
          "base_uri": "https://localhost:8080/"
        },
        "id": "goZSe3_zj6fT",
        "outputId": "6be12d58-0ad1-4144-f01f-c949a6064097"
      },
      "outputs": [
        {
          "name": "stdout",
          "output_type": "stream",
          "text": [
            "[0.70710678+0.j 0.70710678+0.j]\n",
            "[ 0.70710678+0.j -0.70710678+0.j]\n"
          ]
        }
      ],
      "source": [
        "dev = qml.device(\"default.qubit\", wires=1)\n",
        "\n",
        "@qml.qnode(dev)\n",
        "def apply_hadamard_to_state(state):\n",
        "    \"\"\"Complete the function such that we can apply the Hadamard to\n",
        "    either |0> or |1> depending on the input argument flag.\n",
        "    \n",
        "    Args:\n",
        "        state (int): Either 0 or 1. If 1, prepare the qubit in state |1>,\n",
        "            otherwise, leave it in state 0.\n",
        "    \n",
        "    Returns:\n",
        "        array[complex]: The state of the qubit after the operations.\n",
        "    \"\"\"\n",
        "    ##################\n",
        "    # YOUR CODE HERE #\n",
        "    ##################\n",
        "    if (state==1):\n",
        "        qml.PauliX(wires=0)\n",
        "        \n",
        "    qml.Hadamard(wires=0)\n",
        "\n",
        "    # KEEP THE QUBIT IN |0> OR CHANGE IT TO |1> DEPENDING ON state\n",
        "\n",
        "    # APPLY THE HADAMARD\n",
        "    \n",
        "    # RETURN THE STATE\n",
        "\n",
        "    return qml.state()\n",
        "\n",
        "print(apply_hadamard_to_state(0))\n",
        "print(apply_hadamard_to_state(1))\n"
      ]
    },
    {
      "cell_type": "markdown",
      "metadata": {
        "id": "liRreCpZkbWC"
      },
      "source": [
        "In the previous exercise you saw that\n",
        "\n",
        "$$ H|0⟩ = \\frac{1}{\\sqrt{2}} (|0⟩ + |1⟩)$$\n",
        "\n",
        "\n",
        "$$ H|1⟩ = \\frac{1}{\\sqrt{2}} (|0⟩ - |1⟩)$$\n",
        "\n",
        "\n",
        "The first in particular is known as a uniform superposition, because the amplitudes are the same. \n",
        "\n",
        "-----\n",
        "\n",
        "If you compute their inner product, you'll find that these states are *normalized* and *orthogonal* thus forming a basis for a qubit state\n",
        "\n",
        "** The result of applying a unitary to each state of a pair of orthogonal state produces a pair of states that is also orthogonal**\n",
        "\n"
      ]
    },
    {
      "cell_type": "markdown",
      "metadata": {
        "id": "duEMu8kylEzj"
      },
      "source": [
        "### Exercise I.4.4\n",
        "\n",
        "Let's combine what we have just learned"
      ]
    },
    {
      "cell_type": "code",
      "execution_count": 7,
      "metadata": {
        "colab": {
          "base_uri": "https://localhost:8080/"
        },
        "id": "ipetg6aPkYF1",
        "outputId": "d060c727-d71a-441f-e46f-c7be979848f1"
      },
      "outputs": [
        {
          "name": "stdout",
          "output_type": "stream",
          "text": [
            "[1.+0.j 0.+0.j]\n",
            "[ 0.+0.j -1.+0.j]\n"
          ]
        }
      ],
      "source": [
        "##################\n",
        "# YOUR CODE HERE #\n",
        "##################\n",
        "dev = qml.device(\"default.qubit\", wires=1)\n",
        "\n",
        "@qml.qnode(dev)\n",
        "def apply_hxh(state):\n",
        "    \n",
        "    if (state ==1):\n",
        "        qml.PauliX(wires=0)\n",
        "        \n",
        "        \n",
        "    qml.Hadamard(wires=0)\n",
        "    qml.PauliX(wires=0)\n",
        "    qml.Hadamard(wires=0)\n",
        "    \n",
        "    \n",
        "    return qml.state()\n",
        "\n",
        "# CREATE A DEVICE\n",
        "\n",
        "# CREATE A QNODE CALLED apply_hxh THAT APPLIES THE CIRCUIT ABOVE\n",
        "\n",
        "# Print your results\n",
        "print(apply_hxh(0))\n",
        "print(apply_hxh(1))\n"
      ]
    },
    {
      "cell_type": "code",
      "execution_count": null,
      "metadata": {
        "id": "2qeCwhTTmEjh"
      },
      "outputs": [],
      "source": []
    }
  ],
  "metadata": {
    "colab": {
      "provenance": []
    },
    "kernelspec": {
      "display_name": "Python 3",
      "name": "python3"
    },
    "language_info": {
      "name": "python"
    }
  },
  "nbformat": 4,
  "nbformat_minor": 0
}
