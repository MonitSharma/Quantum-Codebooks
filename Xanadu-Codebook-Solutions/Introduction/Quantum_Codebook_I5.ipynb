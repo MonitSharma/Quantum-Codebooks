{
  "cells": [
    {
      "attachments": {},
      "cell_type": "markdown",
      "metadata": {
        "id": "0hufBA8Z68h6"
      },
      "source": [
        "# It's just a Phase\n",
        "\n",
        "### Learning Outcomes\n",
        "\n",
        "<li> Describe the action of the RZ gate and its matrix representation.\n",
        "\n",
        "<li> Identify 3 special cases of RZ\n",
        "\n",
        "\n",
        "Both the $X$ and the $H$ gate of the previous node affected which basis states appeared in the superposition. We know how to flip the states using $X$, and how to create uniform superpositions. \n",
        "\n",
        "----\n",
        "\n",
        "But how can be change the amplitudes more generally?"
      ]
    },
    {
      "attachments": {},
      "cell_type": "markdown",
      "metadata": {},
      "source": [
        "Author: [Monit Sharma](https://github.com/MonitSharma)\n",
        "LinkedIn: [Monit Sharma](https://www.linkedin.com/in/monitsharma/)\n",
        "Twitter: [@MonitSharma1729](https://twitter.com/MonitSharma1729)\n",
        "Medium : [MonitSharma](https://medium.com/@_monitsharma)"
      ]
    },
    {
      "cell_type": "markdown",
      "metadata": {
        "id": "yByCUI527oKh"
      },
      "source": [
        "## Global and Relative Phases\n",
        "\n",
        "Let's consider an arbitrary quantum state\n",
        "\n",
        "$$|\\psi⟩ = α |0⟩ + β|1⟩$$\n",
        "\n",
        "and separate out the real and the complex components of the amplitudes by writing them in the polar form, i.e $α = a e^{\\iota \\theta}$ and $β = be^{\\iota \\phi}$. We can factor out the complex part:\n",
        "\n",
        "$$|\\psi⟩ = a e^{\\iota \\theta }|0⟩ + be^{\\iota \\phi} |1⟩ = e^{\\iota \\theta}( a |0⟩ + b e^{\\iota (\\phi - \\theta)}|1⟩$$\n",
        "\n",
        "\n",
        "Notice how the term $e^{\\iota θ}$ out front doesn't affect the measurement outcome probabilities at all! \n",
        "\n",
        "Without loss of generality we can totally ignore this **global phase** and describe exactly the same quantum state.\n",
        "\n",
        "This remaining complex value is known as the **relative phase**, they can affect the measurement outcomes if the measurements are performed in a different way."
      ]
    },
    {
      "cell_type": "markdown",
      "metadata": {
        "id": "G6hyX91q-EbW"
      },
      "source": [
        "## Z rotations\n",
        "\n",
        "The $RZ$ gate or $Z$ rotation is a quantum gate that modifies the relative phase between $|0⟩$ and |1⟩$.\n",
        "\n",
        "$$RZ(ω) |\\psi⟩ = \\alpha |0⟩ + β e^{\\iota \\omega} |1⟩$$\n",
        "\n"
      ]
    },
    {
      "cell_type": "markdown",
      "metadata": {
        "id": "jhUHzm6n-q78"
      },
      "source": [
        "## Z, S and T\n",
        "\n",
        "There are three special cases of $RZ(ω) $ that correspond to very commonly used quantum gates $Z, S, T$"
      ]
    },
    {
      "cell_type": "markdown",
      "metadata": {
        "id": "iaX8exMG_NI-"
      },
      "source": [
        "In the previous exercise we found that applying the sequence of operation `[Hadamard, PauliX, Hadamard]` to the computational basis states had the following effect:\n",
        "\n",
        "\n",
        "$$ |0⟩ → |0⟩ $$\n",
        "$$ |1⟩ → -|1⟩$$\n",
        "\n",
        "\n",
        "The sign of the state changed, but the measurement outcome probabilites didn't! The factor of $-1$ that affects the whole ket is called a **global phase**\n",
        "\n",
        "\n"
      ]
    },
    {
      "cell_type": "markdown",
      "metadata": {
        "id": "uyRwcqqBADvu"
      },
      "source": [
        "## Exercise I.5.1\n",
        "\n",
        "Wrtie a QNode that applies `qml.PauliZ` to the $|+⟩$ state and returns the state ?"
      ]
    },
    {
      "cell_type": "code",
      "execution_count": 2,
      "metadata": {
        "colab": {
          "base_uri": "https://localhost:8080/"
        },
        "id": "n1nqXZ89AoIY",
        "outputId": "3646fd90-38ae-4be4-f5ca-963dc425b18f"
      },
      "outputs": [
        {
          "name": "stdout",
          "output_type": "stream",
          "text": [
            "Looking in indexes: https://pypi.org/simple, https://us-python.pkg.dev/colab-wheels/public/simple/\n",
            "Collecting pennylane\n",
            "  Downloading PennyLane-0.28.0-py3-none-any.whl (1.3 MB)\n",
            "\u001b[2K     \u001b[90m━━━━━━━━━━━━━━━━━━━━━━━━━━━━━━━━━━━━━━━━\u001b[0m \u001b[32m1.3/1.3 MB\u001b[0m \u001b[31m19.6 MB/s\u001b[0m eta \u001b[36m0:00:00\u001b[0m\n",
            "\u001b[?25hCollecting autoray>=0.3.1\n",
            "  Downloading autoray-0.5.3-py3-none-any.whl (39 kB)\n",
            "Requirement already satisfied: scipy in /usr/local/lib/python3.8/dist-packages (from pennylane) (1.7.3)\n",
            "Requirement already satisfied: cachetools in /usr/local/lib/python3.8/dist-packages (from pennylane) (5.2.1)\n",
            "Collecting semantic-version>=2.7\n",
            "  Downloading semantic_version-2.10.0-py2.py3-none-any.whl (15 kB)\n",
            "Requirement already satisfied: numpy<1.24 in /usr/local/lib/python3.8/dist-packages (from pennylane) (1.21.6)\n",
            "Requirement already satisfied: toml in /usr/local/lib/python3.8/dist-packages (from pennylane) (0.10.2)\n",
            "Requirement already satisfied: networkx in /usr/local/lib/python3.8/dist-packages (from pennylane) (3.0)\n",
            "Collecting pennylane-lightning>=0.28\n",
            "  Downloading PennyLane_Lightning-0.28.1-cp38-cp38-manylinux_2_17_x86_64.manylinux2014_x86_64.whl (15.3 MB)\n",
            "\u001b[2K     \u001b[90m━━━━━━━━━━━━━━━━━━━━━━━━━━━━━━━━━━━━━━━━\u001b[0m \u001b[32m15.3/15.3 MB\u001b[0m \u001b[31m50.4 MB/s\u001b[0m eta \u001b[36m0:00:00\u001b[0m\n",
            "\u001b[?25hCollecting retworkx\n",
            "  Downloading retworkx-0.12.1-py3-none-any.whl (10 kB)\n",
            "Requirement already satisfied: appdirs in /usr/local/lib/python3.8/dist-packages (from pennylane) (1.4.4)\n",
            "Requirement already satisfied: autograd in /usr/local/lib/python3.8/dist-packages (from pennylane) (1.5)\n",
            "Requirement already satisfied: requests in /usr/local/lib/python3.8/dist-packages (from pennylane) (2.25.1)\n",
            "Collecting ninja\n",
            "  Downloading ninja-1.11.1-py2.py3-none-manylinux_2_12_x86_64.manylinux2010_x86_64.whl (145 kB)\n",
            "\u001b[2K     \u001b[90m━━━━━━━━━━━━━━━━━━━━━━━━━━━━━━━━━━━━━━\u001b[0m \u001b[32m146.0/146.0 KB\u001b[0m \u001b[31m17.4 MB/s\u001b[0m eta \u001b[36m0:00:00\u001b[0m\n",
            "\u001b[?25hRequirement already satisfied: future>=0.15.2 in /usr/local/lib/python3.8/dist-packages (from autograd->pennylane) (0.16.0)\n",
            "Requirement already satisfied: chardet<5,>=3.0.2 in /usr/local/lib/python3.8/dist-packages (from requests->pennylane) (4.0.0)\n",
            "Requirement already satisfied: certifi>=2017.4.17 in /usr/local/lib/python3.8/dist-packages (from requests->pennylane) (2022.12.7)\n",
            "Requirement already satisfied: urllib3<1.27,>=1.21.1 in /usr/local/lib/python3.8/dist-packages (from requests->pennylane) (1.24.3)\n",
            "Requirement already satisfied: idna<3,>=2.5 in /usr/local/lib/python3.8/dist-packages (from requests->pennylane) (2.10)\n",
            "Collecting rustworkx==0.12.1\n",
            "  Downloading rustworkx-0.12.1-cp38-cp38-manylinux_2_17_x86_64.manylinux2014_x86_64.whl (1.9 MB)\n",
            "\u001b[2K     \u001b[90m━━━━━━━━━━━━━━━━━━━━━━━━━━━━━━━━━━━━━━━━\u001b[0m \u001b[32m1.9/1.9 MB\u001b[0m \u001b[31m68.8 MB/s\u001b[0m eta \u001b[36m0:00:00\u001b[0m\n",
            "\u001b[?25hInstalling collected packages: ninja, semantic-version, rustworkx, autoray, retworkx, pennylane-lightning, pennylane\n",
            "Successfully installed autoray-0.5.3 ninja-1.11.1 pennylane-0.28.0 pennylane-lightning-0.28.1 retworkx-0.12.1 rustworkx-0.12.1 semantic-version-2.10.0\n"
          ]
        }
      ],
      "source": [
        "%pip install pennylane\n",
        "import pennylane as qml\n",
        "import numpy as np"
      ]
    },
    {
      "cell_type": "code",
      "execution_count": 3,
      "metadata": {
        "colab": {
          "base_uri": "https://localhost:8080/"
        },
        "id": "TV5-2d75o6HI",
        "outputId": "fdbe1dda-85ed-43a2-ea7d-f57104acad20"
      },
      "outputs": [
        {
          "name": "stdout",
          "output_type": "stream",
          "text": [
            "[ 0.70710678+0.j -0.70710678+0.j]\n"
          ]
        }
      ],
      "source": [
        "dev = qml.device(\"default.qubit\", wires=1)\n",
        "\n",
        "@qml.qnode(dev)\n",
        "def apply_z_to_plus():\n",
        "    \"\"\"Write a circuit that applies PauliZ to the |+> state and returns\n",
        "    the state.\n",
        "\n",
        "    Returns:\n",
        "        array[complex]: The state of the qubit after the operations.\n",
        "    \"\"\"\n",
        "\n",
        "    ##################\n",
        "    # YOUR CODE HERE #\n",
        "    ##################\n",
        "\n",
        "    # CREATE THE |+> STATE\n",
        "    qml.Hadamard(wires=0)\n",
        "    \n",
        "\n",
        "    # APPLY PAULI Z\n",
        "    qml.PauliZ(wires=0)\n",
        "\n",
        "    # RETURN THE STATE\n",
        "    return qml.state()\n",
        "\n",
        "print(apply_z_to_plus())\n"
      ]
    },
    {
      "cell_type": "markdown",
      "metadata": {
        "id": "54JXaflaA665"
      },
      "source": [
        "The operation $Z$ is a special case of a more general operation that modifies the phase of an amplitude known as $Z$ rotation.\n",
        "\n",
        "\n",
        "$$ RZ(ω) |\\psi⟩ = e^{\\iota \\frac{ω}{2}}α |0⟩ + β e^{\\iota \\frac{ω}{2}}|1⟩$$\n",
        "\n",
        "However this prefactor of $e^{\\iota \\frac{ω}{2}}$ is also a **global phase** and can thus be factored out.\n",
        "\n",
        "\n",
        "This operation is accesible as `qml.RZ` is a parameterized operation  and so we must specify not only a wire , but an angle of rotation\n",
        "\n",
        "```python\n",
        "qml.RZ(angle, wires=wire)\n",
        "```"
      ]
    },
    {
      "cell_type": "markdown",
      "metadata": {
        "id": "qWywiKTzBw0D"
      },
      "source": [
        "### Exercise I.5.2\n",
        "\n",
        "Write a QNode that uses `qml.RZ` to simulate a `qml.PauliZ` operation and return the state, apply it to the $|+⟩$ state"
      ]
    },
    {
      "cell_type": "code",
      "execution_count": 4,
      "metadata": {
        "id": "kauhA7IEAfPC"
      },
      "outputs": [],
      "source": [
        "dev = qml.device(\"default.qubit\", wires=1)\n",
        "\n",
        "@qml.qnode(dev)\n",
        "def fake_z():\n",
        "    \"\"\"Use RZ to produce the same action as Pauli Z on the |+> state.\n",
        "\n",
        "    Returns:\n",
        "        array[complex]: The state of the qubit after the operations.\n",
        "    \"\"\"\n",
        "\n",
        "    ##################\n",
        "    # YOUR CODE HERE #\n",
        "    ##################\n",
        "\n",
        "    # CREATE THE |+> STATE\n",
        "    qml.Hadamard(wires=0)\n",
        "\n",
        "    # APPLY RZ\n",
        "    qml.RZ(np.pi ,wires=0)\n",
        "\n",
        "    # RETURN THE STATE\n",
        "    return qml.state()\n"
      ]
    },
    {
      "cell_type": "markdown",
      "metadata": {
        "id": "Fsq8DYDLDVX6"
      },
      "source": [
        "$Z$ is not the only such rotation. We found that $Z= RZ(\\pi)$. This is also sometimes called a \"half turn around $Z$\". The quarter turn and eighth turn also have their own names: the **phase gate** $S$ and the $T$ **gate$$\n",
        "\n",
        "\n",
        "\n",
        "-----\n",
        "\n",
        "In Pennylane, they are implemented directly as the non parameterized operations `qml.S` and `qml.T`\n",
        "\n",
        "\n"
      ]
    },
    {
      "cell_type": "markdown",
      "metadata": {
        "id": "ogs8yvgbEn3m"
      },
      "source": [
        "### Exercise I.5.3\n",
        "\n",
        "Adjoints in the Pennylane can be computed by applying the `qml.adjoint` transform to an operation before specifying its paramters and wires\n",
        "```python\n",
        "qml.adjoint(qml.RZ)(phi, wires=0)"
      ]
    },
    {
      "cell_type": "code",
      "execution_count": 5,
      "metadata": {
        "id": "HrQvQ9WhDNCM"
      },
      "outputs": [],
      "source": [
        "dev = qml.device(\"default.qubit\", wires=1)\n",
        "\n",
        "@qml.qnode(dev)\n",
        "def many_rotations():\n",
        "    \"\"\"Implement the circuit depicted above and return the quantum state.\n",
        "\n",
        "    Returns:\n",
        "        array[complex]: The state of the qubit after the operations.\n",
        "    \"\"\"\n",
        "\n",
        "    ##################\n",
        "    # YOUR CODE HERE #\n",
        "    ##################\n",
        "    qml.Hadamard(wires=0)\n",
        "    qml.S(wires=0)\n",
        "    qml.adjoint(qml.T)(wires=0)\n",
        "    qml.RZ(0.3, wires=0)\n",
        "    qml.adjoint(qml.S)(wires=0)\n",
        "\n",
        "    # IMPLEMENT THE CIRCUIT\n",
        "\n",
        "    # RETURN THE STATE\n",
        "\n",
        "    return qml.state()\n"
      ]
    },
    {
      "cell_type": "markdown",
      "metadata": {
        "id": "W0f3vnNXGToq"
      },
      "source": [
        "### Exercise I.5.4\n",
        "\n",
        "The $T$ gate plays an important role in more advanced quantum computing topics, specially in some fault tolerant networks.\n",
        "\n"
      ]
    },
    {
      "cell_type": "code",
      "execution_count": 6,
      "metadata": {
        "id": "8y7GgEDYFadT"
      },
      "outputs": [],
      "source": [
        "dev = qml.device('default.qubit', wires=3)\n",
        "\n",
        "@qml.qnode(dev)\n",
        "def too_many_ts():\n",
        "    \"\"\"You can implement the original circuit here as well, it may help you with\n",
        "    testing to ensure that the circuits have the same effect.\n",
        "\n",
        "    Returns:\n",
        "        array[float]: The measurement outcome probabilities.\n",
        "    \"\"\"\n",
        "    qml.Hadamard(wires=0)\n",
        "    qml.T(wires=0)\n",
        "    qml.T(wires=0)\n",
        "    qml.Hadamard(wires=0)\n",
        "    qml.adjoint(qml.T(wires=0))\n",
        "    qml.adjoint(qml.T(wires=0))\n",
        "    qml.Hadamard(wires=0)\n",
        "\n",
        "\n",
        "    qml.Hadamard(wires=1)\n",
        "    qml.T(wires=1)\n",
        "    qml.Hadamard(wires=1)\n",
        "    qml.T(wires=1)\n",
        "    qml.T(wires=1)\n",
        "    qml.T(wires=1)\n",
        "    qml.T(wires=1)\n",
        "    qml.Hadamard(wires=1)\n",
        "\n",
        "\n",
        "    qml.Hadamard(wires=2)\n",
        "    qml.adjoint(qml.T(wires=2))\n",
        "    qml.Hadamard(wires=2)\n",
        "    qml.adjoint(qml.T(wires=2))\n",
        "    qml.adjoint(qml.T(wires=2))\n",
        "    qml.adjoint(qml.T(wires=2))\n",
        "    qml.Hadamard(wires=2)\n",
        "\n",
        "    return qml.probs(wires=[0, 1, 2])\n",
        "\n",
        "@qml.qnode(dev)\n",
        "def just_enough_ts():\n",
        "    \"\"\"Implement an equivalent circuit as the above with the minimum number of \n",
        "    T and T^\\dagger gates required.\n",
        "\n",
        "    Returns:\n",
        "        array[float]: The measurement outcome probabilities.\n",
        "    \"\"\"\n",
        "\n",
        "    ##################\n",
        "    # YOUR CODE HERE #\n",
        "    ##################\n",
        "    qml.Hadamard(wires=0)\n",
        "    qml.Hadamard(wires=1)\n",
        "    qml.Hadamard(wires=2)\n",
        "    qml.S(wires=0)\n",
        "    qml.T(wires=1)\n",
        "    qml.adjoint(qml.T)(wires=2)\n",
        "\n",
        "    qml.Hadamard(wires=0)\n",
        "    qml.Hadamard(wires=1)\n",
        "    qml.Hadamard(wires=2)\n",
        "\n",
        "    qml.adjoint(qml.S)(wires=0)\n",
        "    qml.PauliZ(wires=1)\n",
        "    qml.adjoint(qml.S)(wires=2)\n",
        "    qml.adjoint(qml.T)(wires=2)\n",
        "    qml.Hadamard(wires=0)\n",
        "    qml.Hadamard(wires=1)\n",
        "    qml.Hadamard(wires=2)\n",
        "\n",
        "    # IMPLEMENT THE CIRCUIT, BUT COMBINE AND OPTIMIZE THE GATES\n",
        "    # TO MINIMIZE THE NUMBER OF TS\n",
        "\n",
        "    return qml.probs(wires=[0, 1, 2])\n",
        "\n",
        "##################\n",
        "# YOUR CODE HERE #\n",
        "##################\n",
        "\n",
        "# FILL IN THE CORRECT VALUES FOR THE ORIGINAL CIRCUIT\n",
        "original_depth = 8\n",
        "original_t_count = 13\n",
        "original_t_depth = 6\n",
        "\n",
        "# FILL IN THE CORRECT VALUES FOR THE NEW, OPTIMIZED CIRCUIT\n",
        "optimal_depth = 6\n",
        "optimal_t_count = 3\n",
        "optimal_t_depth = 2"
      ]
    },
    {
      "cell_type": "code",
      "execution_count": null,
      "metadata": {
        "id": "Nebq_hTGL4Vc"
      },
      "outputs": [],
      "source": []
    }
  ],
  "metadata": {
    "colab": {
      "provenance": []
    },
    "kernelspec": {
      "display_name": "Python 3",
      "name": "python3"
    },
    "language_info": {
      "name": "python"
    }
  },
  "nbformat": 4,
  "nbformat_minor": 0
}
