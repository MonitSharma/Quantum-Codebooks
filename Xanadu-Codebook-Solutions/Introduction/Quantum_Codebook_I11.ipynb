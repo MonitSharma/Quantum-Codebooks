{
  "cells": [
    {
      "cell_type": "markdown",
      "metadata": {
        "id": "kaV8jrATSvsB"
      },
      "source": [
        "# Multi-Qubit Systems\n",
        "\n",
        "#### Learning outcomes\n",
        "<li> Construct the state of a multi-qubit system using the tensor product.\n",
        "\n",
        "<li> Define and appl separable operations to multiple qubits."
      ]
    },
    {
      "attachments": {},
      "cell_type": "markdown",
      "metadata": {
        "id": "GZPmZYVJTPQH"
      },
      "source": [
        "Author: [Monit Sharma](https://github.com/MonitSharma)\n",
        "LinkedIn: [Monit Sharma](https://www.linkedin.com/in/monitsharma/)\n",
        "Twitter: [@MonitSharma1729](https://twitter.com/MonitSharma1729)\n",
        "Medium : [MonitSharma](https://medium.com/@_monitsharma)"
      ]
    },
    {
      "cell_type": "markdown",
      "metadata": {
        "id": "Nf3bvG35TO3W"
      },
      "source": [
        "## The Tensor Product\n",
        "\n",
        "Recall that single-qubit states live in a *Hilbert Space*, which is a $2$ dimensional vector space spanned by basis vectors $|0⟩$ and $|1⟩$. \n",
        "\n",
        "----\n",
        "\n",
        "In order to work with multiple qubits, we must learn how these vectors spaces compose. Hilbert spaces are combined using an operation called **tensor product**. "
      ]
    },
    {
      "cell_type": "markdown",
      "metadata": {
        "id": "cx8Z5So0TOmS"
      },
      "source": [
        "### Code Exercise\n",
        "\n",
        "We've worked with circuits that have more than one qubit, but haven't really go into detail yet about how all this works. The single-qubir computational basis consist of $|0⟩$ and $|1⟩$. When we put more than one qubit together, their states combine using the *tensor product*. For example , for the $2$ qubit case we have $|00⟩, |01⟩, |10⟩, |11⟩$"
      ]
    },
    {
      "cell_type": "markdown",
      "metadata": {
        "id": "sXISLz_iVcSt"
      },
      "source": [
        "### Important: Qubit ordering convention\n",
        "\n",
        "The qubits are indexes numerically from left to right. Therefore, a state, such as $|10100⟩$ indicates that the first and third qubit (or, wires `0` and `2`) are state $|1⟩$ and the second, fourth, and the fifth qubit are in state $|0\\rangle$, when drawing quantum circuits, our convention is that the leftmost qubit is at *top* of the circuit, \n",
        "\n",
        "\n",
        "![](https://codebook.xanadu.ai/pics/qubit_ordering.svg)\n",
        "\n",
        "\n",
        "\n",
        "\n"
      ]
    },
    {
      "cell_type": "code",
      "execution_count": 1,
      "metadata": {
        "colab": {
          "base_uri": "https://localhost:8080/"
        },
        "id": "4zV2qb_ASgOp",
        "outputId": "63c535b2-e472-4829-f5c1-b42903e39e3c"
      },
      "outputs": [
        {
          "name": "stdout",
          "output_type": "stream",
          "text": [
            "Looking in indexes: https://pypi.org/simple, https://us-python.pkg.dev/colab-wheels/public/simple/\n",
            "Collecting pennylane\n",
            "  Downloading PennyLane-0.28.0-py3-none-any.whl (1.3 MB)\n",
            "\u001b[2K     \u001b[90m━━━━━━━━━━━━━━━━━━━━━━━━━━━━━━━━━━━━━━━━\u001b[0m \u001b[32m1.3/1.3 MB\u001b[0m \u001b[31m11.4 MB/s\u001b[0m eta \u001b[36m0:00:00\u001b[0m\n",
            "\u001b[?25hRequirement already satisfied: toml in /usr/local/lib/python3.8/dist-packages (from pennylane) (0.10.2)\n",
            "Requirement already satisfied: cachetools in /usr/local/lib/python3.8/dist-packages (from pennylane) (5.2.1)\n",
            "Collecting autoray>=0.3.1\n",
            "  Downloading autoray-0.6.0-py3-none-any.whl (46 kB)\n",
            "\u001b[2K     \u001b[90m━━━━━━━━━━━━━━━━━━━━━━━━━━━━━━━━━━━━━━━━\u001b[0m \u001b[32m46.4/46.4 KB\u001b[0m \u001b[31m3.3 MB/s\u001b[0m eta \u001b[36m0:00:00\u001b[0m\n",
            "\u001b[?25hRequirement already satisfied: scipy in /usr/local/lib/python3.8/dist-packages (from pennylane) (1.7.3)\n",
            "Requirement already satisfied: appdirs in /usr/local/lib/python3.8/dist-packages (from pennylane) (1.4.4)\n",
            "Collecting retworkx\n",
            "  Downloading retworkx-0.12.1-py3-none-any.whl (10 kB)\n",
            "Collecting semantic-version>=2.7\n",
            "  Downloading semantic_version-2.10.0-py2.py3-none-any.whl (15 kB)\n",
            "Requirement already satisfied: requests in /usr/local/lib/python3.8/dist-packages (from pennylane) (2.25.1)\n",
            "Requirement already satisfied: networkx in /usr/local/lib/python3.8/dist-packages (from pennylane) (3.0)\n",
            "Collecting pennylane-lightning>=0.28\n",
            "  Downloading PennyLane_Lightning-0.28.2-cp38-cp38-manylinux_2_17_x86_64.manylinux2014_x86_64.whl (15.3 MB)\n",
            "\u001b[2K     \u001b[90m━━━━━━━━━━━━━━━━━━━━━━━━━━━━━━━━━━━━━━━━\u001b[0m \u001b[32m15.3/15.3 MB\u001b[0m \u001b[31m40.5 MB/s\u001b[0m eta \u001b[36m0:00:00\u001b[0m\n",
            "\u001b[?25hRequirement already satisfied: numpy<1.24 in /usr/local/lib/python3.8/dist-packages (from pennylane) (1.21.6)\n",
            "Requirement already satisfied: autograd in /usr/local/lib/python3.8/dist-packages (from pennylane) (1.5)\n",
            "Collecting ninja\n",
            "  Downloading ninja-1.11.1-py2.py3-none-manylinux_2_12_x86_64.manylinux2010_x86_64.whl (145 kB)\n",
            "\u001b[2K     \u001b[90m━━━━━━━━━━━━━━━━━━━━━━━━━━━━━━━━━━━━━━━\u001b[0m \u001b[32m146.0/146.0 KB\u001b[0m \u001b[31m7.9 MB/s\u001b[0m eta \u001b[36m0:00:00\u001b[0m\n",
            "\u001b[?25hRequirement already satisfied: future>=0.15.2 in /usr/local/lib/python3.8/dist-packages (from autograd->pennylane) (0.16.0)\n",
            "Requirement already satisfied: chardet<5,>=3.0.2 in /usr/local/lib/python3.8/dist-packages (from requests->pennylane) (4.0.0)\n",
            "Requirement already satisfied: urllib3<1.27,>=1.21.1 in /usr/local/lib/python3.8/dist-packages (from requests->pennylane) (1.24.3)\n",
            "Requirement already satisfied: certifi>=2017.4.17 in /usr/local/lib/python3.8/dist-packages (from requests->pennylane) (2022.12.7)\n",
            "Requirement already satisfied: idna<3,>=2.5 in /usr/local/lib/python3.8/dist-packages (from requests->pennylane) (2.10)\n",
            "Collecting rustworkx==0.12.1\n",
            "  Downloading rustworkx-0.12.1-cp38-cp38-manylinux_2_17_x86_64.manylinux2014_x86_64.whl (1.9 MB)\n",
            "\u001b[2K     \u001b[90m━━━━━━━━━━━━━━━━━━━━━━━━━━━━━━━━━━━━━━━━\u001b[0m \u001b[32m1.9/1.9 MB\u001b[0m \u001b[31m46.9 MB/s\u001b[0m eta \u001b[36m0:00:00\u001b[0m\n",
            "\u001b[?25hInstalling collected packages: ninja, semantic-version, rustworkx, autoray, retworkx, pennylane-lightning, pennylane\n",
            "Successfully installed autoray-0.6.0 ninja-1.11.1 pennylane-0.28.0 pennylane-lightning-0.28.2 retworkx-0.12.1 rustworkx-0.12.1 semantic-version-2.10.0\n"
          ]
        }
      ],
      "source": [
        "%pip install pennylane\n",
        "import pennylane as qml\n",
        "import numpy as np"
      ]
    },
    {
      "cell_type": "markdown",
      "metadata": {
        "id": "tI7sOFz7dBTL"
      },
      "source": [
        "### Codercise I.11.1\n",
        "\n",
        "Write a circuit in PennyLane that accepts an integer value, then prepares and returns the corresponding computational vector $|n⟩$"
      ]
    },
    {
      "cell_type": "code",
      "execution_count": 2,
      "metadata": {
        "colab": {
          "base_uri": "https://localhost:8080/"
        },
        "id": "dZsVMAhribsd",
        "outputId": "12832be3-8cdf-41e9-b0cf-b5c49d8d5c27"
      },
      "outputs": [
        {
          "name": "stdout",
          "output_type": "stream",
          "text": [
            "Output state = [0.+0.j 0.+0.j 0.+0.j 1.+0.j 0.+0.j 0.+0.j 0.+0.j 0.+0.j]\n"
          ]
        }
      ],
      "source": [
        "dev = qml.device('default.qubit', wires=3)\n",
        "\n",
        "@qml.qnode(dev)\n",
        "def make_basis_state(basis_id):\n",
        "    \"\"\"Produce the 3-qubit basis state corresponding to |basis_id>.\n",
        "    \n",
        "    Note that the system starts in |000>.\n",
        "\n",
        "    Args:\n",
        "        basis_id (int): An integer value identifying the basis state to construct.\n",
        "        \n",
        "    Returns:\n",
        "        array[complex]: The computational basis state |basis_id>.\n",
        "    \"\"\"\n",
        "\n",
        "    ##################\n",
        "    # YOUR CODE HERE #\n",
        "    ##################\n",
        "    number = np.binary_repr(basis_id,width = 3)\n",
        "    if (number[0] == '1'):\n",
        "        qml.PauliX(wires=0)\n",
        "    \n",
        "        \n",
        "    if (number[1] == '1'):\n",
        "        qml.PauliX(wires=1)\n",
        "    \n",
        "        \n",
        "    if (number[2] == '1'):\n",
        "        qml.PauliX(wires=2)\n",
        "    \n",
        "    \n",
        "\n",
        "    # CREATE THE BASIS STATE\n",
        "    \n",
        "    return qml.state()\n",
        "\n",
        "\n",
        "basis_id = 3\n",
        "print(f\"Output state = {make_basis_state(basis_id)}\")\n"
      ]
    },
    {
      "cell_type": "markdown",
      "metadata": {
        "id": "X_W211RcdXTP"
      },
      "source": [
        "### Codercise I.11.2\n",
        "\n",
        "Use PennyLane to create the state $|+1⟩ = |+⟩ \\otimes |1⟩$. Then, return two measurements:\n",
        "\n",
        "<li> The expectation value of $Y$ on the first qubit\n",
        "\n",
        "<li> The expectation value of $Z$ on the second qubit\n",
        "\n",
        "\n"
      ]
    },
    {
      "cell_type": "code",
      "execution_count": 3,
      "metadata": {
        "colab": {
          "base_uri": "https://localhost:8080/"
        },
        "id": "KBf4WYuSdVyR",
        "outputId": "fbebfacd-c423-485e-de74-cbf1b0f8fd9c"
      },
      "outputs": [
        {
          "name": "stdout",
          "output_type": "stream",
          "text": [
            "[ 0. -1.]\n"
          ]
        }
      ],
      "source": [
        "# Creates a device with *two* qubits\n",
        "dev = qml.device('default.qubit', wires=2)\n",
        "\n",
        "@qml.qnode(dev)\n",
        "def two_qubit_circuit():\n",
        "    ##################\n",
        "    # YOUR CODE HERE #\n",
        "    ##################\n",
        "\n",
        "    # PREPARE |+>|1>\n",
        "    qml.Hadamard(wires=0)\n",
        "    qml.PauliX(wires=1)\n",
        "    return qml.expval(qml.PauliY(0)), qml.expval(qml.PauliZ(1))\n",
        "\n",
        "    # RETURN TWO EXPECTATION VALUES, Y ON FIRST QUBIT, Z ON SECOND QUBIT\n",
        "\n",
        "    #return\n",
        "\n",
        "\n",
        "print(two_qubit_circuit())\n"
      ]
    },
    {
      "cell_type": "markdown",
      "metadata": {
        "id": "NKDSIRu9dxsr"
      },
      "source": [
        "### Codercise I.11.3\n",
        "\n",
        "Write a PennyLane circuit that creates the state $|1-⟩ = |1⟩ \\otimes |-⟩$\n",
        "\n",
        "Then measure the expectation value of the *two qubit observale* $Z\\otimes X$.\n",
        "\n",
        "In PennyLane, you can combine using `@`\n",
        "\n"
      ]
    },
    {
      "cell_type": "code",
      "execution_count": 4,
      "metadata": {
        "colab": {
          "base_uri": "https://localhost:8080/"
        },
        "id": "lectkQ4pdvPG",
        "outputId": "4104e779-00d8-49c5-9a7b-395cffa2a891"
      },
      "outputs": [
        {
          "name": "stdout",
          "output_type": "stream",
          "text": [
            "0.9999999999999996\n"
          ]
        }
      ],
      "source": [
        "dev = qml.device(\"default.qubit\", wires=2)\n",
        "\n",
        "@qml.qnode(dev)\n",
        "def create_one_minus():\n",
        "    ##################\n",
        "    # YOUR CODE HERE #\n",
        "    ##################\n",
        "    qml.PauliX(wires=0)\n",
        "    qml.PauliX(wires=1)\n",
        "    qml.Hadamard(wires=1)\n",
        "    return qml.expval(qml.PauliZ(0) @ qml.PauliX(1))\n",
        "\n",
        "    # PREPARE |1>|->\n",
        "\n",
        "    # RETURN A SINGLE EXPECTATION VALUE Z \\otimes X\n",
        "\n",
        "    #return\n",
        "\n",
        "\n",
        "print(create_one_minus())\n"
      ]
    },
    {
      "cell_type": "markdown",
      "metadata": {
        "id": "JNoPlkH6eJA5"
      },
      "source": [
        "### Codercise I.11.4\n",
        "\n",
        "Implement the following circuit twice. For one verion, measure in observales $Z$ on the first qubit, and $Z$ on the second qubit. For the other version, measure the observable $Z \\otimes Z$\n",
        "\n",
        "\n",
        "![](https://codebook.xanadu.ai/pics/circuit_i-11-4.svg)"
      ]
    },
    {
      "cell_type": "code",
      "execution_count": 6,
      "metadata": {
        "id": "1knHGopueHcM"
      },
      "outputs": [],
      "source": [
        "dev = qml.device('default.qubit', wires=2)\n",
        "\n",
        "@qml.qnode(dev)\n",
        "def circuit_1(theta):\n",
        "    \"\"\"Implement the circuit and measure Z I and I Z.\n",
        "    \n",
        "    Args:\n",
        "        theta (float): a rotation angle.\n",
        "        \n",
        "    Returns:\n",
        "        float, float: The expectation values of the observables Z I, and I Z\n",
        "    \"\"\"\n",
        "    ##################\n",
        "    # YOUR CODE HERE #\n",
        "    ##################  \n",
        "    qml.RX(theta, wires=0)\n",
        "    qml.RY(2*theta, wires=1)\n",
        "\n",
        "    return qml.expval(qml.PauliZ(wires=0)), qml.expval(qml.PauliZ(wires=1))\n",
        "\n",
        "\n",
        "@qml.qnode(dev)\n",
        "def circuit_2(theta):\n",
        "    \"\"\"Implement the circuit and measure Z Z.\n",
        "    \n",
        "    Args:\n",
        "        theta (float): a rotation angle.\n",
        "        \n",
        "    Returns:\n",
        "        float: The expectation value of the observable Z Z\n",
        "    \"\"\" \n",
        "\n",
        "    ##################\n",
        "    # YOUR CODE HERE #\n",
        "    ##################  \n",
        "    qml.RX(theta, wires=0)\n",
        "    qml.RY(2*theta, wires=1)\n",
        "\n",
        "    return qml.expval(qml.PauliZ(wires=0)@ qml.PauliZ(wires=1))\n",
        "\n",
        " \n",
        "    \n",
        "\n",
        "\n",
        "def zi_iz_combination(ZI_results, IZ_results):\n",
        "    \"\"\"Implement a function that acts on the ZI and IZ results to\n",
        "    produce the ZZ results. How do you think they should combine?\n",
        "\n",
        "    Args:\n",
        "        ZI_results (array[float]): Results from the expectation value of \n",
        "            ZI in circuit_1.\n",
        "        IZ_results (array[float]): Results from the expectation value of \n",
        "            IZ in circuit_2.\n",
        "\n",
        "    Returns:\n",
        "        array[float]: A combination of ZI_results and IZ_results that \n",
        "        produces results equivalent to measuring ZZ.\n",
        "    \"\"\"\n",
        "\n",
        "    combined_results = np.zeros(len(ZI_results))\n",
        "\n",
        "    ##################\n",
        "    # YOUR CODE HERE #\n",
        "    ##################  \n",
        "\n",
        "    return ZI_results * IZ_results\n",
        "\n",
        " \n",
        "theta = np.linspace(0, 2 * np.pi, 100)\n",
        "\n",
        "# Run circuit 1, and process the results\n",
        "circuit_1_results = np.array([circuit_1(t) for t in theta])\n",
        "\n",
        "ZI_results = circuit_1_results[:, 0]\n",
        "IZ_results = circuit_1_results[:, 1]\n",
        "combined_results = zi_iz_combination(ZI_results, IZ_results)\n",
        "\n",
        "# Run circuit 2\n",
        "ZZ_results = np.array([circuit_2(t) for t in theta])\n",
        "\n",
        "# Plot your results\n",
        "plot = plotter(theta, ZI_results, IZ_results, ZZ_results, combined_results)\n",
        "#"
      ]
    },
    {
      "cell_type": "code",
      "execution_count": null,
      "metadata": {
        "id": "uYeGqPFUeilH"
      },
      "outputs": [],
      "source": []
    }
  ],
  "metadata": {
    "colab": {
      "provenance": []
    },
    "kernelspec": {
      "display_name": "Python 3",
      "name": "python3"
    },
    "language_info": {
      "name": "python"
    }
  },
  "nbformat": 4,
  "nbformat_minor": 0
}
