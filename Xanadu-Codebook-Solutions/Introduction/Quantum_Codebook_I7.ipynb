{
  "cells": [
    {
      "cell_type": "markdown",
      "metadata": {
        "id": "NjjCI62UrAWJ"
      },
      "source": [
        "# Universal gate sets\n",
        "\n",
        "### *Learning Outcomes*\n",
        "\n",
        "<li> Define what it means for a gate set to be universal for quantum computing\n",
        "\n",
        "<li> State two universal gate sets for single-qubit quantum computation\n",
        "\n"
      ]
    },
    {
      "attachments": {},
      "cell_type": "markdown",
      "metadata": {},
      "source": [
        "Author: [Monit Sharma](https://github.com/MonitSharma)\n",
        "LinkedIn: [Monit Sharma](https://www.linkedin.com/in/monitsharma/)\n",
        "Twitter: [@MonitSharma1729](https://twitter.com/MonitSharma1729)\n",
        "Medium : [MonitSharma](https://medium.com/@_monitsharma)"
      ]
    },
    {
      "cell_type": "markdown",
      "metadata": {
        "id": "zW4ocEPDrO5v"
      },
      "source": [
        "Recall that the most general expression of a single-qubit unitary matrix looks like this:\n",
        "\n",
        "$$\\begin{split}U(\\theta, \\phi, \\omega) = \\begin{bmatrix} e^{-\\iota (\\phi + \\omega)/2} \\cos(\\theta/2) & -e^{\\iota (\\phi - \\omega)/2}\\sin(\\theta/2) \\\\\n",
        "e^{-\\iota (\\phi - \\omega)/2}\\sin(\\theta/2) & e^{\\iota (\\phi + \\omega)/2}\\cos(\\theta/2) \\end{bmatrix}\\end{split}\n",
        "$$\n",
        "\n",
        "It's possinle to find a set of angles $\\phi, \\theta, \\omega$ for all the gates we encountered in previous nodes.\n"
      ]
    },
    {
      "attachments": {},
      "cell_type": "markdown",
      "metadata": {
        "id": "0uKnLuAks3xu"
      },
      "source": [
        "### Theoretical Exercise\n",
        "\n",
        "**Prove that**\n",
        "\n",
        "$$\\begin{split}U(\\theta, \\phi, \\omega) = \\begin{bmatrix} e^{-\\iota (\\phi + \\omega)/2} \\cos(\\theta/2) & -e^{\\iota (\\phi - \\omega)/2}\\sin(\\theta/2) \\\\\n",
        "e^{-\\iota (\\phi - \\omega)/2}\\sin(\\theta/2) & e^{\\iota (\\phi + \\omega)/2}\\cos(\\theta/2) \\end{bmatrix}\\end{split}$$\n",
        "\n",
        " can be expressed using only $3$ gates from the set `{RZ,RY}`\n",
        "\n",
        "\n",
        "**Solution:**\n",
        "\n",
        "Consider how the gates can be combined. If we put two $RZ$ gates next to each pther, that would be equivalent of applying an $RZ$ with the sum of the angles. Thus , if we are using $3$ gates, they must alternate , so our options are $RZ,RY,RZ$ or $RY,RZ,RY$\n",
        "\n",
        "\n",
        "\n",
        "Looking at the matrix representation:\n",
        "\n",
        "$$RY(\\theta) = \\begin{bmatrix}\n",
        "\\cos(\\frac{\\theta}{2}) & -\\sin(\\frac{\\theta}{2}) \\\\\n",
        "\\sin(\\frac{\\theta}{2}) & \\cos(\\frac{\\theta}{2}) \\\n",
        "\\end{bmatrix}$$\n",
        "\n",
        "$$RZ(\\theta) = \\begin{bmatrix}\n",
        "e^{-i\\frac{\\theta}{2}} & 0 \\\\\n",
        "0 & e^{i\\frac{\\theta}{2}} \\\n",
        "\\end{bmatrix}$$\n",
        "\n",
        "we see that the portion of the matrix that depends on $\\theta$ looks exactly like a $Y$ rotation. Furthermore, the phase in the exponential contains two of the angles. This suggest that we need $RY(\\theta)$ and then $RZ(\\omega)$ and $RZ(\\phi)$. \n",
        "\n",
        "So we get\n",
        "\n",
        "$$U(\\phi, \\theta, \\omega)= RZ(\\omega) RY(\\theta) RZ(\\phi)$$\n",
        "\n",
        "as desired.\n",
        "\n",
        "\n",
        "\n",
        "\n"
      ]
    },
    {
      "cell_type": "markdown",
      "metadata": {
        "id": "dVCtfWtJPzkR"
      },
      "source": [
        "## Code Exercises\n",
        "\n",
        "In a previous codercise, we learned about arbitrary unitary rotations, and you applied a parameterized operation using the `Rot` gate in pennylane. It's time to learn a bit more what's happening under the hood. `Rot` is actually a sequence of three operations:\n",
        "\n",
        "\n",
        "```python\n",
        "def decomposed_rot(phi, theta, omega):\n",
        "  qml.RZ(phi, wires=0)\n",
        "  qml.RY(theta, wires=0)\n",
        "  qml.RZ(omega, wires=0)\n",
        "```"
      ]
    },
    {
      "cell_type": "markdown",
      "metadata": {
        "id": "GzvAUrdYQik0"
      },
      "source": [
        "Even though `Rot` is the most general single-qubit operation, under the hood, it's just `RZ` and `RY` gates.\n",
        "\n",
        "-----\n",
        "\n",
        "This begs the question of whether we actually need `RX`- essentially the answer is no. Infact , in general as long as we have two rotations out of the set `[RX, RY, RZ]` we can implement any single-qubit operation, it's just matter of finding the angles that work, which would be mathematically cumbersome."
      ]
    },
    {
      "cell_type": "markdown",
      "metadata": {
        "id": "7vpfr2BsRiLR"
      },
      "source": [
        "## Codercise I.7.1\n",
        "Can you find a set of angles `phi,theta,omega` such that the sequence of gates act as the same as a hadamard gate?"
      ]
    },
    {
      "cell_type": "code",
      "execution_count": 2,
      "metadata": {
        "colab": {
          "base_uri": "https://localhost:8080/"
        },
        "id": "VL8M4yl9Sh94",
        "outputId": "de139bb0-7dc2-4a68-f8d9-3d3db3c5c70d"
      },
      "outputs": [
        {
          "name": "stdout",
          "output_type": "stream",
          "text": [
            "Looking in indexes: https://pypi.org/simple, https://us-python.pkg.dev/colab-wheels/public/simple/\n",
            "Collecting pennylane\n",
            "  Downloading PennyLane-0.28.0-py3-none-any.whl (1.3 MB)\n",
            "\u001b[2K     \u001b[90m━━━━━━━━━━━━━━━━━━━━━━━━━━━━━━━━━━━━━━━━\u001b[0m \u001b[32m1.3/1.3 MB\u001b[0m \u001b[31m17.5 MB/s\u001b[0m eta \u001b[36m0:00:00\u001b[0m\n",
            "\u001b[?25hCollecting autoray>=0.3.1\n",
            "  Downloading autoray-0.5.3-py3-none-any.whl (39 kB)\n",
            "Requirement already satisfied: autograd in /usr/local/lib/python3.8/dist-packages (from pennylane) (1.5)\n",
            "Requirement already satisfied: networkx in /usr/local/lib/python3.8/dist-packages (from pennylane) (3.0)\n",
            "Requirement already satisfied: scipy in /usr/local/lib/python3.8/dist-packages (from pennylane) (1.7.3)\n",
            "Requirement already satisfied: cachetools in /usr/local/lib/python3.8/dist-packages (from pennylane) (5.2.1)\n",
            "Requirement already satisfied: numpy<1.24 in /usr/local/lib/python3.8/dist-packages (from pennylane) (1.21.6)\n",
            "Collecting semantic-version>=2.7\n",
            "  Downloading semantic_version-2.10.0-py2.py3-none-any.whl (15 kB)\n",
            "Requirement already satisfied: requests in /usr/local/lib/python3.8/dist-packages (from pennylane) (2.25.1)\n",
            "Requirement already satisfied: appdirs in /usr/local/lib/python3.8/dist-packages (from pennylane) (1.4.4)\n",
            "Requirement already satisfied: toml in /usr/local/lib/python3.8/dist-packages (from pennylane) (0.10.2)\n",
            "Collecting retworkx\n",
            "  Downloading retworkx-0.12.1-py3-none-any.whl (10 kB)\n",
            "Collecting pennylane-lightning>=0.28\n",
            "  Downloading PennyLane_Lightning-0.28.1-cp38-cp38-manylinux_2_17_x86_64.manylinux2014_x86_64.whl (15.3 MB)\n",
            "\u001b[2K     \u001b[90m━━━━━━━━━━━━━━━━━━━━━━━━━━━━━━━━━━━━━━━━\u001b[0m \u001b[32m15.3/15.3 MB\u001b[0m \u001b[31m60.7 MB/s\u001b[0m eta \u001b[36m0:00:00\u001b[0m\n",
            "\u001b[?25hCollecting ninja\n",
            "  Downloading ninja-1.11.1-py2.py3-none-manylinux_2_12_x86_64.manylinux2010_x86_64.whl (145 kB)\n",
            "\u001b[2K     \u001b[90m━━━━━━━━━━━━━━━━━━━━━━━━━━━━━━━━━━━━━━\u001b[0m \u001b[32m146.0/146.0 KB\u001b[0m \u001b[31m18.7 MB/s\u001b[0m eta \u001b[36m0:00:00\u001b[0m\n",
            "\u001b[?25hRequirement already satisfied: future>=0.15.2 in /usr/local/lib/python3.8/dist-packages (from autograd->pennylane) (0.16.0)\n",
            "Requirement already satisfied: idna<3,>=2.5 in /usr/local/lib/python3.8/dist-packages (from requests->pennylane) (2.10)\n",
            "Requirement already satisfied: urllib3<1.27,>=1.21.1 in /usr/local/lib/python3.8/dist-packages (from requests->pennylane) (1.24.3)\n",
            "Requirement already satisfied: certifi>=2017.4.17 in /usr/local/lib/python3.8/dist-packages (from requests->pennylane) (2022.12.7)\n",
            "Requirement already satisfied: chardet<5,>=3.0.2 in /usr/local/lib/python3.8/dist-packages (from requests->pennylane) (4.0.0)\n",
            "Collecting rustworkx==0.12.1\n",
            "  Downloading rustworkx-0.12.1-cp38-cp38-manylinux_2_17_x86_64.manylinux2014_x86_64.whl (1.9 MB)\n",
            "\u001b[2K     \u001b[90m━━━━━━━━━━━━━━━━━━━━━━━━━━━━━━━━━━━━━━━━\u001b[0m \u001b[32m1.9/1.9 MB\u001b[0m \u001b[31m80.0 MB/s\u001b[0m eta \u001b[36m0:00:00\u001b[0m\n",
            "\u001b[?25hInstalling collected packages: ninja, semantic-version, rustworkx, autoray, retworkx, pennylane-lightning, pennylane\n",
            "Successfully installed autoray-0.5.3 ninja-1.11.1 pennylane-0.28.0 pennylane-lightning-0.28.1 retworkx-0.12.1 rustworkx-0.12.1 semantic-version-2.10.0\n"
          ]
        }
      ],
      "source": [
        "%pip install pennylane\n",
        "import pennylane as qml\n",
        "import numpy as np"
      ]
    },
    {
      "cell_type": "code",
      "execution_count": 3,
      "metadata": {
        "id": "dNpKqq13q8zA"
      },
      "outputs": [],
      "source": [
        "dev = qml.device(\"default.qubit\", wires=1)\n",
        "\n",
        "##################\n",
        "# YOUR CODE HERE #\n",
        "##################\n",
        "\n",
        "# ADJUST THE VALUES OF PHI, THETA, AND OMEGA\n",
        "phi, theta, omega = np.pi/2, np.pi/2, np.pi/2\n",
        "\n",
        "@qml.qnode(dev)\n",
        "def hadamard_with_rz_rx():\n",
        "    qml.RZ(phi, wires=0)\n",
        "    qml.RX(theta, wires=0)\n",
        "    qml.RZ(omega, wires=0)\n",
        "    return qml.state()\n"
      ]
    },
    {
      "cell_type": "markdown",
      "metadata": {
        "id": "mrGW0Izjtiz0"
      },
      "source": [
        "## Codercisw I.7.2 \n",
        "\n",
        "Using the results of the previous exercise, rewrite the following circuit over the gate set `[RZ,RX]`.\n",
        "\n",
        "![](https://codebook.xanadu.ai/pics/circuit_i-7-2.svg)\n",
        "\n"
      ]
    },
    {
      "cell_type": "code",
      "execution_count": 4,
      "metadata": {
        "id": "NmaOwWWsR3ca"
      },
      "outputs": [],
      "source": [
        "dev = qml.device(\"default.qubit\", wires=1)\n",
        "phi, theta, omega = np.pi/2, np.pi/2, np.pi/2\n",
        "@qml.qnode(dev)\n",
        "\n",
        "def convert_to_rz_rx():\n",
        "    ##################\n",
        "    # YOUR CODE HERE #\n",
        "    ##################\n",
        "\n",
        "    # IMPLEMENT THE CIRCUIT IN THE PICTURE USING ONLY RZ AND RX\n",
        "    qml.RZ(phi, wires=0)\n",
        "    qml.RX(theta, wires=0)\n",
        "    qml.RZ(omega, wires=0)\n",
        "\n",
        "    qml.RZ(np.pi/2, wires=0)\n",
        "    qml.RZ(-np.pi/4, wires = 0)\n",
        "    \n",
        "    qml.RZ(np.pi,wires=0)\n",
        "    qml.RX(np.pi, wires=0)\n",
        "    return qml.state()\n"
      ]
    },
    {
      "cell_type": "markdown",
      "metadata": {
        "id": "1SfkNX9VuJhV"
      },
      "source": [
        "It is possible to complete the above exercise using only four gates\n",
        "\n",
        "![](https://codebook.xanadu.ai/pics/circuit_i-7-2_solution_1.svg)\n",
        "\n",
        "\n",
        "and decompose each gate into a product of $RX$ and $RZ$ for $Y$ = $\\iota XZ = \\iota RX(\\pi) RZ(\\pi)$\n",
        "\n",
        "\n",
        "![](https://codebook.xanadu.ai/pics/circuit_i-7-2_solution_2.svg)\n",
        "\n",
        "Next we can simply it\n",
        "\n",
        "![](https://codebook.xanadu.ai/pics/circuit_i-7-2_solution_3.svg)\n",
        "\n",
        "-----\n",
        "\n",
        "Then, since subsequent rotations of the same type are equivalent to performing one rotation with the cumulative angle, we can group together all the $RZ$  in the middle into a single one.\n",
        "\n",
        "![](https://codebook.xanadu.ai/pics/circuit_i-7-2_solution_4.svg)"
      ]
    },
    {
      "cell_type": "markdown",
      "metadata": {
        "id": "nsYieK97u8hz"
      },
      "source": [
        "## Codercise I.7.3\n",
        "\n",
        " The two gates $H$ and $T$ are also a **universal gate set**. By combining just these two gates, we can approximate to arbitrary precision any single-qubit operation (just like we can do with $RZ$ and $RY$)! Write a PennyLane circuit that applies the unitary matrix"
      ]
    },
    {
      "cell_type": "markdown",
      "metadata": {
        "id": "pXEqWzaivPzz"
      },
      "source": [
        "Tip. This process is called quantum circuit synthesis and is part of the broader subject of quantum compilation. As you will no doubt appreciate after working out this small exercise, designing high-quality, automated compilation tools is an active area of research."
      ]
    },
    {
      "cell_type": "code",
      "execution_count": 5,
      "metadata": {
        "id": "l9NxoL0CuCHL"
      },
      "outputs": [],
      "source": [
        "dev = qml.device(\"default.qubit\", wires=1)\n",
        "\n",
        "@qml.qnode(dev)\n",
        "def unitary_with_h_and_t():\n",
        "    ##################\n",
        "    # YOUR CODE HERE #\n",
        "    ##################\n",
        "    \n",
        "    qml.Hadamard(wires=0)\n",
        "    qml.T(wires=0)\n",
        "    qml.Hadamard(wires=0)\n",
        "    qml.T(wires=0)\n",
        "    \n",
        "    qml.T(wires=0)\n",
        "    qml.Hadamard(wires=0)\n",
        "    \n",
        "    \n",
        "    \n",
        "    # APPLY ONLY H AND T TO PRODUCE A CIRCUIT THAT EFFECTS THE GIVEN MATRIX\n",
        "\n",
        "    return qml.state()\n"
      ]
    },
    {
      "cell_type": "markdown",
      "metadata": {
        "id": "zZTJ2FxTvWTP"
      },
      "source": [
        "Solution. Given that the common denominator is $\\sqrt{2}^3$ , we can infer that 3 Hadamards have been applied. Since Hadamard is its own inverse, there has to be some number of $T$ in between them. Now consider the phases that are present in the matrix elements. There is a phase of $\\iota$ , suggesting that there is a pair of $T$ gates $TT = S$ somewhere. Then, the largest combined phase is $\\iota e^{\\iota \\pi/4}$ , so we can figure that there are at most 3 $T$s total. If we know that two of them have to be together to make an $S$ , that means the remaining one is flying solo.\n",
        "\n",
        "\n",
        "-------\n",
        "\n",
        "\n",
        "There are thus just two combinations (expressed below in matrix multiplication order; the circuits will contain the gates in the opposite order):\n",
        "\n",
        "<li> HTHTTH\n",
        "\n",
        "<li> HTTHTH\n",
        "\n",
        "The second one is correct."
      ]
    },
    {
      "cell_type": "code",
      "execution_count": null,
      "metadata": {
        "id": "WRRo_gkqvTLQ"
      },
      "outputs": [],
      "source": []
    }
  ],
  "metadata": {
    "colab": {
      "provenance": []
    },
    "kernelspec": {
      "display_name": "Python 3",
      "name": "python3"
    },
    "language_info": {
      "name": "python"
    }
  },
  "nbformat": 4,
  "nbformat_minor": 0
}
