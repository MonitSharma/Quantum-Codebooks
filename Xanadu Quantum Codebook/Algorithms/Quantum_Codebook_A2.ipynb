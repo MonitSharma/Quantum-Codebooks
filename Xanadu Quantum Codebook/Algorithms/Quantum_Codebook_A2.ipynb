{
  "cells": [
    {
      "cell_type": "markdown",
      "metadata": {
        "id": "Wl7CB_9ykp03"
      },
      "source": [
        "# The Magic 8-ball\n",
        "\n",
        "\n",
        "### Learning Outcomes\n",
        "<li> Explain the role of oracles in quantum algorithms\n",
        "\n",
        "<li> Express the action of an oracle as a unitary matrix applied to computational basis states."
      ]
    },
    {
      "attachments": {},
      "cell_type": "markdown",
      "metadata": {
        "id": "Z4P2ccPZk5LW"
      },
      "source": [
        "Author: [Monit Sharma](https://github.com/MonitSharma)\n",
        "LinkedIn: [Monit Sharma](https://www.linkedin.com/in/monitsharma/)\n",
        "Twitter: [@MonitSharma1729](https://twitter.com/MonitSharma1729)\n",
        "Medium : [MonitSharma](https://medium.com/@_monitsharma)"
      ]
    },
    {
      "cell_type": "markdown",
      "metadata": {
        "id": "kGaeugqRk6O1"
      },
      "source": [
        "Let's think a bit more about how this lock breaking actually works. Call the correct combination for an $n$ bit lock $s \\in \\{0,1\\}^n$. We can model the lock as a function $f$ from $n$ bit strings $x \\in \\{0,1\\}^n$ to a bit $y \\in \\{0,1\\}$ with $f(x) =0$ meaning **the combination doesn't work**. More concisely\n",
        "\n",
        "$$ f(x) = 1 \\ \\ \\ (x = s) $$\n",
        "\n",
        "$$ f(x) = 0 \\ \\ \\ \\text{ otherwise } $$\n",
        "\n",
        "\n",
        "------\n",
        "\n",
        "\n",
        "We'll assume that the $f$  is a black box that the computer (quantum or classical) cannot look inside. However, the computer can ask the if a combination is correct, and get a \"yes\" or \"no\" answer immediately. In computer science, such a black box is called an **oracle**, since its inner workings appear mysterious. You can think of it as a magic 8-ball. You shake it and an answer emerges from the shadowy depths. The act of shaking it and letting the answer emerge is called a **query**.\n",
        "\n",
        "\n",
        "![](https://codebook.xanadu.ai/pics/oracle-lock.svg)\n"
      ]
    },
    {
      "cell_type": "markdown",
      "metadata": {
        "id": "yWLQGDDjmqER"
      },
      "source": [
        "The classical brute-force algorithm for breaking a lock is simple. We simply comb through the $ x \\in  \\{0,1\\}^n$ in whatever order we like, asking the oracle to compute $f(x)$ until we arrive at $f(x) = 1$ . We then declare $x=s$  as the solution.\n",
        "\n",
        "\n",
        "------"
      ]
    },
    {
      "cell_type": "markdown",
      "metadata": {
        "id": "qkWobIwHoJnD"
      },
      "source": [
        "**What about the Quantum Case?**\n",
        " Here, we need to be careful about what the oracle is doing, since only *unitary* operations are allowed. A clever choice is to put the oracle's answer into a phase\n",
        "\n",
        " $$ |x⟩ → (-1)^{f(x)}|x⟩$$\n",
        "\n",
        " We encode this as a unitary operator $U_f$, which acts on basis states.\n",
        "\n",
        "\n",
        " "
      ]
    },
    {
      "cell_type": "markdown",
      "metadata": {
        "id": "Gd2ase5G0bqn"
      },
      "source": [
        "### Codercise A.2.1\n",
        "\n",
        "Write a function which returns the oracle in matrix form for a given secret combination."
      ]
    },
    {
      "cell_type": "code",
      "execution_count": 1,
      "metadata": {
        "colab": {
          "base_uri": "https://localhost:8080/"
        },
        "id": "rIP8dkEMkXMy",
        "outputId": "6b363c8d-f67a-4c3c-dfc1-3abbbcaa9212"
      },
      "outputs": [
        {
          "name": "stdout",
          "output_type": "stream",
          "text": [
            "Looking in indexes: https://pypi.org/simple, https://us-python.pkg.dev/colab-wheels/public/simple/\n",
            "Collecting pennylane\n",
            "  Downloading PennyLane-0.28.0-py3-none-any.whl (1.3 MB)\n",
            "\u001b[2K     \u001b[90m━━━━━━━━━━━━━━━━━━━━━━━━━━━━━━━━━━━━━━━━\u001b[0m \u001b[32m1.3/1.3 MB\u001b[0m \u001b[31m15.7 MB/s\u001b[0m eta \u001b[36m0:00:00\u001b[0m\n",
            "\u001b[?25hRequirement already satisfied: autograd in /usr/local/lib/python3.8/dist-packages (from pennylane) (1.5)\n",
            "Requirement already satisfied: toml in /usr/local/lib/python3.8/dist-packages (from pennylane) (0.10.2)\n",
            "Requirement already satisfied: appdirs in /usr/local/lib/python3.8/dist-packages (from pennylane) (1.4.4)\n",
            "Collecting retworkx\n",
            "  Downloading retworkx-0.12.1-py3-none-any.whl (10 kB)\n",
            "Collecting pennylane-lightning>=0.28\n",
            "  Downloading PennyLane_Lightning-0.28.2-cp38-cp38-manylinux_2_17_x86_64.manylinux2014_x86_64.whl (15.3 MB)\n",
            "\u001b[2K     \u001b[90m━━━━━━━━━━━━━━━━━━━━━━━━━━━━━━━━━━━━━━━━\u001b[0m \u001b[32m15.3/15.3 MB\u001b[0m \u001b[31m53.9 MB/s\u001b[0m eta \u001b[36m0:00:00\u001b[0m\n",
            "\u001b[?25hRequirement already satisfied: networkx in /usr/local/lib/python3.8/dist-packages (from pennylane) (3.0)\n",
            "Collecting semantic-version>=2.7\n",
            "  Downloading semantic_version-2.10.0-py2.py3-none-any.whl (15 kB)\n",
            "Collecting autoray>=0.3.1\n",
            "  Downloading autoray-0.6.0-py3-none-any.whl (46 kB)\n",
            "\u001b[2K     \u001b[90m━━━━━━━━━━━━━━━━━━━━━━━━━━━━━━━━━━━━━━━━\u001b[0m \u001b[32m46.4/46.4 KB\u001b[0m \u001b[31m3.3 MB/s\u001b[0m eta \u001b[36m0:00:00\u001b[0m\n",
            "\u001b[?25hRequirement already satisfied: cachetools in /usr/local/lib/python3.8/dist-packages (from pennylane) (5.3.0)\n",
            "Requirement already satisfied: requests in /usr/local/lib/python3.8/dist-packages (from pennylane) (2.25.1)\n",
            "Requirement already satisfied: scipy in /usr/local/lib/python3.8/dist-packages (from pennylane) (1.7.3)\n",
            "Requirement already satisfied: numpy<1.24 in /usr/local/lib/python3.8/dist-packages (from pennylane) (1.21.6)\n",
            "Collecting ninja\n",
            "  Downloading ninja-1.11.1-py2.py3-none-manylinux_2_12_x86_64.manylinux2010_x86_64.whl (145 kB)\n",
            "\u001b[2K     \u001b[90m━━━━━━━━━━━━━━━━━━━━━━━━━━━━━━━━━━━━━━━\u001b[0m \u001b[32m146.0/146.0 KB\u001b[0m \u001b[31m3.7 MB/s\u001b[0m eta \u001b[36m0:00:00\u001b[0m\n",
            "\u001b[?25hRequirement already satisfied: future>=0.15.2 in /usr/local/lib/python3.8/dist-packages (from autograd->pennylane) (0.16.0)\n",
            "Requirement already satisfied: urllib3<1.27,>=1.21.1 in /usr/local/lib/python3.8/dist-packages (from requests->pennylane) (1.24.3)\n",
            "Requirement already satisfied: chardet<5,>=3.0.2 in /usr/local/lib/python3.8/dist-packages (from requests->pennylane) (4.0.0)\n",
            "Requirement already satisfied: certifi>=2017.4.17 in /usr/local/lib/python3.8/dist-packages (from requests->pennylane) (2022.12.7)\n",
            "Requirement already satisfied: idna<3,>=2.5 in /usr/local/lib/python3.8/dist-packages (from requests->pennylane) (2.10)\n",
            "Collecting rustworkx==0.12.1\n",
            "  Downloading rustworkx-0.12.1-cp38-cp38-manylinux_2_17_x86_64.manylinux2014_x86_64.whl (1.9 MB)\n",
            "\u001b[2K     \u001b[90m━━━━━━━━━━━━━━━━━━━━━━━━━━━━━━━━━━━━━━━━\u001b[0m \u001b[32m1.9/1.9 MB\u001b[0m \u001b[31m55.9 MB/s\u001b[0m eta \u001b[36m0:00:00\u001b[0m\n",
            "\u001b[?25hInstalling collected packages: ninja, semantic-version, rustworkx, autoray, retworkx, pennylane-lightning, pennylane\n",
            "Successfully installed autoray-0.6.0 ninja-1.11.1 pennylane-0.28.0 pennylane-lightning-0.28.2 retworkx-0.12.1 rustworkx-0.12.1 semantic-version-2.10.0\n"
          ]
        }
      ],
      "source": [
        "%pip install pennylane\n",
        "import pennylane as qml\n",
        "import numpy as np"
      ]
    },
    {
      "cell_type": "code",
      "execution_count": 2,
      "metadata": {
        "id": "1d9US5qK0mys"
      },
      "outputs": [],
      "source": [
        "def oracle_matrix(combo):\n",
        "    \"\"\"Return the oracle matrix for a secret combination.\n",
        "    \n",
        "    Args:\n",
        "        combo (list[int]): A list of bits representing a secret combination.\n",
        "         \n",
        "    Returns: \n",
        "        array[float]: The matrix representation of the oracle.\n",
        "    \"\"\"\n",
        "    index = np.ravel_multi_index(combo, [2]*len(combo)) # Index of solution\n",
        "    my_array = np.identity(2**len(combo)) # Create the identity matrix\n",
        "\n",
        "    ##################\n",
        "    # YOUR CODE HERE #\n",
        "    ##################\n",
        "    test = np.zeros(shape=(2**len(combo)))\n",
        "    test[index] = 1\n",
        "    my_array = my_array- 2 *np.outer(test,test)\n",
        "    # MODIFY DIAGONAL ENTRY CORRESPONDING TO SOLUTION INDEX\n",
        "    \n",
        "\n",
        "    return my_array\n"
      ]
    },
    {
      "cell_type": "code",
      "execution_count": 4,
      "metadata": {
        "colab": {
          "base_uri": "https://localhost:8080/"
        },
        "id": "fGZgKads0oqK",
        "outputId": "f7b61ee8-6c92-4f47-970d-565722e95c6b"
      },
      "outputs": [
        {
          "data": {
            "text/plain": [
              "array([[ 1.,  0.,  0.,  0.,  0.,  0.,  0.,  0.],\n",
              "       [ 0.,  1.,  0.,  0.,  0.,  0.,  0.,  0.],\n",
              "       [ 0.,  0.,  1.,  0.,  0.,  0.,  0.,  0.],\n",
              "       [ 0.,  0.,  0.,  1.,  0.,  0.,  0.,  0.],\n",
              "       [ 0.,  0.,  0.,  0., -1.,  0.,  0.,  0.],\n",
              "       [ 0.,  0.,  0.,  0.,  0.,  1.,  0.,  0.],\n",
              "       [ 0.,  0.,  0.,  0.,  0.,  0.,  1.,  0.],\n",
              "       [ 0.,  0.,  0.,  0.,  0.,  0.,  0.,  1.]])"
            ]
          },
          "execution_count": 4,
          "metadata": {},
          "output_type": "execute_result"
        }
      ],
      "source": [
        "combo =[1 ,0 ,0]\n",
        "oracle_matrix(combo)"
      ]
    },
    {
      "cell_type": "markdown",
      "metadata": {
        "id": "qQY4Nhd30zg_"
      },
      "source": [
        "Let's add the oracle to our circuit and see if we fare better than just creating the uniform superposition. Here is the circuit we want to implement:\n",
        "\n",
        "![](https://codebook.xanadu.ai/pics/uniform-oracle.svg)"
      ]
    },
    {
      "cell_type": "markdown",
      "metadata": {
        "id": "CY6jsKms04Dh"
      },
      "source": [
        "### Codercise A.2.2\n",
        "\n",
        "Write a circuit which applies the oracle to the uniform superposition. The oracle matrix function from the previous exercise is available for you as `oracle_matrix`. The supplied code will plot the resulting probability distribution. Has applying the oracle helped us break the lock?"
      ]
    },
    {
      "cell_type": "code",
      "execution_count": 5,
      "metadata": {
        "id": "GC4TjBuQ0uKd"
      },
      "outputs": [],
      "source": [
        "n_bits = 4\n",
        "dev = qml.device(\"default.qubit\", wires=n_bits)\n",
        "\n",
        "@qml.qnode(dev)\n",
        "def oracle_circuit(combo):\n",
        "    \"\"\"Create a uniform superposition, apply the oracle, and return probabilities.\n",
        "    \n",
        "    Args:\n",
        "        combo (list[int]): A list of bits representing a secret combination.\n",
        "\n",
        "    Returns:\n",
        "        list[float]: The output probabilities.\n",
        "    \"\"\"\n",
        "    for _ in range(n_bits):\n",
        "        qml.Hadamard(wires=_)\n",
        "        \n",
        "    qml.QubitUnitary(oracle_matrix(combo), wires=[i for i in range(n_bits)])\n",
        "\n",
        "    ##################\n",
        "    # YOUR CODE HERE #\n",
        "    ##################\n",
        "\n",
        "    return qml.probs(wires=range(n_bits))\n"
      ]
    },
    {
      "cell_type": "markdown",
      "metadata": {
        "id": "HL1iBM9A1DEd"
      },
      "source": [
        "![pll.png](data:image/png;base64,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)"
      ]
    }
  ],
  "metadata": {
    "colab": {
      "provenance": []
    },
    "kernelspec": {
      "display_name": "Python 3",
      "name": "python3"
    },
    "language_info": {
      "name": "python"
    }
  },
  "nbformat": 4,
  "nbformat_minor": 0
}
