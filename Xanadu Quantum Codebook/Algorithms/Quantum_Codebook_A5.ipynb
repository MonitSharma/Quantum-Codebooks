{
  "cells": [
    {
      "cell_type": "markdown",
      "metadata": {
        "id": "H_eTaYitw0HQ"
      },
      "source": [
        "# Hadamard Transform\n",
        "\n",
        "Learning outcomes\n",
        "\n",
        "1. Define the Hadamard transform.\n",
        "2. Understand the effect of applying an oracle between Hadamard transforms.\n"
      ]
    },
    {
      "attachments": {},
      "cell_type": "markdown",
      "metadata": {},
      "source": [
        "Author: [Monit Sharma](https://github.com/MonitSharma)\n",
        "LinkedIn: [Monit Sharma](https://www.linkedin.com/in/monitsharma/)\n",
        "Twitter: [@MonitSharma1729](https://twitter.com/MonitSharma1729)\n",
        "Medium : [MonitSharma](https://medium.com/@_monitsharma)"
      ]
    },
    {
      "cell_type": "markdown",
      "metadata": {
        "id": "7abeLlvmw-bG"
      },
      "source": [
        "By testing in pairs, we managed to halve the run time of our lock breaking algorithm. We might hope that testing more states at the same time will reduce the number of steps required even further. Testing in pairs involved applying a Hadamard, the oracle, and then another Hadamard to the last qubit:\n",
        "\n",
        "![](https://codebook.xanadu.ai/pics/pair-test-circuit.svg)\n",
        "\n",
        "We can simply generalize this strategy by doing the same thing to every qubit! Here is the circuit diagram:\n",
        "\n",
        "![](https://codebook.xanadu.ai/pics/hadamard.svg)\n",
        "\n",
        "The layer of Hadamards is called the Hadamard transform. Let's see what this circuit does for the case of a single solution.\n",
        "\n"
      ]
    },
    {
      "cell_type": "markdown",
      "metadata": {
        "id": "Vtj161xtxLxM"
      },
      "source": [
        "### Codercise A.5.1\n",
        " Implement the circuit above, consisting of a Hadamard transform, an oracle, and a Hadamard transform. The oracle is provided as oracle_matrix(combo), which you can invoke using the QubitUnitary() function.\n",
        "\n",
        "*Tip. To implement the Hadamard transform, apply PennyLane's broadcast() function instead of a for loop. This applies a unitary multiple times according to a given pattern, and for a specified set of wires.*"
      ]
    },
    {
      "cell_type": "code",
      "execution_count": 3,
      "metadata": {
        "id": "IRHUz5gVwnKo"
      },
      "outputs": [],
      "source": [
        "import pennylane as qml"
      ]
    },
    {
      "cell_type": "code",
      "execution_count": 4,
      "metadata": {
        "id": "1jzDyTuyxVOt"
      },
      "outputs": [],
      "source": [
        "n_bits = 4\n",
        "dev = qml.device(\"default.qubit\", wires=n_bits)\n",
        "\n",
        "@qml.qnode(dev)\n",
        "def hoh_circuit(combo):\n",
        "    \"\"\"A circuit which applies Hadamard-oracle-Hadamard and returns probabilities.\n",
        "    \n",
        "    Args:\n",
        "        combo (list[int]): A list of bits representing a secret combination.\n",
        "\n",
        "    Returns:\n",
        "        list[float]: Measurement outcome probabilities.\n",
        "    \"\"\"\n",
        "\n",
        "    ##################\n",
        "    # YOUR CODE HERE #\n",
        "    ##################\n",
        "    for i in range(n_bits):\n",
        "        qml.Hadamard(wires=i)\n",
        "    \n",
        "    qml.QubitUnitary(oracle_matrix(combo), wires = [i for i in range(n_bits)])\n",
        "    for i in range(n_bits):\n",
        "        qml.Hadamard(wires=i)\n",
        "    return qml.probs(wires=range(n_bits))\n"
      ]
    },
    {
      "cell_type": "markdown",
      "metadata": {
        "id": "c3vdtybTxdFf"
      },
      "source": [
        "![res.png](data:image/png;base64,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)"
      ]
    },
    {
      "cell_type": "markdown",
      "metadata": {
        "id": "8S_kNvRdxiEv"
      },
      "source": [
        "We finally have something noticeably different from the uniform distribution. But curiously, whatever the secret combination, the probability distribution is the same, with a big peak at 0 and a small probability of observing any other state. Since the output of the circuit doesn't change, we cannot use it to learn the secret combination! But perhaps, like the pair-testing algorithm applied to a lock with multiple solutions, we can learn something else."
      ]
    }
  ],
  "metadata": {
    "colab": {
      "provenance": []
    },
    "kernelspec": {
      "display_name": "Python 3",
      "name": "python3"
    },
    "language_info": {
      "name": "python"
    }
  },
  "nbformat": 4,
  "nbformat_minor": 0
}
