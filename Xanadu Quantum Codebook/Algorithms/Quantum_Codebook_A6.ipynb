{
  "cells": [
    {
      "cell_type": "markdown",
      "metadata": {
        "id": "Cjnvhml-ywFu"
      },
      "source": [
        "# A6 Deutsch Josza\n",
        "\n",
        "Learning objectives\n",
        "\n",
        "1. Implement the Deutsch-Jozsa algorithm.\n",
        "2. Compare the algorithmic performance of Deutsch-Jozsa to deterministic and classically random strategies."
      ]
    },
    {
      "attachments": {},
      "cell_type": "markdown",
      "metadata": {},
      "source": [
        "Author: [Monit Sharma](https://github.com/MonitSharma)\n",
        "LinkedIn: [Monit Sharma](https://www.linkedin.com/in/monitsharma/)\n",
        "Twitter: [@MonitSharma1729](https://twitter.com/MonitSharma1729)\n",
        "Medium : [MonitSharma](https://medium.com/@_monitsharma)"
      ]
    },
    {
      "cell_type": "markdown",
      "metadata": {
        "id": "exFsnrW_y3-Z"
      },
      "source": [
        "The result of applying the Hadamard-oracle-Hadamard circuit for a single solution is a probability distribution peaked at 0, whatever the secret combination. Although we can't use it to break the lock, perhaps we can determine some property of the solution set when there is more than one, just like the pair-testing circuit.\n",
        "\n",
        "To see whether this is possible, let's implement the same Hadamard-oracle-Hadamard circuit, but now for multiple solutions:"
      ]
    },
    {
      "cell_type": "markdown",
      "metadata": {
        "id": "2VNWZyt2y9Im"
      },
      "source": [
        "![](https://codebook.xanadu.ai/pics/hadamard.svg)"
      ]
    },
    {
      "cell_type": "markdown",
      "metadata": {
        "id": "gWs8SfE6zCPR"
      },
      "source": [
        "Since 0 seemed to be the interesting state, we can plot how the probability of observing 0 changes with the number of solutions."
      ]
    },
    {
      "cell_type": "markdown",
      "metadata": {
        "id": "YeMZ98upzICq"
      },
      "source": [
        "### Codercise A.6.1. \n",
        "Implement the circuit above for a set of solutions combos, and return probabilities. As before, you are given multisol_oracle_matrix(combos), which returns the associated oracle in matrix form.\n",
        "\n",
        "Hitting submit will plot the probability of observing  as a function of the size of the solution set; as for a single solution, this does not depend on the secret combinations themselves. What pattern do you observe?"
      ]
    },
    {
      "cell_type": "code",
      "execution_count": null,
      "metadata": {
        "id": "M5ug98Ngy81R"
      },
      "outputs": [],
      "source": [
        "n_bits = 4\n",
        "dev = qml.device(\"default.qubit\", wires=n_bits)\n",
        "\n",
        "@qml.qnode(dev)\n",
        "def multisol_hoh_circuit(combos):\n",
        "    \"\"\"A circuit which applies Hadamard, multi-solution oracle, then Hadamard.\n",
        "    \n",
        "    Args:\n",
        "        combos (list[list[int]]): A list of secret bit strings.\n",
        "\n",
        "    Returns: \n",
        "        array[float]: Probabilities for observing different outcomes.\n",
        "    \"\"\"\n",
        "\n",
        "    ##################\n",
        "    # YOUR CODE HERE #\n",
        "    ##################\n",
        "    for i in range(n_bits):\n",
        "        qml.Hadamard(wires=i)\n",
        "    \n",
        "    qml.QubitUnitary(multisol_oracle_matrix(combos), wires = [i for i in range(n_bits)])\n",
        "    for i in range(n_bits):\n",
        "        qml.Hadamard(wires=i)\n",
        "\n",
        "    return qml.probs(wires=range(n_bits))\n"
      ]
    },
    {
      "cell_type": "markdown",
      "metadata": {
        "id": "znjAtHa2zO8A"
      },
      "source": [
        "![download.png](data:image/png;base64,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)"
      ]
    },
    {
      "cell_type": "markdown",
      "metadata": {
        "id": "vB2ezN4kzWSo"
      },
      "source": [
        "#### Codercise A.6.2. \n",
        "Implement the Deutsch-Jozsa algorithm. Given a constant or balanced function based on the `promise_var` flag, implement the circuit from above to determine which it is. The function `multisol_hoh_circuit` from the previous exercise is available for you to use."
      ]
    },
    {
      "cell_type": "code",
      "execution_count": null,
      "metadata": {
        "id": "Lyprz97Vy8FW"
      },
      "outputs": [],
      "source": [
        "def deutsch_jozsa(promise_var):\n",
        "    \"\"\"Implement the Deutsch-Jozsa algorithm and guess the promise variable.\n",
        "    \n",
        "    Args:\n",
        "        promise_var (int): Indicates whether the function is balanced (0) or constant (1).\n",
        "        \n",
        "    Returns: \n",
        "        int: A guess at the promise variable.\n",
        "    \"\"\"\n",
        "    if promise_var == 0:\n",
        "        how_many = 2**(n_bits - 1)\n",
        "    else:\n",
        "        how_many = np.random.choice([0, 2**n_bits]) # Choose all or nothing randomly\n",
        "    combos = multisol_combo(n_bits, how_many) # Generate random combinations\n",
        "\n",
        "    ##################\n",
        "    # YOUR CODE HERE #\n",
        "    ##################\n",
        "    probs = multisol_hoh_circuit(combos)\n",
        "    print(probs)\n",
        "    if np.isclose(probs[0],1):\n",
        "        return 1\n",
        "    else:\n",
        "        return 0\n",
        "\n",
        "    pass\n"
      ]
    }
  ],
  "metadata": {
    "colab": {
      "provenance": []
    },
    "kernelspec": {
      "display_name": "Python 3",
      "name": "python3"
    },
    "language_info": {
      "name": "python"
    }
  },
  "nbformat": 4,
  "nbformat_minor": 0
}
