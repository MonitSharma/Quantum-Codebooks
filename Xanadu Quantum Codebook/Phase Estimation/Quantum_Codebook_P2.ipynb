{
  "cells": [
    {
      "cell_type": "markdown",
      "metadata": {
        "id": "1TrIJB9AJ8GC"
      },
      "source": [
        "# P2 It's not just a Phase\n",
        "We will now extend the idea of finding the eigenvalues using the phase kickback trick to the quantum phase estimation (QPE) subroutine by increasing the number of control wires (or estimation wires), and by applying higher powers of the unitary on the target wires.\n"
      ]
    },
    {
      "attachments": {},
      "cell_type": "markdown",
      "metadata": {},
      "source": [
        "Author: [Monit Sharma](https://github.com/MonitSharma)\n",
        "LinkedIn: [Monit Sharma](https://www.linkedin.com/in/monitsharma/)\n",
        "Twitter: [@MonitSharma1729](https://twitter.com/MonitSharma1729)\n",
        "Medium : [MonitSharma](https://medium.com/@_monitsharma)"
      ]
    },
    {
      "cell_type": "markdown",
      "metadata": {
        "id": "JJl-msgwKDes"
      },
      "source": [
        "![](https://codebook.xanadu.ai/pics/p2-part-circuit.png)"
      ]
    },
    {
      "cell_type": "markdown",
      "metadata": {
        "id": "y5yIPAw8KICn"
      },
      "source": [
        "### Codercise P.2.1. \n",
        "Given a unitary matrix $U$, compute the value of a higher power,$U^{2^k}$ . You can use the `matrix_power` function from NumPy's linear algebra library."
      ]
    },
    {
      "cell_type": "code",
      "execution_count": null,
      "metadata": {
        "id": "JqbjSkFoJbSE"
      },
      "outputs": [],
      "source": [
        "def U_power_2k(unitary, k):\n",
        "    \"\"\" Computes U at a power of 2k (U^2^k)\n",
        "    \n",
        "    Args: \n",
        "        unitary (array[complex]): A unitary matrix\n",
        "    \n",
        "    Returns: \n",
        "        array[complex]: the unitary raised to the power of 2^k\n",
        "    \"\"\"\n",
        "    ##################\n",
        "    # YOUR CODE HERE #\n",
        "    ##################  \n",
        "    return np.linalg.matrix_power(unitary,2**k)\n",
        "            \n",
        "\n",
        "# Try out a higher power of U\n",
        "U = qml.T.compute_matrix()\n",
        "print(U)\n",
        "\n",
        "U_power_2k(U, 2)\n",
        "    \n",
        "   \n"
      ]
    },
    {
      "cell_type": "markdown",
      "metadata": {
        "id": "AQH8YGfVKUzW"
      },
      "source": [
        "Since we already have subroutines that implement the Hadamard transform and the QFT, we will implement the middle part of the circuit (the oracle part) that performs the controlled unitary operations on all the estimation wires. This is a helper function that we will use for the end-to-end implementation of the QPE."
      ]
    },
    {
      "cell_type": "markdown",
      "metadata": {
        "id": "crmsa273KW6O"
      },
      "source": [
        "### Codercise P.2.2. \n",
        "Implement a subroutine that applies the sequence of $U^{2^k}$ unitaries on the target wires controlled on the estimation wires. The function `U_power_2k` from the previous exercise is available for you to use."
      ]
    },
    {
      "cell_type": "code",
      "execution_count": null,
      "metadata": {
        "id": "iD2B_z_MKVjQ"
      },
      "outputs": [],
      "source": [
        "estimation_wires = [0, 1, 2]\n",
        "target_wires = [3]\n",
        "\n",
        "def apply_controlled_powers_of_U(unitary):\n",
        "    \"\"\"A quantum function that applies the sequence of powers of U^2^k to\n",
        "    the estimation wires.\n",
        "    \n",
        "    Args: \n",
        "        unitary (array [complex]): A unitary matrix\n",
        "    \"\"\"\n",
        "\n",
        "    ##################\n",
        "    # YOUR CODE HERE #\n",
        "    ##################  \n",
        "    us = [U_power_2k(unitary, i) for i in reversed(range(len(estimation_wires)))]\n",
        "    for i in range(len(estimation_wires)):\n",
        "\t    qml.ControlledQubitUnitary(us[i], control_wires=estimation_wires[i],wires=target_wires)\n"
      ]
    },
    {
      "cell_type": "markdown",
      "metadata": {
        "id": "NqnBGdWIKgF6"
      },
      "source": [
        "### Codercise P.2.3. \n",
        "Implement the QPE subroutine given a unitary, a set of estimation wires, and a set of target wires. The functions defined above (U_power_2k and apply_controlled_powers_of_U ) are available to use. Additionally, the function prepare_eigenvector which prepares an eigenvector of the unitary operator is also given to you below. To implement the QFT, you can make use of PennyLane's template for QFT and qml.adjoint."
      ]
    },
    {
      "cell_type": "code",
      "execution_count": null,
      "metadata": {
        "id": "7lgGASdNKh7G"
      },
      "outputs": [],
      "source": [
        "dev = qml.device(\"default.qubit\", wires=4)\n",
        "\n",
        "estimation_wires = [0, 1, 2]\n",
        "target_wires = [3]\n",
        "\n",
        "def prepare_eigenvector():\n",
        "    qml.PauliX(wires=target_wires)\n",
        "\n",
        "@qml.qnode(dev)\n",
        "def qpe(unitary):\n",
        "    \"\"\" Estimate the phase for a given unitary.\n",
        "    \n",
        "    Args:\n",
        "        unitary (array[complex]): A unitary matrix.\n",
        "        \n",
        "    Returns:\n",
        "        array[float]: Measurement outcome probabilities on the estimation wires.\n",
        "    \"\"\"\n",
        "    ##################\n",
        "    # YOUR CODE HERE #\n",
        "    ################## \n",
        "    prepare_eigenvector()\n",
        "    for i in estimation_wires:\n",
        "\t    qml.Hadamard(wires=i)\n",
        "    apply_controlled_powers_of_U(unitary)\n",
        "    qml.adjoint(qml.QFT)(wires=estimation_wires)\n",
        "\n",
        "    return qml.probs(wires=estimation_wires)\n",
        "    \n",
        "\n",
        "U = qml.T.compute_matrix()\n",
        "print(qpe(U))\n"
      ]
    },
    {
      "cell_type": "markdown",
      "metadata": {
        "id": "HZAKUoLAKmkt"
      },
      "source": [
        "### Codercise P.2.4. \n",
        "Given the probabilities on the estimation wires, estimate the phase associated with the  gate, when the $T$ eigenvector is prepared in the state $|1\\rangle$."
      ]
    },
    {
      "cell_type": "code",
      "execution_count": null,
      "metadata": {
        "id": "XAnKpBDJKraz"
      },
      "outputs": [],
      "source": [
        "estimation_wires = [0, 1, 2]\n",
        "target_wires = [3]\n",
        "\n",
        "def estimate_phase(probs):\n",
        "    \"\"\"Estimate the value of a phase given measurement outcome probabilities\n",
        "    of the QPE routine.\n",
        "    \n",
        "    Args: \n",
        "        probs (array[float]): Probabilities on the estimation wires.\n",
        "    \n",
        "    Returns:\n",
        "        float: the estimated phase   \n",
        "    \"\"\"\n",
        "    ##################\n",
        "    # YOUR CODE HERE #\n",
        "    ################## \n",
        "    increase = 2**-3\n",
        "    array1 = []\n",
        "\n",
        "    for _ in range(8):\n",
        "\t    array1.append(_*increase)\n",
        "    return float(sum(np.array(array1) * probs))\n",
        "\n",
        "U = qml.T.compute_matrix()\n",
        "\n",
        "probs = qpe(U)\n",
        "\n",
        "\n",
        "estimated_phase = estimate_phase(probs)\n",
        "print(estimated_phase)\n"
      ]
    },
    {
      "cell_type": "markdown",
      "metadata": {
        "id": "D7dmJlHUKuZP"
      },
      "source": [
        "Congratulations! You have successfully implemented the QPE subroutine. We will now use PennyLane's implementation of the QPE subroutine to calculate the phase."
      ]
    },
    {
      "cell_type": "markdown",
      "metadata": {
        "id": "QM6xu4i5KxFb"
      },
      "source": [
        "### Codercise P.2.5. \n",
        "Use PennyLane's template for QPE to calculate the phase of the  gate."
      ]
    },
    {
      "cell_type": "code",
      "execution_count": null,
      "metadata": {
        "id": "_YkNEj_wKu_Y"
      },
      "outputs": [],
      "source": [
        "dev = qml.device(\"default.qubit\", wires=4)\n",
        "\n",
        "estimation_wires = [0, 1, 2]\n",
        "target_wires = [3]\n",
        "\n",
        "def prepare_eigenvector():\n",
        "    qml.PauliX(wires=target_wires)\n",
        "\n",
        "@qml.qnode(dev)\n",
        "def qpe(unitary):\n",
        "    \"\"\"Estimate the phase for a given unitary.\n",
        "    \n",
        "    Args:\n",
        "        unitary (array[complex]): A unitary matrix.\n",
        "        \n",
        "    Returns:\n",
        "        array[float]: Probabilities on the estimation wires.\n",
        "    \"\"\"\n",
        "    \n",
        "    prepare_eigenvector()\n",
        "    \n",
        "    ##################\n",
        "    # YOUR CODE HERE #\n",
        "    ################## \n",
        "    #prepare_eigenvector()\n",
        "    qml.QuantumPhaseEstimation(unitary,target_wires, estimation_wires)\n",
        "    return qml.probs(wires=estimation_wires)\n",
        "\n",
        "\n",
        "U = qml.T.compute_matrix()\n",
        "probs = qpe(U)\n",
        "print(estimate_phase(probs))\n"
      ]
    }
  ],
  "metadata": {
    "colab": {
      "provenance": []
    },
    "kernelspec": {
      "display_name": "Python 3",
      "name": "python3"
    },
    "language_info": {
      "name": "python"
    }
  },
  "nbformat": 4,
  "nbformat_minor": 0
}
