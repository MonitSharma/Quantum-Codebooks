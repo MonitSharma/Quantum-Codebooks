{
  "cells": [
    {
      "cell_type": "markdown",
      "metadata": {
        "id": "wHCwhnW2Sbli"
      },
      "source": [
        "# P4 A mixed bag\n",
        "\n",
        "In earlier nodes, we found the phase associated with the eigenvectors of the  gate. In this node, we will analyze the QPE algorithm when the target wires are prepared in an arbitrary state instead of one of the eigenvectors."
      ]
    },
    {
      "attachments": {},
      "cell_type": "markdown",
      "metadata": {},
      "source": [
        "Author: [Monit Sharma](https://github.com/MonitSharma)\n",
        "LinkedIn: [Monit Sharma](https://www.linkedin.com/in/monitsharma/)\n",
        "Twitter: [@MonitSharma1729](https://twitter.com/MonitSharma1729)\n",
        "Medium : [MonitSharma](https://medium.com/@_monitsharma)"
      ]
    },
    {
      "cell_type": "markdown",
      "metadata": {
        "id": "XQTWlYg7Sh6w"
      },
      "source": [
        "### Codercise P.4.1. \n",
        "The objective of this codercise is to observe the outputs of the QPE subroutine when arbitrary states are prepared on the target wire. Prepare the target wires in a superposition of the eigenvectors of the -gate and run the quantum phase estimation algorithm on  estimation wires to observe the results. For this the prepare_eigenvector_superposition function has been given to you. You can test it out by uncommenting the examples given in the code or prepare your own state on the target wires by modifying alpha and beta arguments to observe changes on the measurement probabilities of the estimation wires. Change the value of the variable done to True once you have finished testing out the code"
      ]
    },
    {
      "cell_type": "code",
      "execution_count": null,
      "metadata": {
        "id": "O_jxDvn9Rsm4"
      },
      "outputs": [],
      "source": [
        "dev = qml.device(\"default.qubit\", wires=5)\n",
        "estimation_wires = [0, 1, 2]\n",
        "target_wires = [3]\n",
        "\n",
        "def prepare_eigenvector_superposition(alpha, beta):\n",
        "    # Normalize alpha and beta\n",
        "    norm_squared = np.abs(alpha) ** 2 + np.abs(beta) ** 2\n",
        "    norm = np.sqrt(norm_squared)\n",
        "    state = np.array([alpha/norm, beta/norm])\n",
        "    \n",
        "    # Prepare the state\n",
        "    qml.MottonenStatePreparation(state, wires=target_wires)\n",
        "\n",
        "\n",
        "@qml.qnode(dev)\n",
        "def qpe(unitary):\n",
        "    \"\"\"Estimate the phase for a given unitary.\n",
        "    \n",
        "    Args:\n",
        "        unitary (array[complex]): A unitary matrix.\n",
        "\n",
        "    Returns:\n",
        "        array[float]: Probabilities on the estimation wires.\n",
        "    \"\"\"\n",
        "    \n",
        "    # MODIFY ALPHA, BETA TO PREPARE EIGENVECTOR    \n",
        "    #prepare_eigenvector_superposition(0, 1)\n",
        "    # prepare_eigenvector_superposition(1, 0)\n",
        "    prepare_eigenvector_superposition(1/np.sqrt(2), 1/np.sqrt(2))\n",
        "    # OR UNCOMMENT LINES ABOVE TO PREPARE THE STATE OF YOUR CHOICE\n",
        "\n",
        "    qml.QuantumPhaseEstimation(\n",
        "        unitary,\n",
        "        target_wires=target_wires,\n",
        "        estimation_wires=estimation_wires,\n",
        "    )\n",
        "    return qml.probs(wires=estimation_wires)\n",
        "\n",
        "U = qml.T.compute_matrix()\n",
        "\n",
        "probs = qpe(U)\n",
        "\n",
        "# MODIFY TO TRUE WHEN YOU ARE DONE TESTING\n",
        "done = True\n",
        "\n"
      ]
    },
    {
      "cell_type": "markdown",
      "metadata": {
        "id": "nCp6G_BOTEaQ"
      },
      "source": [
        "![fin1.png](data:image/png;base64,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)"
      ]
    },
    {
      "cell_type": "markdown",
      "metadata": {
        "id": "B18IrLaSSo1p"
      },
      "source": [
        "### Codercise P.4.2. \n",
        "In this exercise, we will look at a two-qubit unitary, the controlled- gate. Modify the values of alpha, beta, gamma, and delta to observe the changes in the measurement probabilities on the estimation wires. When you are done testing out different values, change the value of the variable probability_100 to return the probability of observing the state  on the estimation wires"
      ]
    },
    {
      "cell_type": "code",
      "execution_count": null,
      "metadata": {
        "id": "QXR3bku8SqDk"
      },
      "outputs": [],
      "source": [
        "dev = qml.device(\"default.qubit\", wires=5)\n",
        "estimation_wires = [0, 1, 2]\n",
        "target_wires = [3, 4]\n",
        "\n",
        "def prepare_eigenvector_superposition(alpha, beta, gamma, delta):\n",
        "    # Normalize alpha, beta, gamma, and delta\n",
        "    norm_squared = np.abs(alpha) ** 2 + np.abs(beta) ** 2 + np.abs(gamma) ** 2 + np.abs(delta) ** 2 \n",
        "    norm = np.sqrt(norm_squared)\n",
        "    state = np.array([alpha/norm, beta/norm, gamma/norm, delta/norm])\n",
        "    \n",
        "    #Prepare the state\n",
        "    qml.MottonenStatePreparation(state, wires=target_wires)\n",
        "\n",
        "\n",
        "@qml.qnode(dev)\n",
        "def qpe(unitary):\n",
        "    \"\"\"Estimate the phase for a given unitary.\n",
        "    \n",
        "    Args:\n",
        "        unitary (array[complex]): A unitary matrix.\n",
        "\n",
        "    Returns:\n",
        "        array[float]: Probabilities on the estimation wires.\n",
        "    \"\"\"\n",
        "    \n",
        "    # PREPARE EIGENVECTOR\n",
        "    prepare_eigenvector_superposition(1/4, 1/4, 1/4, 1/4)\n",
        "    # prepare_eigenvector_superposition(1, 0, 0, 0)\n",
        "    \n",
        "    \n",
        "    qml.QuantumPhaseEstimation(\n",
        "        unitary,\n",
        "        target_wires=target_wires,\n",
        "        estimation_wires=estimation_wires,\n",
        "    )\n",
        "    return qml.probs(wires=estimation_wires)\n",
        "\n",
        "\n",
        "U = qml.CZ.compute_matrix()\n",
        "\n",
        "probs = qpe(U)\n",
        "\n",
        "# MODIFY TO PROBABILITY OF OBSERVING 100 WHEN ESTIMATION \n",
        "# WIRES ARE IN EQUAL SUPERPOSITION\n",
        "probability_100 = 0.25\n"
      ]
    },
    {
      "cell_type": "markdown",
      "metadata": {
        "id": "x69Wkx0JS9rJ"
      },
      "source": [
        "![fin2.png](data:image/png;base64,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)"
      ]
    },
    {
      "cell_type": "markdown",
      "metadata": {
        "id": "GrlV9JYYSwGe"
      },
      "source": [
        "### Codercise P.4.3. \n",
        "In this exercise, we will look into unitaries that have more than two eigenvalues and whose eigenphases cannot be represented exactly with  bits. As before, you can change the values of alpha, beta, gamma, and delta to observe the changes in the measurement probabilities on the estimation wires. We will also observe the effects on different unitaries such as the CRZ, CRX, and CRot rotation gates. You can start by preparing one of the eigenstates for a given unitary, followed by preparing an arbitrary state on the target wires to observe changes to the probability distribution."
      ]
    },
    {
      "cell_type": "code",
      "execution_count": null,
      "metadata": {
        "id": "7c2VjrpUSxq4"
      },
      "outputs": [],
      "source": [
        "dev = qml.device(\"default.qubit\", wires=6)\n",
        "estimation_wires = [0, 1, 2, 3]\n",
        "target_wires = [4, 5]\n",
        "\n",
        "def prepare_eigenvector_superposition(alpha, beta, gamma, delta):\n",
        "    # Normalize alpha, beta, gamma, and delta\n",
        "    norm_squared = np.abs(alpha) ** 2 + np.abs(beta) ** 2 + np.abs(gamma) ** 2 + np.abs(delta) ** 2 \n",
        "    norm = np.sqrt(norm_squared)\n",
        "    state = np.array([alpha/norm, beta/norm, gamma/norm, delta/norm])\n",
        "    \n",
        "    # Prepare the state\n",
        "    qml.MottonenStatePreparation(state, wires=target_wires)\n",
        "\n",
        "\n",
        "@qml.qnode(dev)\n",
        "def qpe(unitary):\n",
        "    \"\"\"Estimate the phase for a given unitary.\n",
        "    \n",
        "    Args:\n",
        "        unitary (array[complex]): A unitary matrix.\n",
        "\n",
        "    Returns:\n",
        "        probs (array[float]): Probabilities on the estimation wires.\n",
        "    \"\"\"\n",
        "    \n",
        "    # MODIFY ALPHA, BETA, GAMMA, DELTA TO PREPARE EIGENVECTOR \n",
        "    prepare_eigenvector_superposition(1/4, 1/4, 1/4, 1/4)\n",
        "    # prepare_eigenvector_superposition(1, 0, 0, 0)\n",
        "    # prepare_eigenvector_superposition(0, 1, 0, 0)\n",
        "    # OR UNCOMMENT LINES ABOVE TO PREPARE THE STATE OF YOUR CHOICE\n",
        "    \n",
        "    qml.QuantumPhaseEstimation(\n",
        "        unitary,\n",
        "        target_wires=target_wires,\n",
        "        estimation_wires=estimation_wires,\n",
        "    )\n",
        "    return qml.probs(wires=estimation_wires)\n",
        "\n",
        "\n",
        "# UNCOMMENT THE LINE CORRESPONDING TO THE MATRIX YOU'D LIKE \n",
        "# TO ESTIMATE PHASES OF\n",
        "# U = qml.CZ.compute_matrix()\n",
        "# U = qml.CRZ.compute_matrix(0.4)\n",
        "U = qml.CRX.compute_matrix(1/3)\n",
        "# U = qml.CRot.compute_matrix(0.9, 0.7, 0.4)\n",
        "\n",
        "probs = qpe(U)\n",
        "\n",
        "mystery_phase = 0.9375 # MODIFY THIS\n"
      ]
    },
    {
      "cell_type": "markdown",
      "metadata": {
        "id": "jqE0Xmv0S3Oj"
      },
      "source": [
        "![fin.png](data:image/png;base64,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)"
      ]
    },
    {
      "cell_type": "code",
      "execution_count": null,
      "metadata": {
        "id": "j9i2d7b8S6EM"
      },
      "outputs": [],
      "source": []
    }
  ],
  "metadata": {
    "colab": {
      "provenance": []
    },
    "kernelspec": {
      "display_name": "Python 3",
      "name": "python3"
    },
    "language_info": {
      "name": "python"
    }
  },
  "nbformat": 4,
  "nbformat_minor": 0
}
