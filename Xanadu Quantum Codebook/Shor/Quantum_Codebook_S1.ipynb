{
  "cells": [
    {
      "cell_type": "markdown",
      "metadata": {
        "id": "fMaGdylBIkNS"
      },
      "source": [
        "# S.1 Modular arithmetic"
      ]
    },
    {
      "cell_type": "markdown",
      "metadata": {
        "id": "KbOeNEVuIm94"
      },
      "source": [
        "Modular arithmetic is a fundamental concept of basic mathematics. We say that two integers are equivalent modulo\n",
        "if the difference between them is a multiple of\n",
        ", that is, there exists an integer\n",
        "such that\n",
        ". In order to understand this type of equivalence it is common to work with a \"clock\"-like picture, which will have\n",
        "hours instead of\n",
        ". We will say that two numbers are equivalent if they mark the same hour on the clock:\n",
        "\n",
        "\n",
        "![](https://codebook.xanadu.ai/pics/clock1.jpeg)"
      ]
    },
    {
      "attachments": {},
      "cell_type": "markdown",
      "metadata": {},
      "source": [
        "Author: [Monit Sharma](https://github.com/MonitSharma)\n",
        "LinkedIn: [Monit Sharma](https://www.linkedin.com/in/monitsharma/)\n",
        "Twitter: [@MonitSharma1729](https://twitter.com/MonitSharma1729)\n",
        "Medium : [MonitSharma](https://medium.com/@_monitsharma)"
      ]
    },
    {
      "cell_type": "markdown",
      "metadata": {
        "id": "lXoC95cvIrM5"
      },
      "source": [
        "### Codercise S.1.1. \n",
        "Implement a function which, given three arguments\n",
        ",\n",
        "and\n",
        ", tells us whether\n",
        "."
      ]
    },
    {
      "cell_type": "code",
      "execution_count": 1,
      "metadata": {
        "colab": {
          "base_uri": "https://localhost:8080/"
        },
        "id": "lmLa0-1bIhzP",
        "outputId": "670ca78c-63f3-4696-fb3e-5bcf96461133"
      },
      "outputs": [
        {
          "name": "stdout",
          "output_type": "stream",
          "text": [
            "13 = 8 (3) is False\n",
            "13 = 7 (6) is True\n"
          ]
        }
      ],
      "source": [
        "def is_equivalent(a, b, m):\n",
        "    \"\"\"Return a boolean indicating whether the equivalence is satisfied.\n",
        "\n",
        "    Args:\n",
        "        a (int): First number to check the equivalence.\n",
        "        b (int): Second number to check the equivalence.\n",
        "        m (int): Modulus of the equivalence.\n",
        "    \n",
        "    Returns:\n",
        "        bool: True if a = b (m), False otherwise.\n",
        "    \"\"\"\n",
        "    \n",
        "    ##################\n",
        "    # YOUR CODE HERE #\n",
        "    ##################\n",
        "    return bool(a%m == b%m)\n",
        "  \n",
        "  \n",
        "  \n",
        "\n",
        "    \n",
        "print(f\"13 = 8 (3) is {is_equivalent(13, 8, 3)}\")\n",
        "print(f\"13 = 7 (6) is {is_equivalent(13, 7, 6)}\")\n"
      ]
    },
    {
      "cell_type": "markdown",
      "metadata": {
        "id": "limDBupaIuko"
      },
      "source": [
        "### Codercise S.1.2. \n",
        "Implement a function in which given\n",
        "and\n",
        ", tells us if there is an inverse for the number\n",
        "modulo\n",
        "."
      ]
    },
    {
      "cell_type": "code",
      "execution_count": 2,
      "metadata": {
        "colab": {
          "base_uri": "https://localhost:8080/"
        },
        "id": "THGp82atIyYJ",
        "outputId": "b5542a9a-fc81-4ffb-fd92-acf7a3872622"
      },
      "outputs": [
        {
          "name": "stdout",
          "output_type": "stream",
          "text": [
            "(5,15) False\n",
            "(7,15) True\n"
          ]
        }
      ],
      "source": [
        "def has_inverse(a, m):\n",
        "    \"\"\"Returns a boolean indicating whether a number has an inverse modulo m.\n",
        "    \n",
        "    Args:\n",
        "        a (int): Number to find the inverse modulus m.\n",
        "        m (int): Modulus of the equivalence.\n",
        "\n",
        "    Returns:\n",
        "        bool: True if c exists (ac = 1 (m)), False otherwise    \n",
        "    \"\"\"\n",
        "    \n",
        "    ##################\n",
        "    # YOUR CODE HERE #\n",
        "    ##################\n",
        "    for _ in range(m):\n",
        "        if a * _ % m == 1:\n",
        "            return True\n",
        "    return False\n",
        "\n",
        "\n",
        "\n",
        "    \n",
        "print(\"(5,15)\", has_inverse(5,15))\n",
        "print(\"(7,15)\", has_inverse(7,15))\n"
      ]
    },
    {
      "cell_type": "code",
      "execution_count": null,
      "metadata": {
        "id": "1gzxfJCFIzy6"
      },
      "outputs": [],
      "source": []
    }
  ],
  "metadata": {
    "colab": {
      "provenance": []
    },
    "kernelspec": {
      "display_name": "Python 3",
      "name": "python3"
    },
    "language_info": {
      "name": "python"
    }
  },
  "nbformat": 4,
  "nbformat_minor": 0
}
