{
  "nbformat": 4,
  "nbformat_minor": 0,
  "metadata": {
    "colab": {
      "provenance": []
    },
    "kernelspec": {
      "name": "python3",
      "display_name": "Python 3"
    },
    "language_info": {
      "name": "python"
    }
  },
  "cells": [
    {
      "cell_type": "markdown",
      "source": [
        "# S.1 Modular arithmetic"
      ],
      "metadata": {
        "id": "fMaGdylBIkNS"
      }
    },
    {
      "cell_type": "markdown",
      "source": [
        "Modular arithmetic is a fundamental concept of basic mathematics. We say that two integers are equivalent modulo\n",
        "if the difference between them is a multiple of\n",
        ", that is, there exists an integer\n",
        "such that\n",
        ". In order to understand this type of equivalence it is common to work with a \"clock\"-like picture, which will have\n",
        "hours instead of\n",
        ". We will say that two numbers are equivalent if they mark the same hour on the clock:\n",
        "\n",
        "\n",
        "![](https://codebook.xanadu.ai/pics/clock1.jpeg)"
      ],
      "metadata": {
        "id": "KbOeNEVuIm94"
      }
    },
    {
      "cell_type": "markdown",
      "source": [
        "### Codercise S.1.1. \n",
        "Implement a function which, given three arguments\n",
        ",\n",
        "and\n",
        ", tells us whether\n",
        "."
      ],
      "metadata": {
        "id": "lXoC95cvIrM5"
      }
    },
    {
      "cell_type": "code",
      "execution_count": 1,
      "metadata": {
        "colab": {
          "base_uri": "https://localhost:8080/"
        },
        "id": "lmLa0-1bIhzP",
        "outputId": "670ca78c-63f3-4696-fb3e-5bcf96461133"
      },
      "outputs": [
        {
          "output_type": "stream",
          "name": "stdout",
          "text": [
            "13 = 8 (3) is False\n",
            "13 = 7 (6) is True\n"
          ]
        }
      ],
      "source": [
        "def is_equivalent(a, b, m):\n",
        "    \"\"\"Return a boolean indicating whether the equivalence is satisfied.\n",
        "\n",
        "    Args:\n",
        "        a (int): First number to check the equivalence.\n",
        "        b (int): Second number to check the equivalence.\n",
        "        m (int): Modulus of the equivalence.\n",
        "    \n",
        "    Returns:\n",
        "        bool: True if a = b (m), False otherwise.\n",
        "    \"\"\"\n",
        "    \n",
        "    ##################\n",
        "    # YOUR CODE HERE #\n",
        "    ##################\n",
        "    return bool(a%m == b%m)\n",
        "  \n",
        "  \n",
        "  \n",
        "\n",
        "    \n",
        "print(f\"13 = 8 (3) is {is_equivalent(13, 8, 3)}\")\n",
        "print(f\"13 = 7 (6) is {is_equivalent(13, 7, 6)}\")\n"
      ]
    },
    {
      "cell_type": "markdown",
      "source": [
        "### Codercise S.1.2. \n",
        "Implement a function in which given\n",
        "and\n",
        ", tells us if there is an inverse for the number\n",
        "modulo\n",
        "."
      ],
      "metadata": {
        "id": "limDBupaIuko"
      }
    },
    {
      "cell_type": "code",
      "source": [
        "def has_inverse(a, m):\n",
        "    \"\"\"Returns a boolean indicating whether a number has an inverse modulo m.\n",
        "    \n",
        "    Args:\n",
        "        a (int): Number to find the inverse modulus m.\n",
        "        m (int): Modulus of the equivalence.\n",
        "\n",
        "    Returns:\n",
        "        bool: True if c exists (ac = 1 (m)), False otherwise    \n",
        "    \"\"\"\n",
        "    \n",
        "    ##################\n",
        "    # YOUR CODE HERE #\n",
        "    ##################\n",
        "    for _ in range(m):\n",
        "        if a * _ % m == 1:\n",
        "            return True\n",
        "    return False\n",
        "\n",
        "\n",
        "\n",
        "    \n",
        "print(\"(5,15)\", has_inverse(5,15))\n",
        "print(\"(7,15)\", has_inverse(7,15))\n"
      ],
      "metadata": {
        "id": "THGp82atIyYJ",
        "outputId": "b5542a9a-fc81-4ffb-fd92-acf7a3872622",
        "colab": {
          "base_uri": "https://localhost:8080/"
        }
      },
      "execution_count": 2,
      "outputs": [
        {
          "output_type": "stream",
          "name": "stdout",
          "text": [
            "(5,15) False\n",
            "(7,15) True\n"
          ]
        }
      ]
    },
    {
      "cell_type": "code",
      "source": [],
      "metadata": {
        "id": "1gzxfJCFIzy6"
      },
      "execution_count": null,
      "outputs": []
    }
  ]
}