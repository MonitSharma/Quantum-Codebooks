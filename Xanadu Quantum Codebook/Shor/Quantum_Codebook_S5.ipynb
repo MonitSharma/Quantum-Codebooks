{
  "cells": [
    {
      "cell_type": "markdown",
      "metadata": {
        "id": "I41B_EVQP1Q5"
      },
      "source": [
        "# S.5 The RSA system\n",
        "\n",
        "RSA is an encryption algorithm within the set of public key systems. Public key systems are based on the fact that an individual (Bob) will establish a method of encrypting messages and another method of decrypting them in such a way that if a person (Alice) wants to send certain information to Bob, the following process will take place:\n",
        "\n",
        "    Alice takes the encryption method (which is public).\n",
        "    She uses it to encode the message and sends it encoded to Bob.\n",
        "    Bob uses the decoding method (which only he knows) and translates the message without anyone else being able to do so.\n"
      ]
    },
    {
      "attachments": {},
      "cell_type": "markdown",
      "metadata": {},
      "source": [
        "Author: [Monit Sharma](https://github.com/MonitSharma)\n",
        "LinkedIn: [Monit Sharma](https://www.linkedin.com/in/monitsharma/)\n",
        "Twitter: [@MonitSharma1729](https://twitter.com/MonitSharma1729)\n",
        "Medium : [MonitSharma](https://medium.com/@_monitsharma)"
      ]
    },
    {
      "cell_type": "markdown",
      "metadata": {
        "id": "wB0ZVAgpP3iY"
      },
      "source": [
        "![](https://codebook.xanadu.ai/pics/rsa.jpeg)"
      ]
    },
    {
      "cell_type": "markdown",
      "metadata": {
        "id": "LXgh2McJP6zf"
      },
      "source": [
        "### Codercise S.5.1.\n",
        " Create a function that, given two primes\n",
        "and\n",
        "returns valid values of\n",
        ",\n",
        "and\n"
      ]
    },
    {
      "cell_type": "code",
      "execution_count": null,
      "metadata": {
        "id": "i6PT_C-MOS-5"
      },
      "outputs": [],
      "source": [
        "def create_keys(p, q):\n",
        "    \"\"\"Returns the characteristic e, d and N values of RSA\n",
        "    \n",
        "    Args:\n",
        "        p (int): First prime number of the algorithm.\n",
        "        q (int): Second prime number of the algorithm.\n",
        "        \n",
        "    Returns:\n",
        "        (int, int, int): a tuple consisting of the 'e' value of the RSA codification. 'd' value of the RSA codification.\n",
        "            and 'N', the product of p and q.\n",
        "    \"\"\"\n",
        "    \n",
        "    ##################\n",
        "    # YOUR CODE HERE #\n",
        "    ##################\n",
        "    N = p*q \n",
        "    theta = (p-1) * (q - 1)\n",
        "    for _ in range(theta):\n",
        "        if np.gcd(_, theta) == 1:\n",
        "            e = _\n",
        "            break\n",
        "    d = pow(e,-1, theta)\n",
        "    return e,d,N\n",
        "    \n",
        "\n",
        "\n",
        "print(create_keys(3,53))\n"
      ]
    },
    {
      "cell_type": "markdown",
      "metadata": {
        "id": "viQec4jVP-SH"
      },
      "source": [
        "### Codercise S.5.2. \n",
        "Create a function that given\n",
        ",\n",
        "and a series of integers\n",
        ", is able to retrieve the original message. Convert each of the received numbers to ‘ascii’ format to read the hidden message."
      ]
    },
    {
      "cell_type": "code",
      "execution_count": null,
      "metadata": {
        "id": "N4MjrdFaQAGI"
      },
      "outputs": [],
      "source": [
        "def decode(d,N, code):\n",
        "    \"\"\"Decode an encrypted message\n",
        "    \n",
        "    Args:\n",
        "        d (int): Value of the RSA codification.\n",
        "        N (int): Product of p and q.\n",
        "        code list[int]: List of values to be decoded.\n",
        "        \n",
        "    Returns:\n",
        "        string: Decoded message. (One character per list item)\n",
        "    \"\"\"\n",
        "    \n",
        "    message = \"\"\n",
        "    \n",
        "    ##################\n",
        "    # YOUR CODE HERE #\n",
        "    ##################\n",
        "    for _ in code:\n",
        "        message = message + chr(pow(_,d,N))\n",
        "    \n",
        "\n",
        "        \n",
        "    return message\n",
        "\n",
        "code =  [129827,\n",
        "         294117,\n",
        "         126201,\n",
        "         157316,\n",
        "         270984,\n",
        "         126201,\n",
        "         157316,\n",
        "         270984,\n",
        "         209269,\n",
        "         163084,\n",
        "         270984,\n",
        "         157316,\n",
        "         95353,\n",
        "         289896,\n",
        "         49377,\n",
        "         95353,\n",
        "         48004,\n",
        "         270984,\n",
        "         209269,\n",
        "         95353,\n",
        "         157316,\n",
        "         157316,\n",
        "         210673,\n",
        "         267093,\n",
        "         95353]\n",
        "\n",
        "N = 378221\n",
        "d = 150797\n",
        "\n",
        "\n",
        "print(decode(d, N, code))\n"
      ]
    }
  ],
  "metadata": {
    "colab": {
      "provenance": []
    },
    "kernelspec": {
      "display_name": "Python 3",
      "name": "python3"
    },
    "language_info": {
      "name": "python"
    }
  },
  "nbformat": 4,
  "nbformat_minor": 0
}
