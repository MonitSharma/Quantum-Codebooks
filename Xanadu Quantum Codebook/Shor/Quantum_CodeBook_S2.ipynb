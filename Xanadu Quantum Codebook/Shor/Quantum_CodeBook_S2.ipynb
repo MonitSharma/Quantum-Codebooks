{
  "nbformat": 4,
  "nbformat_minor": 0,
  "metadata": {
    "colab": {
      "provenance": []
    },
    "kernelspec": {
      "name": "python3",
      "display_name": "Python 3"
    },
    "language_info": {
      "name": "python"
    }
  },
  "cells": [
    {
      "cell_type": "markdown",
      "source": [
        "# S.2 Classical factorization\n",
        "\n",
        "So far we have learned the basics of modular arithmetic by looking at its main operations and properties. One such property is the inverse of a number\n",
        "modulo\n"
      ],
      "metadata": {
        "id": "uVnkZ5zEJZLK"
      }
    },
    {
      "cell_type": "markdown",
      "source": [
        "### Codercise S.2.1. \n",
        "Implement a function that finds the first nontrivial square root modulo\n",
        "."
      ],
      "metadata": {
        "id": "2mlssM34Je3o"
      }
    },
    {
      "cell_type": "code",
      "execution_count": 1,
      "metadata": {
        "colab": {
          "base_uri": "https://localhost:8080/"
        },
        "id": "NZjdB5luI390",
        "outputId": "55abd37f-e629-445f-b6a7-673144e3b2fc"
      },
      "outputs": [
        {
          "output_type": "stream",
          "name": "stdout",
          "text": [
            "137\n"
          ]
        }
      ],
      "source": [
        "\n",
        "def nontrivial_square_root(m):\n",
        "    \"\"\"Return the first nontrivial square root modulo m.\n",
        "    \n",
        "    Args:\n",
        "        m (int): modulus for which want to find the nontrivial square root\n",
        "\n",
        "    Returns:\n",
        "        int: the first nontrivial square root of m\n",
        "    \"\"\"\n",
        "    \n",
        "    ##################\n",
        "    # YOUR CODE HERE #\n",
        "    ##################\n",
        "    i = 2\n",
        "    while True:\n",
        "        if i**2 % m == 1:\n",
        "            return i\n",
        "        i += 1\n",
        "\n",
        "\n",
        "\n",
        "        \n",
        "print(nontrivial_square_root(391))\n"
      ]
    },
    {
      "cell_type": "markdown",
      "source": [
        "### Codercise S.2.2. \n",
        "Implement a function capable of returning the two prime factors that form a particular number\n",
        ". You can use the nontrivial_square_root function implemented above."
      ],
      "metadata": {
        "id": "vhpFgOqnJjXh"
      }
    },
    {
      "cell_type": "code",
      "source": [
        "import numpy as np"
      ],
      "metadata": {
        "id": "DXXquxPaJySq"
      },
      "execution_count": 4,
      "outputs": []
    },
    {
      "cell_type": "code",
      "source": [
        "\n",
        "\n",
        "def factorization(N):\n",
        "    \n",
        "    \"\"\"Return the factors of N.\n",
        "    \n",
        "    Args:\n",
        "        N (int): number we want to factor.\n",
        "\n",
        "    Returns:\n",
        "        array[int]: [p,q] factors of N.\n",
        "    \"\"\"\n",
        "    ##################\n",
        "    # YOUR CODE HERE #\n",
        "    ##################\n",
        "    x = nontrivial_square_root(N)\n",
        "    p = np.gcd(x-1,N)\n",
        "    q = np.gcd(x+1, N)\n",
        "    return p,q\n",
        "\n",
        "\n",
        "\n",
        "N = 391\n",
        "p, q = factorization(N)\n",
        "print(f\"{N} = {p} x {q}\")\n"
      ],
      "metadata": {
        "colab": {
          "base_uri": "https://localhost:8080/"
        },
        "id": "3-djtKlEJiEa",
        "outputId": "5d7f24ab-b939-4ca3-b829-5a7b8823d285"
      },
      "execution_count": 6,
      "outputs": [
        {
          "output_type": "stream",
          "name": "stdout",
          "text": [
            "391 = 17 x 23\n"
          ]
        }
      ]
    }
  ]
}