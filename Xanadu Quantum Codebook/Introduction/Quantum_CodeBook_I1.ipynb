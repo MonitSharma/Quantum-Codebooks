{
  "cells": [
    {
      "attachments": {},
      "cell_type": "markdown",
      "metadata": {
        "id": "--wZUScbbaLZ"
      },
      "source": [
        "# All about Qubits\n",
        "\n",
        "\n",
        "\n",
        "\n",
        "\n",
        "\n",
        "\n",
        "\n",
        "\n",
        "\n",
        "\n",
        "\n",
        "\n"
      ]
    },
    {
      "attachments": {},
      "cell_type": "markdown",
      "metadata": {},
      "source": [
        "Author: [Monit Sharma](https://github.com/MonitSharma)\n",
        "LinkedIn: [Monit Sharma](https://www.linkedin.com/in/monitsharma/)\n",
        "Twitter: [@MonitSharma1729](https://twitter.com/MonitSharma1729)\n",
        "Medium : [MonitSharma](https://medium.com/@_monitsharma)"
      ]
    },
    {
      "cell_type": "markdown",
      "metadata": {
        "id": "Ij3UMSj2cEtI"
      },
      "source": [
        "### Learning Objectives\n",
        "\n",
        "\n",
        "\n",
        "*   Write down the mathematical description of a qubit in two different notation\n",
        "*   Define and give examples of what it measn for a quantum system to be in a **superposition** of states.\n",
        "*  State the relation between **amplitudes** and measurement outcome **probabilities** and what it means to be *normalized*\n",
        "\n",
        "* Explain how operations are mathematically applied to qubit states.\n",
        "\n"
      ]
    },
    {
      "cell_type": "markdown",
      "metadata": {
        "id": "eUUouRmXcGYz"
      },
      "source": [
        "Quantum Computers are an emerging technology with amazing potential to solve the problems that are intractable even on todays biggest supercomputers. \n",
        "\n",
        "--- \n",
        "\n",
        "Regulat computers will be refered to as **classical computers** and they represent information in *bits*. A bit is a binary value. It can be either $0$ or $1$ and this is associtaed to something physical being in two different states. For example: A voltage passing through a electric component can be used to represent bits. We can chose the threshold value of the voltage and denote any voltage over that threshold as a bit in state $1$ and similary any voltage below that in $0$\n",
        "\n",
        "\n",
        "\n",
        "\n",
        "\n",
        "\n",
        "![](https://codebook.xanadu.ai/pics/voltage_threshold.svg)\n",
        "\n",
        "\n",
        "\n",
        "-----------\n",
        "\n",
        "\n",
        "The power of quantum computers comes from the **different ways in which they represent and manipulate information**. \n",
        "\n",
        "Quantum computers use special bits, called quantum bits or **qubits**. As with bits , qubits  also correspond to something physical.\n",
        "\n",
        "\n",
        "--------\n",
        "\n",
        "Quantum computing is the manipulation of qubits to solve problems.  In this notebook you'll learn about the mathematical underpinnings of quantum computing. The key ingredients we need are:\n",
        "\n",
        "\n",
        "\n",
        "\n",
        "*   a mathematical representation of a qubit's state\n",
        "*   a means of measuring a qubit to determine what state it is in\n",
        "*   a way of manipulating the state to perform computation.\n",
        "\n",
        "\n"
      ]
    },
    {
      "cell_type": "markdown",
      "metadata": {
        "id": "TkxokAmeInMw"
      },
      "source": [
        "#### Codercise I.1.1 \n",
        "Suppose we are given an unnormalized quantum state:\n",
        "\n",
        "$$ |\\psi⟩ = \\alpha |0⟩ + β|1⟩$$\n",
        "where \n",
        "$$ |\\alpha|^2 + |\\beta|^2 \\ne 1$$\n",
        "\n",
        "We can turn this into an equivalent , valid quantum state by *normalizing* it.\n",
        "\n",
        "Write a function that normalizes the state:"
      ]
    },
    {
      "cell_type": "code",
      "execution_count": 1,
      "metadata": {
        "id": "2b9T865CJHgV"
      },
      "outputs": [],
      "source": [
        "import numpy as np"
      ]
    },
    {
      "cell_type": "code",
      "execution_count": 2,
      "metadata": {
        "id": "UebcPmatbWSl"
      },
      "outputs": [],
      "source": [
        "# Here are the vector representations of |0> and |1>, for convenience\n",
        "ket_0 = np.array([1, 0])\n",
        "ket_1 = np.array([0, 1])\n",
        "\n",
        "def normalize_state(alpha, beta):\n",
        "    \"\"\"Compute a normalized quantum state given arbitrary amplitudes.\n",
        "    \n",
        "    Args:\n",
        "        alpha (complex): The amplitude associated with the |0> state.\n",
        "        beta (complex): The amplitude associated with the |1> state.\n",
        "        \n",
        "    Returns:\n",
        "        array[complex]: A vector (numpy array) with 2 elements that represents\n",
        "        a normalized quantum state.\n",
        "    \"\"\"\n",
        "    arr = [alpha, beta]\n",
        "    arr = arr / np.linalg.norm(arr)\n",
        "    \n",
        "    return arr\n",
        "    \n",
        "    \n",
        "    \n",
        "    # CREATE A VECTOR [a', b'] BASED ON alpha AND beta SUCH THAT |a'|^2 + |b'|^2 = 1\n",
        "    \n",
        "    # RETURN A VECTOR\n",
        "    pass \n"
      ]
    },
    {
      "cell_type": "code",
      "execution_count": 3,
      "metadata": {
        "colab": {
          "base_uri": "https://localhost:8080/"
        },
        "id": "uJ28N9k_JM0n",
        "outputId": "742f4541-12fa-452e-9a7f-1e9b424fa36d"
      },
      "outputs": [
        {
          "data": {
            "text/plain": [
              "array([0.9292468 , 0.36945957])"
            ]
          },
          "execution_count": 3,
          "metadata": {},
          "output_type": "execute_result"
        }
      ],
      "source": [
        "normalize_state(0.83,0.33)"
      ]
    },
    {
      "cell_type": "markdown",
      "metadata": {
        "id": "f13o1p0iJV3f"
      },
      "source": [
        "#### Codercise I.1.2 \n",
        "\n",
        "Write a function to compute the inner product between two arbitrary states. Then use it to verify that $|0⟩$ and $|1⟩$ form an **orthonormal basis**"
      ]
    },
    {
      "cell_type": "code",
      "execution_count": 4,
      "metadata": {
        "colab": {
          "base_uri": "https://localhost:8080/"
        },
        "id": "U6MJLm1JJSsP",
        "outputId": "b3355a7c-8491-4dd7-840f-0107e926cb7e"
      },
      "outputs": [
        {
          "name": "stdout",
          "output_type": "stream",
          "text": [
            "<0|0> = 1\n",
            "<0|1> = 0\n",
            "<1|0> = 0\n",
            "<1|1> = 1\n"
          ]
        }
      ],
      "source": [
        "def inner_product(state_1, state_2):\n",
        "    \"\"\"Compute the inner product between two states.\n",
        "    \n",
        "    Args:\n",
        "        state_1 (array[complex]): A normalized quantum state vector\n",
        "        state_2 (array[complex]): A second normalized quantum state vector\n",
        "        \n",
        "    Returns:\n",
        "        complex: The value of the inner product <state_1 | state_2>.\n",
        "    \"\"\"\n",
        " \n",
        "    \n",
        "\n",
        "    # COMPUTE AND RETURN THE INNER PRODUCT\n",
        "\n",
        "    return  np.dot((state_1), np.conj(state_2))\n",
        "\n",
        "\n",
        "# Test your results with this code\n",
        "ket_0 = np.array([1, 0])\n",
        "ket_1 = np.array([0, 1])\n",
        "\n",
        "print(f\"<0|0> = {inner_product(ket_0, ket_0)}\")\n",
        "print(f\"<0|1> = {inner_product(ket_0, ket_1)}\")\n",
        "print(f\"<1|0> = {inner_product(ket_1, ket_0)}\")\n",
        "print(f\"<1|1> = {inner_product(ket_1, ket_1)}\")\n"
      ]
    },
    {
      "cell_type": "markdown",
      "metadata": {
        "id": "2tRHfi-LJv4K"
      },
      "source": [
        "#### Codercise I.1.3\n",
        "\n",
        "The function below takes a quantum state vector as input. Complete the function to simulate the outcomes of an arbitrary number of quantum measurements"
      ]
    },
    {
      "cell_type": "code",
      "execution_count": 7,
      "metadata": {
        "id": "E3oD1baaJrYS"
      },
      "outputs": [],
      "source": [
        "def measure_state(state, num_meas):\n",
        "    \"\"\"Simulate a quantum measurement process.\n",
        "\n",
        "    Args:\n",
        "        state (array[complex]): A normalized qubit state vector. \n",
        "        num_meas (int): The number of measurements to take\n",
        "        \n",
        "    Returns:\n",
        "        array[int]: A set of num_meas samples, 0 or 1, chosen according to the probability \n",
        "        distribution defined by the input state.\n",
        "    \"\"\"\n",
        "\n",
        "   \n",
        "    \n",
        "    return np.random.choice(2,num_meas, p =[np.abs(state[0])**2, np.abs(state[1])**2])\n",
        "    \n",
        "    # COMPUTE THE MEASUREMENT OUTCOME PROBABILITIES\n",
        "\n",
        "    # RETURN A LIST OF SAMPLE MEASUREMENT OUTCOMES\n",
        " \n",
        "    pass\n"
      ]
    },
    {
      "cell_type": "code",
      "execution_count": 8,
      "metadata": {
        "id": "WVG0TLGYKAc_"
      },
      "outputs": [],
      "source": [
        "state = np.array([0.6,0.8])\n",
        "U = np.array([[0,1],[1,0]])"
      ]
    },
    {
      "cell_type": "code",
      "execution_count": 9,
      "metadata": {
        "colab": {
          "base_uri": "https://localhost:8080/"
        },
        "id": "o43C2RSAKH7s",
        "outputId": "ecfdf612-8f62-4251-83e8-6aa8c4e0511d"
      },
      "outputs": [
        {
          "data": {
            "text/plain": [
              "array([1, 1, 0, 1, 0, 0, 1, 1, 0, 1])"
            ]
          },
          "execution_count": 9,
          "metadata": {},
          "output_type": "execute_result"
        }
      ],
      "source": [
        "measure_state(state,10)"
      ]
    },
    {
      "cell_type": "markdown",
      "metadata": {
        "id": "CKcwWUZ_KdCf"
      },
      "source": [
        "#### Codercise I.1.4 \n",
        "Complete the functions below to apply the provided quantum operation `U` to an input state"
      ]
    },
    {
      "cell_type": "code",
      "execution_count": 10,
      "metadata": {
        "id": "plD9wQeyKY4p"
      },
      "outputs": [],
      "source": [
        "U = np.array([[1, 1], [1, -1]]) / np.sqrt(2)\n",
        "\n",
        "def apply_u(state):\n",
        "    \"\"\"Apply a quantum operation.\n",
        "\n",
        "    Args:\n",
        "        state (array[complex]): A normalized quantum state vector. \n",
        "        \n",
        "    Returns:\n",
        "        array[complex]: The output state after applying U.\n",
        "    \"\"\"\n",
        "\n",
        "    \n",
        "    return np.dot(U,state)\n",
        "\n",
        "    # APPLY U TO THE INPUT STATE AND RETURN THE NEW STATE\n",
        "    pass\n"
      ]
    },
    {
      "cell_type": "code",
      "execution_count": 11,
      "metadata": {
        "colab": {
          "base_uri": "https://localhost:8080/"
        },
        "id": "6GYg28zhKqkt",
        "outputId": "a67a3d00-c8a3-4d1d-af9c-aed8f1f66e62"
      },
      "outputs": [
        {
          "data": {
            "text/plain": [
              "array([ 0.98994949, -0.14142136])"
            ]
          },
          "execution_count": 11,
          "metadata": {},
          "output_type": "execute_result"
        }
      ],
      "source": [
        "apply_u(state)"
      ]
    },
    {
      "cell_type": "markdown",
      "metadata": {
        "id": "a5zh3qVRKwC_"
      },
      "source": [
        "#### Codercise I.1.5\n",
        "\n",
        "Use the functions below to simulate a quantum algorithm that does:\n",
        "\n",
        "\n",
        "\n",
        "1.   Initialize the qubit in state $|0⟩$\n",
        "2.   Apply the provided operation `U`\n",
        "\n",
        "3.   Simulate measuring the output state 1000 times\n",
        "\n"
      ]
    },
    {
      "cell_type": "code",
      "execution_count": 12,
      "metadata": {
        "id": "sLcuOb8ZKtl9"
      },
      "outputs": [],
      "source": [
        "U = np.array([[1, 1], [1, -1]]) / np.sqrt(2)\n",
        "\n",
        "def initialize_state():\n",
        "    \"\"\"Prepare a qubit in state |0>.\n",
        "    \n",
        "    Returns:\n",
        "        array[float]: the vector representation of state |0>.\n",
        "    \"\"\"\n",
        "\n",
        "    \n",
        "    return np.array([1,0])\n",
        "\n",
        "    # PREPARE THE STATE |0>   \n",
        "    pass\n",
        "\n",
        "\n",
        "def apply_u(state):\n",
        "    \"\"\"Apply a quantum operation.\"\"\"\n",
        "    return np.dot(U, state)\n",
        "\n",
        "\n",
        "def measure_state(state, num_meas):\n",
        "    \"\"\"Measure a quantum state num_meas times.\"\"\"\n",
        "    p_alpha = np.abs(state[0]) ** 2\n",
        "    p_beta = np.abs(state[1]) ** 2\n",
        "    meas_outcome = np.random.choice([0, 1], p=[p_alpha, p_beta], size=num_meas)\n",
        "    return meas_outcome\n",
        "\n",
        "\n",
        "def quantum_algorithm():\n",
        "    \"\"\"Use the functions above to implement the quantum algorithm described above.\n",
        "    \n",
        "    Try and do so using three lines of code or less!\n",
        "    \n",
        "    Returns:\n",
        "        array[int]: the measurement results after running the algorithm 100 times\n",
        "    \"\"\"\n",
        "\n",
        "    ##################\n",
        "    # YOUR CODE HERE #\n",
        "    ##################\n",
        "    state = np.array([1,0])\n",
        "    state1 = apply_u(state)\n",
        "    \n",
        "    return measure_state(state1,100)\n",
        "\n",
        "    # PREPARE THE STATE, APPLY U, THEN TAKE 100 MEASUREMENT SAMPLES\n",
        "    pass\n"
      ]
    },
    {
      "cell_type": "code",
      "execution_count": 13,
      "metadata": {
        "colab": {
          "base_uri": "https://localhost:8080/"
        },
        "id": "7A0wXVDRLIgQ",
        "outputId": "f544f5fe-9ad2-454d-864b-c6d4de5d12a6"
      },
      "outputs": [
        {
          "data": {
            "text/plain": [
              "array([1, 0, 1, 1, 1, 0, 1, 0, 1, 1, 1, 0, 1, 1, 1, 0, 0, 1, 0, 1, 0, 1,\n",
              "       0, 0, 0, 0, 0, 0, 1, 0, 0, 0, 1, 1, 1, 1, 1, 1, 0, 1, 0, 1, 1, 1,\n",
              "       0, 1, 0, 0, 0, 0, 1, 0, 0, 0, 0, 0, 1, 0, 0, 1, 1, 0, 0, 1, 1, 1,\n",
              "       1, 1, 1, 1, 1, 0, 0, 1, 0, 0, 0, 1, 0, 0, 1, 1, 1, 0, 1, 1, 1, 1,\n",
              "       0, 1, 0, 1, 1, 1, 0, 0, 0, 0, 0, 1])"
            ]
          },
          "execution_count": 13,
          "metadata": {},
          "output_type": "execute_result"
        }
      ],
      "source": [
        "quantum_algorithm()"
      ]
    },
    {
      "attachments": {},
      "cell_type": "markdown",
      "metadata": {},
      "source": [
        "Solutions by [Monit Sharma](https://github.com/MonitSharma)"
      ]
    },
    {
      "cell_type": "code",
      "execution_count": null,
      "metadata": {
        "id": "EUW4VFRFLKJt"
      },
      "outputs": [],
      "source": []
    }
  ],
  "metadata": {
    "colab": {
      "provenance": []
    },
    "kernelspec": {
      "display_name": "Python 3",
      "name": "python3"
    },
    "language_info": {
      "name": "python"
    }
  },
  "nbformat": 4,
  "nbformat_minor": 0
}
