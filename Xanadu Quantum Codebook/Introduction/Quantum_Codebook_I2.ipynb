{
  "cells": [
    {
      "cell_type": "markdown",
      "metadata": {
        "id": "Olg0QBlpeQ3g"
      },
      "source": [
        "# Quantum Circuits\n",
        "\n",
        "\n",
        "\n"
      ]
    },
    {
      "attachments": {},
      "cell_type": "markdown",
      "metadata": {},
      "source": [
        "Author: [Monit Sharma](https://github.com/MonitSharma)\n",
        "LinkedIn: [Monit Sharma](https://www.linkedin.com/in/monitsharma/)\n",
        "Twitter: [@MonitSharma1729](https://twitter.com/MonitSharma1729)\n",
        "Medium : [MonitSharma](https://medium.com/@_monitsharma)"
      ]
    },
    {
      "cell_type": "markdown",
      "metadata": {
        "id": "PdnQTH2PeU3N"
      },
      "source": [
        "### Learning Outcomes\n",
        "\n",
        "\n",
        "\n",
        "1.   Identify the different components of a quantum circuit (qubits, gates and measurements)\n",
        "2.   Translate between sequences of instructions and a quantum circuit\n",
        "3.  Define and calculate the depth of a quantum circuit.\n",
        "\n"
      ]
    },
    {
      "cell_type": "markdown",
      "metadata": {
        "id": "pHpBKWcdeUqA"
      },
      "source": [
        "Now, since we know what a qubit is, an important next step is to discuss how quantum computations are expressed. Quantum computation involves manipulating and measuring these qubits in a meaningful way."
      ]
    },
    {
      "cell_type": "markdown",
      "metadata": {
        "id": "gMave6gie6p2"
      },
      "source": [
        "## Quantum Circuits\n",
        "\n",
        "They are a way to visulaize and depict the sequence of operations that are performed on qubits throughout the course of a computation. You can think of quantum circuits like a recipie, or  a set of instructions that tells you what to do to each qubit, and when to do it.\n",
        "\n",
        "The following is an example of a real quantum circuit:\n",
        "\n",
        "\n",
        "![](https://codebook.xanadu.ai/pics/sample-circuit.svg)"
      ]
    },
    {
      "cell_type": "markdown",
      "metadata": {
        "id": "ks_9NtHzSSAV"
      },
      "source": [
        "## Wires and Registers\n",
        "\n",
        "A circuit starts with a collection of **Wires** that represent a set of qubits. Qubits are ordered from top to bottom, and typically labelled numerically in the same order. We will label starting from 0 to match most of the quantum computing frameworks. A group of qubits together is called **quantum register**\n",
        "\n",
        "![](https://codebook.xanadu.ai/pics/sample-circuit-empty.svg)\n",
        "\n",
        "\n",
        "\n",
        "---------\n",
        "\n",
        "The qubits have to start somewhere, in the sense that they must be initialized to some state at the beginning of a computation. A typical choice for all qubits to start  in the state $|0⟩$"
      ]
    },
    {
      "cell_type": "markdown",
      "metadata": {
        "id": "Z40iwrdZS8YO"
      },
      "source": [
        "## Gates and Operations\n",
        "Operations on qubits are often called **gates**. There are many different types of gates, which have different effects on the qubits. Some gates affect only one qubit at a time, while others may affect two or more qubits at a time.\n",
        "\n",
        "-----\n",
        "\n"
      ]
    },
    {
      "cell_type": "markdown",
      "metadata": {
        "id": "OB2oQK3iYXl8"
      },
      "source": [
        "### Measurements\n",
        "The final step of any quantum computation is a measurement of one or more of the qubits, after all, we need to get the answer somehow.\n",
        "\n",
        "**While the measurement look like a Layer of the circuit, they are not counted in the calculation of the depth**"
      ]
    },
    {
      "cell_type": "markdown",
      "metadata": {
        "id": "15ctBXk4Yq1t"
      },
      "source": [
        "## Code Exercise"
      ]
    },
    {
      "cell_type": "markdown",
      "metadata": {
        "id": "QR8jDC-eYu2u"
      },
      "source": [
        "Suppose we would like to write a circuit for $2$ qubits, By default in pennylane qubits (wires) are ordered numerically starting from $0$, the pseudocode will look like this:\n",
        "\n",
        "\n",
        "```python\n",
        "\n",
        "import pennylane as qml\n",
        "\n",
        "def my_quantum_func(params):\n",
        "  # single qubit operation\n",
        "\n",
        "  qml.Gate1(wires=0)\n",
        "  qml.Gate2(wires=1)\n",
        "\n",
        "\n",
        "  # a single qubit operation with an input parameter\n",
        "\n",
        "  qml.Gate3(params[0], wires=0)\n",
        "\n",
        "  # two qubit operations\n",
        "\n",
        "  qml.TwoQubitGate1(wires=[0,1])\n",
        "\n",
        "  # two qubit operation with somme parameter\n",
        "  qml.TwoQubitGate2(params=[1], wires=[0,1])\n",
        "\n",
        "  # return\n",
        "  return qml.measurement(wires=[0,1])\n",
        "\n",
        "  ```"
      ]
    },
    {
      "cell_type": "markdown",
      "metadata": {
        "id": "sK3m3jWuZkSh"
      },
      "source": [
        "### Exercise I.2.1\n",
        "\n",
        "The code below is a quantum function with all the gates from the circuit, however they are out of order, re arrange them\n",
        "\n",
        "\n",
        "![](https://codebook.xanadu.ai/pics/circuit_i-2-1.svg)"
      ]
    },
    {
      "cell_type": "code",
      "execution_count": 3,
      "metadata": {
        "id": "mAKEaz2UeMRO"
      },
      "outputs": [],
      "source": [
        "import pennylane as qml"
      ]
    },
    {
      "cell_type": "code",
      "execution_count": 2,
      "metadata": {
        "id": "DY4gJL6IZ2_Z"
      },
      "outputs": [],
      "source": [
        "def my_circuit(theta, phi): \n",
        "    ##################\n",
        "    # YOUR CODE HERE #\n",
        "    ##################\n",
        "\n",
        "    # REORDER THESE 5 GATES TO MATCH THE CIRCUIT IN THE PICTURE\n",
        "\n",
        "    qml.CNOT(wires=[0, 1])\n",
        "    qml.RX(theta, wires=2)\n",
        "    qml.Hadamard(wires=0)\n",
        "    qml.CNOT(wires=[2, 0])\n",
        "    \n",
        "    \n",
        "    qml.RY(phi, wires=1)\n",
        "    \n",
        "    # This is the measurement; we return the probabilities of all possible output states\n",
        "    # You'll learn more about what types of measurements are available in a later node\n",
        "    return qml.probs(wires=[0, 1, 2])"
      ]
    },
    {
      "cell_type": "markdown",
      "metadata": {
        "id": "o79dvALzZ6IM"
      },
      "source": [
        "Now the quantum circuit is represented as a quantum function, but we also need:\n",
        "\n",
        "1. a device to run the circuit on\n",
        "2. a QNode, which binds the circuit to the device and executes it\n",
        "\n",
        "\n",
        "```python\n",
        "dev = qml.device('device.name', wires=num_qubits)\n",
        "\n",
        "```\n",
        "\n",
        "\n",
        "-----\n",
        "\n",
        "We will mostly be using the `default.qubit` device which is a standard quantum simulator\n",
        "\n",
        "```python\n",
        "dev = qml.device('default.qubit', wires= ['a','b'])\n",
        "\n",
        "```\n",
        "\n",
        "----\n",
        "\n",
        "Once we have a device, we can construct a QNode, we can do that by\n",
        "\n",
        "```python\n",
        "my_qnode = qml.QNode(my_circuit, my_device)\n",
        "\n",
        "```\n",
        "\n",
        "Once its created it can be called like a function"
      ]
    },
    {
      "cell_type": "markdown",
      "metadata": {
        "id": "n7iO9mjebVqb"
      },
      "source": [
        "### Exercise I.2.2  \n",
        "Complete the quantum function in the code below, construct a QNode and run it\n",
        "\n",
        "![](https://codebook.xanadu.ai/pics/circuit_i-2-2.svg)"
      ]
    },
    {
      "cell_type": "code",
      "execution_count": 4,
      "metadata": {
        "colab": {
          "base_uri": "https://localhost:8080/"
        },
        "id": "N1SqYZ9eZ4oj",
        "outputId": "618fc186-6def-45fd-d53c-91ad4f307e74"
      },
      "outputs": [
        {
          "data": {
            "text/plain": [
              "tensor([9.87560268e-01, 0.00000000e+00, 0.00000000e+00, 2.47302134e-03,\n",
              "        2.48960206e-05, 0.00000000e+00, 0.00000000e+00, 9.94181506e-03], requires_grad=True)"
            ]
          },
          "execution_count": 4,
          "metadata": {},
          "output_type": "execute_result"
        }
      ],
      "source": [
        "# This creates a device with three wires on which PennyLane can run computations\n",
        "dev = qml.device(\"default.qubit\", wires=3)\n",
        "\n",
        "\n",
        "def my_circuit(theta, phi, omega):\n",
        "\n",
        "    ##################\n",
        "    # YOUR CODE HERE #\n",
        "    ##################\n",
        "\n",
        "    # IMPLEMENT THE CIRCUIT BY ADDING THE GATES\n",
        "\n",
        "    # Here are two examples, so you can see the format:\n",
        "    # \n",
        "    # qml.RX(theta, wires=0)\n",
        "    qml.RX(theta, wires = 0)\n",
        "    qml.RY(phi, wires = 1)\n",
        "    qml.RZ(omega, wires = 2)\n",
        "    qml.CNOT(wires=[0, 1])\n",
        "    qml.CNOT(wires=[1, 2])\n",
        "    qml.CNOT(wires=[2, 0])\n",
        "    \n",
        "\n",
        "\n",
        "\n",
        "    return qml.probs(wires=[0, 1, 2])\n",
        "\n",
        "\n",
        "# This creates a QNode, binding the function and device\n",
        "my_qnode = qml.QNode(my_circuit, dev)\n",
        "\n",
        "# We set up some values for the input parameters\n",
        "theta, phi, omega = 0.1, 0.2, 0.3\n",
        "\n",
        "# Now we can execute the QNode by calling it like we would a regular function\n",
        "my_qnode(theta, phi, omega)\n"
      ]
    },
    {
      "cell_type": "markdown",
      "metadata": {
        "id": "PUwxD7IObp1M"
      },
      "source": [
        "The other way to construct a **QNode** is using a **decorator**, like `@qml.qnode(dev)` it will automatically produce a QNode with the same name as your function that can be run on `dev`"
      ]
    },
    {
      "cell_type": "markdown",
      "metadata": {
        "id": "Sk-lq87qcguH"
      },
      "source": [
        "### Exercise I.2.3\n",
        "\n",
        "Apply a decorator to the quantum function to construct a **QNode** and run it"
      ]
    },
    {
      "cell_type": "code",
      "execution_count": 5,
      "metadata": {
        "colab": {
          "base_uri": "https://localhost:8080/"
        },
        "id": "JCFW6tWQbkfR",
        "outputId": "e0c55c35-7a7e-48b4-cf53-c2c868931699"
      },
      "outputs": [
        {
          "data": {
            "text/plain": [
              "tensor([9.87560268e-01, 0.00000000e+00, 0.00000000e+00, 2.47302134e-03,\n",
              "        2.48960206e-05, 0.00000000e+00, 0.00000000e+00, 9.94181506e-03], requires_grad=True)"
            ]
          },
          "execution_count": 5,
          "metadata": {},
          "output_type": "execute_result"
        }
      ],
      "source": [
        "dev = qml.device(\"default.qubit\", wires=3)\n",
        "\n",
        "##################\n",
        "# YOUR CODE HERE #\n",
        "##################\n",
        "@qml.qnode(dev)\n",
        "# DECORATE THE FUNCTION BELOW TO TURN IT INTO A QNODE\n",
        "\n",
        "def my_circuit(theta, phi, omega):\n",
        "    qml.RX(theta, wires=0)\n",
        "    qml.RY(phi, wires=1)\n",
        "    qml.RZ(omega, wires=2)\n",
        "    qml.CNOT(wires=[0, 1])\n",
        "    qml.CNOT(wires=[1, 2])\n",
        "    qml.CNOT(wires=[2, 0])\n",
        "    return qml.probs(wires=[0, 1, 2])\n",
        "\n",
        "\n",
        "theta, phi, omega = 0.1, 0.2, 0.3\n",
        "\n",
        "##################\n",
        "# YOUR CODE HERE #\n",
        "##################\n",
        "my_circuit(theta, phi,omega)\n",
        "# RUN THE QNODE WITH THE PROVIDED PARAMETERS\n",
        "\n",
        "\n"
      ]
    },
    {
      "cell_type": "markdown",
      "metadata": {
        "id": "L8jle11gcsAP"
      },
      "source": [
        "Quantum circuits are algorithms, we can measure the complexity and resource requirement for the quantum cicutis as we do for regular algorithm.\n",
        "\n",
        "The number of gates, the type of gates are useful metrics, the most important one is the **circuit depth**, Loosely speaking the depth is the number of time steps it takes for a circuit to run, if we do things as in -parallel as possible. \n",
        "\n",
        "Alternatively we can think of it as the number of layers in a circuit.\n",
        "\n",
        "\n"
      ]
    },
    {
      "cell_type": "markdown",
      "metadata": {
        "id": "QSKqqLikdRA7"
      },
      "source": [
        "### Exercise I.2.4\n",
        "\n",
        "What is the depth of the cirucit in the picture here:\n",
        "\n",
        "![](https://codebook.xanadu.ai/pics/circuit_i-2-2.svg)"
      ]
    },
    {
      "cell_type": "code",
      "execution_count": 6,
      "metadata": {
        "id": "zqRt-UVOcp4X"
      },
      "outputs": [],
      "source": [
        "dev = qml.device(\"default.qubit\", wires=3)\n",
        "\n",
        "@qml.qnode(dev)\n",
        "def my_circuit(theta, phi, omega):\n",
        "    qml.RX(theta, wires=0)\n",
        "    qml.RY(phi, wires=1)\n",
        "    qml.RZ(omega, wires=2)\n",
        "    qml.CNOT(wires=[0, 1])\n",
        "    qml.CNOT(wires=[1, 2])\n",
        "    qml.CNOT(wires=[2, 0])\n",
        "    return qml.probs(wires=[0, 1, 2])\n",
        "\n",
        "\n",
        "##################\n",
        "# YOUR CODE HERE #\n",
        "##################\n",
        "\n",
        "# FILL IN THE CORRECT CIRCUIT DEPTH\n",
        "depth = 4\n"
      ]
    }
  ],
  "metadata": {
    "colab": {
      "provenance": []
    },
    "kernelspec": {
      "display_name": "Python 3",
      "name": "python3"
    },
    "language_info": {
      "name": "python"
    }
  },
  "nbformat": 4,
  "nbformat_minor": 0
}
