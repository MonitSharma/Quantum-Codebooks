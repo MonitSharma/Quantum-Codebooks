{
  "cells": [
    {
      "cell_type": "markdown",
      "metadata": {
        "id": "hflLpKN4quS9"
      },
      "source": [
        "# All tied up\n",
        "\n",
        "\n",
        "### Learning Outcomes\n",
        "\n",
        "<li> Define and apply entangling operations to mutli-qubit systems.\n",
        "\n",
        "<li> Define the controlled-NOT gate and write its matrix representation.\n",
        "\n",
        "<li> Define and apply general controlled operations."
      ]
    },
    {
      "attachments": {},
      "cell_type": "markdown",
      "metadata": {
        "id": "y0qBoucErAlU"
      },
      "source": [
        "Author: [Monit Sharma](https://github.com/MonitSharma)\n",
        "LinkedIn: [Monit Sharma](https://www.linkedin.com/in/monitsharma/)\n",
        "Twitter: [@MonitSharma1729](https://twitter.com/MonitSharma1729)\n",
        "Medium : [MonitSharma](https://medium.com/@_monitsharma)"
      ]
    },
    {
      "cell_type": "markdown",
      "metadata": {
        "id": "_eHaEVv5rt5b"
      },
      "source": [
        "## Mathematics of Entangled states\n",
        "\n",
        "We now come to a very important property of quantum systems: **entanglement**. Along with superposition, entanglement is one of the two hallmark features of quantum computing,that underscore if its advantage.\n",
        "\n",
        "----\n",
        "\n",
        "Entanglement is used as a *resource* in many quantum algorithms , including quantum teleportation."
      ]
    },
    {
      "cell_type": "markdown",
      "metadata": {
        "id": "gHkoAbMFs-FC"
      },
      "source": [
        "By definition, a state is **entangled** if it cannot be described as a tensor product of individual qubit states (if it can be **separable**). \n",
        "\n",
        "An entangled state can only be described by specifying the full state. Entanglement generalizes to larger systems as well.\n",
        "\n",
        "----\n",
        "\n",
        "\n",
        "For example: a famous $3$ qubit entangled state is **Greenberg-Horne-Zeilinger** or GHZ\n",
        "\n",
        "\n",
        "$$|GHZ⟩ = \\frac{1}{\\sqrt{2}}(|000⟩ + |111⟩)$$\n",
        "\n",
        "\n",
        "-----\n",
        "\n",
        "Quantum states with more than two qubits may also have varying degrees of entanglement. The GHZ state above is **fully entangled** as none of the qubits can be written independently of the others.\n",
        "\n",
        "\n",
        "\n"
      ]
    },
    {
      "cell_type": "markdown",
      "metadata": {
        "id": "ofkIeuyKuwz4"
      },
      "source": [
        "### The CNOT gate\n",
        "\n",
        "You might be wondering how it is possible to make such a state. An **entangling gate** is an operation that transforms some separable state into an entangled state.\n",
        "\n",
        "----\n",
        "\n",
        "The most important entangling gate is the **controlled-NOT** or **CNOT** gate.\n",
        "\n",
        "![](https://codebook.xanadu.ai/pics/cnot.svg)\n",
        "\n",
        "The first qubit, denoted with the solid dot is the **controlled qubit**. The second qubit is called the **target qubit**."
      ]
    },
    {
      "cell_type": "markdown",
      "metadata": {
        "id": "PDVHEgyqyUiE"
      },
      "source": [
        "## Universal gate sets\n",
        "\n",
        "Earlier, we learned about universal gate sets for single-qubit operations. The sets $\\{CNOT, H, T\\}$ $\\{CNOT, RY, RZ\\}$ are both universal gate sets for multi-qubit computations"
      ]
    },
    {
      "cell_type": "code",
      "execution_count": null,
      "metadata": {
        "id": "To-y6nMeqeJM"
      },
      "outputs": [],
      "source": [
        "%pip install pennylane\n",
        "import pennylane as qml\n",
        "import numpy as np"
      ]
    },
    {
      "cell_type": "markdown",
      "metadata": {
        "id": "amBHRZ1v56Rk"
      },
      "source": [
        "## Code Exercise\n",
        "\n",
        "In PennyLane, CNOTs can be applied using `qml.CNOT` and the following synatx:\n",
        "\n",
        "```python\n",
        "def circuit():\n",
        "  qml.CNOT(wires=[control, target])\n",
        "```\n",
        "\n",
        "where `control` and `target` are the wire labels"
      ]
    },
    {
      "cell_type": "markdown",
      "metadata": {
        "id": "24cmErlQ6PY_"
      },
      "source": [
        "### Codercise I.12.1\n",
        "\n",
        "Write a circuit that implements a CNOT gate between two qubits. Test it out on all four computational basis states."
      ]
    },
    {
      "cell_type": "code",
      "execution_count": 16,
      "metadata": {
        "colab": {
          "base_uri": "https://localhost:8080/"
        },
        "id": "605Sw-Gv2Hcj",
        "outputId": "57481edd-0e78-43be-9eeb-689b11fb5c0f"
      },
      "outputs": [
        {
          "name": "stdout",
          "output_type": "stream",
          "text": [
            "[1.+0.j 0.+0.j 0.+0.j 0.+0.j]\n"
          ]
        }
      ],
      "source": [
        "dev = qml.device('default.qubit', wires=2)\n",
        "\n",
        "@qml.qnode(dev)\n",
        "def apply_cnot(basis_id):\n",
        "    \"\"\"Apply a CNOT to |basis_id>.\n",
        "\n",
        "    Args:\n",
        "        basis_id (int): An integer value identifying the basis state to construct.\n",
        "      \n",
        "    Returns:\n",
        "        array[complex]: The resulting state after applying CNOT|basis_id>.\n",
        "    \"\"\"\n",
        "\n",
        "    # Prepare the basis state |basis_id>\n",
        "    bits = [int(x) for x in np.binary_repr(basis_id, width=dev.num_wires)]\n",
        "    qml.BasisStatePreparation(bits, wires=[0, 1])\n",
        "\n",
        "    ##################\n",
        "    # YOUR CODE HERE #\n",
        "    ##################\n",
        "    \n",
        "    qml.CNOT(wires = [0,1])\n",
        "\n",
        "    # APPLY THE CNOT\n",
        "    \n",
        "    return qml.state()\n",
        "\n",
        "\n",
        "##################\n",
        "# YOUR CODE HERE #\n",
        "##################\n",
        "\n",
        "# REPLACE THE BIT STRINGS VALUES BELOW WITH THE CORRECT ONES\n",
        "cnot_truth_table = {\n",
        "    \"00\" : \"00\",\n",
        "    \"01\" : \"01\",\n",
        "    \"10\" : \"11\",\n",
        "    \"11\" : \"10\"\n",
        "}\n",
        "\n",
        "\n",
        "# Run your QNode with various inputs to help fill in your truth table\n",
        "print(apply_cnot(0))\n"
      ]
    },
    {
      "cell_type": "markdown",
      "metadata": {
        "id": "ax_PXd696sse"
      },
      "source": [
        "### Codercise I.12.2\n",
        "\n",
        "Implement the following circuit and inspect the output state.\n",
        "\n",
        "![](https://codebook.xanadu.ai/pics/bell_normal.svg)\n"
      ]
    },
    {
      "cell_type": "code",
      "execution_count": 17,
      "metadata": {
        "colab": {
          "base_uri": "https://localhost:8080/"
        },
        "id": "L5q7SPzX6rtB",
        "outputId": "e2cfbde8-429b-4f91-9e3b-e7da9ed62a59"
      },
      "outputs": [
        {
          "name": "stdout",
          "output_type": "stream",
          "text": [
            "[0.70710678+0.j 0.        +0.j 0.        +0.j 0.70710678+0.j]\n"
          ]
        }
      ],
      "source": [
        "dev = qml.device(\"default.qubit\", wires=2)\n",
        "\n",
        "@qml.qnode(dev)\n",
        "def apply_h_cnot():\n",
        "    ##################\n",
        "    # YOUR CODE HERE #\n",
        "    ##################\n",
        "\n",
        "    # APPLY THE OPERATIONS IN THE CIRCUIT\n",
        "    qml.Hadamard(wires=0)\n",
        "    qml.CNOT(wires=[0,1])\n",
        "\n",
        "    return qml.state()\n",
        "\n",
        "\n",
        "print(apply_h_cnot())\n",
        "\n",
        "##################\n",
        "# YOUR CODE HERE #\n",
        "##################\n",
        "\n",
        "# SET THIS AS 'separable' OR 'entangled' BASED ON YOUR OUTCOME\n",
        "state_status = \"entangled\"\n"
      ]
    },
    {
      "cell_type": "markdown",
      "metadata": {
        "id": "Jw3LLTuw67SB"
      },
      "source": [
        "Indeed, the state you obtained by running this circuit\n",
        "\n",
        "$$\\frac{1}{\\sqrt{2}}(|00⟩ + |11⟩) $$\n",
        "\n",
        "is a very famous entangled state called a Bell state. Try as you might, you will not be able to separate this state into a tensor product of two single-qubit states. The $CNOT$, then, is an entangling gate.\n",
        "\n",
        "\n"
      ]
    },
    {
      "cell_type": "markdown",
      "metadata": {
        "id": "lKvHZB2h7PkS"
      },
      "source": [
        "### Codercise I.12.3\n",
        "\n",
        "Write a circuit in PennyLane that implements the following sequence of operations. Return the measurement outcome probabilities.\n",
        "\n",
        "![](https://codebook.xanadu.ai/pics/circuit_i-12-3.svg)"
      ]
    },
    {
      "cell_type": "code",
      "execution_count": 18,
      "metadata": {
        "colab": {
          "base_uri": "https://localhost:8080/"
        },
        "id": "Vbp-fAtc64Hx",
        "outputId": "a13909f1-a390-40a1-e294-1d8760c70a8c"
      },
      "outputs": [
        {
          "name": "stdout",
          "output_type": "stream",
          "text": [
            "[5.00000000e-01 0.00000000e+00 0.00000000e+00 0.00000000e+00\n",
            " 4.98751041e-01 0.00000000e+00 1.23651067e-03 1.24480103e-05]\n"
          ]
        }
      ],
      "source": [
        "dev = qml.device('default.qubit', wires=3)\n",
        "\n",
        "@qml.qnode(dev)\n",
        "def controlled_rotations(theta, phi, omega):\n",
        "    \"\"\"Implement the circuit above and return measurement outcome probabilities.\n",
        "\n",
        "    Args:\n",
        "        theta (float): A rotation angle\n",
        "        phi (float): A rotation angle\n",
        "        omega (float): A rotation angle\n",
        "\n",
        "    Returns:\n",
        "        array[float]: Measurement outcome probabilities of the 3-qubit \n",
        "        computational basis states.\n",
        "    \"\"\"\n",
        "    qml.Hadamard(wires=0)\n",
        "    qml.CRX(theta, wires=[0,1])\n",
        "    qml.CRY(phi, wires=[1,2])\n",
        "    qml.CRZ(omega, wires=[2,0])\n",
        "    \n",
        "    ##################\n",
        "    # YOUR CODE HERE #\n",
        "    ##################\n",
        "\n",
        "    # APPLY THE OPERATIONS IN THE CIRCUIT AND RETURN MEASUREMENT PROBABILITIES\n",
        "\n",
        "    return qml.probs(wires=[0, 1, 2])\n",
        "\n",
        "theta, phi, omega = 0.1, 0.2, 0.3\n",
        "print(controlled_rotations(theta, phi, omega))\n"
      ]
    },
    {
      "cell_type": "code",
      "execution_count": null,
      "metadata": {
        "id": "2imEYgPK7Ydh"
      },
      "outputs": [],
      "source": []
    }
  ],
  "metadata": {
    "colab": {
      "provenance": []
    },
    "kernelspec": {
      "display_name": "Python 3",
      "name": "python3"
    },
    "language_info": {
      "name": "python"
    }
  },
  "nbformat": 4,
  "nbformat_minor": 0
}
