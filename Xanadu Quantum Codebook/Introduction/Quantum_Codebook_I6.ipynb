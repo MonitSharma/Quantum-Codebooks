{
  "cells": [
    {
      "cell_type": "markdown",
      "metadata": {
        "id": "b29g7plDKc8H"
      },
      "source": [
        "# From a different angle \n",
        "\n",
        "## Learning Outcomes\n",
        "\n",
        "<li> Describe the action of the $RX$ gate and its matrix representation.\n",
        "\n",
        "<li> Describe the action of the $RY$ gate and its matrix representation\n",
        "\n",
        "<li> Represent qubit states in $3$ dimensional space using Bloch Sphere\n",
        "\n",
        "\n"
      ]
    },
    {
      "attachments": {},
      "cell_type": "markdown",
      "metadata": {},
      "source": [
        "Author: [Monit Sharma](https://github.com/MonitSharma)\n",
        "LinkedIn: [Monit Sharma](https://www.linkedin.com/in/monitsharma/)\n",
        "Twitter: [@MonitSharma1729](https://twitter.com/MonitSharma1729)\n",
        "Medium : [MonitSharma](https://medium.com/@_monitsharma)"
      ]
    },
    {
      "cell_type": "markdown",
      "metadata": {
        "id": "3lyCFzS2KxCY"
      },
      "source": [
        "Qubits bear a special relationship with $3$ dimensional space. We saw in the previous node that the most general form of a qubit is:\n",
        "\n",
        "$$ |\\psi⟩ = a|0⟩ + b e^{\\iota \\phi}|1⟩$$\n",
        "\n",
        "where $a$ and $b$ are two real numbers. The normalization requirements of the state also tell us something that $a^2 + b^2 = 1$. We can make this natural association of $a$ and $b$ to two trigonometric functions $a = \\cos (\\theta/2) $ and $b = \\sin (\\theta/2)$.\n",
        "\n",
        "$$ |\\psi⟩ = \\cos \\bigg(\\frac{\\theta}{2}\\bigg) |0⟩ + \\sin \\bigg(\\frac{\\theta}{2}\\bigg)e^{\\iota \\phi } |1⟩$$\n",
        "\n",
        "\n",
        "----\n",
        "\n",
        "We have a single-qubit state parameterized by two angles $\\theta$ and $\\phi$ with length $1$. This suggests that we could make associations between qubit sttaes and unit vectors in $3-$ dimensional space expressed in *spherical coordinates*\n",
        "\n",
        "\n"
      ]
    },
    {
      "cell_type": "markdown",
      "metadata": {
        "id": "7C0zzd0QL58W"
      },
      "source": [
        "### Bloch Sphere\n",
        "\n",
        "The Bloch sphere is a spherical representation of the state of a single qubit. Each qubit state vector corresponds to a *real* vector on the surface of the sphere in a $3$ dimensional space.\n",
        "\n",
        "\n"
      ]
    },
    {
      "cell_type": "markdown",
      "metadata": {
        "id": "O64UlG1D_HQp"
      },
      "source": [
        "## Exercise\n",
        "\n",
        "We know how to change the phase of the amplitudes, but how do we change their magnitude? \n",
        "\n",
        "In addition to $RZ$ we also have $RX$ and $RY$. These are available in PennyLabe as `qml.RX` and `qml.RY`\n",
        "\n"
      ]
    },
    {
      "cell_type": "markdown",
      "metadata": {
        "id": "jXtSrgac_iwb"
      },
      "source": [
        "### Exercise I.6.1\n",
        "\n",
        "Write a QNode that applies `qml.RX` with an angle of $\\pi$ to one of the computational basis states. WHat operation is this?"
      ]
    },
    {
      "cell_type": "code",
      "execution_count": 1,
      "metadata": {
        "colab": {
          "base_uri": "https://localhost:8080/"
        },
        "id": "bRnUuCteKU3r",
        "outputId": "aaa3a813-9376-4a26-dbdb-5e768ac16476"
      },
      "outputs": [
        {
          "name": "stdout",
          "output_type": "stream",
          "text": [
            "Looking in indexes: https://pypi.org/simple, https://us-python.pkg.dev/colab-wheels/public/simple/\n",
            "Collecting pennylane\n",
            "  Downloading PennyLane-0.28.0-py3-none-any.whl (1.3 MB)\n",
            "\u001b[2K     \u001b[90m━━━━━━━━━━━━━━━━━━━━━━━━━━━━━━━━━━━━━━━━\u001b[0m \u001b[32m1.3/1.3 MB\u001b[0m \u001b[31m57.2 MB/s\u001b[0m eta \u001b[36m0:00:00\u001b[0m\n",
            "\u001b[?25hRequirement already satisfied: toml in /usr/local/lib/python3.8/dist-packages (from pennylane) (0.10.2)\n",
            "Collecting pennylane-lightning>=0.28\n",
            "  Downloading PennyLane_Lightning-0.28.1-cp38-cp38-manylinux_2_17_x86_64.manylinux2014_x86_64.whl (15.3 MB)\n",
            "\u001b[2K     \u001b[90m━━━━━━━━━━━━━━━━━━━━━━━━━━━━━━━━━━━━━━━\u001b[0m \u001b[32m15.3/15.3 MB\u001b[0m \u001b[31m107.2 MB/s\u001b[0m eta \u001b[36m0:00:00\u001b[0m\n",
            "\u001b[?25hCollecting retworkx\n",
            "  Downloading retworkx-0.12.1-py3-none-any.whl (10 kB)\n",
            "Requirement already satisfied: appdirs in /usr/local/lib/python3.8/dist-packages (from pennylane) (1.4.4)\n",
            "Requirement already satisfied: cachetools in /usr/local/lib/python3.8/dist-packages (from pennylane) (5.2.1)\n",
            "Requirement already satisfied: autograd in /usr/local/lib/python3.8/dist-packages (from pennylane) (1.5)\n",
            "Requirement already satisfied: numpy<1.24 in /usr/local/lib/python3.8/dist-packages (from pennylane) (1.21.6)\n",
            "Requirement already satisfied: requests in /usr/local/lib/python3.8/dist-packages (from pennylane) (2.25.1)\n",
            "Collecting autoray>=0.3.1\n",
            "  Downloading autoray-0.5.3-py3-none-any.whl (39 kB)\n",
            "Requirement already satisfied: scipy in /usr/local/lib/python3.8/dist-packages (from pennylane) (1.7.3)\n",
            "Collecting semantic-version>=2.7\n",
            "  Downloading semantic_version-2.10.0-py2.py3-none-any.whl (15 kB)\n",
            "Requirement already satisfied: networkx in /usr/local/lib/python3.8/dist-packages (from pennylane) (3.0)\n",
            "Collecting ninja\n",
            "  Downloading ninja-1.11.1-py2.py3-none-manylinux_2_12_x86_64.manylinux2010_x86_64.whl (145 kB)\n",
            "\u001b[2K     \u001b[90m━━━━━━━━━━━━━━━━━━━━━━━━━━━━━━━━━━━━━━\u001b[0m \u001b[32m146.0/146.0 KB\u001b[0m \u001b[31m19.8 MB/s\u001b[0m eta \u001b[36m0:00:00\u001b[0m\n",
            "\u001b[?25hRequirement already satisfied: future>=0.15.2 in /usr/local/lib/python3.8/dist-packages (from autograd->pennylane) (0.16.0)\n",
            "Requirement already satisfied: certifi>=2017.4.17 in /usr/local/lib/python3.8/dist-packages (from requests->pennylane) (2022.12.7)\n",
            "Requirement already satisfied: urllib3<1.27,>=1.21.1 in /usr/local/lib/python3.8/dist-packages (from requests->pennylane) (1.24.3)\n",
            "Requirement already satisfied: idna<3,>=2.5 in /usr/local/lib/python3.8/dist-packages (from requests->pennylane) (2.10)\n",
            "Requirement already satisfied: chardet<5,>=3.0.2 in /usr/local/lib/python3.8/dist-packages (from requests->pennylane) (4.0.0)\n",
            "Collecting rustworkx==0.12.1\n",
            "  Downloading rustworkx-0.12.1-cp38-cp38-manylinux_2_17_x86_64.manylinux2014_x86_64.whl (1.9 MB)\n",
            "\u001b[2K     \u001b[90m━━━━━━━━━━━━━━━━━━━━━━━━━━━━━━━━━━━━━━━━\u001b[0m \u001b[32m1.9/1.9 MB\u001b[0m \u001b[31m103.9 MB/s\u001b[0m eta \u001b[36m0:00:00\u001b[0m\n",
            "\u001b[?25hInstalling collected packages: ninja, semantic-version, rustworkx, autoray, retworkx, pennylane-lightning, pennylane\n",
            "Successfully installed autoray-0.5.3 ninja-1.11.1 pennylane-0.28.0 pennylane-lightning-0.28.1 retworkx-0.12.1 rustworkx-0.12.1 semantic-version-2.10.0\n"
          ]
        }
      ],
      "source": [
        "%pip install pennylane\n",
        "import pennylane as qml\n",
        "import numpy as np"
      ]
    },
    {
      "cell_type": "code",
      "execution_count": 2,
      "metadata": {
        "colab": {
          "base_uri": "https://localhost:8080/"
        },
        "id": "C0uyWNzf_2y3",
        "outputId": "b049e727-88c6-41fd-b18c-7837d9764bc6"
      },
      "outputs": [
        {
          "name": "stdout",
          "output_type": "stream",
          "text": [
            "[6.123234e-17+0.j 0.000000e+00-1.j]\n",
            "[0.000000e+00-1.j 6.123234e-17+0.j]\n"
          ]
        }
      ],
      "source": [
        "dev = qml.device(\"default.qubit\", wires=1)\n",
        "\n",
        "@qml.qnode(dev)\n",
        "def apply_rx_pi(state):\n",
        "    \"\"\"Apply an RX gate with an angle of \\pi to a particular basis state.\n",
        "    \n",
        "    Args:\n",
        "        state (int): Either 0 or 1. If 1, initialize the qubit to state |1>\n",
        "            before applying other operations.\n",
        "    \n",
        "    Returns:\n",
        "        array[complex]: The state of the qubit after the operations.\n",
        "    \"\"\"\n",
        "    if state == 1:\n",
        "        qml.PauliX(wires=0)\n",
        "        \n",
        "        \n",
        "\n",
        "    ##################\n",
        "    # YOUR CODE HERE #\n",
        "    ##################\n",
        "    qml.RX(np.pi,wires=0)\n",
        "\n",
        "    # APPLY RX(pi) AND RETURN THE STATE\n",
        "\n",
        "    return qml.state()\n",
        "\n",
        "print(apply_rx_pi(0))\n",
        "print(apply_rx_pi(1))"
      ]
    },
    {
      "cell_type": "markdown",
      "metadata": {
        "id": "KIWYA2gE_5YE"
      },
      "source": [
        "For this special case $RX(\\pi) = X$ up to a global phase of $-\\iota$ . But what does $RX$ do more generally?"
      ]
    },
    {
      "cell_type": "markdown",
      "metadata": {
        "id": "iQoy2G77AGpC"
      },
      "source": [
        "### Exercise I.6.2\n",
        "The matrix representation of $RX$ is \n",
        "\n",
        "$$\\begin{align}\\begin{aligned}\\newcommand{\\th}{\\frac{\\theta}{2}}\\\\\\begin{split}RX(\\theta) = \\exp\\left(-i \\th X\\right) =\n",
        "    \\begin{pmatrix}\n",
        "        \\cos{\\th}   & -i\\sin{\\th} \\\\\n",
        "        -i\\sin{\\th} & \\cos{\\th}\n",
        "    \\end{pmatrix}\\end{split}\\end{aligned}\\end{align}\n",
        "$$\n",
        "\n",
        "How does this affect the amplitudes when we apply it to a quantum state? \n",
        "\n",
        "----\n",
        "\n",
        "Implement a QNode that applies the `qml.RX` operation with parameter $\\theta$ to a specified basis state\n",
        "\n"
      ]
    },
    {
      "cell_type": "code",
      "execution_count": 11,
      "metadata": {
        "id": "e3oUyEJRBilU"
      },
      "outputs": [],
      "source": [
        "import matplotlib.pyplot as plt"
      ]
    },
    {
      "cell_type": "code",
      "execution_count": 12,
      "metadata": {
        "colab": {
          "base_uri": "https://localhost:8080/",
          "height": 334
        },
        "id": "E5k5uTi6_4aR",
        "outputId": "aebfc789-df6b-4bc7-eee2-09948716b841"
      },
      "outputs": [
        {
          "name": "stderr",
          "output_type": "stream",
          "text": [
            "/usr/local/lib/python3.8/dist-packages/matplotlib/cbook/__init__.py:1317: ComplexWarning: Casting complex values to real discards the imaginary part\n",
            "  return np.asarray(x, float)\n"
          ]
        },
        {
          "data": {
            "text/plain": [
              "[<matplotlib.lines.Line2D at 0x7f6d33cbad30>,\n",
              " <matplotlib.lines.Line2D at 0x7f6d33cbae80>]"
            ]
          },
          "execution_count": 12,
          "metadata": {},
          "output_type": "execute_result"
        },
        {
          "data": {
            "image/png": "[encoded data removed]",
            "text/plain": [
              "<Figure size 432x288 with 1 Axes>"
            ]
          },
          "metadata": {
            "needs_background": "light"
          },
          "output_type": "display_data"
        }
      ],
      "source": [
        "dev = qml.device('default.qubit', wires=1)\n",
        "\n",
        "@qml.qnode(dev)\n",
        "def apply_rx(theta, state):\n",
        "    \"\"\"Apply an RX gate with an angle of theta to a particular basis state.\n",
        "    \n",
        "    Args:\n",
        "        theta (float): A rotation angle.\n",
        "        state (int): Either 0 or 1. If 1, initialize the qubit to state |1>\n",
        "            before applying other operations.\n",
        "    \n",
        "    Returns:\n",
        "        array[complex]: The state of the qubit after the operations.\n",
        "    \"\"\"\n",
        "    if state == 1:\n",
        "        qml.PauliX(wires=0)\n",
        "\n",
        "    ##################\n",
        "    # YOUR CODE HERE #\n",
        "    ##################\n",
        "    qml.RX(theta, wires=0)\n",
        "\n",
        "    # APPLY RX(theta) AND RETURN THE STATE\n",
        "\n",
        "    return qml.state()\n",
        "\n",
        "# Code for plotting\n",
        "angles = np.linspace(0, 4*np.pi, 200)\n",
        "output_states = np.array([apply_rx(t, 0) for t in angles])\n",
        "\n",
        "plt.plot(angles, output_states)\n",
        "\n"
      ]
    },
    {
      "cell_type": "markdown",
      "metadata": {
        "id": "Vypstx-eBxY0"
      },
      "source": [
        "Both the matrix representation and plot show that\n",
        "\n",
        "$$ RX(θ)|0⟩ = \\cos (θ/2) |0⟩ - ι \\sin (θ/2) |1⟩$$\n",
        "\n",
        "The way the operation acts on the amplitude is periodic, and is described by simple trigonometric functions."
      ]
    },
    {
      "cell_type": "markdown",
      "metadata": {
        "id": "w_IB6QOsCImd"
      },
      "source": [
        "### Exercise I.6.3 \n",
        "\n",
        "Repeat the above exercise, but using `qml.RY`. From the amplitudes you obtain for $RY|0⟩$ "
      ]
    },
    {
      "cell_type": "code",
      "execution_count": 13,
      "metadata": {
        "colab": {
          "base_uri": "https://localhost:8080/",
          "height": 334
        },
        "id": "UXTU4lsUAo6y",
        "outputId": "d3eea3ba-9823-443a-ba70-3e5f2688c521"
      },
      "outputs": [
        {
          "name": "stderr",
          "output_type": "stream",
          "text": [
            "/usr/local/lib/python3.8/dist-packages/matplotlib/cbook/__init__.py:1317: ComplexWarning: Casting complex values to real discards the imaginary part\n",
            "  return np.asarray(x, float)\n"
          ]
        },
        {
          "data": {
            "text/plain": [
              "[<matplotlib.lines.Line2D at 0x7f6d33c14490>,\n",
              " <matplotlib.lines.Line2D at 0x7f6d33c145e0>]"
            ]
          },
          "execution_count": 13,
          "metadata": {},
          "output_type": "execute_result"
        },
        {
          "data": {
            "image/png": "[encoded data removed]",
            "text/plain": [
              "<Figure size 432x288 with 1 Axes>"
            ]
          },
          "metadata": {
            "needs_background": "light"
          },
          "output_type": "display_data"
        }
      ],
      "source": [
        "dev = qml.device('default.qubit', wires=1)\n",
        "\n",
        "@qml.qnode(dev)\n",
        "def apply_ry(theta, state):\n",
        "    \"\"\"Apply an RY gate with an angle of theta to a particular basis state.\n",
        "    \n",
        "    Args:\n",
        "        theta (float): A rotation angle.\n",
        "        state (int): Either 0 or 1. If 1, initialize the qubit to state |1>\n",
        "            before applying other operations.\n",
        "    \n",
        "    Returns:\n",
        "        array[complex]: The state of the qubit after the operations.\n",
        "    \"\"\"\n",
        "    if state == 1:\n",
        "        qml.PauliX(wires=0)\n",
        "\n",
        "    ##################\n",
        "    # YOUR CODE HERE #\n",
        "    ##################\n",
        "    qml.RY(theta,wires=0)\n",
        "\n",
        "    # APPLY RY(theta) AND RETURN THE STATE\n",
        "\n",
        "    return qml.state()\n",
        "\n",
        "# Code for plotting\n",
        "angles = np.linspace(0, 4*np.pi, 200)\n",
        "output_states = np.array([apply_ry(t, 0) for t in angles])\n",
        "\n",
        "plt.plot(angles, output_states)"
      ]
    },
    {
      "cell_type": "markdown",
      "metadata": {
        "id": "2vcT3yqECxjr"
      },
      "source": [
        "Completing the previous exercise shows that $RY$ is quite similar to $RX$ and allows us to adjust the relative sizes of the amplitudes, but without the complex portion.\n",
        "\n",
        "$$ \\begin{align}\\begin{aligned}\\newcommand{\\th}{\\frac{\\theta}{2}}\\\\\\begin{split}RY(\\theta) = \\exp\\left(-i \\th Y\\right) =\n",
        "    \\begin{pmatrix}\n",
        "        \\cos{\\th} & -\\sin{\\th} \\\\\n",
        "        \\sin{\\th} & \\cos{\\th}\n",
        "    \\end{pmatrix}\\end{split}\\end{aligned}\\end{align}\n",
        "$$\n",
        "\n",
        "and its action on the basis states is\n",
        "\n",
        "$$ RY(θ) |0⟩ = \\cos (θ/2) |0⟩ + \\sin (θ/2) |1⟩$$\n",
        "\n",
        "Finally hust like $RX$ and $RZ$ there is a special case where $θ = Π$ the $Y$ gate which is implemented in PennyLane as `qml.PauliY`\n",
        "\n"
      ]
    },
    {
      "cell_type": "code",
      "execution_count": null,
      "metadata": {
        "id": "vtg30_hKCaNg"
      },
      "outputs": [],
      "source": []
    }
  ],
  "metadata": {
    "colab": {
      "provenance": []
    },
    "kernelspec": {
      "display_name": "Python 3",
      "name": "python3"
    },
    "language_info": {
      "name": "python"
    }
  },
  "nbformat": 4,
  "nbformat_minor": 0
}
