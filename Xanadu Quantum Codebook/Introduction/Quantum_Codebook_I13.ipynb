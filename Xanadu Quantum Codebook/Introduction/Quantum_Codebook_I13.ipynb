{
  "cells": [
    {
      "cell_type": "markdown",
      "metadata": {
        "id": "icsYZX27A7zz"
      },
      "source": [
        "# We've got it under control\n",
        "\n",
        "### Learning outcomes\n",
        "\n",
        "<li> Define and apply a set of common multi-qubit operations: the controlled-Z,Toffoli and SWAP gates\n",
        "\n",
        "<li> Express common 3-qubit operations in term of $1$ and $2$ qubit operations"
      ]
    },
    {
      "attachments": {},
      "cell_type": "markdown",
      "metadata": {
        "id": "FNvcEz2eWX-m"
      },
      "source": [
        "Author: [Monit Sharma](https://github.com/MonitSharma)\n",
        "LinkedIn: [Monit Sharma](https://www.linkedin.com/in/monitsharma/)\n",
        "Twitter: [@MonitSharma1729](https://twitter.com/MonitSharma1729)\n",
        "Medium : [MonitSharma](https://medium.com/@_monitsharma)"
      ]
    },
    {
      "cell_type": "markdown",
      "metadata": {
        "id": "t8ew1reKWZlH"
      },
      "source": [
        "## Controlled -Z\n",
        "\n",
        "The controlled-Z gate is similar to the controlled-NOT gate. The difference is that rather than applying an $X$ controlled on qubits state, we apply a $Z$\n",
        "\n",
        "\n",
        "----\n",
        "\n",
        "It also has two different representations in circuit diagrams.\n",
        "\n",
        "![](https://codebook.xanadu.ai/pics/cz.svg)\n",
        "\n",
        "\n",
        "This is also called **controlled phase** gate."
      ]
    },
    {
      "cell_type": "markdown",
      "metadata": {
        "id": "I6VWR-37W4cH"
      },
      "source": [
        "## The SWAP gate\n",
        "\n",
        "The **SWAP gate** is exactly what it sounds like: it exchanges the states of the two qubits\n",
        "\n",
        "$$SWAP(|\\psi⟩ \\otimes |\\phi⟩) = |\\phi⟩ \\otimes |\\psi⟩ $$\n",
        "\n",
        "It is denoted by the following circuit element.\n",
        "\n",
        "![](https://codebook.xanadu.ai/pics/swap.svg)\n",
        "\n",
        "\n",
        "\n",
        "\n"
      ]
    },
    {
      "cell_type": "markdown",
      "metadata": {
        "id": "a6Tc1TFvXYCF"
      },
      "source": [
        "## The Toffoli gate\n",
        "\n",
        "Earlier we mentioned that we could make controlled operations with any number of qubits. Most common is **Toffoli gate**. It has two control qubits, and behaves like a controlled-CNOT.\n",
        "\n",
        "\n",
        "----\n",
        "\n",
        "The circuit element is:\n",
        "\n",
        "![](https://codebook.xanadu.ai/pics/toffoli.svg)"
      ]
    },
    {
      "cell_type": "markdown",
      "metadata": {
        "id": "B91ka5jAXwJY"
      },
      "source": [
        "Previously we discussed the quantum circuit synthesis. We now know that $\\{CNOT, H, T\\}$ is a universal gate set for multi-qubit gates. This means that we should be able to decompose gates like the Toffoli down into $1$ and $2$ qubit gates.\n",
        "\n",
        "\n",
        "Example:\n",
        "\n",
        "![](https://codebook.xanadu.ai/pics/toffoli-decomp.svg)"
      ]
    },
    {
      "cell_type": "markdown",
      "metadata": {
        "id": "7Kn7sOJepdmA"
      },
      "source": [
        "## Code Exercise\n",
        "\n",
        "In PennyLane , it's available as `qml.CZ` and can be called in the same way `qml.CNOT`\n",
        "\n",
        "```python\n",
        "def circuit():\n",
        "  qml.CZ(wires=[c1, target])\n",
        "```"
      ]
    },
    {
      "cell_type": "markdown",
      "metadata": {
        "id": "q0Ie3YDwpxic"
      },
      "source": [
        "### Codercise I.13.1\n",
        "\n",
        " Earlier, we learned how to create a $Z$ gate using $X$ and $H$. A similar circuit identity can be constructed for the controlled-$Z$ using controlled-$X$ (CNOT) and $H$. Complete the function imposter_cz below to reveal the relationship"
      ]
    },
    {
      "cell_type": "code",
      "execution_count": 1,
      "metadata": {
        "colab": {
          "base_uri": "https://localhost:8080/"
        },
        "id": "4Ga7Ft53qFfN",
        "outputId": "2bc28b17-e9d1-4bba-8973-aeaf49d9b0dc"
      },
      "outputs": [
        {
          "name": "stdout",
          "output_type": "stream",
          "text": [
            "Looking in indexes: https://pypi.org/simple, https://us-python.pkg.dev/colab-wheels/public/simple/\n",
            "Collecting pennylane\n",
            "  Downloading PennyLane-0.28.0-py3-none-any.whl (1.3 MB)\n",
            "\u001b[2K     \u001b[90m━━━━━━━━━━━━━━━━━━━━━━━━━━━━━━━━━━━━━━━━\u001b[0m \u001b[32m1.3/1.3 MB\u001b[0m \u001b[31m33.2 MB/s\u001b[0m eta \u001b[36m0:00:00\u001b[0m\n",
            "\u001b[?25hCollecting autoray>=0.3.1\n",
            "  Downloading autoray-0.6.0-py3-none-any.whl (46 kB)\n",
            "\u001b[2K     \u001b[90m━━━━━━━━━━━━━━━━━━━━━━━━━━━━━━━━━━━━━━━━\u001b[0m \u001b[32m46.4/46.4 KB\u001b[0m \u001b[31m5.4 MB/s\u001b[0m eta \u001b[36m0:00:00\u001b[0m\n",
            "\u001b[?25hRequirement already satisfied: cachetools in /usr/local/lib/python3.8/dist-packages (from pennylane) (5.2.1)\n",
            "Requirement already satisfied: numpy<1.24 in /usr/local/lib/python3.8/dist-packages (from pennylane) (1.21.6)\n",
            "Collecting retworkx\n",
            "  Downloading retworkx-0.12.1-py3-none-any.whl (10 kB)\n",
            "Requirement already satisfied: autograd in /usr/local/lib/python3.8/dist-packages (from pennylane) (1.5)\n",
            "Requirement already satisfied: appdirs in /usr/local/lib/python3.8/dist-packages (from pennylane) (1.4.4)\n",
            "Requirement already satisfied: requests in /usr/local/lib/python3.8/dist-packages (from pennylane) (2.25.1)\n",
            "Collecting semantic-version>=2.7\n",
            "  Downloading semantic_version-2.10.0-py2.py3-none-any.whl (15 kB)\n",
            "Requirement already satisfied: scipy in /usr/local/lib/python3.8/dist-packages (from pennylane) (1.7.3)\n",
            "Requirement already satisfied: toml in /usr/local/lib/python3.8/dist-packages (from pennylane) (0.10.2)\n",
            "Requirement already satisfied: networkx in /usr/local/lib/python3.8/dist-packages (from pennylane) (3.0)\n",
            "Collecting pennylane-lightning>=0.28\n",
            "  Downloading PennyLane_Lightning-0.28.2-cp38-cp38-manylinux_2_17_x86_64.manylinux2014_x86_64.whl (15.3 MB)\n",
            "\u001b[2K     \u001b[90m━━━━━━━━━━━━━━━━━━━━━━━━━━━━━━━━━━━━━━━━\u001b[0m \u001b[32m15.3/15.3 MB\u001b[0m \u001b[31m76.2 MB/s\u001b[0m eta \u001b[36m0:00:00\u001b[0m\n",
            "\u001b[?25hCollecting ninja\n",
            "  Downloading ninja-1.11.1-py2.py3-none-manylinux_2_12_x86_64.manylinux2010_x86_64.whl (145 kB)\n",
            "\u001b[2K     \u001b[90m━━━━━━━━━━━━━━━━━━━━━━━━━━━━━━━━━━━━━━\u001b[0m \u001b[32m146.0/146.0 KB\u001b[0m \u001b[31m17.3 MB/s\u001b[0m eta \u001b[36m0:00:00\u001b[0m\n",
            "\u001b[?25hRequirement already satisfied: future>=0.15.2 in /usr/local/lib/python3.8/dist-packages (from autograd->pennylane) (0.16.0)\n",
            "Requirement already satisfied: chardet<5,>=3.0.2 in /usr/local/lib/python3.8/dist-packages (from requests->pennylane) (4.0.0)\n",
            "Requirement already satisfied: idna<3,>=2.5 in /usr/local/lib/python3.8/dist-packages (from requests->pennylane) (2.10)\n",
            "Requirement already satisfied: urllib3<1.27,>=1.21.1 in /usr/local/lib/python3.8/dist-packages (from requests->pennylane) (1.24.3)\n",
            "Requirement already satisfied: certifi>=2017.4.17 in /usr/local/lib/python3.8/dist-packages (from requests->pennylane) (2022.12.7)\n",
            "Collecting rustworkx==0.12.1\n",
            "  Downloading rustworkx-0.12.1-cp38-cp38-manylinux_2_17_x86_64.manylinux2014_x86_64.whl (1.9 MB)\n",
            "\u001b[2K     \u001b[90m━━━━━━━━━━━━━━━━━━━━━━━━━━━━━━━━━━━━━━━━\u001b[0m \u001b[32m1.9/1.9 MB\u001b[0m \u001b[31m75.7 MB/s\u001b[0m eta \u001b[36m0:00:00\u001b[0m\n",
            "\u001b[?25hInstalling collected packages: ninja, semantic-version, rustworkx, autoray, retworkx, pennylane-lightning, pennylane\n",
            "Successfully installed autoray-0.6.0 ninja-1.11.1 pennylane-0.28.0 pennylane-lightning-0.28.2 retworkx-0.12.1 rustworkx-0.12.1 semantic-version-2.10.0\n"
          ]
        }
      ],
      "source": [
        "%pip install pennylane\n",
        "import pennylane as qml\n",
        "import numpy as np"
      ]
    },
    {
      "cell_type": "code",
      "execution_count": 4,
      "metadata": {
        "colab": {
          "base_uri": "https://localhost:8080/"
        },
        "id": "zprE2ab2A38M",
        "outputId": "2c52eb5e-9950-4841-abb2-7d95d9c306bc"
      },
      "outputs": [
        {
          "name": "stdout",
          "output_type": "stream",
          "text": [
            "True CZ output state [1.+0.j 0.+0.j 0.+0.j 0.+0.j]\n",
            "Imposter CZ output state [1.+0.j 0.+0.j 0.+0.j 0.+0.j]\n"
          ]
        }
      ],
      "source": [
        "dev = qml.device(\"default.qubit\", wires=2)\n",
        "\n",
        "# Prepare a two-qubit state; change up the angles if you like\n",
        "phi, theta, omega = 1.2, 2.3, 3.4\n",
        "\n",
        "\n",
        "@qml.qnode(device=dev)\n",
        "def true_cz(phi, theta, omega):\n",
        "    prepare_states(phi, theta, omega)\n",
        "    \n",
        "    ##################\n",
        "    # YOUR CODE HERE #\n",
        "    ##################\n",
        "    qml.CZ(wires=[0,1])\n",
        "\n",
        "    # IMPLEMENT THE REGULAR CZ GATE HERE\n",
        "    \n",
        "    return qml.state()\n",
        "\n",
        "\n",
        "@qml.qnode(dev)\n",
        "def imposter_cz(phi, theta, omega):\n",
        "    prepare_states(phi, theta, omega)\n",
        "    \n",
        "    ##################\n",
        "    # YOUR CODE HERE #\n",
        "    ##################\n",
        "    qml.Hadamard(wires=1)\n",
        "    qml.CNOT(wires=[0,1])\n",
        "    qml.Hadamard(wires=1)\n",
        "\n",
        "    # IMPLEMENT CZ USING ONLY H AND CNOT\n",
        "    \n",
        "    return qml.state()\n",
        "\n",
        "\n",
        "print(f\"True CZ output state {true_cz(phi, theta, omega)}\")\n",
        "print(f\"Imposter CZ output state {imposter_cz(phi, theta, omega)}\")\n"
      ]
    },
    {
      "cell_type": "markdown",
      "metadata": {
        "id": "sB72p_PmqL0S"
      },
      "source": [
        "### Codercise I.13.2\n",
        "\n",
        "The SWAP operation (`qml.SWAP`) exchanges the states of two qubits.\n",
        "\n",
        "![](https://codebook.xanadu.ai/pics/swap.svg)\n",
        "\n",
        "----\n",
        "\n",
        "The $SWAP$ can be implemented using only $CNOT$s. In the code below, try to find the sequence of $CNOT$s to match the output state to that produced by a $SWAP$.\n"
      ]
    },
    {
      "cell_type": "code",
      "execution_count": 5,
      "metadata": {
        "colab": {
          "base_uri": "https://localhost:8080/"
        },
        "id": "NWqH7KGVqJlg",
        "outputId": "3dbcdb7d-7e65-4627-da5e-4cdf611094fa"
      },
      "outputs": [
        {
          "name": "stdout",
          "output_type": "stream",
          "text": [
            "Regular SWAP state = [1.+0.j 0.+0.j 0.+0.j 0.+0.j]\n",
            "CNOT SWAP state = [1.+0.j 0.+0.j 0.+0.j 0.+0.j]\n"
          ]
        }
      ],
      "source": [
        "dev = qml.device(\"default.qubit\", wires=2)\n",
        "\n",
        "# Prepare a two-qubit state; change up the angles if you like\n",
        "phi, theta, omega = 1.2, 2.3, 3.4\n",
        "\n",
        "\n",
        "@qml.qnode(dev)\n",
        "def apply_swap(phi, theta, omega):\n",
        "    prepare_states(phi, theta, omega)\n",
        "\n",
        "    ##################\n",
        "    # YOUR CODE HERE #\n",
        "    ##################\n",
        "    qml.SWAP(wires=[0,1])\n",
        "\n",
        "    # IMPLEMENT THE REGULAR SWAP GATE HERE\n",
        "\n",
        "    return qml.state()\n",
        "\n",
        "\n",
        "@qml.qnode(dev)\n",
        "def apply_swap_with_cnots(phi, theta, omega):\n",
        "    prepare_states(phi, theta, omega)\n",
        "    \n",
        "    ##################\n",
        "    # YOUR CODE HERE #\n",
        "    ##################\n",
        "    qml.CNOT(wires=[0,1])\n",
        "    qml.CNOT(wires=[1,0])\n",
        "    qml.CNOT(wires=[0,1])\n",
        "    \n",
        "    \n",
        "\n",
        "    # IMPLEMENT THE SWAP GATE USING A SEQUENCE OF CNOTS\n",
        "\n",
        "    return qml.state()\n",
        "\n",
        "\n",
        "print(f\"Regular SWAP state = {apply_swap(phi, theta, omega)}\")\n",
        "print(f\"CNOT SWAP state = {apply_swap_with_cnots(phi, theta, omega)}\")\n"
      ]
    },
    {
      "cell_type": "markdown",
      "metadata": {
        "id": "xa7vu2ukrCTx"
      },
      "source": [
        "It takes three CNOTs to implement a SWAP\n",
        "\n",
        "![](https://codebook.xanadu.ai/pics/swap-cnots.svg)"
      ]
    },
    {
      "cell_type": "markdown",
      "metadata": {
        "id": "N6N1ocf6rN4o"
      },
      "source": [
        "### Codercise I.13.3\n",
        "\n",
        "Now that you've learned about the Toffoli gate, can you use it to construct a **controlled SWAP** operation?\n",
        "\n",
        "Tip. The controlled-SWAP gate is sometimes known as the **Fredkin gate**."
      ]
    },
    {
      "cell_type": "code",
      "execution_count": 6,
      "metadata": {
        "colab": {
          "base_uri": "https://localhost:8080/"
        },
        "id": "WL4cod97q906",
        "outputId": "06f5010e-a4cf-4e54-eb88-c7567f0707b4"
      },
      "outputs": [
        {
          "name": "stdout",
          "output_type": "stream",
          "text": [
            "[1.+0.j 0.+0.j 0.+0.j 0.+0.j 0.+0.j 0.+0.j 0.+0.j 0.+0.j]\n",
            "[1.+0.j 0.+0.j 0.+0.j 0.+0.j 0.+0.j 0.+0.j 0.+0.j 0.+0.j]\n"
          ]
        }
      ],
      "source": [
        "dev = qml.device(\"default.qubit\", wires=3)\n",
        "\n",
        "# Prepare first qubit in |1>, and arbitrary states on the second two qubits\n",
        "phi, theta, omega = 1.2, 2.3, 3.4\n",
        "\n",
        "\n",
        "# A helper function just so you can visualize the initial state\n",
        "# before the controlled SWAP occurs.\n",
        "@qml.qnode(dev)\n",
        "def no_swap(phi, theta, omega):\n",
        "    prepare_states(phi, theta, omega)\n",
        "    return qml.state()\n",
        "\n",
        "\n",
        "@qml.qnode(dev)\n",
        "def controlled_swap(phi, theta, omega):\n",
        "    prepare_states(phi, theta, omega)\n",
        "    \n",
        "    ##################\n",
        "    # YOUR CODE HERE #\n",
        "    ##################\n",
        "    #qml.CNOT(wires=[2,1])\n",
        "    qml.Toffoli(wires=[0,1,2])\n",
        "    #qml.CNOT(wires=[2,1])\n",
        "    qml.Toffoli(wires=[0,2,1])\n",
        "    qml.Toffoli(wires=[0,1,2])\n",
        "\n",
        "    # PERFORM A CONTROLLED SWAP USING A SEQUENCE OF TOFFOLIS\n",
        "\n",
        "    return qml.state()\n",
        "\n",
        "\n",
        "print(no_swap(phi, theta, omega))\n",
        "print(controlled_swap(phi, theta, omega))\n"
      ]
    },
    {
      "cell_type": "markdown",
      "metadata": {
        "id": "sKJw9PXFrlSz"
      },
      "source": [
        "### Codercise I.13.4\n",
        "\n",
        "In PennyLane, mixed-polarity multi-controlled Toffoli gates can be easily implemented using the **MultiControlledX** operation. With this gate, control wires, and a string of control bits, control_values, are specified as input arguments, like the example below:\n",
        "\n",
        "-----\n",
        "\n",
        "Write a 4-qubit PennyLane circuit that applies a Hadamard to the control qubits, then applies a `MultiControlledX` on the fourth qubit, controlled on the first 3 qubits being in the state $|001⟩$ . This is depicted in the circuit below: \"control on 0\" is denoted by an open circle on the control qubits, rather than a filled circle. What do you expect will happen to the target qubit?\n",
        "\n",
        "\n",
        "![](https://codebook.xanadu.ai/pics/mcx.svg)"
      ]
    },
    {
      "cell_type": "code",
      "execution_count": 7,
      "metadata": {
        "colab": {
          "base_uri": "https://localhost:8080/"
        },
        "id": "LY3b1W9rrcED",
        "outputId": "82ae3bf0-831d-49dc-e66c-397ace287af5"
      },
      "outputs": [
        {
          "name": "stdout",
          "output_type": "stream",
          "text": [
            "[0.35355339+0.j 0.        +0.j 0.        +0.j 0.35355339+0.j\n",
            " 0.35355339+0.j 0.        +0.j 0.35355339+0.j 0.        +0.j\n",
            " 0.35355339+0.j 0.        +0.j 0.35355339+0.j 0.        +0.j\n",
            " 0.35355339+0.j 0.        +0.j 0.35355339+0.j 0.        +0.j]\n"
          ]
        },
        {
          "name": "stderr",
          "output_type": "stream",
          "text": [
            "/usr/local/lib/python3.8/dist-packages/pennylane/ops/qubit/non_parametric_ops.py:2289: UserWarning: The control_wires keyword will be removed soon. Use wires = (control_wires, target_wire) instead. See the documentation for more information.\n",
            "  warnings.warn(\n"
          ]
        }
      ],
      "source": [
        "dev = qml.device('default.qubit', wires=4)\n",
        "\n",
        "@qml.qnode(dev)\n",
        "def four_qubit_mcx():\n",
        "    ##################\n",
        "    # YOUR CODE HERE #\n",
        "    ##################\n",
        "\n",
        "    # IMPLEMENT THE CIRCUIT ABOVE USING A 4-QUBIT MULTI-CONTROLLED X\\\n",
        "    qml.Hadamard(wires=0)\n",
        "    qml.Hadamard(wires=1)\n",
        "    #qml.PauliX(wires=2)\n",
        "    qml.Hadamard(wires=2)\n",
        "    qml.MultiControlledX(control_wires=[0, 1, 2], wires=3,control_values=\"001\")\n",
        "\n",
        "    return qml.state()\n",
        "\n",
        "\n",
        "print(four_qubit_mcx())\n"
      ]
    },
    {
      "cell_type": "markdown",
      "metadata": {
        "id": "3r_EhrtWr7Wu"
      },
      "source": [
        "This circuit performs something interesting. The set of three Hadamards serves to put the first three qubits in a linear superposition of all 3-qubit basis states:"
      ]
    },
    {
      "cell_type": "markdown",
      "metadata": {
        "id": "8Ow3fFOnr_Ce"
      },
      "source": [
        "### Codercise I.13.5\n",
        "Consider the 3-controlled-NOT below. Can you implement this gate using only Toffolis? You'll need one extra qubit to do so; this is called an auxiliary qubit, and note that it both starts and ends in the state $|0⟩$ .\n",
        "\n",
        "\n",
        "![](https://codebook.xanadu.ai/pics/4cx.svg)\n",
        "\n"
      ]
    },
    {
      "cell_type": "code",
      "execution_count": 8,
      "metadata": {
        "id": "8qx2iJ3fr3_o"
      },
      "outputs": [],
      "source": [
        "# Wires 0, 1, 2 are the control qubits\n",
        "# Wire 3 is the auxiliary qubit\n",
        "# Wire 4 is the target \n",
        "dev = qml.device('default.qubit', wires=5)\n",
        "\n",
        "\n",
        "@qml.qnode(dev)\n",
        "def four_qubit_mcx_only_tofs():\n",
        "    # We will initialize the control qubits in state |1> so you can see\n",
        "    # how the output state gets changed.\n",
        "    qml.PauliX(wires=0)\n",
        "    qml.PauliX(wires=1)\n",
        "    qml.PauliX(wires=2)\n",
        "\n",
        "    ##################\n",
        "    # YOUR CODE HERE #\n",
        "    ##################\n",
        "    qml.Toffoli(wires=[0,1,3])\n",
        "    qml.Toffoli(wires=[2,3,4])\n",
        "    qml.Toffoli(wires=[0,1,3])\n",
        "\n",
        "    # IMPLEMENT A 3-CONTROLLED NOT WITH TOFFOLIS\n",
        "\n",
        "    return qml.state()\n",
        "\n",
        "\n",
        "#print(four_qubit_mcx_only_tofs())\n"
      ]
    },
    {
      "cell_type": "markdown",
      "metadata": {
        "id": "8gaZpsyfsQol"
      },
      "source": [
        "To solve the general case, start with the solution for the three-controlled version:\n",
        "\n",
        "![](https://codebook.xanadu.ai/pics/4cx_solution_2.svg)\n",
        "\n",
        "First, we store the result of $ab$ on the auxiliary qubit by applying the first Toffoli. Then, we incorporate $c$ with an additional Toffoli, which adds the result to the target qubit. We then undo the computation on the auxiliary qubit by applying the Toffoli again, because it is its own inverse.\n",
        "\n",
        "------\n",
        "\n",
        "\n",
        "We can do something similar for the case where there are four control qubits, but we will need one additional auxiliary qubit. The process is largely the same: first we perform a Toffoli to get the result $ab$ on an auxiliary qubit; then we use that result and  to obtain $abc$. Finally, we incorporate  to obtain $abcd$ on the target qubit, then we undo the first two Toffolis to return the auxiliary qubits to $|0⟩$.\n",
        "\n",
        "\n",
        "\n",
        "\n",
        "-----\n",
        "\n",
        "![](https://codebook.xanadu.ai/pics/5cx_solution.svg)\n",
        "\n"
      ]
    },
    {
      "cell_type": "code",
      "execution_count": null,
      "metadata": {
        "id": "oMPPpnxFsOZ3"
      },
      "outputs": [],
      "source": []
    }
  ],
  "metadata": {
    "colab": {
      "provenance": []
    },
    "kernelspec": {
      "display_name": "Python 3",
      "name": "python3"
    },
    "language_info": {
      "name": "python"
    }
  },
  "nbformat": 4,
  "nbformat_minor": 0
}
