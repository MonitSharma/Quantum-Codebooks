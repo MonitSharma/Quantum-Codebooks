{
  "cells": [
    {
      "cell_type": "markdown",
      "metadata": {
        "id": "1iUci26-ZU0s"
      },
      "source": [
        "# Measurements\n",
        "\n",
        "### Learning Outcomes\n",
        "<li> Define a projective measurement\n",
        "<li> Perform a projective measurement in the computational basis\n",
        "<li> Perform measurements in an alternate measurement basis\n",
        "\n",
        "\n",
        "-----\n",
        "\n",
        "Having studied unitary operations, we've now learned about how quantum computers are manipulated. But if we want to tackle a real-world problem, we need a way of getting the information *out* of the system.\n",
        "\n",
        "\n"
      ]
    },
    {
      "attachments": {},
      "cell_type": "markdown",
      "metadata": {},
      "source": [
        "Author: [Monit Sharma](https://github.com/MonitSharma)\n",
        "LinkedIn: [Monit Sharma](https://www.linkedin.com/in/monitsharma/)\n",
        "Twitter: [@MonitSharma1729](https://twitter.com/MonitSharma1729)\n",
        "Medium : [MonitSharma](https://medium.com/@_monitsharma)"
      ]
    },
    {
      "cell_type": "markdown",
      "metadata": {
        "id": "Lr0kMKJQZzbC"
      },
      "source": [
        "## Projective Measurement\n",
        "\n",
        "Suppose we have a qubit in the state \n",
        "\n",
        "$$ |\\psi⟩ = α |0⟩ + β |1⟩$$\n",
        "\n",
        "Earlier, we learned that if we measure this qubit, we will observe it in state $|0⟩$ with probability $|\\alpha|^2 = \\alpha \\alpha^{*}$ and in the state $|1⟩$ with probability $|\\beta|^2$\n",
        "\n",
        "\n",
        "------\n",
        "\n",
        "A more formal way of expressing the measurement outcome probabilities is using *inner product*. Given a quantum state $|\\psi⟩$ , the probability that we observe it in the state $|ϕ⟩$ when we measure it with respect to a basis that includes $|ϕ⟩$ is equal to \n",
        "\n",
        "$$\\text{Pr}(\\phi) = |⟨ \\phi |\\psi⟩|^2$$"
      ]
    },
    {
      "cell_type": "markdown",
      "metadata": {
        "id": "fHL3i6rJb6WV"
      },
      "source": [
        "This type of measurement is known as a projective measurement. We are essentially asking \"how much does each basis vector contribute to a given state\"? The name relates to the fact that we are computing an overlap of the two state vectors with their inner product, which is just like projections in linear algebra, as illustrated below.\n",
        "\n",
        "\n",
        "![](https://codebook.xanadu.ai/pics/projection.svg)"
      ]
    },
    {
      "cell_type": "markdown",
      "metadata": {
        "id": "IQnyeOcNcA67"
      },
      "source": [
        "One step that differs from the standard linear algebra example, is that we take the modulus squared of the inner product to obtain a real-valued probability.\n",
        "\n",
        "\n",
        "**once a quantum state is measured, and we observe its output state, it will remain in that state until further processing is done**"
      ]
    },
    {
      "cell_type": "markdown",
      "metadata": {
        "id": "IYlHgcFhcU9y"
      },
      "source": [
        "## Bases\n",
        "\n",
        "When we make a measurement, we obtain one of the two states $|0⟩, |1\\rangle$  as a result.  But it is not always the case that we're interested in finding out whether the system is in $|0⟩$,  or  $|1\\rangle$. In fact, sometimes measuring in the computational basis makes it impossible to tell quantum states apart! Measurement in quantum computing is performed with respect to a basis, and as you will see, the choice of basis can lead to very different results.\n",
        "\n",
        "Tip. If the measurement basis is not specified, it is usually safe to assume that it is taken with respect to the computational basis."
      ]
    },
    {
      "cell_type": "markdown",
      "metadata": {
        "id": "DxX1JTyacsxO"
      },
      "source": [
        "## Changing things up: basis rotation\n",
        "\n",
        "Suppose we have a state expressed in the computational basis\n",
        "\n",
        "$$|ψ⟩ = α|0⟩ + β|1⟩$$\n",
        "\n",
        "and we would like to perform a change of basis or *basis rotation* to convert this to Hadamard basis. \n",
        "\n",
        "----\n",
        "\n",
        "With a bit of algebra, you'll find that \n",
        "\n",
        "$$|0⟩ = \\frac{1}{\\sqrt{2}} (|+⟩ + |-⟩)$$\n",
        "\n",
        "$$|1⟩ = \\frac{1}{\\sqrt{2}} (|+⟩ - |-⟩)$$\n",
        "\n",
        "\n",
        "\n",
        "Now, this state is expressed in the Hadamard basis, we can take measurement with respect to it.\n",
        "\n",
        "![](https://codebook.xanadu.ai/pics/basis-rotation.svg)\n"
      ]
    },
    {
      "cell_type": "markdown",
      "metadata": {
        "id": "wVoPsvtHdfg9"
      },
      "source": [
        "## Code Exercises\n",
        "\n",
        "If no measurement basis is specified , you can generally assume that measurement is done in the computational basis; this is default in pennylane.\n",
        "\n",
        "Outcome probabilities of the basis states can be returned directly in PennyLane. Rather than putting\n",
        "\n",
        "```python\n",
        "return qml.state()\n",
        "```\n",
        "\n",
        "at the end of our QNodes, we can swap it out for\n",
        "\n",
        "```python\n",
        "return qml.probs(wires=...)\n",
        "```"
      ]
    },
    {
      "cell_type": "markdown",
      "metadata": {
        "id": "K8TdOPCCeQX_"
      },
      "source": [
        "### Codercise I.9.1\n",
        "\n",
        "Write a simple circuit that applies a Hadamard gate to either $|0⟩$ or $|1⟩$ and return the measurement."
      ]
    },
    {
      "cell_type": "code",
      "execution_count": 1,
      "metadata": {
        "colab": {
          "base_uri": "https://localhost:8080/"
        },
        "id": "r-a7sILSeyia",
        "outputId": "46dd5073-e462-49a1-af07-ce8fa113b4ea"
      },
      "outputs": [
        {
          "name": "stdout",
          "output_type": "stream",
          "text": [
            "Looking in indexes: https://pypi.org/simple, https://us-python.pkg.dev/colab-wheels/public/simple/\n",
            "Collecting pennylane\n",
            "  Downloading PennyLane-0.28.0-py3-none-any.whl (1.3 MB)\n",
            "\u001b[2K     \u001b[90m━━━━━━━━━━━━━━━━━━━━━━━━━━━━━━━━━━━━━━━━\u001b[0m \u001b[32m1.3/1.3 MB\u001b[0m \u001b[31m11.3 MB/s\u001b[0m eta \u001b[36m0:00:00\u001b[0m\n",
            "\u001b[?25hRequirement already satisfied: cachetools in /usr/local/lib/python3.8/dist-packages (from pennylane) (5.2.1)\n",
            "Requirement already satisfied: scipy in /usr/local/lib/python3.8/dist-packages (from pennylane) (1.7.3)\n",
            "Requirement already satisfied: autograd in /usr/local/lib/python3.8/dist-packages (from pennylane) (1.5)\n",
            "Collecting autoray>=0.3.1\n",
            "  Downloading autoray-0.6.0-py3-none-any.whl (46 kB)\n",
            "\u001b[2K     \u001b[90m━━━━━━━━━━━━━━━━━━━━━━━━━━━━━━━━━━━━━━━━\u001b[0m \u001b[32m46.4/46.4 KB\u001b[0m \u001b[31m3.6 MB/s\u001b[0m eta \u001b[36m0:00:00\u001b[0m\n",
            "\u001b[?25hRequirement already satisfied: requests in /usr/local/lib/python3.8/dist-packages (from pennylane) (2.25.1)\n",
            "Requirement already satisfied: numpy<1.24 in /usr/local/lib/python3.8/dist-packages (from pennylane) (1.21.6)\n",
            "Requirement already satisfied: toml in /usr/local/lib/python3.8/dist-packages (from pennylane) (0.10.2)\n",
            "Requirement already satisfied: networkx in /usr/local/lib/python3.8/dist-packages (from pennylane) (3.0)\n",
            "Requirement already satisfied: appdirs in /usr/local/lib/python3.8/dist-packages (from pennylane) (1.4.4)\n",
            "Collecting semantic-version>=2.7\n",
            "  Downloading semantic_version-2.10.0-py2.py3-none-any.whl (15 kB)\n",
            "Collecting retworkx\n",
            "  Downloading retworkx-0.12.1-py3-none-any.whl (10 kB)\n",
            "Collecting pennylane-lightning>=0.28\n",
            "  Downloading PennyLane_Lightning-0.28.1-cp38-cp38-manylinux_2_17_x86_64.manylinux2014_x86_64.whl (15.3 MB)\n",
            "\u001b[2K     \u001b[90m━━━━━━━━━━━━━━━━━━━━━━━━━━━━━━━━━━━━━━━━\u001b[0m \u001b[32m15.3/15.3 MB\u001b[0m \u001b[31m63.1 MB/s\u001b[0m eta \u001b[36m0:00:00\u001b[0m\n",
            "\u001b[?25hCollecting ninja\n",
            "  Downloading ninja-1.11.1-py2.py3-none-manylinux_2_12_x86_64.manylinux2010_x86_64.whl (145 kB)\n",
            "\u001b[2K     \u001b[90m━━━━━━━━━━━━━━━━━━━━━━━━━━━━━━━━━━━━━━\u001b[0m \u001b[32m146.0/146.0 KB\u001b[0m \u001b[31m16.9 MB/s\u001b[0m eta \u001b[36m0:00:00\u001b[0m\n",
            "\u001b[?25hRequirement already satisfied: future>=0.15.2 in /usr/local/lib/python3.8/dist-packages (from autograd->pennylane) (0.16.0)\n",
            "Requirement already satisfied: idna<3,>=2.5 in /usr/local/lib/python3.8/dist-packages (from requests->pennylane) (2.10)\n",
            "Requirement already satisfied: urllib3<1.27,>=1.21.1 in /usr/local/lib/python3.8/dist-packages (from requests->pennylane) (1.24.3)\n",
            "Requirement already satisfied: chardet<5,>=3.0.2 in /usr/local/lib/python3.8/dist-packages (from requests->pennylane) (4.0.0)\n",
            "Requirement already satisfied: certifi>=2017.4.17 in /usr/local/lib/python3.8/dist-packages (from requests->pennylane) (2022.12.7)\n",
            "Collecting rustworkx==0.12.1\n",
            "  Downloading rustworkx-0.12.1-cp38-cp38-manylinux_2_17_x86_64.manylinux2014_x86_64.whl (1.9 MB)\n",
            "\u001b[2K     \u001b[90m━━━━━━━━━━━━━━━━━━━━━━━━━━━━━━━━━━━━━━━━\u001b[0m \u001b[32m1.9/1.9 MB\u001b[0m \u001b[31m80.9 MB/s\u001b[0m eta \u001b[36m0:00:00\u001b[0m\n",
            "\u001b[?25hInstalling collected packages: ninja, semantic-version, rustworkx, autoray, retworkx, pennylane-lightning, pennylane\n",
            "Successfully installed autoray-0.6.0 ninja-1.11.1 pennylane-0.28.0 pennylane-lightning-0.28.1 retworkx-0.12.1 rustworkx-0.12.1 semantic-version-2.10.0\n"
          ]
        }
      ],
      "source": [
        "%pip install pennylane\n",
        "import pennylane as qml\n",
        "import numpy as np"
      ]
    },
    {
      "cell_type": "code",
      "execution_count": 2,
      "metadata": {
        "colab": {
          "base_uri": "https://localhost:8080/"
        },
        "id": "OzsF6bsPZPv8",
        "outputId": "b6a7c849-dc24-4f55-b82b-aac93c79407b"
      },
      "outputs": [
        {
          "name": "stdout",
          "output_type": "stream",
          "text": [
            "[0.5 0.5]\n",
            "[0.5 0.5]\n"
          ]
        }
      ],
      "source": [
        "dev = qml.device(\"default.qubit\", wires=1)\n",
        "\n",
        "@qml.qnode(dev)\n",
        "def apply_h_and_measure(state):\n",
        "    \"\"\"Complete the function such that we apply the Hadamard gate\n",
        "    and measure in the computational basis.\n",
        "    \n",
        "    Args:\n",
        "        state (int): Either 0 or 1. If 1, prepare the qubit in state |1>,\n",
        "            otherwise leave it in state 0.\n",
        "    \n",
        "    Returns:\n",
        "        array[float]: The measurement outcome probabilities.\n",
        "    \"\"\"\n",
        "    if state == 1:\n",
        "        qml.PauliX(wires=0)\n",
        "\n",
        "    ##################\n",
        "    # YOUR CODE HERE #\n",
        "    ##################\n",
        "\n",
        "    # APPLY HADAMARD AND MEASURE\n",
        "    qml.Hadamard(wires=0)\n",
        "    return qml.probs(wires=0)\n",
        "print(apply_h_and_measure(0))\n",
        "print(apply_h_and_measure(1))\n"
      ]
    },
    {
      "cell_type": "markdown",
      "metadata": {
        "id": "AnovbmsOe8Df"
      },
      "source": [
        "The outcome of the previous exercise may seem dire. There are situations where meauring in the computational basis makes it impossible to distinguish between two states. However, we can work towards a solution to this problem by measuring in different bases.\n",
        "\n",
        "\n",
        "----\n",
        "\n",
        "Rather than asking for the outcome probabilities of $|0⟩$ and $|1⟩$ , we can computer the outcome probabilities of two states in a different basis. \n",
        "If we apply $H$ and measure with respect to the **Hadamard basis** instead of the computational one, we will be able to determine with certainty which state we have, because we are already asking about things with respect to $|+⟩$ and $|-⟩$.\n",
        "\n",
        "-----\n",
        "\n",
        "However, measurements in other basis is non-trivial or unavailable practice. The trick is to perform a **basis rotation** prior to measurement. If we want to measure in the Hadamard basis, we can trick the quantum computer by simply rotating the states before performing the measurement, we must apply an operation that maps between the two bases.\n",
        "\n",
        "\n",
        "\n",
        "\n"
      ]
    },
    {
      "cell_type": "markdown",
      "metadata": {
        "id": "rLvjzz5_gTCQ"
      },
      "source": [
        "### Codercise I.9.2\n",
        "\n",
        "Suppose we have prepared a state\n",
        "\n",
        "$$|\\psi⟩  = \\frac{1}{2} |0⟩ + \\iota \\frac{\\sqrt{3}}{2}|1⟩$$\n",
        "\n",
        "and we want measurement in the basis\n",
        "\n",
        "$$|y_+⟩ = \\frac{1}{\\sqrt{2}}(|0⟩ + \\iota |1⟩)$$\n",
        "\n",
        "\n",
        "$$|y_-⟩ = \\frac{1}{\\sqrt{2}}(|0⟩ - \\iota |1⟩)$$"
      ]
    },
    {
      "cell_type": "code",
      "execution_count": 3,
      "metadata": {
        "id": "nMMMTKN4e5G1"
      },
      "outputs": [],
      "source": [
        "\n",
        "#v = np.array([1/2, 1j*np.sqrt(3)/2])\n",
        "def prepare_psi():\n",
        "    qml.RX(-2*np.pi/3, wires=0)\n",
        "    #qml.MottonenStatePreparation(v,wires=0)\n",
        "    \n",
        "    \n",
        "    \n",
        "\n",
        "\n",
        "\n",
        "# WRITE A QUANTUM FUNCTION THAT SENDS BOTH |0> TO |y_+> and |1> TO |y_->\n",
        "def y_basis_rotation():\n",
        "    qml.Hadamard(wires=0)\n",
        "    qml.S(wires=0)\n",
        "\n",
        "\n"
      ]
    },
    {
      "cell_type": "markdown",
      "metadata": {
        "id": "vsjAlhhh-xv8"
      },
      "source": [
        "b) Now that we know how to produce the two basis states, we can perform a measurement in that basis. To do so, we must apply the adjoint of these operations to rotate back from that basis to the computational one. Using your quantum function from the previous exercise, perform the basis rotation and return determine the measurement outcome probabilities."
      ]
    },
    {
      "cell_type": "code",
      "execution_count": 4,
      "metadata": {
        "colab": {
          "base_uri": "https://localhost:8080/"
        },
        "id": "9iOSsb_z-0aa",
        "outputId": "b9ddf688-b11c-4589-f3a1-230547331fa7"
      },
      "outputs": [
        {
          "name": "stdout",
          "output_type": "stream",
          "text": [
            "[0.9330127 0.0669873]\n"
          ]
        }
      ],
      "source": [
        "dev = qml.device(\"default.qubit\", wires=1)\n",
        "\n",
        "@qml.qnode(dev)\n",
        "def measure_in_y_basis():\n",
        "   \n",
        "    \n",
        "    \n",
        "    prepare_psi()\n",
        "\n",
        "    # PERFORM THE ROTATION BACK TO COMPUTATIONAL BASIS\n",
        "    \n",
        "    qml.adjoint(qml.S)(wires=0)\n",
        "    qml.Hadamard(wires=0)\n",
        "    \n",
        "\n",
        "    # RETURN THE MEASUREMENT OUTCOME PROBABILITIES\n",
        "\n",
        "    return qml.probs(wires=0)\n",
        "\n",
        "print(measure_in_y_basis())\n"
      ]
    }
  ],
  "metadata": {
    "colab": {
      "provenance": []
    },
    "kernelspec": {
      "display_name": "Python 3",
      "name": "python3"
    },
    "language_info": {
      "name": "python"
    }
  },
  "nbformat": 4,
  "nbformat_minor": 0
}
