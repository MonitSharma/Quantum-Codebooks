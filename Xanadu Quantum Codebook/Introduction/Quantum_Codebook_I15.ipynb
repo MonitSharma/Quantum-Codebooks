{
  "cells": [
    {
      "cell_type": "markdown",
      "metadata": {
        "id": "s8vook-yT0Nv"
      },
      "source": [
        "# Quantum Teleportation\n",
        "\n",
        "### Learning Outcomes\n",
        "\n",
        "<li> Prove why we cannot design a quantum circuit that can clone arbitrary states.\n",
        "\n",
        "<li> Describe the quantum teleportation protocol"
      ]
    },
    {
      "attachments": {},
      "cell_type": "markdown",
      "metadata": {
        "id": "DuJUaN0nUr0E"
      },
      "source": [
        "Author: [Monit Sharma](https://github.com/MonitSharma)\n",
        "LinkedIn: [Monit Sharma](https://www.linkedin.com/in/monitsharma/)\n",
        "Twitter: [@MonitSharma1729](https://twitter.com/MonitSharma1729)\n",
        "Medium : [MonitSharma](https://medium.com/@_monitsharma)"
      ]
    },
    {
      "cell_type": "markdown",
      "metadata": {
        "id": "s63E7Z4I01Eu"
      },
      "source": [
        "Suppose there are two labs, one led by **Alice** and the other by **Bob**. Alice and Bob , having grown weary of their fame and the steady stream of requests to test novel communications protocols, have taken an extended holiday. They've each left a student Ayanda and Brian, to manage their repsective labs.\n",
        "\n",
        "-----\n",
        "\n",
        " Over the course of her work, Ayanda has designed a complicated apparatus that produces some very curious quantum states, and she would like to send them over to Brian for further study. How can she relay her states to him? One way of course is to physically move her equipment into Brian's lab and produce the states there; but it would be very cumbersome to have to tear down and rebuild her whole setup (furthermore, what if Brian's lab was halfway across the world?).\n",
        "\n",
        "\n",
        " -----\n",
        "\n",
        "\n",
        "One way for Ayanda to transmit a quantum state to Brian is by using **quantum teleportation**. Teleportation is a protocol that transmits the state of a qubit (not the qubit itself), from one location to another. The quantum circuit for teleportation, which we will soon explore in great detail, is shown below:\n",
        "\n",
        "\n",
        "\n",
        "![](https://codebook.xanadu.ai/pics/teleportation.svg)\n",
        "\n",
        "\n",
        "\n"
      ]
    },
    {
      "cell_type": "markdown",
      "metadata": {
        "id": "m2p_TW6E2HOZ"
      },
      "source": [
        "----\n",
        "\n",
        "Teleportation is a great way to end this introductory module,because it incorporates all the key concepts we've seen so far:\n",
        "\n",
        "\n",
        "\n",
        "\n",
        "![](https://codebook.xanadu.ai/pics/teleportation-annotated.svg)"
      ]
    },
    {
      "cell_type": "markdown",
      "metadata": {
        "id": "sxdUB00P2Yql"
      },
      "source": [
        "## Why Teleport?\n",
        "\n",
        "Why do we need to teleport, can't we just copy it?\n",
        "\n",
        "-----\n",
        " \n",
        " It turns out that copying arbitrary states is *prohibited* , which you can prove using something called the **no-cloning theorem**.\n",
        "\n",
        " "
      ]
    },
    {
      "cell_type": "markdown",
      "metadata": {
        "id": "Yt7b0CeL3g6P"
      },
      "source": [
        "## What is quantum teleportation?\n",
        "\n",
        "Teleportation relies on Ayanda and Brian having access to shared entanglement. The protocol can be divided into roughly four parts. We'll go through each of them:\n",
        "\n",
        "\n",
        "![](https://codebook.xanadu.ai/pics/teleportation-4part.svg)\n",
        "\n",
        "\n"
      ]
    },
    {
      "cell_type": "markdown",
      "metadata": {
        "id": "yowUjel-6gyD"
      },
      "source": [
        "## State Preparation\n",
        "\n",
        "Teleportation involves three qubits. Two of them are held by Ayanda , and the third by Brian. We'll denote their states using a subscripts $|.⟩_A$ and $|.⟩_B$ for clarity.\n",
        "\n",
        "Together their starting state is\n",
        "\n",
        "$$|0⟩_A|0⟩_A|0⟩_B$$\n",
        "\n",
        "The first thing Ayanda does is prepare her first qubit in whichever state $|\\psi⟩$ that she'd  like to send to Brian, so the combined state becomes\n",
        "\n",
        "$$|\\psi⟩ |0⟩_A |0⟩_B$$\n",
        "\n"
      ]
    },
    {
      "cell_type": "markdown",
      "metadata": {
        "id": "jX86Wa9g70bB"
      },
      "source": [
        "## Shared Entanglement\n",
        "\n",
        "The reason why teleportation works as it does is the use of *entangled state* as a shared resource between Ayanda and Brian. \n",
        "\n",
        "------\n",
        "\n",
        "Entangling the second and the third qubits lead to the combined state\n",
        "\n",
        "$$\\frac{1}{\\sqrt{2}} (|\\psi⟩_A |0⟩_A |0⟩_B + |\\psi⟩_A |1\\rangle_A |1⟩_B)$$\n",
        "\n",
        "\n"
      ]
    },
    {
      "cell_type": "markdown",
      "metadata": {
        "id": "IohP_EMx8ezm"
      },
      "source": [
        "## Change of Basis\n",
        "\n",
        "This is where things get tricky.The third step is to apply CNOT,and a Hadamard to the first two qubits.\n",
        "\n",
        "-----\n",
        "\n",
        "This is done prior to the measurements, and labelled \"change of basis\". But what basis is this? Notice how these two gates are the opposite of what we do to create a Bell state. If we run them in the opposite direction, we transform the basis back to the computational one, and simulate a measurement in the Bell basis. The Bell basis is a set of four entangled states:\n",
        "\n",
        "\n",
        "\n",
        "$$ \\begin{align*}\n",
        "\\text{Bell State 1:} & \\ \\frac{1}{\\sqrt{2}}(\\vert 00\\rangle + \\vert 11\\rangle) \\\\\n",
        "\\text{Bell State 2:} & \\ \\frac{1}{\\sqrt{2}}(\\vert 00\\rangle - \\vert 11\\rangle) \\\\\n",
        "\\text{Bell State 3:} & \\ \\frac{1}{\\sqrt{2}}(\\vert 01\\rangle + \\vert 10\\rangle) \\\\\n",
        "\\text{Bell State 4:} & \\ \\frac{1}{\\sqrt{2}}(\\vert 01\\rangle - \\vert 10\\rangle)\n",
        "\\end{align*}\n",
        "$$\n",
        "\n",
        "\n",
        "After the basis transform, if we observe the first two qubits to be in the state $|00⟩$ , this would correspond to the outcome $|\\psi_+⟩$ in the bell basis, $|11⟩$ would correspond to $|\\phi_-⟩$ , etc.\n"
      ]
    },
    {
      "cell_type": "markdown",
      "metadata": {
        "id": "bgMsN8fC9oIE"
      },
      "source": [
        "## Measurement\n",
        "\n",
        "The last step of the protocol involves applying two controlled operations from Ayanda's qubits to Brian, a controlled-Z, and a CNOT, followed by a measurement. But why exactly are we doing this before the measurement? In the previous step, we already performed a basis rotation back to the computational basis, so shouldn't we be good to go?\n",
        "\n",
        "\n",
        "------\n",
        "\n",
        "\n"
      ]
    },
    {
      "cell_type": "markdown",
      "metadata": {
        "id": "ZH-tRV9XA2Ww"
      },
      "source": [
        "### Codercise I.15.1\n",
        "\n",
        "(a) Prepare your favourite single-qubit quantum state on the first qubit in the `state_preparation` function below. It can be anything, as long as it's a single qubit state (you can even leave the function as-is, or make it parametrized!).\n",
        "\n",
        "Note that this quantum function will be used as a subroutine; therefore you do not need to return a measurement or create a QNode."
      ]
    },
    {
      "cell_type": "code",
      "execution_count": 1,
      "metadata": {
        "colab": {
          "base_uri": "https://localhost:8080/"
        },
        "id": "QrmjoXX0TtyG",
        "outputId": "ff90422f-485b-4fda-c507-80b97e0aa210"
      },
      "outputs": [
        {
          "name": "stdout",
          "output_type": "stream",
          "text": [
            "Looking in indexes: https://pypi.org/simple, https://us-python.pkg.dev/colab-wheels/public/simple/\n",
            "Collecting pennylane\n",
            "  Downloading PennyLane-0.28.0-py3-none-any.whl (1.3 MB)\n",
            "\u001b[2K     \u001b[90m━━━━━━━━━━━━━━━━━━━━━━━━━━━━━━━━━━━━━━━━\u001b[0m \u001b[32m1.3/1.3 MB\u001b[0m \u001b[31m31.5 MB/s\u001b[0m eta \u001b[36m0:00:00\u001b[0m\n",
            "\u001b[?25hRequirement already satisfied: autograd in /usr/local/lib/python3.8/dist-packages (from pennylane) (1.5)\n",
            "Collecting autoray>=0.3.1\n",
            "  Downloading autoray-0.6.0-py3-none-any.whl (46 kB)\n",
            "\u001b[2K     \u001b[90m━━━━━━━━━━━━━━━━━━━━━━━━━━━━━━━━━━━━━━━━\u001b[0m \u001b[32m46.4/46.4 KB\u001b[0m \u001b[31m3.0 MB/s\u001b[0m eta \u001b[36m0:00:00\u001b[0m\n",
            "\u001b[?25hRequirement already satisfied: scipy in /usr/local/lib/python3.8/dist-packages (from pennylane) (1.7.3)\n",
            "Requirement already satisfied: numpy<1.24 in /usr/local/lib/python3.8/dist-packages (from pennylane) (1.21.6)\n",
            "Collecting pennylane-lightning>=0.28\n",
            "  Downloading PennyLane_Lightning-0.28.2-cp38-cp38-manylinux_2_17_x86_64.manylinux2014_x86_64.whl (15.3 MB)\n",
            "\u001b[2K     \u001b[90m━━━━━━━━━━━━━━━━━━━━━━━━━━━━━━━━━━━━━━━━\u001b[0m \u001b[32m15.3/15.3 MB\u001b[0m \u001b[31m50.3 MB/s\u001b[0m eta \u001b[36m0:00:00\u001b[0m\n",
            "\u001b[?25hRequirement already satisfied: requests in /usr/local/lib/python3.8/dist-packages (from pennylane) (2.25.1)\n",
            "Collecting retworkx\n",
            "  Downloading retworkx-0.12.1-py3-none-any.whl (10 kB)\n",
            "Requirement already satisfied: appdirs in /usr/local/lib/python3.8/dist-packages (from pennylane) (1.4.4)\n",
            "Requirement already satisfied: networkx in /usr/local/lib/python3.8/dist-packages (from pennylane) (3.0)\n",
            "Collecting semantic-version>=2.7\n",
            "  Downloading semantic_version-2.10.0-py2.py3-none-any.whl (15 kB)\n",
            "Requirement already satisfied: toml in /usr/local/lib/python3.8/dist-packages (from pennylane) (0.10.2)\n",
            "Requirement already satisfied: cachetools in /usr/local/lib/python3.8/dist-packages (from pennylane) (5.2.1)\n",
            "Collecting ninja\n",
            "  Downloading ninja-1.11.1-py2.py3-none-manylinux_2_12_x86_64.manylinux2010_x86_64.whl (145 kB)\n",
            "\u001b[2K     \u001b[90m━━━━━━━━━━━━━━━━━━━━━━━━━━━━━━━━━━━━━━\u001b[0m \u001b[32m146.0/146.0 KB\u001b[0m \u001b[31m20.8 MB/s\u001b[0m eta \u001b[36m0:00:00\u001b[0m\n",
            "\u001b[?25hRequirement already satisfied: future>=0.15.2 in /usr/local/lib/python3.8/dist-packages (from autograd->pennylane) (0.16.0)\n",
            "Requirement already satisfied: idna<3,>=2.5 in /usr/local/lib/python3.8/dist-packages (from requests->pennylane) (2.10)\n",
            "Requirement already satisfied: chardet<5,>=3.0.2 in /usr/local/lib/python3.8/dist-packages (from requests->pennylane) (4.0.0)\n",
            "Requirement already satisfied: urllib3<1.27,>=1.21.1 in /usr/local/lib/python3.8/dist-packages (from requests->pennylane) (1.24.3)\n",
            "Requirement already satisfied: certifi>=2017.4.17 in /usr/local/lib/python3.8/dist-packages (from requests->pennylane) (2022.12.7)\n",
            "Collecting rustworkx==0.12.1\n",
            "  Downloading rustworkx-0.12.1-cp38-cp38-manylinux_2_17_x86_64.manylinux2014_x86_64.whl (1.9 MB)\n",
            "\u001b[2K     \u001b[90m━━━━━━━━━━━━━━━━━━━━━━━━━━━━━━━━━━━━━━━━\u001b[0m \u001b[32m1.9/1.9 MB\u001b[0m \u001b[31m74.3 MB/s\u001b[0m eta \u001b[36m0:00:00\u001b[0m\n",
            "\u001b[?25hInstalling collected packages: ninja, semantic-version, rustworkx, autoray, retworkx, pennylane-lightning, pennylane\n",
            "Successfully installed autoray-0.6.0 ninja-1.11.1 pennylane-0.28.0 pennylane-lightning-0.28.2 retworkx-0.12.1 rustworkx-0.12.1 semantic-version-2.10.0\n"
          ]
        }
      ],
      "source": [
        "%pip install pennylane\n",
        "import pennylane as qml\n",
        "import numpy as np"
      ]
    },
    {
      "cell_type": "code",
      "execution_count": 2,
      "metadata": {
        "id": "ym-MLleYBCIL"
      },
      "outputs": [],
      "source": [
        "def state_preparation():\n",
        "    ##################\n",
        "    # YOUR CODE HERE #\n",
        "    ##################\n",
        "\n",
        "    # OPTIONALLY UPDATE THIS STATE PREPARATION ROUTINE\n",
        "\n",
        "    qml.Hadamard(wires=0)\n",
        "    qml.Rot(0.1, 0.2, 0.3, wires=0)\n"
      ]
    },
    {
      "cell_type": "markdown",
      "metadata": {
        "id": "VvZbrvjQBGB1"
      },
      "source": [
        "### Codercise I.15.1 (b)\n",
        "\n",
        "Run your circuit below to see the state you will teleport. If you made a custom state preparation function, please copy it down from the cell above and use it as a replacement for the `state_preparation` function below."
      ]
    },
    {
      "cell_type": "code",
      "execution_count": 3,
      "metadata": {
        "colab": {
          "base_uri": "https://localhost:8080/"
        },
        "id": "Ur9_zLbJBDx0",
        "outputId": "0ce055ea-54d6-496c-8496-c0f7f99083fc"
      },
      "outputs": [
        {
          "name": "stdout",
          "output_type": "stream",
          "text": [
            "[0.61930934-0.13273109j 0.75978977+0.14682614j]\n"
          ]
        }
      ],
      "source": [
        "dev = qml.device(\"default.qubit\", wires=1)\n",
        "\n",
        "##################\n",
        "# YOUR CODE HERE #\n",
        "##################\n",
        "\n",
        "# OPTIONALLY REPLACE THIS STATE PREPARATION ROUTINE WITH\n",
        "# THE ONE FROM THE PREVIOUS EXERCISE\n",
        "\n",
        "def state_preparation():\n",
        "    qml.Hadamard(wires=0)\n",
        "    qml.Rot(0.1, 0.2, 0.3, wires=0)\n",
        "\n",
        "\n",
        "@qml.qnode(dev)\n",
        "def state_prep_only():\n",
        "    state_preparation()\n",
        "    return qml.state()\n",
        "\n",
        "print(state_prep_only())\n"
      ]
    },
    {
      "cell_type": "markdown",
      "metadata": {
        "id": "dioQcqJjBPhD"
      },
      "source": [
        "### Codercise I.15.2\n",
        "\n",
        " Write a quantum function that prepares a shared entangled state on the second and third qubits.\n",
        "\n",
        "Recall the teleportation circuit looks like this:\n",
        "\n",
        "![](https://codebook.xanadu.ai/pics/teleportation-4part.svg)\n",
        "\n"
      ]
    },
    {
      "cell_type": "code",
      "execution_count": 4,
      "metadata": {
        "id": "EFjNz6L9BNNr"
      },
      "outputs": [],
      "source": [
        "def entangle_qubits():\n",
        "    ##################\n",
        "    # YOUR CODE HERE #\n",
        "    ##################\n",
        "    qml.Hadamard(wires=1)\n",
        "    qml.CNOT(wires=[1,2])\n",
        "\n",
        "    # ENTANGLE THE SECOND QUBIT (WIRES=1) AND THE THIRD QUBIT\n",
        "    \n"
      ]
    },
    {
      "cell_type": "markdown",
      "metadata": {
        "id": "qD2ey7JqBYma"
      },
      "source": [
        "### Codercise I.15.3\n",
        "\n",
        "Implement a quantum function, `rotate_and_controls`, that performs both a change of basis, and the controlled gates at the end circuit."
      ]
    },
    {
      "cell_type": "code",
      "execution_count": 5,
      "metadata": {
        "id": "H2csW1GUBWiB"
      },
      "outputs": [],
      "source": [
        "def rotate_and_controls():\n",
        "    ##################\n",
        "    # YOUR CODE HERE #\n",
        "    ##################\n",
        "\n",
        "    # PERFORM THE BASIS ROTATION\n",
        "    qml.CNOT(wires=[0,1])\n",
        "    qml.Hadamard(wires=0)\n",
        "\n",
        "    # PERFORM THE CONTROLLED OPERATIONS\n",
        "    qml.CNOT(wires=[1,2])\n",
        "    qml.CZ(wires=[0,2])\n",
        "\n"
      ]
    },
    {
      "cell_type": "markdown",
      "metadata": {
        "id": "2wPDlAWqBgcd"
      },
      "source": [
        "### Codercise I.15.4\n",
        "\n",
        "Put everything together: create a QNode that will execute your teleportation procedure, and return the quantum state!"
      ]
    },
    {
      "cell_type": "code",
      "execution_count": 6,
      "metadata": {
        "colab": {
          "base_uri": "https://localhost:8080/"
        },
        "id": "jOaSbqKrBdmp",
        "outputId": "0a16d803-0cde-4195-b012-935fee2567ee"
      },
      "outputs": [
        {
          "name": "stdout",
          "output_type": "stream",
          "text": [
            "[0.30965467-0.06636554j 0.37989488+0.07341307j 0.30965467-0.06636554j\n",
            " 0.37989488+0.07341307j 0.30965467-0.06636554j 0.37989488+0.07341307j\n",
            " 0.30965467-0.06636554j 0.37989488+0.07341307j]\n"
          ]
        }
      ],
      "source": [
        "dev = qml.device(\"default.qubit\", wires=3)\n",
        "\n",
        "##################\n",
        "# YOUR CODE HERE #\n",
        "##################\n",
        "\n",
        "# OPTIONALLY UPDATE THIS STATE PREPARATION ROUTINE\n",
        "def state_preparation():\n",
        "    qml.Hadamard(wires=0)\n",
        "    qml.Rot(0.1, 0.2, 0.3, wires=0)\n",
        "\n",
        "\n",
        "@qml.qnode(dev)\n",
        "def teleportation():\n",
        "    ##################\n",
        "    # YOUR CODE HERE #\n",
        "    ##################\n",
        "    state_preparation()\n",
        "    entangle_qubits()\n",
        "    rotate_and_controls()\n",
        "    \n",
        "\n",
        "    # USE YOUR QUANTUM FUNCTIONS TO IMPLEMENT QUANTUM TELEPORTATION\n",
        "\n",
        "    # RETURN THE STATE\n",
        "    return qml.state()\n",
        "\n",
        "\n",
        "print(teleportation())\n"
      ]
    },
    {
      "cell_type": "markdown",
      "metadata": {
        "id": "eS1UV1YrBoJT"
      },
      "source": [
        "### Codercise I.15.5\n",
        "\n",
        "By working through the theoretical action of the circuit (see the accompanying text node for details), you can show that the combined state of the three qubits together "
      ]
    },
    {
      "cell_type": "code",
      "execution_count": 7,
      "metadata": {
        "colab": {
          "base_uri": "https://localhost:8080/"
        },
        "id": "Roz0rnBgBkR3",
        "outputId": "c5e3067b-8301-441f-a03b-c3f4167ab82e"
      },
      "outputs": [
        {
          "name": "stdout",
          "output_type": "stream",
          "text": [
            "[0.61930934-0.13273109j 0.75978977+0.14682614j]\n"
          ]
        }
      ],
      "source": [
        "def extract_qubit_state(input_state):\n",
        "    \"\"\"Extract the state of the third qubit from the combined state after teleportation.\n",
        "    \n",
        "    Args:\n",
        "        input_state (array[complex]): A 3-qubit state of the form \n",
        "            (1/2)(|00> + |01> + |10> + |11>) (a|0> + b|1>)\n",
        "            obtained from the teleportation protocol.\n",
        "            \n",
        "    Returns:\n",
        "        array[complex]: The state vector np.array([a, b]) of the third qubit.\n",
        "    \"\"\"\n",
        "\n",
        "    ##################\n",
        "    # YOUR CODE HERE #\n",
        "    ##################\n",
        "\n",
        "    # DETERMINE THE STATE OF THE THIRD QUBIT\n",
        "\n",
        "    return np.array([2 * input_state[0], 2 * input_state[1]])\n",
        "    \n",
        "\n",
        "# Here is the teleportation routine for you\n",
        "dev = qml.device(\"default.qubit\", wires=3)\n",
        "\n",
        "#################\n",
        "# YOUR CODE HERE #\n",
        "##################\n",
        "\n",
        "# OPTIONALLY UPDATE THIS STATE PREPARATION ROUTINE\n",
        "def state_preparation():\n",
        "    qml.Hadamard(wires=0)\n",
        "    qml.Rot(0.1, 0.2, 0.3, wires=0)\n",
        "\n",
        "\n",
        "@qml.qnode(dev)\n",
        "def teleportation():\n",
        "    state_preparation()\n",
        "    entangle_qubits()\n",
        "    rotate_and_controls()    \n",
        "    return qml.state()\n",
        "\n",
        "# Print the extracted state after teleportation\n",
        "full_state = teleportation()\n",
        "print(extract_qubit_state(full_state))\n"
      ]
    },
    {
      "cell_type": "markdown",
      "metadata": {
        "id": "nJjGl3XdBvxL"
      },
      "source": [
        "Congratulations, you've just teleported your first qubit! 🚀"
      ]
    }
  ],
  "metadata": {
    "colab": {
      "provenance": []
    },
    "kernelspec": {
      "display_name": "Python 3",
      "name": "python3"
    },
    "language_info": {
      "name": "python"
    }
  },
  "nbformat": 4,
  "nbformat_minor": 0
}
