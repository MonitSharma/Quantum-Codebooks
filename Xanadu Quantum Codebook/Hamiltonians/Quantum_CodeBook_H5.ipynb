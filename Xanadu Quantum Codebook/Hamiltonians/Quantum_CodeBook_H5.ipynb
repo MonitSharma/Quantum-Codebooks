{
  "nbformat": 4,
  "nbformat_minor": 0,
  "metadata": {
    "colab": {
      "provenance": []
    },
    "kernelspec": {
      "name": "python3",
      "display_name": "Python 3"
    },
    "language_info": {
      "name": "python"
    }
  },
  "cells": [
    {
      "cell_type": "markdown",
      "source": [
        "# H5 Approximating Exponentials"
      ],
      "metadata": {
        "id": "9_u7P5NEAt2R"
      }
    },
    {
      "cell_type": "markdown",
      "source": [
        "![](https://codebook.xanadu.ai/pics/prod-circ.svg)"
      ],
      "metadata": {
        "id": "CFl7AvzhAyyV"
      }
    },
    {
      "cell_type": "markdown",
      "source": [
        "### Codercise H.5.1. \n",
        "Complete the function below for simulating two distant electrons in a magnetic field."
      ],
      "metadata": {
        "id": "f4ctUUCPA1Xe"
      }
    },
    {
      "cell_type": "code",
      "execution_count": null,
      "metadata": {
        "id": "Vb2_ZJ_q9MYU"
      },
      "outputs": [],
      "source": [
        "n_bits=2\n",
        "dev = qml.device(\"default.qubit\", wires=range(n_bits))\n",
        "\n",
        "@qml.qnode(dev)\n",
        "def two_distant_spins(B, time):\n",
        "    \"\"\"Circuit for evolving the state of two distant electrons in a magnetic field.\n",
        "    \n",
        "    Args:\n",
        "        B (float): The strength of the field, assumed to point in the z direction.\n",
        "        time (float): The time we evolve the electron wavefunction for.\n",
        "\n",
        "    Returns: \n",
        "        array[complex]: The quantum state after evolution.\n",
        "    \"\"\"\n",
        "    e = 1.6e-19\n",
        "    m_e = 9.1e-31\n",
        "    alpha = B*e/(2*m_e)\n",
        "    ##################\n",
        "    # YOUR CODE HERE #\n",
        "    ##################\n",
        "    qml.RZ(-2*alpha*time,wires=0)\n",
        "    qml.RZ(-2*alpha*time,wires=0)\n",
        "\n",
        "    return qml.state()\n"
      ]
    },
    {
      "cell_type": "markdown",
      "source": [
        "![](https://codebook.xanadu.ai/pics/trotter-circ.svg)"
      ],
      "metadata": {
        "id": "2lSCDgK_A7CG"
      }
    },
    {
      "cell_type": "markdown",
      "source": [
        "### Codercise H.5.2. \n",
        "Write a circuit to Trotterize the evolution of two electrons with Hamiltonian "
      ],
      "metadata": {
        "id": "mIfjakDjA6wz"
      }
    },
    {
      "cell_type": "code",
      "source": [
        "@qml.qnode(dev)\n",
        "def two_close_spins_X(B, J, time, n):\n",
        "    \"\"\"Circuit for evolving the state of two electrons with an X coupling.\n",
        "    \n",
        "    Args:\n",
        "        B (float): The strength of the field, assumed to point in the z direction.\n",
        "        J (float): The strength of the coupling between electrons.\n",
        "        time (float): The time we evolve the electron wavefunction for.\n",
        "        n (int): The number of steps in our Trotterization.\n",
        "\n",
        "    Returns: \n",
        "        array[complex]: The quantum state after evolution.\n",
        "    \"\"\"\n",
        "    e = 1.6e-19\n",
        "    m_e = 9.1e-31\n",
        "    alpha = B*e/(2*m_e)\n",
        "    hbar = 1e-34\n",
        "    beta = -J*hbar/4\n",
        "    ##################\n",
        "    # YOUR CODE HERE #\n",
        "    ##################\n",
        "    for _ in range(n):\n",
        "\t    qml.PauliRot(-2*beta*time/n, \"XX\", wires=[0,1])\n",
        "\t    qml.PauliRot(-2*alpha*time/n, \"Z\", wires=0)\n",
        "\t    qml.PauliRot(-2*alpha*time/n, \"Z\", wires=1)\n",
        "\n",
        "\n",
        "    return qml.state()\n"
      ],
      "metadata": {
        "id": "WkAx9BByA-Aa"
      },
      "execution_count": null,
      "outputs": []
    },
    {
      "cell_type": "markdown",
      "source": [
        "### Codercise H.5.3. \n",
        "Write a function that returns  for the Hamiltonian in () for two interacting electrons using the qml.Hamiltonian method."
      ],
      "metadata": {
        "id": "1c1ZlwbfBDyA"
      }
    },
    {
      "cell_type": "code",
      "source": [
        "def ham_close_spins(B, J):\n",
        "    \"\"\"Creates the Hamiltonian for two close spins.\n",
        "\n",
        "    Args:\n",
        "        B (float): The strength of the field, assumed to point in the z direction.\n",
        "        J (list[float]): A vector of couplings [J_X, J_Y, J_Z].\n",
        "\n",
        "    Returns:\n",
        "        qml.Hamiltonian: The Hamiltonian of the system.\n",
        "    \"\"\"\n",
        "    e = 1.6e-19\n",
        "    m_e = 9.1e-31\n",
        "    alpha = B*e/(2*m_e)\n",
        "    hbar = 1e-34\n",
        "    ##################\n",
        "    # YOUR CODE HERE #\n",
        "    ##################\n",
        "    coeffs = [-alpha, -alpha, hbar/4 * J[0], hbar / 4 * J[1], hbar / 4 * J[2]]\n",
        "    obs = [qml.PauliZ(0), qml.PauliZ(1), qml.PauliX(0) @ qml.PauliX(1), qml.PauliY(0) @ qml.PauliY(1), qml.PauliZ(0) @ qml.PauliZ(1)]\n",
        "\n",
        "    return qml.Hamiltonian(coeffs, obs)\n"
      ],
      "metadata": {
        "id": "fz2FCs6xBFAp"
      },
      "execution_count": null,
      "outputs": []
    },
    {
      "cell_type": "markdown",
      "source": [
        "### Codercise H.5.4. \n",
        "Use the function ham_close_spins(B, J) from the previous exercise, along with the qml.ApproxTimeEvolution method, to simulate evolution under couplings  and a magnetic field of strength  in the -direction."
      ],
      "metadata": {
        "id": "zmIhVLkHBHMA"
      }
    },
    {
      "cell_type": "code",
      "source": [
        "@qml.qnode(dev)\n",
        "def two_close_spins(B, J, time, n):\n",
        "    \"\"\"Circuit for evolving the state of two nearby electrons with an arbitrary coupling.\n",
        "    \n",
        "    Args:\n",
        "        B (float): The strength of the field, assumed to point in the z direction.\n",
        "        J (array[float]): The coupling strengths J = [J_X, J_Y, J_Z] between electrons.\n",
        "        time (float): The time we evolve the electron wavefunction for.\n",
        "        n (int): The number of steps in our Trotterization.\n",
        "\n",
        "    Returns: \n",
        "        array[complex]: The quantum state after evolution.\n",
        "    \"\"\"\n",
        "    ##################\n",
        "    # YOUR CODE HERE #\n",
        "    ##################\n",
        "    \n",
        "    ham = ham_close_spins(B,J)\n",
        "    qml.ApproxTimeEvolution(ham, time, n)\n",
        "\n",
        "\n",
        "    return qml.state()\n"
      ],
      "metadata": {
        "id": "041w3xLSBKqB"
      },
      "execution_count": null,
      "outputs": []
    }
  ]
}