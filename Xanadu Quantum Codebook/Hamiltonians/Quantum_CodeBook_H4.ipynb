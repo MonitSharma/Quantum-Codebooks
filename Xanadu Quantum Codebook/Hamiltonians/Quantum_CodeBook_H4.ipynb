{
  "cells": [
    {
      "cell_type": "markdown",
      "metadata": {
        "id": "GQ5sqAfo8kxH"
      },
      "source": [
        "# H4 Energy in quantum systems"
      ]
    },
    {
      "attachments": {},
      "cell_type": "markdown",
      "metadata": {},
      "source": [
        "Author: [Monit Sharma](https://github.com/MonitSharma)\n",
        "LinkedIn: [Monit Sharma](https://www.linkedin.com/in/monitsharma/)\n",
        "Twitter: [@MonitSharma1729](https://twitter.com/MonitSharma1729)\n",
        "Medium : [MonitSharma](https://medium.com/@_monitsharma)"
      ]
    },
    {
      "cell_type": "markdown",
      "metadata": {
        "id": "jeWGBwkw8rsb"
      },
      "source": [
        "![](https://codebook.xanadu.ai/pics/diag-zz-2.svg)"
      ]
    },
    {
      "cell_type": "markdown",
      "metadata": {
        "id": "1Hm0ohEo8uB_"
      },
      "source": [
        "### Codercise H.4.1. \n",
        "Implement the circuit drawn above, allowing for the specification of an initial computational basis state."
      ]
    },
    {
      "cell_type": "code",
      "execution_count": null,
      "metadata": {
        "id": "ax5w5DdU4ygi"
      },
      "outputs": [],
      "source": [
        "n_bits = 2\n",
        "dev = qml.device(\"default.qubit\", wires=n_bits)\n",
        "\n",
        "@qml.qnode(dev)\n",
        "def zz_circuit(alpha, time, init):\n",
        "    \"\"\"Circuit for evolving two electrons with a ZZ interaction.\n",
        "    \n",
        "    Args:\n",
        "        alpha (float): The strength of the interaction.\n",
        "        time (float): The time we evolve the electron wavefunction for.\n",
        "        init (numpy.array(int)): An initial state specified by two bits [x, y]. Prepare the\n",
        "            system in this state prior to applying the time evolution circuit.\n",
        "\n",
        "    Returns: \n",
        "        array[float]: Probabilities for observing different outcomes.\n",
        "    \"\"\"\n",
        "    hbar = 1e-34\n",
        "    ##################\n",
        "    # YOUR CODE HERE #\n",
        "    ##################\n",
        "    qml.BasisState(init, wires=[_ for _ in range(n_bits)])\n",
        "    qml.CNOT(wires=[0,1])\n",
        "    qml.RZ(2*alpha*time / hbar, wires=1)\n",
        "    qml.CNOT(wires=[0,1])\n",
        "\n",
        "    return qml.probs(wires=range(n_bits))\n"
      ]
    },
    {
      "cell_type": "markdown",
      "metadata": {
        "id": "xxZ68iQv8yaO"
      },
      "source": [
        "If finding all the eigenvalues is too hard, we might hope to identify a single eigenvalue, such as the lowest energy level  and the corresponding ground state . To see how this can be useful for solving computational problems, suppose we want to determine if a graph  is bipartite, i.e., whether its nodes can be coloured red and blue so that edges always connect distinct colours. We give an example of a bipartite and a non-bipartite graph below:\n",
        "\n",
        "\n",
        "![](https://codebook.xanadu.ai/pics/bipartite.svg)"
      ]
    },
    {
      "cell_type": "markdown",
      "metadata": {
        "id": "HWzrmtYV83OH"
      },
      "source": [
        "### Codercise H.4.2. \n",
        "(a) Complete the following code to construct the Hamiltonian. The remaining code defines a circuit energy(init) which gives the energy expectation in a basis state init."
      ]
    },
    {
      "cell_type": "code",
      "execution_count": null,
      "metadata": {
        "id": "kMJ4c5lI81Oe"
      },
      "outputs": [],
      "source": [
        "n_bits = 5\n",
        "dev = qml.device(\"default.qubit\", wires=n_bits)\n",
        "    \n",
        "##################\n",
        "# YOUR CODE HERE #\n",
        "##################\n",
        "#coeffs = [1] # MODIFY THIS\n",
        "#obs = [qml.PauliZ(0)] # MODIFY THIS\n",
        "\n",
        "obs = [qml.PauliZ(0) @ qml.PauliZ(1) , qml.PauliZ(1) @ qml.PauliZ(2) ,qml.PauliZ(1) @ qml.PauliZ(3) , qml.PauliZ(3) @ qml.PauliZ(4)]\n",
        "coeffs = [1 for _ in obs]\n",
        "H = qml.Hamiltonian(coeffs, obs)\n",
        "\n",
        "@qml.qnode(dev)\n",
        "def energy(init):\n",
        "    \"\"\"Circuit for measuring expectation value of Hamiltonian in a given state.\n",
        "    \n",
        "    Args:\n",
        "        init (numpy.array(int)): An initial computational basis state, specified by five bits.\n",
        "\n",
        "    Returns: \n",
        "        float: Expectation value of the Hamiltonian H.\n",
        "    \"\"\"\n",
        "    qml.BasisState(init, wires=range(n_bits))\n",
        "    return qml.expval(H)"
      ]
    },
    {
      "cell_type": "markdown",
      "metadata": {
        "id": "lDFYd91N884P"
      },
      "source": [
        "The ground state minimizes the energy. If the graph is bipartite, then we can \"colour\" the nodes with states  and  so that any pair has distinct states on either end and the edge contributes  to the energy. Thus, the ground state energy will be  just in case the graph is bipartite, and higher otherwise.\n",
        "\n",
        "![](https://codebook.xanadu.ai/pics/ground-state.svg)"
      ]
    },
    {
      "cell_type": "markdown",
      "metadata": {
        "id": "rrwaHOlg9BOX"
      },
      "source": [
        "(b) Determine the two ground states and check they give the expected energy.\n",
        "\n"
      ]
    },
    {
      "cell_type": "code",
      "execution_count": null,
      "metadata": {
        "id": "LgSjQmnA8_o5"
      },
      "outputs": [],
      "source": [
        "my_guess1 = np.array([0,1,0,0,1]) # MODIFY THIS\n",
        "my_guess2 = np.array([1,0,1,1,0]) # MODIFY THIS\n",
        "\n",
        "print(\"The expected energy for\", my_guess1, \"is\", energy(my_guess1), \".\")\n",
        "print(\"The expected energy for\", my_guess2, \"is\", energy(my_guess2), \".\")\n"
      ]
    }
  ],
  "metadata": {
    "colab": {
      "provenance": []
    },
    "kernelspec": {
      "display_name": "Python 3",
      "name": "python3"
    },
    "language_info": {
      "name": "python"
    }
  },
  "nbformat": 4,
  "nbformat_minor": 0
}
