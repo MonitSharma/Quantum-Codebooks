{
  "cells": [
    {
      "cell_type": "markdown",
      "metadata": {
        "id": "RX1ncGwyVh_a"
      },
      "source": [
        "# H.7 Generalizing PREPARE and SELECT\n",
        "\n",
        "\n",
        "In the last node, we found a circuit for applying an arbitrary linear combination of unitaries. It split naturally into two subroutines, PREPARE which prepared the state and coefficients, and SELECT which applied the unitaries. These were somewhat messily defined using nested circuits, but it turns there is a clean generalization of PREPARE and SELECT."
      ]
    },
    {
      "attachments": {},
      "cell_type": "markdown",
      "metadata": {},
      "source": [
        "Author: [Monit Sharma](https://github.com/MonitSharma)\n",
        "LinkedIn: [Monit Sharma](https://www.linkedin.com/in/monitsharma/)\n",
        "Twitter: [@MonitSharma1729](https://twitter.com/MonitSharma1729)\n",
        "Medium : [MonitSharma](https://medium.com/@_monitsharma)"
      ]
    },
    {
      "cell_type": "markdown",
      "metadata": {
        "id": "IARhLuV_Vlgi"
      },
      "source": [
        "### Codercise H.7.1.\n",
        " Write a function for creating the Householder transformation as a matrix, assuming the input is a normalized state. You will find np.outer helpful."
      ]
    },
    {
      "cell_type": "code",
      "execution_count": null,
      "metadata": {
        "id": "DtE17b4tznsT"
      },
      "outputs": [],
      "source": [
        "def householder(state):\n",
        "    \"\"\"Create the matrix form of a Householder transformation.\n",
        "    \n",
        "    Args:\n",
        "        state (array[complex]): A list of amplitudes representing a state.\n",
        "\n",
        "    Returns: \n",
        "        array[complex]: The matrix representation of the Householder transformation.\n",
        "    \"\"\"\n",
        "    ##################\n",
        "    # YOUR CODE HERE #\n",
        "    ##################\n",
        "    return np.eye(state.shape[0])- 2*np.outer(state,state)\n",
        "\n"
      ]
    },
    {
      "cell_type": "markdown",
      "metadata": {
        "id": "vx-RHz8jVp3o"
      },
      "source": [
        "### Codercise H.7.2. \n",
        "(a) Implement the PREPARE oracle using the Householder transformation; this is available from the previous exercise. For simplicity, we work with a sum of  unitaries. This means our auxiliary register will have  qubits, and the state  is the all-zero state (usually denoted )."
      ]
    },
    {
      "cell_type": "code",
      "execution_count": null,
      "metadata": {
        "id": "1qhMg0hTVrQ3"
      },
      "outputs": [],
      "source": [
        "k_bits = 2\n",
        "n_bits = 2\n",
        "all_bits = k_bits + n_bits\n",
        "aux = range(k_bits)\n",
        "main = range(k_bits, all_bits)\n",
        "dev = qml.device(\"default.qubit\", wires=all_bits)\n",
        "\n",
        "def PREPARE(alpha_list):\n",
        "    \"\"\"Create the PREPARE oracle as a matrix.\n",
        "    \n",
        "    Args:\n",
        "        alpha_list (array[float]): A list of coefficients.\n",
        "\n",
        "    Returns: \n",
        "        array[complex]: The matrix representation of the PREPARE routine.\n",
        "    \"\"\"\n",
        "    zero_vec = np.array([1] + [0]*(2**k_bits - 1))\n",
        "    ##################\n",
        "    # YOUR CODE HERE #\n",
        "    ##################\n",
        "    alpha_list = np.sqrt(alpha_list) / np.linalg.norm(alpha_list)\n",
        "    return householder((zero_vec - alpha_list) / np.linalg.norm(zero_vec -alpha_list))\n"
      ]
    },
    {
      "cell_type": "markdown",
      "metadata": {
        "id": "T-v3p93DVt42"
      },
      "source": [
        "(b) The circuit below shows a PREPARE oracle (red), followed by a SELECT oracle (blue), followed by PREPARE (red):\n",
        "\n",
        "![](https://codebook.xanadu.ai/pics/ps-oracles.svg)"
      ]
    },
    {
      "cell_type": "code",
      "execution_count": null,
      "metadata": {
        "id": "maAWfLgHVxBF"
      },
      "outputs": [],
      "source": [
        "def SELECT(U_list):\n",
        "    \"\"\"Implement the SELECT oracle for 2^k unitaries.\"\"\"\n",
        "    for index in range(2**k_bits):\n",
        "        ctrl_str = np.binary_repr(index, k_bits) # Create binary representation\n",
        "        qml.ControlledQubitUnitary(U_list[index], control_wires=aux, \n",
        "                                   wires=main, control_values=ctrl_str)\n",
        "\n",
        "def LCU(alpha_list, U_list):\n",
        "    \"\"\"Implement LCU using PREPARE and SELECT oracles for 2^k unitaries.\n",
        "    \n",
        "    Args:\n",
        "        alpha_list (list[float]): A list of coefficients.\n",
        "        U_list (list[array[complex]]): A list of unitary matrices, stored as \n",
        "        complex arrays.\n",
        "    \"\"\"\n",
        "    ##################\n",
        "    # YOUR CODE HERE #\n",
        "    ##################\n",
        "    qml.QubitUnitary(PREPARE(alpha_list), wires=aux)\n",
        "    SELECT(U_list)\n",
        "    qml.adjoint(qml.QubitUnitary)(PREPARE(alpha_list), wires=aux)\n"
      ]
    },
    {
      "cell_type": "markdown",
      "metadata": {
        "id": "9n6rQ4FWV0IA"
      },
      "source": [
        "(c) Finally, consider the combination of unitaries"
      ]
    },
    {
      "cell_type": "code",
      "execution_count": null,
      "metadata": {
        "id": "jmLyojHFV09-"
      },
      "outputs": [],
      "source": [
        "U_list = [np.kron(qml.PauliX.compute_matrix(), qml.PauliX.compute_matrix()),\n",
        "          np.kron(qml.PauliZ.compute_matrix(), qml.PauliZ.compute_matrix()),\n",
        "          np.kron(qml.PauliX.compute_matrix(), qml.PauliZ.compute_matrix()),\n",
        "          np.kron(qml.PauliZ.compute_matrix(), qml.PauliX.compute_matrix())]\n",
        "alpha_list = [1, 0.5, 0.5, 1]\n",
        "\n",
        "@qml.qnode(dev)\n",
        "def my_circuit():\n",
        "    \"\"\"Apply H(X + Z/2) to the state |11> using LCU.\"\"\"\n",
        "    ##################\n",
        "    # YOUR CODE HERE #\n",
        "    ##################\n",
        "    for _ in main:\n",
        "\t    qml.PauliX(wires=_)\n",
        "    LCU(alpha_list, U_list)\n",
        "    return qml.state()\n",
        "\n",
        "print(\"The amplitudes on the main register are proportional to\", my_circuit()[:4], \".\")\n"
      ]
    },
    {
      "cell_type": "markdown",
      "metadata": {
        "id": "LZWV2TySV3v2"
      },
      "source": [
        "### Codercise H.7.3. \n",
        "Use the PREPARE and SELECT procedures you defined above to generate superpositions of two-qubit computational basis states,"
      ]
    },
    {
      "cell_type": "code",
      "execution_count": null,
      "metadata": {
        "id": "Ch2rx7MYV5Xo"
      },
      "outputs": [],
      "source": [
        "@qml.qnode(dev)\n",
        "def quantum_memory(beta_list):\n",
        "    \"\"\"Produce a data state with positive coefficients beta_list.\n",
        "\n",
        "    Args:\n",
        "        beta_list (array[float]): The amplitudes for our superposition.\n",
        "\n",
        "    Returns: \n",
        "        array[float]: The state on both address and data registers.\n",
        "    \"\"\"\n",
        "    ##################\n",
        "    # YOUR CODE HERE #\n",
        "    ##################\n",
        "    bell = np.matmul(np.kron(qml.Hadamard.compute_matrix(), np.eye(2)),qml.CNOT.compute_matrix())\n",
        "    \n",
        "    U_list = [np.kron(qml.PauliZ.compute_matrix(), qml.PauliZ.compute_matrix()),\n",
        "    np.kron(qml.PauliZ.compute_matrix(),qml.PauliX.compute_matrix()),\n",
        "    np.kron(qml.PauliX.compute_matrix(),qml.PauliZ.compute_matrix()),\n",
        "    np.kron(qml.PauliX.compute_matrix(),qml.PauliX.compute_matrix())]\n",
        "    beta_sq = np.square(beta_list)\n",
        "\n",
        "    qml.QubitUnitary(PREPARE(beta_sq), wires=aux)\n",
        "    SELECT(U_list)\n",
        "\n",
        "\n",
        "\n",
        "    return qml.state()\n",
        "\n",
        "beta_list = np.array([1, 0, 0, 1])\n",
        "normalized_coefficients = [quantum_memory(beta_list)[i].item() for i in range(0, 20, 5)]\n",
        "print(\"The amplitudes on the main register are proportional to\", normalized_coefficients, \".\")\n"
      ]
    }
  ],
  "metadata": {
    "colab": {
      "provenance": []
    },
    "kernelspec": {
      "display_name": "Python 3",
      "name": "python3"
    },
    "language_info": {
      "name": "python"
    }
  },
  "nbformat": 4,
  "nbformat_minor": 0
}
