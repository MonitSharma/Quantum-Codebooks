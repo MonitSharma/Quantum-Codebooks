{
  "cells": [
    {
      "cell_type": "markdown",
      "metadata": {
        "id": "Opw2DooLbKwY"
      },
      "source": [
        "# H8 Comparing Methods\n",
        "\n",
        "We've seen two different ways to simulate physical systems in this module so far: Trotterization, and linear combination of unitaries (LCU). Which should you use? It turns out that each method works better in certain situations. Both are useful tools for the toolbox of the quantum physicist! To understand when to use LCU and when to use Trotterization, we'll look at how the simulation cost for a given error depends on the Hamiltonian at hand."
      ]
    },
    {
      "attachments": {},
      "cell_type": "markdown",
      "metadata": {},
      "source": [
        "Author: [Monit Sharma](https://github.com/MonitSharma)\n",
        "LinkedIn: [Monit Sharma](https://www.linkedin.com/in/monitsharma/)\n",
        "Twitter: [@MonitSharma1729](https://twitter.com/MonitSharma1729)\n",
        "Medium : [MonitSharma](https://medium.com/@_monitsharma)"
      ]
    },
    {
      "cell_type": "markdown",
      "metadata": {
        "id": "ATJ8mZmUbQx7"
      },
      "source": [
        "### Codercise H.8.1. \n",
        "(a) Complete the code for trotter_XandZ below to Trotterize evolution with the Hamiltonian . The exact result exact_result_XandZ is provided for you. Submitting will generate a plot of the error trotter_error_XandZ against the number of steps on a log-log scale for two different choices of  and .\n",
        "\n"
      ]
    },
    {
      "cell_type": "code",
      "execution_count": null,
      "metadata": {
        "id": "I5AVSv0obU08"
      },
      "outputs": [],
      "source": [
        "dev = qml.device(\"default.qubit\", wires=1)\n",
        "\n",
        "def exact_result_XandZ(alpha, beta, time):\n",
        "    \"\"\"Exact circuit for evolving a qubit with H = alpha Z + beta X.\n",
        "    \n",
        "    Args:\n",
        "        alpha (float): The coefficient of Z in the Hamiltonian.\n",
        "        beta (float): The coefficient of X in the Hamiltonian.\n",
        "        time (float): The time we evolve the state for.\n",
        "        \n",
        "    Returns: \n",
        "        array[complex]: The exact state after evolution.\n",
        "    \"\"\"\n",
        "    root = np.sqrt(alpha**2 + beta**2)\n",
        "    c_0 = np.cos(root*time) - (alpha/root)*np.sin(root*time)*1.j\n",
        "    c_1 = -(beta/root)*np.sin(root*time)*1.j\n",
        "    return np.array([c_0, c_1])\n",
        "    \n",
        "@qml.qnode(dev)\n",
        "def trotter_XandZ(alpha, beta, time, n):\n",
        "    \"\"\"Trotterized circuit for evolving a qubit with H = alpha Z + beta X.\n",
        "    \n",
        "    Args:\n",
        "        alpha (float): The coefficient of Z in the Hamiltonian.\n",
        "        beta (float): The coefficient of X in the Hamiltonian.\n",
        "        time (float): The time we evolve the state for.\n",
        "        n (int): The number of steps in our Trotterization.\n",
        "        \n",
        "    Returns: \n",
        "        array[complex]: The state after applying the Trotterized circuit.\n",
        "    \"\"\"\n",
        "    ##################\n",
        "    # YOUR CODE HERE #\n",
        "    ##################\n",
        "    t = time\n",
        "    for _ in range(n):\n",
        "\t    qml.PauliRot(2 * t/n * alpha, \"Z\",wires=0)\n",
        "\t    qml.PauliRot(2 * t/n * beta, \"X\",wires=0)\n",
        "\n",
        "    return qml.state()\n",
        "\n",
        "def trotter_error_XandZ(alpha, beta, time, n):\n",
        "    \"\"\"Difference between the exact and Trotterized result.\n",
        "    \n",
        "    Args:\n",
        "        alpha (float): The coefficient of Z in the Hamiltonian.\n",
        "        beta (float): The coefficient of X in the Hamiltonian.\n",
        "        time (float): The time we evolve the state for.\n",
        "        n (int): The number of steps in our Trotterization.\n",
        "        \n",
        "    Returns: \n",
        "        float: The distance between the exact and Trotterized result.\n",
        "    \"\"\"\n",
        "    diff = np.abs(trotter_XandZ(alpha, beta, time, n) - exact_result_XandZ(alpha, beta, time))\n",
        "    return np.sqrt(sum(diff*diff))\n"
      ]
    },
    {
      "cell_type": "markdown",
      "metadata": {
        "id": "2hm69v9FbXuY"
      },
      "source": [
        "###Codercise H.8.1. \n",
        "(b) Implement the second-order Trotterization circuit trotter_2_XandZ. The error for the first-order and second-order Trotter methods are shown as a function of step number for the same Hamiltonian () on a log-log plot. Are the results what you expect?"
      ]
    },
    {
      "cell_type": "code",
      "execution_count": null,
      "metadata": {
        "id": "iIzXeIJfbZPf"
      },
      "outputs": [],
      "source": [
        "@qml.qnode(dev)\n",
        "def trotter_2_XandZ(alpha, beta, time, n):\n",
        "    \"\"\"Second-order Trotter circuit for the Hamiltonian H = alpha Z +  beta X.\n",
        "    \n",
        "    Args:\n",
        "        alpha (float): The coefficient of Z in the Hamiltonian.\n",
        "        beta (float): The coefficient of X in the Hamiltonian.\n",
        "        time (float): The time we evolve the state for.\n",
        "        n (int): The number of steps in our Trotterization.\n",
        "        \n",
        "    Returns: \n",
        "        array[complex]: The state after applying the second-order circuit.\n",
        "    \"\"\"\n",
        "    ##################\n",
        "    # YOUR CODE HERE #\n",
        "    ##################\n",
        "    t = time\n",
        "    for _ in range(n):\n",
        "\t    qml.PauliRot(2 * t/(2*n) * alpha, \"Z\", wires=0)\n",
        "\t    qml.PauliRot(2 * t/(2*n) * beta, \"X\", wires=0)\n",
        "\t    qml.PauliRot(2 * t/(2*n) * beta, \"X\", wires=0)\n",
        "\t    qml.PauliRot(2 * t/(2*n) * alpha, \"Z\", wires=0)\n",
        "\n",
        "\n",
        "    return qml.state()\n",
        "\n",
        "def trotter_2_error_XandZ(alpha, beta, time, n):\n",
        "    \"\"\"Difference between the exact and second-order Trotter result.\n",
        "    \n",
        "    Args:\n",
        "        alpha (float): The coefficient of Z in the Hamiltonian.\n",
        "        beta (float): The coefficient of X in the Hamiltonian.\n",
        "        time (float): The time we evolve the state for.\n",
        "        n (int): The number of steps in our Trotterization.\n",
        "        \n",
        "    Returns: \n",
        "        float: The distance between the exact and second-order result.\n",
        "    \"\"\"\n",
        "    diff = np.abs(trotter_2_XandZ(alpha, beta, time, n) - exact_result_XandZ(alpha, beta, time))\n",
        "    return np.sqrt(sum(diff*diff))\n"
      ]
    },
    {
      "cell_type": "markdown",
      "metadata": {
        "id": "1W1RwCPsbaps"
      },
      "source": [
        "### Codercise H.8.1. \n",
        "(c) Finish the code to implement order- Trotterization below, trotter_k_XandZ. This implements the unitary  as a subcircuit. We use this function to plot error as a function of step number for different orders of Trotterization. Are the results as expected?\n",
        "\n",
        "Tip. Note that it is conventional to refer to the order of the Trotterization as , the power at which the error falls off."
      ]
    },
    {
      "cell_type": "code",
      "execution_count": null,
      "metadata": {
        "id": "7nZ_-fePbdNZ"
      },
      "outputs": [],
      "source": [
        "@qml.qnode(dev)\n",
        "def trotter_k_XandZ(alpha, beta, time, n, k):\n",
        "    \"\"\"\n",
        "    Order-2k Trotter circuit for the Hamiltonian H = alpha Z + beta X.\n",
        "    \n",
        "    Args:\n",
        "        alpha (float): The coefficient of Z in the Hamiltonian.\n",
        "        beta (float): The coefficient of X in the Hamiltonian.\n",
        "        time (float): The time we evolve the state for.\n",
        "        n (int): The number of steps in our Trotterization.\n",
        "        k (int): The order of our Trotterization formula divided by 2.\n",
        "        \n",
        "    Returns: \n",
        "        array[complex]: The state after applying the order-2k circuit.\n",
        "    \"\"\"\n",
        "    def U(alpha, beta, time, n, k):\n",
        "        if k == 1:\n",
        "            qml.RZ(alpha*time/n, wires=[0])\n",
        "            qml.RX(2*beta*time/n, wires=[0])\n",
        "            qml.RZ(alpha*time/n, wires=[0])\n",
        "        else:\n",
        "            ##################\n",
        "            # YOUR CODE HERE #\n",
        "            ##################\n",
        "            s = 1 / (4 - 4 ** (1 / (2 * k -1)))\n",
        "            U(alpha, beta, s * time, n, k -1)\n",
        "            U(alpha, beta, s * time, n, k -1)\n",
        "            U(alpha, beta, (1 - 4 * s) * time, n , k-1)\n",
        "            U(alpha, beta, s * time, n ,k-1)\n",
        "            U(alpha, beta, s * time, n, k -1)\n",
        "\n",
        "            pass # MODIFY THIS\n",
        "    for _ in range(n):\n",
        "        U(alpha, beta, time, n, k)\n",
        "    return qml.state()\n",
        "\n",
        "def trotter_k_error_XandZ(alpha, beta, time, n, k):\n",
        "    \"\"\"\n",
        "    Difference between the exact and order-2k Trotter result.\n",
        "    \n",
        "    Args:\n",
        "        alpha (float): The coefficient of Z in the Hamiltonian.\n",
        "        beta (float): The coefficient of X in the Hamiltonian.\n",
        "        time (float): The time we evolve the state for.\n",
        "        n (int): The number of steps in our Trotterization.\n",
        "        k (int): The order of our Trotterization formula divided by 2.\n",
        "        \n",
        "    Returns: \n",
        "        float: The distance between the exact and order-2k result.\n",
        "    \"\"\"\n",
        "    diff = np.abs(trotter_k_XandZ(alpha, beta, time, n, k) - exact_result_XandZ(alpha, beta, time))\n",
        "    return np.sqrt(sum(diff*diff))\n"
      ]
    },
    {
      "cell_type": "markdown",
      "metadata": {
        "id": "uaARCqDmbfuM"
      },
      "source": [
        "### Codercise H.8.1. \n",
        "(d) Finish the function below to determine the number of gates  needed to achieve a given accuracy  in the order- Trotterized time evolution. Note that trotter_k_error_XandZ(alpha, beta, time, n, k) is defined for you. Submitting produces a plot of the number of steps as a function of order , for a specific error . In this case, what is the optimal order, and how many gates are needed to achieve it?"
      ]
    },
    {
      "cell_type": "code",
      "execution_count": null,
      "metadata": {
        "id": "xr3BNiU5bg6Y"
      },
      "outputs": [],
      "source": [
        "def trotter_steps_XandZ(alpha, beta, time, error, k):\n",
        "    \"\"\"\n",
        "    Computes the number of Trotter steps needed for a given order k and error.\n",
        "    \n",
        "    Args:\n",
        "        alpha (float): The coefficient of Z in the Hamiltonian.\n",
        "        beta (float): The coefficient of X in the Hamiltonian.\n",
        "        time (float): The time we evolve the state for.\n",
        "        error (float): The size of the tolerated simulation error.\n",
        "        k (int): The order of our Trotterization formula divided by 2.\n",
        "        \n",
        "    Returns: \n",
        "        int: The number of steps needed to achieve a given error.\n",
        "    \"\"\"\n",
        "    n = 1\n",
        "    while True:\n",
        "\t    e = trotter_k_error_XandZ(alpha, beta, time,n,k)\n",
        "\t    if e <= error:\n",
        "\t\t    break\n",
        "\t    n+= 1\n",
        "    ##################\n",
        "    # YOUR CODE HERE #\n",
        "    ##################\n",
        "    return n\n",
        "\n",
        "error = 1e-6\n",
        "optimal_k = 3 # MODIFY THIS AFTER LOOKING AT THE PLOT \n",
        "n = trotter_steps_XandZ(1, 1, 1, error, optimal_k)\n",
        "depth = qml.specs(trotter_k_XandZ)(1, 1, 1, n, optimal_k)['depth']\n",
        "print(\"The Trotter circuit of order\", 2*optimal_k, \"uses a circuit of depth\", depth, \"gates to achieve error ε =\", error, \".\")\n"
      ]
    },
    {
      "cell_type": "markdown",
      "metadata": {
        "id": "K5qWUWHfbj7I"
      },
      "source": [
        "### Codercise H.8.2. \n",
        "(a) Complete the function below to generate a list of (positive) coefficients and unitaries for truncating the Taylor series to  terms. The factorial function is provided to you as fact(n)."
      ]
    },
    {
      "cell_type": "code",
      "execution_count": null,
      "metadata": {
        "id": "rNxfaUAjblPI"
      },
      "outputs": [],
      "source": [
        "def truncation_XandZ(alpha, beta, time, K_bits):\n",
        "    \"\"\"\n",
        "    Generates unitaries and coefficients for the truncated X and Z evolution.\n",
        "    \n",
        "    Args:\n",
        "        alpha (float): The coefficient of Z in the Hamiltonian.\n",
        "        beta (float): The coefficient of X in the Hamiltonian.\n",
        "        time (float): The time we evolve the state for.\n",
        "        K_bits (int): The index of the truncation order, K = 2^K_bits.\n",
        "        \n",
        "    Returns: \n",
        "        [array[complex], array[array(complex)]]: Coefficients and unitaries.\n",
        "    \"\"\"\n",
        "    root = np.sqrt(alpha**2 + beta**2)\n",
        "    coeff_list = [0]*2**K_bits\n",
        "    U_list = [0]*2**K_bits\n",
        "    V = (alpha*qml.PauliZ(wires=0).compute_matrix() + beta*qml.PauliX(wires=0).compute_matrix())/root\n",
        "\n",
        "    for k in range(2**(K_bits-1)):\n",
        "        \n",
        "        coeff_list[2*k] = ((time * np.sqrt(alpha**2 + beta**2))**(2*k))/(fact(2*k)) # MODIFY THIS\n",
        "        coeff_list[2*k + 1] = ((time * np.sqrt(alpha**2 + beta**2))**(2*k + 1)) / (fact(2 * k +1)) # MODIFY THIS\n",
        "        U_list[2*k] = np.eye(2) * (-1)**k # MODIFY THIS\n",
        "        U_list[2*k + 1] = (-1)**k * (-1j) * V # MODIFY THIS\n",
        "\n",
        "    return [coeff_list, U_list]\n"
      ]
    },
    {
      "cell_type": "markdown",
      "metadata": {
        "id": "N9wgl2wGboRN"
      },
      "source": [
        "### Codercise H.8.2. \n",
        "(b) Complete the circuit for performing LCU simulation. Recall that it takes the following form:\n",
        "\n",
        "![](https://codebook.xanadu.ai/pics/ps-oracles.svg)"
      ]
    },
    {
      "cell_type": "code",
      "execution_count": null,
      "metadata": {
        "id": "TJRfqH1QbsZ1"
      },
      "outputs": [],
      "source": [
        "def LCU_XandZ(alpha, beta, time, K_bits):\n",
        "    \"\"\"\n",
        "    LCU circuit for simulating the Hamiltonian H = alpha Z + beta X.\n",
        "    \n",
        "    Args:\n",
        "        alpha (float): The coefficient of Z in the Hamiltonian.\n",
        "        beta (float): The coefficient of X in the Hamiltonian.\n",
        "        time (float): The time we evolve the state for.\n",
        "        K_bits (int): The index of the truncation order, K = 2^K_bits.\n",
        "        \n",
        "    Returns: \n",
        "        array[complex]: The state after applying the LCU circuit.\n",
        "    \"\"\"\n",
        "    aux = range(K_bits) # The auxiliary qubits\n",
        "    main = range(K_bits, K_bits + 1) # The main system\n",
        "    dev2 = qml.device(\"default.qubit\", wires=K_bits + 1, shots=None)\n",
        "    [coeff_list, U_list] = truncation_XandZ(alpha, beta, time, K_bits)\n",
        "    \n",
        "    @qml.qnode(dev2)\n",
        "    def LCU_circuit():\n",
        "\n",
        "        ##################\n",
        "        # YOUR CODE HERE #\n",
        "        ##################\n",
        "        print(PREPARE_matrix(coeff_list))\n",
        "        qml.QubitUnitary(PREPARE_matrix(coeff_list),wires=aux)\n",
        "        SELECT(U_list)\n",
        "        qml.QubitUnitary(PREPARE_matrix(coeff_list).conj().T, wires=aux)\n",
        "\n",
        "\n",
        "        return qml.state()\n",
        "\n",
        "    unnormed = LCU_circuit()[:2] # Unnormalized state of main qubit\n",
        "    normed = unnormed/np.sqrt(sum(np.conjugate(unnormed)*unnormed)) # Normalize!\n",
        "    \n",
        "    return normed\n"
      ]
    },
    {
      "cell_type": "markdown",
      "metadata": {
        "id": "j9zHmItPbutU"
      },
      "source": [
        "### Codercise H.8.2. \n",
        "(c) As we did for Trotterization, let's compute the error  as a function of the truncation order, and generate the accompanying plot. Recall that the exact result is given by the function exact_result_XandZ(alpha, beta, time) and the LCU circuit approximation by LCU_XandZ(alpha, beta, time, K_bits). How do your results compare to Trotterization?"
      ]
    },
    {
      "cell_type": "code",
      "execution_count": null,
      "metadata": {
        "id": "4iPMlCYybwAT"
      },
      "outputs": [],
      "source": [
        "def LCU_error_XandZ(alpha, beta, time, K_bits):\n",
        "    \"\"\"\n",
        "    Difference between the exact and LCU simulation result.\n",
        "    \n",
        "    Args:\n",
        "        alpha (float): The coefficient of Z in the Hamiltonian.\n",
        "        beta (float): The coefficient of X in the Hamiltonian.\n",
        "        time (float): The time we evolve the state for.\n",
        "        K_bits (int): The index of the truncation order, K = 2^K_bits.\n",
        "        \n",
        "    Returns: \n",
        "        float: The distance between the exact and LCU result.\n",
        "    \"\"\"\n",
        "\n",
        "    diff = np.abs(LCU_XandZ(alpha, beta, time, K_bits) - exact_result_XandZ(alpha, beta,time)) # MODIFY THIS\n",
        "\n",
        "    return np.sqrt(sum(diff*diff))\n"
      ]
    },
    {
      "cell_type": "markdown",
      "metadata": {
        "id": "DmJNZkXrbzvv"
      },
      "source": [
        "### Codercise H.8.3. \n",
        "Manually find values for  and  for which LCU outperforms Trotter, and vice-versa. Run the code below to test, then fill in some example values in the provided variables. Note that we set  and . The depth of the optimal Trotter circuit is provided as trotter_depth(alpha, error) and the depth of the optimal LCU circuit as LCU_depth(alpha, error)."
      ]
    },
    {
      "cell_type": "code",
      "execution_count": null,
      "metadata": {
        "id": "VWMK3bZob1FW"
      },
      "outputs": [],
      "source": [
        "alpha, error = 2, 1e-2 # VARY THIS\n",
        "\n",
        "print(\"For α =\", alpha, \"and error ε =\", error, \n",
        "      \"the optimal Trotter circuit has depth\",  trotter_depth(alpha, error),\n",
        "      \"and the optimal LCU circuit depth\", LCU_depth(alpha, error), \".\")\n",
        "\n",
        "alpha_trotter, error_trotter = 0, 1 # RECORD PARAMETERS FOR WHICH TROTTER IS BEST\n",
        "alpha_LCU, error_LCU = 2, 0.01 # RECORD PARAMETERS FOR WHICH LCU IS BEST\n"
      ]
    }
  ],
  "metadata": {
    "colab": {
      "provenance": []
    },
    "kernelspec": {
      "display_name": "Python 3",
      "name": "python3"
    },
    "language_info": {
      "name": "python"
    }
  },
  "nbformat": 4,
  "nbformat_minor": 0
}
