{
  "cells": [
    {
      "cell_type": "markdown",
      "metadata": {
        "id": "Ui_eF2togufm"
      },
      "source": [
        "# H.1 Simulating Nature\n",
        "\n",
        "Fundamentally, quantum computing is different from classical computing because of the physical laws working \"under the hood\" of the computer. To understand quantum computing in this light, it's useful to treat Nature as a sort of black box. It takes an initial condition as an input, evolves it using physical laws, and outputs experimental data (aka measurements) at the end. We can try to infer the laws of Nature from looking at the pattern of input conditions and output measurements."
      ]
    },
    {
      "attachments": {},
      "cell_type": "markdown",
      "metadata": {},
      "source": [
        "Author: [Monit Sharma](https://github.com/MonitSharma)\n",
        "LinkedIn: [Monit Sharma](https://www.linkedin.com/in/monitsharma/)\n",
        "Twitter: [@MonitSharma1729](https://twitter.com/MonitSharma1729)\n",
        "Medium : [MonitSharma](https://medium.com/@_monitsharma)"
      ]
    },
    {
      "cell_type": "markdown",
      "metadata": {
        "id": "VB_jB5sZg1TK"
      },
      "source": [
        "![](https://codebook.xanadu.ai/pics/nature.svg)"
      ]
    },
    {
      "cell_type": "markdown",
      "metadata": {
        "id": "ffAObFkYg5PX"
      },
      "source": [
        "### Codercise H.1.1.\n",
        " Generate some examples using the provided code and guess the secret deterministic rule."
      ]
    },
    {
      "cell_type": "code",
      "execution_count": null,
      "metadata": {
        "id": "EQm53zs5glRW"
      },
      "outputs": [],
      "source": [
        "input = [1, 1, 0] # MODIFY EXAMPLE\n",
        "print(\"The result of applying the secret box to \", input, \"is \")\n",
        "# We will secretly apply the function and return the result!\n",
        "\n",
        "def deterministic_box(bits):\n",
        "    \"\"\"Guess the secret deterministic rule.\n",
        "    \n",
        "    Args:\n",
        "        bits (list[int]): A list of bits representing an initial condition.\n",
        "         \n",
        "    Returns: \n",
        "        list[int]: The output bits measured after deterministic evolution.\n",
        "    \"\"\"\n",
        "    ##################\n",
        "    # YOUR CODE HERE #\n",
        "    ##################\n",
        "    return bits[1:] + [bits[0]] # MODIFY THIS\n"
      ]
    },
    {
      "cell_type": "markdown",
      "metadata": {
        "id": "VlZAu8b_g_BU"
      },
      "source": [
        "###Codercise H.1.2. \n",
        "Your goal is to estimate the random update rule. You can run the black box a number of times (controlled by a variable trials) and estimate the probability distribution using the provided code.\n",
        "\n",
        "Tip. Use NumPy's np.random.choice() function."
      ]
    },
    {
      "cell_type": "code",
      "execution_count": null,
      "metadata": {
        "id": "zDbJLMjNhAuv"
      },
      "outputs": [],
      "source": [
        "input = 0 # MODIFY EXAMPLE\n",
        "\n",
        "trials = 100 # INCREASE TRIALS TO IMPROVE APPROXIMATION\n",
        "print(\"On input\", input, \"the approximate probability distribution is\")\n",
        "# We will secretly apply the function and return the result!\n",
        "\n",
        "def random_box(bit):\n",
        "    \"\"\"Guess the secret random rule.\n",
        "    \n",
        "    Args:\n",
        "        bit (int): A bit representing the initial condition.\n",
        "         \n",
        "    Returns: \n",
        "        int: The output bit measured after random evolution.\n",
        "    \"\"\"\n",
        "    ##################\n",
        "    # YOUR CODE HERE #\n",
        "    ##################\n",
        "    return np.random.choice(2) # MODIFY THIS\n"
      ]
    },
    {
      "cell_type": "markdown",
      "metadata": {
        "id": "aUjUX_7whEGH"
      },
      "source": [
        "![](https://codebook.xanadu.ai/pics/quantum.svg)"
      ]
    },
    {
      "cell_type": "markdown",
      "metadata": {
        "id": "DRopxi49hH08"
      },
      "source": [
        "### Codercise H.1.3. \n",
        "Check the probability distribution for different input bits and a number of applications of the box. From these examples, what do you think the secret quantum rule is? To be clear, this is a gate you will implement in PennyLane."
      ]
    },
    {
      "cell_type": "code",
      "execution_count": null,
      "metadata": {
        "id": "MaO2nlKqhFkV"
      },
      "outputs": [],
      "source": [
        "dev = qml.device(\"default.qubit\", wires=1)\n",
        "\n",
        "input = 0 # MODIFY EXAMPLE\n",
        "reps = 1\n",
        "print(\"The probability distribution after applying the secret box to \", input)\n",
        "print(\"a total of \", reps, \"time(s) is \")\n",
        "# We will secretly apply the function and return the result!\n",
        "\n",
        "@qml.qnode(dev)\n",
        "def quantum_box(bit, reps):\n",
        "    \"\"\"Implements the secret quantum rule on a single (qu)bit.\n",
        "    \n",
        "    Args:\n",
        "        bit (int): A bit representing an initial condition.\n",
        "        reps (int): Number of times gate is repeated.\n",
        "\n",
        "    Returns:\n",
        "        list[float]: The output probability distribution.\n",
        "    \"\"\"\n",
        "    if bit == 1:\n",
        "        qml.PauliX(wires=0)\n",
        "    for _ in range(reps):\n",
        "        ##################\n",
        "        # YOUR CODE HERE #\n",
        "        ##################\n",
        "        qml.Hadamard(wires=0)\n",
        "\n",
        "    return qml.probs(wires=0)\n"
      ]
    }
  ],
  "metadata": {
    "colab": {
      "provenance": []
    },
    "kernelspec": {
      "display_name": "Python 3",
      "name": "python3"
    },
    "language_info": {
      "name": "python"
    }
  },
  "nbformat": 4,
  "nbformat_minor": 0
}
