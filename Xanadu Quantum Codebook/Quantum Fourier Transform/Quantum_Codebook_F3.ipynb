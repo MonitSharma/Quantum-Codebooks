{
  "cells": [
    {
      "cell_type": "markdown",
      "metadata": {
        "id": "UgtN_E1rxYS-"
      },
      "source": [
        "# F3 Connecting the Dots\n",
        "\n",
        "Now that you have implemented the QFT for one and two qubits, we will focus on implementing a generalized QFT on $n$  qubits. To get an intuition behind the gates involved, it is easier to look at the action of the QFT on the computational basis states, rather than the matrix formulation."
      ]
    },
    {
      "attachments": {},
      "cell_type": "markdown",
      "metadata": {},
      "source": [
        "Author: [Monit Sharma](https://github.com/MonitSharma)\n",
        "LinkedIn: [Monit Sharma](https://www.linkedin.com/in/monitsharma/)\n",
        "Twitter: [@MonitSharma1729](https://twitter.com/MonitSharma1729)\n",
        "Medium : [MonitSharma](https://medium.com/@_monitsharma)"
      ]
    },
    {
      "cell_type": "markdown",
      "metadata": {
        "id": "YngrpMIGxirU"
      },
      "source": [
        "The following figure shows the QFT circuit on $n$ qubits, with a focus on the action of rotations on the first qubit."
      ]
    },
    {
      "cell_type": "markdown",
      "metadata": {
        "id": "A8uwJceRxlP5"
      },
      "source": [
        "![](https://codebook.xanadu.ai/pics/f3-circuit-opt3.png)"
      ]
    },
    {
      "cell_type": "markdown",
      "metadata": {
        "id": "Edxc-amXxo3v"
      },
      "source": [
        "### Codercise F.3.1. \n",
        "Implement the QFT for three qubits.\n",
        "\n"
      ]
    },
    {
      "cell_type": "code",
      "execution_count": null,
      "metadata": {
        "id": "9gOvKDkGxL86"
      },
      "outputs": [],
      "source": [
        "dev = qml.device(\"default.qubit\", wires=3)\n",
        "\n",
        "@qml.qnode(dev)\n",
        "def three_qubit_QFT(basis_id):\n",
        "    \"\"\"A circuit that computes the QFT on three qubits.\n",
        "    \n",
        "    Args:\n",
        "        basis_id (int): An integer value identifying the basis state to construct.\n",
        "        \n",
        "    Returns:\n",
        "        array[complex]: The state of the qubits after the QFT operation.\n",
        "    \"\"\"\n",
        "    # Prepare the basis state |basis_id>\n",
        "    bits = [int(x) for x in np.binary_repr(basis_id, width=dev.num_wires)]\n",
        "    qml.BasisStatePreparation(bits, wires=[0, 1, 2])\n",
        "    \n",
        "    ##################\n",
        "    # YOUR CODE HERE #\n",
        "    ################## \n",
        "    qml.Hadamard(wires=0)\n",
        "    qml.ControlledPhaseShift(np.pi/2, wires=[1,0])\n",
        "    qml.ControlledPhaseShift(np.pi/2, wires=[2,0])\n",
        "\n",
        "    qml.Hadamard(wires=1)\n",
        "    qml.ControlledPhaseShift(np.pi/2, wires=[2,1])\n",
        "    qml.Hadamard(wires=2)\n",
        "    qml.SWAP(wires=[0,2])\n",
        "    return qml.state()\n",
        "\n",
        "    \n"
      ]
    },
    {
      "cell_type": "markdown",
      "metadata": {
        "id": "rjwF3nXSxuYh"
      },
      "source": [
        "### Codercise F.3.2. \n",
        "Implement a circuit that reverses the order of  qubits using SWAP gates. You need only  gates for this.\n",
        "\n"
      ]
    },
    {
      "cell_type": "code",
      "execution_count": null,
      "metadata": {
        "id": "3DjhHg4jxwQD"
      },
      "outputs": [],
      "source": [
        "dev = qml.device('default.qubit', wires=4)\n",
        "\n",
        "            \n",
        "def swap_bits(n_qubits):\n",
        "    \"\"\"A circuit that reverses the order of qubits, i.e.,\n",
        "    performs a SWAP such that [q1, q2, ..., qn] -> [qn, ... q2, q1].\n",
        "    \n",
        "    Args:\n",
        "        n_qubits (int): An integer value identifying the number of qubits.\n",
        "    \"\"\"\n",
        "    ##################\n",
        "    # YOUR CODE HERE #\n",
        "    ##################\n",
        "    i = 0\n",
        "    j = n_qubits -1\n",
        "    while i != j and i < j:\n",
        "\t    qml.SWAP(wires=[i,j])\n",
        "\t    i += 1 \n",
        "\t    j -= 1\n",
        "\n",
        "\n",
        "@qml.qnode(dev) \n",
        "def qft_node(basis_id, n_qubits):\n",
        "    # Prepare the basis state |basis_id>\n",
        "    bits = [int(x) for x in np.binary_repr(basis_id, width=n_qubits)]\n",
        "    qml.BasisStatePreparation(bits, wires=range(n_qubits))\n",
        "    # qft_rotations(n_qubits)\n",
        "    swap_bits(n_qubits)\n",
        "    return qml.state()\n"
      ]
    },
    {
      "cell_type": "markdown",
      "metadata": {
        "id": "2MOPt6HGxz6L"
      },
      "source": [
        "Now we will implement rotations:\n",
        "\n",
        "![](https://codebook.xanadu.ai/pics/f3-circuit-opt2.png)"
      ]
    },
    {
      "cell_type": "markdown",
      "metadata": {
        "id": "-w1q35Hlx4z_"
      },
      "source": [
        "### Codercise F.3.3. \n",
        "Implement the circuit that performs the Hadamards and controlled rotations on  qubits using `qml.ControlledPhaseShift`. The `swap_bits` operation defined in the exercise above is available to use. The result is the n-qubit QFT!"
      ]
    },
    {
      "cell_type": "code",
      "execution_count": null,
      "metadata": {
        "id": "_E9Nha1wx3LN"
      },
      "outputs": [],
      "source": [
        "dev = qml.device('default.qubit', wires=4)\n",
        "\n",
        "def qft_rotations(n_qubits):\n",
        "    \"\"\"A circuit performs the QFT rotations on the specified qubits.\n",
        "    \n",
        "    Args:\n",
        "        n_qubits (int): An integer value identifying the number of qubits.\n",
        "    \"\"\"\n",
        "\n",
        "    ##################\n",
        "    # YOUR CODE HERE #\n",
        "    ################## \n",
        "    for i in range(n_qubits):\n",
        "\t    qml.Hadamard(wires=i)\n",
        "\t    for j in range(i+1, n_qubits):\n",
        "\t\t    qml.ControlledPhaseShift(np.pi/2**(j-i), wires =[j,i])\n",
        "\n",
        "    \n",
        "\n",
        "@qml.qnode(dev) \n",
        "def qft_node(basis_id, n_qubits):\n",
        "    # Prepare the basis state |basis_id>\n",
        "    bits = [int(x) for x in np.binary_repr(basis_id, width=n_qubits)]\n",
        "    qml.BasisStatePreparation(bits, wires=range(n_qubits))\n",
        "    qft_rotations(n_qubits)\n",
        "    swap_bits(n_qubits)\n",
        "    return qml.state()\n"
      ]
    },
    {
      "cell_type": "markdown",
      "metadata": {
        "id": "5pTj3R5UyBBY"
      },
      "source": [
        "You have successfully implemented the QFT! We will now try to implement a recursive solution to the rotations part of QFT as well. Let's take a look at the circuit again.\n",
        "\n",
        "![](https://codebook.xanadu.ai/pics/f3-circuit-opt2.png)"
      ]
    },
    {
      "cell_type": "markdown",
      "metadata": {
        "id": "WmwCkru4yFG9"
      },
      "source": [
        "### Codercise F.3.4. \n",
        "Implement the circuit that performs the Hadamard operations and controlled rotations on  qubits recursively. The swap_bits operation defined earlier is available for you"
      ]
    },
    {
      "cell_type": "code",
      "execution_count": null,
      "metadata": {
        "id": "RDBESBTMyDcc"
      },
      "outputs": [],
      "source": [
        "dev = qml.device('default.qubit', wires=4)\n",
        "\n",
        "def qft_recursive_rotations(n_qubits, wire=0):\n",
        "    \"\"\"A circuit that performs the QFT rotations on the specified qubits\n",
        "        recursively.\n",
        "        \n",
        "    Args:\n",
        "        n_qubits (int): An integer value identifying the number of qubits.\n",
        "        wire (int): An integer identifying the wire \n",
        "                    (or the qubit) to apply rotations on.\n",
        "    \"\"\"\n",
        "\n",
        "    ##################\n",
        "    # YOUR CODE HERE #\n",
        "    ################## \n",
        "    if wire == n_qubits - 1:\n",
        "\t    qml.Hadamard(wires=wire)\n",
        "\t    return\n",
        "    else:\n",
        "\t    qml.Hadamard(wires=wire)\n",
        "\t    for j in range(wire+1,n_qubits):\n",
        "\t\t    qml.ControlledPhaseShift(np.pi/2**(j - wire), wires=[j,wire])\n",
        "\t    qft_recursive_rotations(n_qubits, wire+1)\n",
        "\n",
        "@qml.qnode(dev) \n",
        "def qft_node(basis_id, n_qubits):\n",
        "    # Prepare the basis state |basis_id>\n",
        "    bits = [int(x) for x in np.binary_repr(basis_id, width=n_qubits)]\n",
        "    qml.BasisStatePreparation(bits, wires=range(n_qubits))\n",
        "    qft_recursive_rotations(n_qubits)\n",
        "    swap_bits(n_qubits)\n",
        "    return qml.state()\n"
      ]
    },
    {
      "cell_type": "markdown",
      "metadata": {
        "id": "xYyWFx8dyLbf"
      },
      "source": [
        "### Codercise F.3.5. \n",
        "Implement the QFT using qml.QFT."
      ]
    },
    {
      "cell_type": "code",
      "execution_count": null,
      "metadata": {
        "id": "W03FAn3DyNlq"
      },
      "outputs": [],
      "source": [
        "dev = qml.device('default.qubit', wires=4)\n",
        "\n",
        "@qml.qnode(dev)\n",
        "def pennylane_qft(basis_id, n_qubits):\n",
        "    \"\"\"A that circuit performs the QFT using PennyLane's QFT template.\n",
        "    \n",
        "    Args:\n",
        "        basis_id (int): An integer value identifying \n",
        "            the basis state to construct.\n",
        "        n_qubits (int): An integer identifying the \n",
        "            number of qubits.\n",
        "            \n",
        "    Returns:\n",
        "        array[complex]: The state after applying the QFT to the qubits.\n",
        "    \"\"\"\n",
        "    # Prepare the basis state |basis_id>\n",
        "    bits = [int(x) for x in np.binary_repr(basis_id, width=n_qubits)]\n",
        "    qml.BasisStatePreparation(bits, wires=range(n_qubits))\n",
        "\n",
        "    ##################\n",
        "    # YOUR CODE HERE #\n",
        "    ################## \n",
        "    qml.QFT(wires=range(n_qubits))\n",
        "    return qml.state()\n"
      ]
    }
  ],
  "metadata": {
    "colab": {
      "provenance": []
    },
    "kernelspec": {
      "display_name": "Python 3",
      "name": "python3"
    },
    "language_info": {
      "name": "python"
    }
  },
  "nbformat": 4,
  "nbformat_minor": 0
}
