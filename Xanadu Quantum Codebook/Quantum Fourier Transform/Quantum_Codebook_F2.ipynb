{
  "cells": [
    {
      "cell_type": "markdown",
      "metadata": {
        "id": "O6mXxhgaCxtO"
      },
      "source": [
        "# F2 Quantum Fourier Transform\n",
        "\n",
        "In the previous node we discussed that the DFT matrix is unitary, so could we benefit from a quantum implementation of the Fourier transform? In this node, we discuss the basics of the Quantum Fourier transform (QFT) and figure out how we can go about implementing it. The QFT matrix looks very similar to the DFT matrix except with a normalization factor of . The matrix for the Quantum Fourier transform on  qubits is"
      ]
    },
    {
      "attachments": {},
      "cell_type": "markdown",
      "metadata": {},
      "source": [
        "Author: [Monit Sharma](https://github.com/MonitSharma)\n",
        "LinkedIn: [Monit Sharma](https://www.linkedin.com/in/monitsharma/)\n",
        "Twitter: [@MonitSharma1729](https://twitter.com/MonitSharma1729)\n",
        "Medium : [MonitSharma](https://medium.com/@_monitsharma)"
      ]
    },
    {
      "cell_type": "markdown",
      "metadata": {
        "id": "hy3_1TQRC57k"
      },
      "source": [
        "### Codercise F.2.1. \n",
        "Implement the circuit that performs the single-qubit QFT operation, i.e., for $n=1$."
      ]
    },
    {
      "cell_type": "code",
      "execution_count": null,
      "metadata": {
        "id": "Hp0VTBPxCsZq"
      },
      "outputs": [],
      "source": [
        "dev = qml.device(\"default.qubit\", wires=1)\n",
        "\n",
        "@qml.qnode(dev)\n",
        "def one_qubit_QFT(basis_id):\n",
        "    \"\"\"A circuit that computes the QFT on a single qubit. \n",
        "    \n",
        "    Args:\n",
        "        basis_id (int): An integer value identifying \n",
        "            the basis state to construct.\n",
        "    \n",
        "    Returns:\n",
        "        array[complex]: The state of the qubit after applying QFT.\n",
        "    \"\"\"\n",
        "    # Prepare the basis state |basis_id>\n",
        "    bits = [int(x) for x in np.binary_repr(basis_id, width=dev.num_wires)]\n",
        "    qml.BasisStatePreparation(bits, wires=[0])\n",
        "\n",
        "    ##################\n",
        "    # YOUR CODE HERE #\n",
        "    ##################\n",
        "    qml.Hadamard(wires=0)\n",
        "    return  qml.state()\n"
      ]
    },
    {
      "cell_type": "markdown",
      "metadata": {
        "id": "_IXbPHmyDA3f"
      },
      "source": [
        "The QFT circuit for a single qubit is simply the Hadamard gate! Let us now implement the two-qubit QFT."
      ]
    },
    {
      "cell_type": "markdown",
      "metadata": {
        "id": "dCGHtaNZDCK2"
      },
      "source": [
        "### Codercise F.2.2. \n",
        "Implement a circuit that performs the two-qubit QFT operation. First, derive the QFT matrix for $n=2$. Then, use the qml.QubitUnitary operation to apply it."
      ]
    },
    {
      "cell_type": "code",
      "execution_count": null,
      "metadata": {
        "id": "oPAbWCGODBqK"
      },
      "outputs": [],
      "source": [
        "n_bits = 2\n",
        "dev = qml.device(\"default.qubit\", wires=n_bits)\n",
        "\n",
        "@qml.qnode(dev)\n",
        "def two_qubit_QFT(basis_id):\n",
        "    \"\"\"A circuit that computes the QFT on two qubits using qml.QubitUnitary. \n",
        "    \n",
        "    Args:\n",
        "        basis_id (int): An integer value identifying the basis state to construct.\n",
        "    \n",
        "    Returns:\n",
        "        array[complex]: The state of the qubits after the QFT operation.\n",
        "    \"\"\"\n",
        "    \n",
        "    # Prepare the basis state |basis_id>\n",
        "    bits = [int(x) for x in np.binary_repr(basis_id, width=dev.num_wires)]\n",
        "    qml.BasisStatePreparation(bits, wires=[0, 1])\n",
        "    \n",
        "    ##################\n",
        "    # YOUR CODE HERE #\n",
        "    ##################\n",
        "    \n",
        "    def w(N):\n",
        "        return np.exp(2* np.pi * 1j/4 *N)\n",
        "        \n",
        "    u = [[1,1,1,1],[1,w(1),w(2),w(3)],[1,w(2),w(4),w(6)],[1,w(3),w(6),w(9)]]\n",
        "    u = 1/2 * np.array(u)\n",
        "    qml.QubitUnitary(u,wires=[0,1])\n",
        "    return qml.state()\n"
      ]
    },
    {
      "cell_type": "markdown",
      "metadata": {
        "id": "oQpLtNHUDLC0"
      },
      "source": [
        "If we were going to actually do this on a quantum computer, we'd need to express it in terms of elementary gates. In general, this is the problem of circuit synthesis; it turns out, though, that the QFT has a well-defined, recursive structure, which you will start to see in the next exercise."
      ]
    },
    {
      "cell_type": "markdown",
      "metadata": {
        "id": "uOxNbRwKDPX3"
      },
      "source": [
        "### Codercise F.2.3. \n",
        "Implement the two-qubit QFT using a combination of gates (without using qml.QubitUnitary)."
      ]
    },
    {
      "cell_type": "code",
      "execution_count": null,
      "metadata": {
        "id": "TWV6f0o2DLoE"
      },
      "outputs": [],
      "source": [
        "dev = qml.device(\"default.qubit\", wires=2)\n",
        "\n",
        "@qml.qnode(dev)\n",
        "def decompose_two_qubit_QFT(basis_id):\n",
        "    \"\"\"A circuit that computes the QFT on two qubits using elementary gates.\n",
        "    \n",
        "    Args:\n",
        "        basis_id (int): An integer value identifying the basis state to construct.\n",
        "    \n",
        "    Returns:\n",
        "        array[complex]: The state of the qubits after the QFT operation.\n",
        "    \"\"\"\n",
        "    # Prepare the basis state |basis_id>\n",
        "    bits = [int(x) for x in np.binary_repr(basis_id, width=dev.num_wires)]\n",
        "    qml.BasisStatePreparation(bits, wires=[0, 1])\n",
        "    \n",
        "    ##################\n",
        "    # YOUR CODE HERE #\n",
        "    ##################\n",
        "    \n",
        "    qml.Hadamard(wires=0)\n",
        "    qml.ctrl(qml.S(wires=0), control=1)\n",
        "    qml.Hadamard(wires=1)\n",
        "    qml.SWAP(wires=[0,1])\n",
        "    return qml.state()\n"
      ]
    }
  ],
  "metadata": {
    "colab": {
      "provenance": []
    },
    "kernelspec": {
      "display_name": "Python 3",
      "name": "python3"
    },
    "language_info": {
      "name": "python"
    }
  },
  "nbformat": 4,
  "nbformat_minor": 0
}
