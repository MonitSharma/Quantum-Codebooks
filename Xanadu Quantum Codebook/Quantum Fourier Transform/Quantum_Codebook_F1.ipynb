{
  "cells": [
    {
      "cell_type": "markdown",
      "metadata": {
        "id": "YFBDmoG4-31I"
      },
      "source": [
        "# F1 Changing Perspectives\n",
        "\n",
        "In this node, we will change gears and discuss the basics of the classical Discrete Fourier transform (DFT), which has made a significant impact in the field of signal processing for transforming data from the time domain to the frequency domain and back. The DFT is a unitary transformation, which makes it a good candidate for quantum computers. But before we discuss the Quantum Fourier transform, let's understand how the classical DFT works using the Fast Fourier transform (FFT) algorithm. We can demonstrate the ingenuity of the FFT by using it to solve the problem of polynomial multiplication."
      ]
    },
    {
      "attachments": {},
      "cell_type": "markdown",
      "metadata": {},
      "source": [
        "Author: [Monit Sharma](https://github.com/MonitSharma)\n",
        "LinkedIn: [Monit Sharma](https://www.linkedin.com/in/monitsharma/)\n",
        "Twitter: [@MonitSharma1729](https://twitter.com/MonitSharma1729)\n",
        "Medium : [MonitSharma](https://medium.com/@_monitsharma)"
      ]
    },
    {
      "cell_type": "markdown",
      "metadata": {
        "id": "C4AQBvRb_D9Q"
      },
      "source": [
        "![](https://codebook.xanadu.ai/pics/f1-process-with-naive.png)"
      ]
    },
    {
      "cell_type": "markdown",
      "metadata": {
        "id": "EqDuEy15_IKn"
      },
      "source": [
        "#### Codercise F.1.1. \n",
        "Given a polynomial in its coefficient representation, convert it into a value representation using NumPy's DFT/FFT module."
      ]
    },
    {
      "cell_type": "code",
      "execution_count": null,
      "metadata": {
        "id": "gFYVMWqk-kHh"
      },
      "outputs": [],
      "source": [
        "def coefficients_to_values(coefficients):\n",
        "    \"\"\"Returns the value representation of a polynomial\n",
        "    \n",
        "    Args:\n",
        "        coefficients (array[complex]): a 1-D array of complex \n",
        "            coefficients of a polynomial with \n",
        "            index i representing the i-th degree coefficient\n",
        "\n",
        "    Returns: \n",
        "        array[complex]: the value representation of the \n",
        "            polynomial \n",
        "    \"\"\"\n",
        "    ##################\n",
        "    # YOUR CODE HERE #\n",
        "    ################## \n",
        "    return np.fft.fft(coefficients)\n",
        "\n",
        "A = [4, 3, 2, 1]\n",
        "print(coefficients_to_values(A))\n"
      ]
    },
    {
      "cell_type": "markdown",
      "metadata": {
        "id": "OlIGrQb1_O30"
      },
      "source": [
        "Now, let's write a function to convert the polynomial's value representation back to the coefficient representation using Inverse FFT. This is not difficult, because the DFT matrix is unitary, and thus invertible!"
      ]
    },
    {
      "cell_type": "markdown",
      "metadata": {
        "id": "5lrx1Eop_S3E"
      },
      "source": [
        "### Codercise F.1.2. \n",
        "Given a polynomial in its value representation, use the NumPy's DFT/FFT module to convert from the value representation to the coefficient representation."
      ]
    },
    {
      "cell_type": "code",
      "execution_count": null,
      "metadata": {
        "id": "EJqP2W-6_PpL"
      },
      "outputs": [],
      "source": [
        "def values_to_coefficients(values):\n",
        "    \"\"\"Returns the coefficient representation of a polynomial\n",
        "    \n",
        "    Args:\n",
        "        values (array[complex]): a 1-D complex array with \n",
        "            the value representation of a polynomial \n",
        "\n",
        "    Returns: \n",
        "        array[complex]: a 1-D complex array of coefficients\n",
        "    \"\"\"\n",
        "    \n",
        "    ##################\n",
        "    # YOUR CODE HERE #\n",
        "    ################## \n",
        "    return np.fft.ifft(values)\n",
        "\n",
        "\n",
        "A = [10.+0.j,  2.-2.j,  2.+0.j,  2.+2.j]\n",
        "print(values_to_coefficients(A))\n"
      ]
    },
    {
      "cell_type": "markdown",
      "metadata": {
        "id": "pecslGUL_bWE"
      },
      "source": [
        "#### Codercise F.1.3. \n",
        "Implement a helper function nearest_power_of_2 that calculates a power of 2 that is greater than a given number."
      ]
    },
    {
      "cell_type": "code",
      "execution_count": null,
      "metadata": {
        "id": "tacNXogw_c9N"
      },
      "outputs": [],
      "source": [
        "def nearest_power_of_2(x):\n",
        "    \"\"\"Given an integer, return the nearest power of 2. \n",
        "    \n",
        "    Args:\n",
        "        x (int): a positive integer\n",
        "\n",
        "    Returns: \n",
        "        int: the nearest power of 2 of x\n",
        "    \"\"\"\n",
        "    ##################\n",
        "    # YOUR CODE HERE #\n",
        "    ################## \n",
        "    \n",
        "    base = np.log2(x)\n",
        "    power = np.ceil(base)\n",
        "    return int(np.power(2,power))\n"
      ]
    },
    {
      "cell_type": "markdown",
      "metadata": {
        "id": "1VPP-1hn_g6D"
      },
      "source": [
        "#### Codercise F.1.4. \n",
        "Given two polynomials in their coefficient representation, write a function to multiply them both using the functions coefficients_to_values, nearest_power_of_2, and values_to_coefficients."
      ]
    },
    {
      "cell_type": "code",
      "execution_count": null,
      "metadata": {
        "id": "zWSd3vod_i_P"
      },
      "outputs": [],
      "source": [
        "def fft_multiplication(poly_a, poly_b):\n",
        "    # Calculate the number of values required\n",
        "    deg_a = len(poly_a) - 1\n",
        "    deg_b = len(poly_b) - 1\n",
        "    deg_c = deg_a + deg_b\n",
        "    c_points = deg_c + 1\n",
        "\n",
        "    # Figure out the nearest power of 2\n",
        "    sols = nearest_power_of_2(c_points)\n",
        "    \n",
        "    # Pad zeros to the polynomial\n",
        "    a_pad = sols - len(poly_a)\n",
        "    poly_a_pad = np.pad(poly_a, (0,a_pad), 'constant')\n",
        "    \n",
        "    \n",
        "    b_pad = sols - len(poly_b)\n",
        "    poly_b_pad = np.pad(poly_b, (0,b_pad), 'constant')\n",
        "    \n",
        "    # Convert the polynomials to value representation \n",
        "    a_value = coefficients_to_values(poly_a_pad)\n",
        "    b_value = coefficients_to_values(poly_b_pad)\n",
        "    # Multiply\n",
        "    c_value = np.multiply(a_value, b_value)\n",
        "    # Convert back to coefficient representation\n",
        "    c_coeff = values_to_coefficients(c_value)\n",
        "    \n",
        "    return c_coeff"
      ]
    }
  ],
  "metadata": {
    "colab": {
      "provenance": []
    },
    "kernelspec": {
      "display_name": "Python 3",
      "name": "python3"
    },
    "language_info": {
      "name": "python"
    }
  },
  "nbformat": 4,
  "nbformat_minor": 0
}
